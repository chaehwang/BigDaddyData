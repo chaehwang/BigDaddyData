{
 "cells": [
  {
   "cell_type": "markdown",
   "metadata": {},
   "source": [
    "# CrunchBase Scraper"
   ]
  },
  {
   "cell_type": "code",
   "execution_count": 1,
   "metadata": {
    "collapsed": true
   },
   "outputs": [],
   "source": [
    "%matplotlib inline\n",
    "import numpy as np\n",
    "import scipy as sp\n",
    "import matplotlib as mpl\n",
    "import matplotlib.cm as cm\n",
    "import matplotlib.pyplot as plt\n",
    "import pandas as pd\n",
    "import time\n",
    "pd.set_option('display.width', 500)\n",
    "pd.set_option('display.max_columns', 100)\n",
    "pd.set_option('display.notebook_repr_html', True)\n",
    "import seaborn as sns\n",
    "sns.set_style(\"whitegrid\")\n",
    "sns.set_context(\"poster\")"
   ]
  },
  {
   "cell_type": "code",
   "execution_count": 3,
   "metadata": {
    "collapsed": true
   },
   "outputs": [],
   "source": [
    "from bs4 import BeautifulSoup\n",
    "import requests"
   ]
  },
  {
   "cell_type": "code",
   "execution_count": 27,
   "metadata": {
    "collapsed": false
   },
   "outputs": [
    {
     "name": "stdout",
     "output_type": "stream",
     "text": [
      "<!DOCTYPE html>\n",
      "\n",
      "<html>\n",
      "<head>\n",
      "<title>Pardon Our Interruption</title>\n",
      "<link href=\"//cdn.distilnetworks.com/css/distil.css\" media=\"all\" rel=\"stylesheet\" type=\"text/css\">\n",
      "<meta content=\"text/html; charset=utf-8\" http-equiv=\"content-type\"/>\n",
      "<meta content=\"width=1000\" name=\"viewport\"/>\n",
      "<meta content=\"noindex, nofollow\" name=\"robots\">\n",
      "<meta content=\"max-age=0\" http-equiv=\"cache-control\"/>\n",
      "<meta content=\"no-cache\" http-equiv=\"cache-control\"/>\n",
      "<meta content=\"0\" http-equiv=\"expires\"/>\n",
      "<meta content=\"Tue, 01 Jan 1980 1:00:00 GMT\" http-equiv=\"expires\"/>\n",
      "<meta content=\"no-cache\" http-equiv=\"pragma\"/>\n",
      "</meta></link></head>\n",
      "<body class=\"block-page\">\n",
      "<div class=\"container\">\n",
      "<div class=\"row\">\n",
      "<div class=\"sidebar col-lg-4 col-sm-5\">\n",
      "<img alt=\"0\" src=\"//cdn.distilnetworks.com/images/anomaly-detected.png\">\n",
      "</img></div>\n",
      "<div class=\"content col-lg-8 col-sm-7\">\n",
      "<h1>Pardon Our Interruption...</h1>\n",
      "<p>\r\n",
      "          As you were browsing <strong>http://www.crunchbase.com</strong> something about your browser made us think you were a bot. There are a few reasons this might happen:\r\n",
      "        </p>\n",
      "<ul>\n",
      "<li>You're a power user moving through this website with super-human speed.</li>\n",
      "<li>You've disabled JavaScript in your web browser.</li>\n",
      "<li>A third-party browser plugin, such as Ghostery or  NoScript, is preventing JavaScript from running. Additional information is available in this <a href=\"https://support.distilnetworks.com/customer/portal/articles/1842381-third-party-browser-plugins-that-block-javascript\" target=\"_blank\" title=\"Third party browser plugins that block javascript\">support article</a>.</li>\n",
      "</ul>\n",
      "<p>\r\n",
      "          To request an unblock, please fill out the form below and we will review it as soon as possible.\r\n",
      "        </p>\n",
      "<form action=\"wfycwdxxeczeztwxbcwfycw.html\" id=\"eazzqxrdbyqwzcczrbeazzq\" method=\"POST\" style=\"display:none\"><label>Ignore: <input name=\"email\" type=\"text\"/></label><label>Ignore: <input name=\"comments\" type=\"text\"/></label><label>Ignore: <input type=\"submit\" value=\"Submit\"/></label></form><form action=\"http://verify.distil.it/distil_blocked.php\" id=\"demoForm\" method=\"post\">\n",
      "<div class=\"form-group\">\n",
      "<label for=\"first_name\">First Name</label>\n",
      "<input class=\"form-control\" id=\"first_name\" name=\"first_name\" type=\"text\" value=\"\">\n",
      "</input></div>\n",
      "<div class=\"form-group\">\n",
      "<label for=\"last_name\">Last Name</label>\n",
      "<input class=\"form-control\" id=\"last_name\" name=\"last_name\" type=\"text\" value=\"\">\n",
      "</input></div>\n",
      "<div class=\"form-group\">\n",
      "<label for=\"email\">E-mail</label>\n",
      "<input class=\"form-control\" id=\"email\" name=\"email\" type=\"text\" value=\"\">\n",
      "</input></div>\n",
      "<div class=\"form-group hide\">\n",
      "<label for=\"city\">City</label>\n",
      "<input class=\"form-control hide\" id=\"city\" name=\"city\" type=\"text\" value=\"\">\n",
      "</input></div>\n",
      "<input name=\"B\" type=\"hidden\" value=\"2946:65.112.8.4:1E9B0FF7-9E1F-379F-A90E-F22277DBECF9\"/>\n",
      "<input name=\"P\" type=\"hidden\" value=\"1E9B0FF7-9E1F-379F-A90E-F22277DBECF9\"/>\n",
      "<input name=\"I\" type=\"hidden\" value=\"\"/>\n",
      "<input name=\"U\" type=\"hidden\" value=\"\"/>\n",
      "<input name=\"V\" type=\"hidden\" value=\"9\"/>\n",
      "<input name=\"O\" type=\"hidden\" value=\"\"/>\n",
      "<input name=\"D\" type=\"hidden\" value=\"2946\"/>\n",
      "<input name=\"A\" type=\"hidden\" value=\"832\"/>\n",
      "<input name=\"H\" type=\"hidden\" value=\"www.crunchbase.com\"/>\n",
      "<input name=\"LOADED\" type=\"hidden\" value=\"2015-12-08 21:55:51\"/>\n",
      "<input id=\"distil_block_identity_info\" name=\"PB\" type=\"hidden\" value=\"\"/>\n",
      "<hr>\n",
      "<button class=\"btn btn-primary btn-lg\" type=\"submit\">Request Unblock</button>\n",
      "</hr></form>\n",
      "<p id=\"extraUnblock\">\n",
      "<small style=\"font-size: 8pt\">\r\n",
      "            You reached this page when attempting to access http://www.crunchbase.com/organization/twitter from 65.112.8.4 on 2015-12-08 21:55:51 GMT.<br/>\r\n",
      "            Trace: 7254D1BE-9DF6-11E5-B527-E2BCFD5D44A2 via 838b7f24-acdc-4f74-82f6-d406700f7a2a\r\n",
      "          </small>\n",
      "</p>\n",
      "</div>\n",
      "</div>\n",
      "</div>\n",
      "</body>\n",
      "</html>\n",
      "\n"
     ]
    }
   ],
   "source": [
    "html = requests.get(\"https://www.crunchbase.com/organization/twitter#/entity\").text\n",
    "\n",
    "soup = BeautifulSoup(html,\"html.parser\")\n",
    "print soup"
   ]
  },
  {
   "cell_type": "code",
   "execution_count": null,
   "metadata": {
    "collapsed": true
   },
   "outputs": [],
   "source": []
  }
 ],
 "metadata": {
  "kernelspec": {
   "display_name": "Python 2",
   "language": "python",
   "name": "python2"
  },
  "language_info": {
   "codemirror_mode": {
    "name": "ipython",
    "version": 2
   },
   "file_extension": ".py",
   "mimetype": "text/x-python",
   "name": "python",
   "nbconvert_exporter": "python",
   "pygments_lexer": "ipython2",
   "version": "2.7.10"
  }
 },
 "nbformat": 4,
 "nbformat_minor": 0
}
