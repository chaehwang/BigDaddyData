{
 "cells": [
  {
   "cell_type": "markdown",
   "metadata": {},
   "source": [
    "#Data Collection"
   ]
  },
  {
   "cell_type": "code",
   "execution_count": 1,
   "metadata": {
    "collapsed": true
   },
   "outputs": [],
   "source": [
    "import praw\n",
    "import pandas as pd"
   ]
  },
  {
   "cell_type": "markdown",
   "metadata": {},
   "source": [
    "Overview:We compiled a list of companies that we are interested in exploring through Reddit data."
   ]
  },
  {
   "cell_type": "code",
   "execution_count": null,
   "metadata": {
    "collapsed": true
   },
   "outputs": [],
   "source": [
    "companies = pd.read_csv(\"companies.csv\")"
   ]
  },
  {
   "cell_type": "code",
   "execution_count": null,
   "metadata": {
    "collapsed": true
   },
   "outputs": [],
   "source": [
    "import time\n",
    "body1 = []\n",
    "score1 = []\n",
    "company1 = []\n",
    "link1 = []\n",
    "date1 = []\n",
    "title1 = []\n",
    "\n",
    "for i in companies.values:\n",
    "    try:\n",
    "        r = praw.Reddit('Comment parser example by u/_Daimon_')\n",
    "        subreddit = r.get_subreddit(i[0]).get_top(limit = 40)\n",
    "        for k in subreddit:\n",
    "            body1.append(k.selftext)\n",
    "            score1.append(k.score)\n",
    "            company1.append(i[0])\n",
    "            link1.append(k.permalink)\n",
    "            date1.append(k.created_utc)\n",
    "            title1.append(k)\n",
    "            try:\n",
    "                comments = praw.helpers.flatten_tree(k.comments)\n",
    "                for j in comments:\n",
    "                    body1.append(j.body)\n",
    "                    score1.append(j.score)\n",
    "                    company1.append(i[0])\n",
    "                    link1.append(j.permalink)\n",
    "                    date1.append(j.created_utc)\n",
    "                    title1.append(k)\n",
    "            except:\n",
    "                pass\n",
    "\n",
    "    except:\n",
    "        print i\n",
    "        pass      \n",
    "    "
   ]
  },
  {
   "cell_type": "code",
   "execution_count": null,
   "metadata": {
    "collapsed": true
   },
   "outputs": [],
   "source": [
    "subreddit = pd.DataFrame({'body':body1, 'score':score1, 'company':company1, 'link':link1, 'date':date1, 'title':title1})"
   ]
  },
  {
   "cell_type": "code",
   "execution_count": null,
   "metadata": {
    "collapsed": true
   },
   "outputs": [],
   "source": [
    "subreddit.to_csv(\"comments1.csv\",  encoding='utf-8')"
   ]
  },
  {
   "cell_type": "code",
   "execution_count": null,
   "metadata": {
    "collapsed": true
   },
   "outputs": [],
   "source": [
    "import time \n",
    "\n",
    "body2 = []\n",
    "score2 = []\n",
    "company2 = []\n",
    "link2 = []\n",
    "date2 = []\n",
    "title2 = []\n",
    "\n",
    "subs = ['tech', 'technology', 'business', 'startups']\n",
    "\n",
    "for sub in subs:\n",
    "    for comp in companies.values:\n",
    "        try:\n",
    "            r = praw.Reddit('Comment parser example by u/_Daimon_')\n",
    "            results = r.search(str('title:'+comp[0]), subreddit=sub, sort='top', limit=10)\n",
    "            print comp[0]\n",
    "            for result in results:\n",
    "                body2.append(result.selftext)\n",
    "                score2.append(result.score)\n",
    "                company2.append(comp[0])\n",
    "                link2.append(result.permalink)\n",
    "                date2.append(result.created_utc)\n",
    "                title2.append(result)\n",
    "                try:\n",
    "                    comments = praw.helpers.flatten_tree(result.comments)\n",
    "                    for comment in comments:\n",
    "                        body2.append(comment.body)\n",
    "                        score2.append(comment.score)\n",
    "                        company2.append(comp[0])\n",
    "                        link2.append(comment.permalink)\n",
    "                        date2.append(comment.created_utc)\n",
    "                        title2.append(result)\n",
    "                except:\n",
    "                    pass\n",
    "        except:\n",
    "            print \"No data for \"+comp[0]\n",
    "            pass"
   ]
  },
  {
   "cell_type": "code",
   "execution_count": null,
   "metadata": {
    "collapsed": true
   },
   "outputs": [],
   "source": [
    "relatedtopic = pd.DataFrame({'body':body2, 'score':score2, 'company':company2, 'link':link2, 'date':date2, 'title':title2})"
   ]
  },
  {
   "cell_type": "code",
   "execution_count": null,
   "metadata": {
    "collapsed": true
   },
   "outputs": [],
   "source": [
    "relatedtopic.to_csv(\"comments2.csv\",  encoding='utf-8', index=False)"
   ]
  },
  {
   "cell_type": "markdown",
   "metadata": {},
   "source": [
    "#Model Building"
   ]
  },
  {
   "cell_type": "code",
   "execution_count": null,
   "metadata": {
    "collapsed": true
   },
   "outputs": [],
   "source": []
  }
 ],
 "metadata": {
  "kernelspec": {
   "display_name": "Python 2",
   "language": "python",
   "name": "python2"
  },
  "language_info": {
   "codemirror_mode": {
    "name": "ipython",
    "version": 2
   },
   "file_extension": ".py",
   "mimetype": "text/x-python",
   "name": "python",
   "nbconvert_exporter": "python",
   "pygments_lexer": "ipython2",
   "version": "2.7.10"
  }
 },
 "nbformat": 4,
 "nbformat_minor": 0
}
