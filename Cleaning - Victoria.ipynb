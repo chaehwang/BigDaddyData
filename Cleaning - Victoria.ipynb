{
 "cells": [
  {
   "cell_type": "code",
   "execution_count": 58,
   "metadata": {
    "collapsed": false
   },
   "outputs": [],
   "source": [
    "import pandas as pd\n",
    "df1 = pd.read_csv(\"comments1.csv\")\n",
    "df2 = pd.read_csv(\"comments2.csv\")"
   ]
  },
  {
   "cell_type": "code",
   "execution_count": 59,
   "metadata": {
    "collapsed": false
   },
   "outputs": [],
   "source": [
    "df1 = df1.drop(\"link\", axis=1)\n",
    "df1 = df1.dropna()\n",
    "\n",
    "df2 = df2.drop(\"Unnamed: 0\", axis=1)\n",
    "df2 = df2.drop(\"link\", axis=1)\n",
    "df2 = df2.dropna()"
   ]
  },
  {
   "cell_type": "code",
   "execution_count": 60,
   "metadata": {
    "collapsed": false
   },
   "outputs": [],
   "source": [
    "df1 = df1[df1.body != '[deleted]']\n",
    "df1 = df1[df1.body != '[removed]']\n",
    "\n",
    "df2 = df2[df2.body != '[deleted]']\n",
    "df2 = df2[df2.body != '[removed]']"
   ]
  },
  {
   "cell_type": "code",
   "execution_count": 61,
   "metadata": {
    "collapsed": false
   },
   "outputs": [],
   "source": [
    "df1 = df1.replace(r\"(?:\\@|https?\\://)\\S+\", \"\", regex=True)\n",
    "df1 = df1[df1.body != '']\n",
    "\n",
    "df2 = df2.replace(r\"(?:\\@|https?\\://)\\S+\", \"\", regex=True)\n",
    "df2 = df2[df2.body != '']"
   ]
  },
  {
   "cell_type": "code",
   "execution_count": 62,
   "metadata": {
    "collapsed": false
   },
   "outputs": [],
   "source": [
    "body = df1.apply(lambda row: unicode(row.body, errors='ignore'), axis=1)"
   ]
  },
  {
   "cell_type": "code",
   "execution_count": 63,
   "metadata": {
    "collapsed": false
   },
   "outputs": [],
   "source": [
    "df1['body']=body"
   ]
  },
  {
   "cell_type": "code",
   "execution_count": 64,
   "metadata": {
    "collapsed": false
   },
   "outputs": [],
   "source": [
    "df1 = df1.drop(\"title\", axis=1)\n",
    "df1 = df1.drop(\"index\", axis=1)"
   ]
  },
  {
   "cell_type": "code",
   "execution_count": 65,
   "metadata": {
    "collapsed": false
   },
   "outputs": [
    {
     "data": {
      "text/html": [
       "<div>\n",
       "<table border=\"1\" class=\"dataframe\">\n",
       "  <thead>\n",
       "    <tr style=\"text-align: right;\">\n",
       "      <th></th>\n",
       "      <th>body</th>\n",
       "      <th>company</th>\n",
       "      <th>date</th>\n",
       "      <th>score</th>\n",
       "    </tr>\n",
       "  </thead>\n",
       "  <tbody>\n",
       "    <tr>\n",
       "      <th>1</th>\n",
       "      <td>This has been part of hangouts for a while</td>\n",
       "      <td>Google</td>\n",
       "      <td>1449261004</td>\n",
       "      <td>76</td>\n",
       "    </tr>\n",
       "    <tr>\n",
       "      <th>2</th>\n",
       "      <td>It also works in Spanish whenever my mom asks ...</td>\n",
       "      <td>Google</td>\n",
       "      <td>1449257645</td>\n",
       "      <td>18</td>\n",
       "    </tr>\n",
       "    <tr>\n",
       "      <th>3</th>\n",
       "      <td>Also works with \"var _r du?\"</td>\n",
       "      <td>Google</td>\n",
       "      <td>1449287747</td>\n",
       "      <td>1</td>\n",
       "    </tr>\n",
       "    <tr>\n",
       "      <th>4</th>\n",
       "      <td>....la biblioteca. Me llamo T-Bone La araa dis...</td>\n",
       "      <td>Google</td>\n",
       "      <td>1449281804</td>\n",
       "      <td>7</td>\n",
       "    </tr>\n",
       "    <tr>\n",
       "      <th>5</th>\n",
       "      <td>haha yes came to say this, i love that feature</td>\n",
       "      <td>Google</td>\n",
       "      <td>1449268066</td>\n",
       "      <td>7</td>\n",
       "    </tr>\n",
       "  </tbody>\n",
       "</table>\n",
       "</div>"
      ],
      "text/plain": [
       "                                                body company        date  \\\n",
       "1        This has been part of hangouts for a while   Google  1449261004   \n",
       "2  It also works in Spanish whenever my mom asks ...  Google  1449257645   \n",
       "3                       Also works with \"var _r du?\"  Google  1449287747   \n",
       "4  ....la biblioteca. Me llamo T-Bone La araa dis...  Google  1449281804   \n",
       "5    haha yes came to say this, i love that feature   Google  1449268066   \n",
       "\n",
       "   score  \n",
       "1     76  \n",
       "2     18  \n",
       "3      1  \n",
       "4      7  \n",
       "5      7  "
      ]
     },
     "execution_count": 65,
     "metadata": {},
     "output_type": "execute_result"
    }
   ],
   "source": [
    "df1.head()"
   ]
  },
  {
   "cell_type": "code",
   "execution_count": 66,
   "metadata": {
    "collapsed": false
   },
   "outputs": [],
   "source": [
    "df1.to_csv(\"comments1.csv\", encoding=\"utf-8\")"
   ]
  }
 ],
 "metadata": {
  "kernelspec": {
   "display_name": "Python 2",
   "language": "python",
   "name": "python2"
  },
  "language_info": {
   "codemirror_mode": {
    "name": "ipython",
    "version": 2
   },
   "file_extension": ".py",
   "mimetype": "text/x-python",
   "name": "python",
   "nbconvert_exporter": "python",
   "pygments_lexer": "ipython2",
   "version": "2.7.10"
  }
 },
 "nbformat": 4,
 "nbformat_minor": 0
}
