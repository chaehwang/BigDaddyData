{
 "cells": [
  {
   "cell_type": "markdown",
   "metadata": {},
   "source": [
    "#Model Building Using Text Analysis"
   ]
  },
  {
   "cell_type": "code",
   "execution_count": 4,
   "metadata": {
    "collapsed": true
   },
   "outputs": [],
   "source": [
    "%matplotlib inline\n",
    "import numpy as np\n",
    "import scipy as sp\n",
    "import matplotlib as mpl\n",
    "import matplotlib.cm as cm\n",
    "import matplotlib.pyplot as plt\n",
    "import pandas as pd\n",
    "pd.set_option('display.width', 500)\n",
    "pd.set_option('display.max_columns', 100)\n",
    "pd.set_option('display.notebook_repr_html', True)\n",
    "import seaborn as sns\n",
    "from sklearn.naive_bayes import MultinomialNB\n",
    "from sklearn.ensemble import RandomForestClassifier\n",
    "from sklearn.cross_validation import train_test_split\n",
    "from sklearn.linear_model import LogisticRegression\n",
    "sns.set_style(\"whitegrid\")\n",
    "sns.set_context(\"poster\")\n",
    "import nltk\n",
    "from sklearn.feature_extraction.text import CountVectorizer"
   ]
  },
  {
   "cell_type": "code",
   "execution_count": 5,
   "metadata": {
    "collapsed": false
   },
   "outputs": [
    {
     "data": {
      "text/html": [
       "<div>\n",
       "<table border=\"1\" class=\"dataframe\">\n",
       "  <thead>\n",
       "    <tr style=\"text-align: right;\">\n",
       "      <th></th>\n",
       "      <th>HITID</th>\n",
       "      <th>index</th>\n",
       "      <th>body</th>\n",
       "      <th>company</th>\n",
       "      <th>date</th>\n",
       "      <th>score</th>\n",
       "      <th>Worker1</th>\n",
       "      <th>Answer1</th>\n",
       "      <th>Avg</th>\n",
       "      <th>Date</th>\n",
       "      <th>positive</th>\n",
       "    </tr>\n",
       "  </thead>\n",
       "  <tbody>\n",
       "    <tr>\n",
       "      <th>0</th>\n",
       "      <td>3L21G7IH4773YI2L6RV6T5G4RTC1YW</td>\n",
       "      <td>1199</td>\n",
       "      <td>I shall do that! I was thinking \"I've had this...</td>\n",
       "      <td>Fitbit</td>\n",
       "      <td>1449270750</td>\n",
       "      <td>3</td>\n",
       "      <td>A2R0YYUAWNT7UD</td>\n",
       "      <td>2</td>\n",
       "      <td>2</td>\n",
       "      <td>2015-12-05 06:58:53 UTC</td>\n",
       "      <td>True</td>\n",
       "    </tr>\n",
       "    <tr>\n",
       "      <th>1</th>\n",
       "      <td>3I7KR83SNAOQ3IGZ6P98Z3JCRQR9KI</td>\n",
       "      <td>1178</td>\n",
       "      <td>Love it. Has helped keep me on track for weigh...</td>\n",
       "      <td>Fitbit</td>\n",
       "      <td>1449265917</td>\n",
       "      <td>2</td>\n",
       "      <td>A1NM7ZPZ3NH412</td>\n",
       "      <td>2</td>\n",
       "      <td>2</td>\n",
       "      <td>2015-12-05 06:59:05 UTC</td>\n",
       "      <td>True</td>\n",
       "    </tr>\n",
       "    <tr>\n",
       "      <th>2</th>\n",
       "      <td>3P7RGTLO6EO481Q4YVN8VYUWX89KA8</td>\n",
       "      <td>1174</td>\n",
       "      <td>I love it because I do not have to stop and pu...</td>\n",
       "      <td>Fitbit</td>\n",
       "      <td>1449251995</td>\n",
       "      <td>2</td>\n",
       "      <td>A3ITZNJQUTIZ4C</td>\n",
       "      <td>2</td>\n",
       "      <td>2</td>\n",
       "      <td>2015-12-05 07:02:17 UTC</td>\n",
       "      <td>True</td>\n",
       "    </tr>\n",
       "    <tr>\n",
       "      <th>3</th>\n",
       "      <td>373L46LKP7HF9UT8S10LOXXFNV3KJO</td>\n",
       "      <td>409</td>\n",
       "      <td>I never wore a watch, now I wear an Apple Watc...</td>\n",
       "      <td>Apple</td>\n",
       "      <td>1449290608</td>\n",
       "      <td>1</td>\n",
       "      <td>A2R0YYUAWNT7UD</td>\n",
       "      <td>2</td>\n",
       "      <td>2</td>\n",
       "      <td>2015-12-05 06:59:32 UTC</td>\n",
       "      <td>True</td>\n",
       "    </tr>\n",
       "    <tr>\n",
       "      <th>4</th>\n",
       "      <td>3G9UA71JVV5REFMO97BCKSSTHB2J7G</td>\n",
       "      <td>1465</td>\n",
       "      <td>The fallout soundtracks are great, but IMO the...</td>\n",
       "      <td>Spotify</td>\n",
       "      <td>1449249457</td>\n",
       "      <td>1</td>\n",
       "      <td>A1FP3SH704X01V</td>\n",
       "      <td>2</td>\n",
       "      <td>2</td>\n",
       "      <td>2015-12-05 06:59:41 UTC</td>\n",
       "      <td>True</td>\n",
       "    </tr>\n",
       "  </tbody>\n",
       "</table>\n",
       "</div>"
      ],
      "text/plain": [
       "                            HITID  index                                               body  company        date  score         Worker1  Answer1  Avg                     Date positive\n",
       "0  3L21G7IH4773YI2L6RV6T5G4RTC1YW   1199  I shall do that! I was thinking \"I've had this...   Fitbit  1449270750      3  A2R0YYUAWNT7UD        2    2  2015-12-05 06:58:53 UTC     True\n",
       "1  3I7KR83SNAOQ3IGZ6P98Z3JCRQR9KI   1178  Love it. Has helped keep me on track for weigh...   Fitbit  1449265917      2  A1NM7ZPZ3NH412        2    2  2015-12-05 06:59:05 UTC     True\n",
       "2  3P7RGTLO6EO481Q4YVN8VYUWX89KA8   1174  I love it because I do not have to stop and pu...   Fitbit  1449251995      2  A3ITZNJQUTIZ4C        2    2  2015-12-05 07:02:17 UTC     True\n",
       "3  373L46LKP7HF9UT8S10LOXXFNV3KJO    409  I never wore a watch, now I wear an Apple Watc...    Apple  1449290608      1  A2R0YYUAWNT7UD        2    2  2015-12-05 06:59:32 UTC     True\n",
       "4  3G9UA71JVV5REFMO97BCKSSTHB2J7G   1465  The fallout soundtracks are great, but IMO the...  Spotify  1449249457      1  A1FP3SH704X01V        2    2  2015-12-05 06:59:41 UTC     True"
      ]
     },
     "execution_count": 5,
     "metadata": {},
     "output_type": "execute_result"
    }
   ],
   "source": [
    "critics = pd.read_csv('comments1_with_sentiments.csv')\n",
    "#let's drop rows with missing quotes\n",
    "critics['positive'] = critics['Answer1'] >= 0\n",
    "critics.head()"
   ]
  },
  {
   "cell_type": "code",
   "execution_count": 6,
   "metadata": {
    "collapsed": false
   },
   "outputs": [],
   "source": [
    "grp = critics.groupby('company')\n",
    "avg = grp.Answer1.sum()"
   ]
  },
  {
   "cell_type": "code",
   "execution_count": 7,
   "metadata": {
    "collapsed": false
   },
   "outputs": [
    {
     "data": {
      "text/plain": [
       "(array([   36.,     0.,   359.,     0.,     0.,  1127.,     0.,   303.,\n",
       "            0.,    21.]),\n",
       " array([-2. , -1.6, -1.2, -0.8, -0.4,  0. ,  0.4,  0.8,  1.2,  1.6,  2. ]),\n",
       " <a list of 10 Patch objects>)"
      ]
     },
     "execution_count": 7,
     "metadata": {},
     "output_type": "execute_result"
    },
    {
     "data": {
      "image/png": "[encoded data removed]",
      "text/plain": [
       "<matplotlib.figure.Figure at 0x1084e1690>"
      ]
     },
     "metadata": {},
     "output_type": "display_data"
    }
   ],
   "source": [
    "plt.hist(critics['Answer1'])"
   ]
  },
  {
   "cell_type": "code",
   "execution_count": 8,
   "metadata": {
    "collapsed": false
   },
   "outputs": [
    {
     "data": {
      "text/plain": [
       "(array([  1.79900000e+03,   3.70000000e+01,   3.00000000e+00,\n",
       "          4.00000000e+00,   0.00000000e+00,   1.00000000e+00,\n",
       "          1.00000000e+00,   0.00000000e+00,   0.00000000e+00,\n",
       "          1.00000000e+00]),\n",
       " array([ -71.,   32.,  135.,  238.,  341.,  444.,  547.,  650.,  753.,\n",
       "         856.,  959.]),\n",
       " <a list of 10 Patch objects>)"
      ]
     },
     "execution_count": 8,
     "metadata": {},
     "output_type": "execute_result"
    },
    {
     "data": {
      "image/png": "[encoded data removed]",
      "text/plain": [
       "<matplotlib.figure.Figure at 0x103876710>"
      ]
     },
     "metadata": {},
     "output_type": "display_data"
    }
   ],
   "source": [
    "plt.hist(critics['score'])"
   ]
  },
  {
   "cell_type": "markdown",
   "metadata": {},
   "source": [
    "#Validation Tools"
   ]
  },
  {
   "cell_type": "code",
   "execution_count": 9,
   "metadata": {
    "collapsed": false
   },
   "outputs": [],
   "source": [
    "def make_xy(critics, vectorizer=None):\n",
    "    #Your code here    \n",
    "    if vectorizer is None:\n",
    "        vectorizer = CountVectorizer(encoding = 'utf-8', strip_accents = 'ascii', stop_words='english')\n",
    "    X = vectorizer.fit_transform(critics.body)\n",
    "    X = X.tocsc()  # some versions of sklearn return COO format\n",
    "    y = (critics.Answer1).values.astype(np.int)\n",
    "    return X, y\n",
    "\n",
    "\n",
    "def make_xyBinary(critics, vectorizer=None):\n",
    "    #Your code here    \n",
    "    if vectorizer is None:\n",
    "        vectorizer = CountVectorizer(encoding = 'utf-8', strip_accents = 'ascii', stop_words='english')\n",
    "    X = vectorizer.fit_transform(critics.body)\n",
    "    X = X.tocsc()  # some versions of sklearn return COO format\n",
    "    y = (critics.positive).values.astype(np.int)\n",
    "    return X, y\n",
    "X, y = make_xy(critics)\n",
    "Xbin, ybin = make_xyBinary(critics)"
   ]
  },
  {
   "cell_type": "code",
   "execution_count": 10,
   "metadata": {
    "collapsed": false
   },
   "outputs": [],
   "source": [
    "#train/test split the data\n",
    "xtrain, xtest, ytrain, ytest = train_test_split(X, y)\n",
    "xbintrain, xbintest, ybintrain, ybintest = train_test_split(Xbin, ybin)"
   ]
  },
  {
   "cell_type": "code",
   "execution_count": 11,
   "metadata": {
    "collapsed": true
   },
   "outputs": [],
   "source": [
    "from sklearn.cross_validation import KFold\n",
    "def cv_score(clf, X, y, scorefunc):\n",
    "    result = 0.\n",
    "    nfold = 5\n",
    "    for train, test in KFold(y.size, nfold): # split data into train/test groups, 5 times\n",
    "        clf.fit(X[train], y[train]) # fit\n",
    "        result += scorefunc(clf, X[test], y[test]) # evaluate score function on held-out data\n",
    "    return result / nfold # average"
   ]
  },
  {
   "cell_type": "code",
   "execution_count": 12,
   "metadata": {
    "collapsed": true
   },
   "outputs": [],
   "source": [
    "def log_likelihood(clf, x, y):\n",
    "    prob = clf.predict_log_proba(x)\n",
    "    rotten = y < 0\n",
    "    fresh = ~rotten\n",
    "    return prob[rotten, 0].sum() + prob[fresh, 1].sum()"
   ]
  },
  {
   "cell_type": "code",
   "execution_count": 13,
   "metadata": {
    "collapsed": true
   },
   "outputs": [],
   "source": [
    "from sklearn.cross_validation import train_test_split\n",
    "itrain, itest = train_test_split(xrange(critics.shape[0]), train_size=0.7)\n",
    "mask=np.ones(critics.shape[0], dtype='int')\n",
    "mask[itrain]=1\n",
    "mask[itest]=0\n",
    "mask = (mask==1)"
   ]
  },
  {
   "cell_type": "markdown",
   "metadata": {},
   "source": [
    "#Model Building Time"
   ]
  },
  {
   "cell_type": "markdown",
   "metadata": {},
   "source": [
    "##MultiNomial Naive Bayes"
   ]
  },
  {
   "cell_type": "code",
   "execution_count": 14,
   "metadata": {
    "collapsed": false
   },
   "outputs": [
    {
     "name": "stdout",
     "output_type": "stream",
     "text": [
      "Naive Bayes\n",
      "Accuracy on training data: 0.88\n",
      "MN Accuracy: 55.84%\n",
      "Naive Bayes Binary\n",
      "Accuracy on training data: 0.94\n",
      "MN Accuracy: 73.59%\n"
     ]
    }
   ],
   "source": [
    "#Multinomail Naive Bayes\n",
    "clf = MultinomialNB()\n",
    "clf = clf.fit(xtrain, ytrain)\n",
    "training_accuracy = clf.score(xtrain, ytrain)\n",
    "print \"Naive Bayes\"\n",
    "print \"Accuracy on training data: %0.2f\" % (training_accuracy)\n",
    "print \"MN Accuracy: %0.2f%%\" % (100 * clf.score(xtest, ytest))\n",
    "\n",
    "clfbin = MultinomialNB()\n",
    "clfbin = clfbin.fit(xbintrain, ybintrain)\n",
    "training_accuracy = clfbin.score(xbintrain, ybintrain)\n",
    "print \"Naive Bayes Binary\"\n",
    "print \"Accuracy on training data: %0.2f\" % (training_accuracy)\n",
    "print \"MN Accuracy: %0.2f%%\" % (100 * clfbin.score(xbintest, ybintest))"
   ]
  },
  {
   "cell_type": "code",
   "execution_count": 15,
   "metadata": {
    "collapsed": true
   },
   "outputs": [],
   "source": [
    "def validation(clf, binary= False):\n",
    "    alphas = [0, .1, 1, 5, 10, 50]\n",
    "    min_dfs = [1e-5, 1e-4, 1e-3, 1e-2, 1e-1]\n",
    "\n",
    "    #Find the best value for alpha and min_df, and the best classifier\n",
    "    best_alpha = None\n",
    "    best_min_df = None\n",
    "    maxscore=-np.inf\n",
    "    for alpha in alphas:\n",
    "        for min_df in min_dfs:         \n",
    "            vectorizer = CountVectorizer(min_df = min_df)\n",
    "            if not binary:\n",
    "                Xthis, ythis = make_xy(critics, vectorizer)\n",
    "            else:\n",
    "                Xthis, ythis = make_xyBinary(critics,vectorizer)\n",
    "            Xtrainthis=Xthis[mask]\n",
    "            ytrainthis=ythis[mask]\n",
    "            #your code here\n",
    "            clf = MultinomialNB(alpha=alpha)\n",
    "            cvscore = cv_score(clf, Xtrainthis, ytrainthis, log_likelihood)\n",
    "\n",
    "            if cvscore > maxscore:\n",
    "                maxscore = cvscore\n",
    "                best_alpha, best_min_df = alpha, min_df\n",
    "    return best_alpha, best_min_df\n",
    "best_alpha1, best_min_df1 = validation(clf)\n",
    "best_alpha2, best_min_df2 = validation(clf, binary = True)"
   ]
  },
  {
   "cell_type": "code",
   "execution_count": 28,
   "metadata": {
    "collapsed": false
   },
   "outputs": [
    {
     "name": "stdout",
     "output_type": "stream",
     "text": [
      "Parameter Optimized Naive Bayes\n",
      "Accuracy on training data: 0.62\n",
      "Accuracy on test data:     0.62\n",
      "Parameter Optimized Naive Bayes Binary\n",
      "Accuracy on training data: 0.78\n",
      "Accuracy on test data:     0.80\n"
     ]
    }
   ],
   "source": [
    "vectorizer = CountVectorizer(min_df=best_min_df1)\n",
    "X, y = make_xy(critics, vectorizer)\n",
    "xtrain=X[mask]\n",
    "ytrain=y[mask]\n",
    "xtest=X[~mask]\n",
    "ytest=y[~mask]\n",
    "\n",
    "clf = MultinomialNB(alpha=best_alpha1).fit(xtrain, ytrain)\n",
    "\n",
    "vectorizerbin = CountVectorizer(min_df=best_min_df2)\n",
    "X, y = make_xyBinary(critics, vectorizer)\n",
    "xbintrain=X[mask]\n",
    "ybintrain=y[mask]\n",
    "xbintest=X[~mask]\n",
    "ybintest=y[~mask]\n",
    "\n",
    "clfbin = MultinomialNB(alpha=best_alpha2).fit(xbintrain, ybintrain)\n",
    "\n",
    "# Your code here. Print the accuracy on the test and training dataset\n",
    "training_accuracy = clf.score(xtrain, ytrain)\n",
    "test_accuracy = clf.score(xtest, ytest)\n",
    "\n",
    "print \"Parameter Optimized Naive Bayes\"\n",
    "print \"Accuracy on training data: %0.2f\" % (training_accuracy)\n",
    "print \"Accuracy on test data:     %0.2f\" % (test_accuracy)\n",
    "\n",
    "training_accuracybin = clfbin.score(xbintrain, ybintrain)\n",
    "test_accuracybin = clfbin.score(xbintest, ybintest)\n",
    "\n",
    "print \"Parameter Optimized Naive Bayes Binary\"\n",
    "print \"Accuracy on training data: %0.2f\" % (training_accuracybin)\n",
    "print \"Accuracy on test data:     %0.2f\" % (test_accuracybin)\n",
    "\n"
   ]
  },
  {
   "cell_type": "markdown",
   "metadata": {},
   "source": [
    "##Random Forest"
   ]
  },
  {
   "cell_type": "code",
   "execution_count": 17,
   "metadata": {
    "collapsed": false
   },
   "outputs": [
    {
     "name": "stdout",
     "output_type": "stream",
     "text": [
      "Random Forest with Ranges\n",
      "Accuracy on training data: 0.94\n",
      "RF Accuracy: 58.48%\n",
      "Random Forest Binary Data\n",
      "Accuracy on training data: 0.97\n",
      "RF Accuracy: 77.80%\n"
     ]
    }
   ],
   "source": [
    "#Random Forest\n",
    "rf = RandomForestClassifier(n_estimators=100, min_samples_split=2, n_jobs=-1).fit(xtrain,ytrain)\n",
    "rf_train_accuracy = rf.score(xtrain, ytrain)\n",
    "print \"Random Forest with Ranges\"\n",
    "print \"Accuracy on training data: %0.2f\" % (rf_train_accuracy)\n",
    "print \"RF Accuracy: %.02f%%\" % (100*rf.score(xtest,ytest))\n",
    "\n",
    "rfbin = RandomForestClassifier(n_estimators=100, min_samples_split=2, n_jobs=-1).fit(xbintrain,ybintrain)\n",
    "rfbin_train_accuracy = rfbin.score(xbintrain, ybintrain)\n",
    "print \"Random Forest Binary Data\"\n",
    "print \"Accuracy on training data: %0.2f\" % (rfbin_train_accuracy)\n",
    "print \"RF Accuracy: %.02f%%\" % (100*rfbin.score(xbintest,ybintest))"
   ]
  },
  {
   "cell_type": "code",
   "execution_count": 18,
   "metadata": {
    "collapsed": true
   },
   "outputs": [],
   "source": [
    "n_ests = [10, 20, 50, 100, 150, 200]\n",
    "min_dfs = [0,.1,.01,.001,.0001,1]\n",
    "max_depths = [5,10,15,20,25,40,50,70,80,90]\n",
    "\n",
    "#Find the best value for alpha and min_df, and the best classifier\n",
    "best_n_est = 10\n",
    "# n_est = range(best_n_est-5, best_n_est+5)\n",
    "# min_dfs = range(int(best_min_df), int(best_min_df+5.))\n",
    "# max_depths = range(max_depth-5, max_depth+5)\n",
    "\n",
    "# best_n_est = n_est[0]\n",
    "maxscore=-np.inf\n",
    "for max_depth in max_depths:\n",
    "    for n_est in n_ests:  \n",
    "        for min_df in min_dfs:\n",
    "            vectorizer = CountVectorizer(min_df = min_df)       \n",
    "            Xthis, ythis = make_xy(critics, vectorizer)\n",
    "            Xtrainthis=Xthis[mask]\n",
    "            ytrainthis=ythis[mask]\n",
    "            #your code here\n",
    "            rf = RandomForestClassifier(n_estimators=n_est,max_depth = max_depth, min_samples_split=2, n_jobs=-1)\n",
    "            cvscore = cv_score(rf, Xtrainthis, ytrainthis, log_likelihood)\n",
    "\n",
    "            if cvscore > maxscore:\n",
    "                maxscore = cvscore\n",
    "                best_n_est, best_min_df, best_max_depth = n_est, min_df, max_depth"
   ]
  },
  {
   "cell_type": "code",
   "execution_count": 19,
   "metadata": {
    "collapsed": false
   },
   "outputs": [
    {
     "name": "stdout",
     "output_type": "stream",
     "text": [
      "Accuracy on training data: 0.99\n",
      "Accuracy on test 0.60\n"
     ]
    }
   ],
   "source": [
    "vectorizer = CountVectorizer(min_df=best_min_df)\n",
    "X, y = make_xy(critics, vectorizer)\n",
    "xtrain=X[mask]\n",
    "ytrain=y[mask]\n",
    "xtest=X[~mask]\n",
    "ytest=y[~mask]\n",
    "\n",
    "best_rf = RandomForestClassifier(n_estimators=best_n_est, min_samples_split=2, n_jobs=-1).fit(xtrain,ytrain)\n",
    "rf_train_accuracy = best_rf.score(xtrain, ytrain)\n",
    "rf_test_accuracy = best_rf.score(xtest, ytest)\n",
    "\n",
    "print \"Accuracy on training data: %0.2f\" % (rf_train_accuracy)\n",
    "print \"Accuracy on test %0.2f\" % (rf_test_accuracy)"
   ]
  },
  {
   "cell_type": "markdown",
   "metadata": {},
   "source": [
    "#Logistic Regression"
   ]
  },
  {
   "cell_type": "code",
   "execution_count": 62,
   "metadata": {
    "collapsed": false
   },
   "outputs": [
    {
     "name": "stdout",
     "output_type": "stream",
     "text": [
      "Logistic Regression\n",
      "Accuracy on training data: 0.68\n",
      "Logistic Accuracy: 68.23%\n"
     ]
    }
   ],
   "source": [
    "#Logistic Regression\n",
    "logistic = LogisticRegression(penalty=\"l1\", class_weight = 'auto').fit(xbintrain, ybintrain)\n",
    "log_train_accuracy = logistic.score(xbintrain,ybintrain)\n",
    "print \"Logistic Regression\"\n",
    "print \"Accuracy on training data: %0.2f\" % (log_train_accuracy)\n",
    "print \"Logistic Accuracy: %.02f%%\" % (100*logistic.score(xbintest,ybintest))"
   ]
  },
  {
   "cell_type": "markdown",
   "metadata": {},
   "source": [
    "#Support Vector Machine"
   ]
  },
  {
   "cell_type": "code",
   "execution_count": 33,
   "metadata": {
    "collapsed": false
   },
   "outputs": [
    {
     "name": "stdout",
     "output_type": "stream",
     "text": [
      "Support Vector Machine\n",
      "Accuracy on training data: 0.62\n",
      "Logistic Accuracy: 62.09%\n"
     ]
    }
   ],
   "source": [
    "from sklearn.svm import SVC\n",
    "clfsvm = SVC(kernel=\"linear\").fit(xtrain, ytrain)\n",
    "svm_accuracy= clfsvm.score(xtest, ytest)\n",
    "print \"Support Vector Machine\"\n",
    "print \"Accuracy on training data: %0.2f\" % (svm_accuracy)\n",
    "print \"Logistic Accuracy: %.02f%%\" % (100*clfsvm.score(xtest,ytest))"
   ]
  },
  {
   "cell_type": "code",
   "execution_count": 43,
   "metadata": {
    "collapsed": false
   },
   "outputs": [],
   "source": [
    "Cs = [.001,.01, .1, 1, 10]\n",
    "min_dfs = [ 1e-4, 1e-3, 1e-1]\n",
    "\n",
    "#Find the best value for alpha and min_df, and the best classifier\n",
    "best_alpha = None\n",
    "best_min_df = None\n",
    "maxscore=-np.inf\n",
    "for c in Cs:\n",
    "    for min_df in min_dfs:         \n",
    "        vectorizer = CountVectorizer(min_df = min_df)\n",
    "        Xthis, ythis = make_xyBinary(critics,vectorizer)\n",
    "        Xtrainthis=Xthis[mask]\n",
    "        ytrainthis=ythis[mask]\n",
    "        #your code here\n",
    "        svm = SVC(kernel = 'linear', C=c,probability = True)\n",
    "        cvscore = cv_score(svm, Xtrainthis, ytrainthis, log_likelihood)\n",
    "\n",
    "        if cvscore > maxscore:\n",
    "            maxscore = cvscore\n",
    "            best_c, best_min_df = c, min_df\n",
    "            \n"
   ]
  },
  {
   "cell_type": "code",
   "execution_count": 44,
   "metadata": {
    "collapsed": false
   },
   "outputs": [
    {
     "data": {
      "text/plain": [
       "0.1"
      ]
     },
     "execution_count": 44,
     "metadata": {},
     "output_type": "execute_result"
    }
   ],
   "source": [
    "best_c"
   ]
  },
  {
   "cell_type": "code",
   "execution_count": 142,
   "metadata": {
    "collapsed": false
   },
   "outputs": [
    {
     "name": "stdout",
     "output_type": "stream",
     "text": [
      "Optimized SVM Parameters\n",
      "Accuracy on training data: 0.34\n",
      "Accuracy on test 0.30\n"
     ]
    }
   ],
   "source": [
    "vectorizer = CountVectorizer(min_df=best_min_df)\n",
    "X, y = make_xy(critics, vectorizer)\n",
    "xtrain=X[mask]\n",
    "ytrain=y[mask]\n",
    "xtest=X[~mask]\n",
    "ytest=y[~mask]\n",
    "\n",
    "best_svm = SVC(kernel = 'linear', C=best_c, class_weight = 'auto').fit(xtrain,ytrain)\n",
    "svm_train_accuracy = best_svm.score(xtrain, ytrain)\n",
    "svm_test_accuracy = best_svm.score(xtest, ytest)\n",
    "\n",
    "print \"Optimized SVM Parameters\"\n",
    "print \"Accuracy on training data: %0.2f\" % (svm_train_accuracy)\n",
    "print \"Accuracy on test %0.2f\" % (svm_test_accuracy)"
   ]
  },
  {
   "cell_type": "markdown",
   "metadata": {},
   "source": [
    "#Clustering"
   ]
  },
  {
   "cell_type": "markdown",
   "metadata": {},
   "source": [
    "#Visualization of the Results"
   ]
  },
  {
   "cell_type": "code",
   "execution_count": 21,
   "metadata": {
    "collapsed": true
   },
   "outputs": [],
   "source": [
    "def calibration_plot(clf, xtest, ytest):\n",
    "    prob = clf.predict_proba(xtest)[:, 1]\n",
    "    outcome = ytest\n",
    "    data = pd.DataFrame(dict(prob=prob, outcome=outcome))\n",
    "\n",
    "    #group outcomes into bins of similar probability\n",
    "    bins = np.linspace(0, 1, 20)\n",
    "    cuts = pd.cut(prob, bins)\n",
    "    binwidth = bins[1] - bins[0]\n",
    "    \n",
    "    #freshness ratio and number of examples in each bin\n",
    "    cal = data.groupby(cuts).outcome.agg(['mean', 'count'])\n",
    "    cal['pmid'] = (bins[:-1] + bins[1:]) / 2\n",
    "    cal['sig'] = np.sqrt(cal.pmid * (1 - cal.pmid) / cal['count'])\n",
    "        \n",
    "    #the calibration plot\n",
    "    ax = plt.subplot2grid((3, 1), (0, 0), rowspan=2)\n",
    "    p = plt.errorbar(cal.pmid, cal['mean'], cal['sig'])\n",
    "    plt.plot(cal.pmid, cal.pmid, linestyle='--', lw=1, color='k')\n",
    "    plt.ylabel(\"Empirical P(Fresh)\")\n",
    "    \n",
    "    #the distribution of P(fresh)\n",
    "    ax = plt.subplot2grid((3, 1), (2, 0), sharex=ax)\n",
    "    \n",
    "    plt.bar(left=cal.pmid - binwidth / 2, height=cal['count'],\n",
    "            width=.95 * (bins[1] - bins[0]),\n",
    "            fc=p[0].get_color())\n",
    "    \n",
    "    plt.xlabel(\"Predicted P(Fresh)\")\n",
    "    plt.ylabel(\"Number\")"
   ]
  },
  {
   "cell_type": "code",
   "execution_count": 22,
   "metadata": {
    "collapsed": false
   },
   "outputs": [
    {
     "name": "stderr",
     "output_type": "stream",
     "text": [
      "/Applications/anaconda/lib/python2.7/site-packages/matplotlib/collections.py:590: FutureWarning: elementwise comparison failed; returning scalar instead, but in the future will perform elementwise comparison\n",
      "  if self._edgecolors == str('face'):\n"
     ]
    },
    {
     "data": {
      "image/png": "[encoded data removed]",
      "text/plain": [
       "<matplotlib.figure.Figure at 0x10b262b50>"
      ]
     },
     "metadata": {},
     "output_type": "display_data"
    }
   ],
   "source": [
    "calibration_plot(logistic, xbintest, ybintest)"
   ]
  },
  {
   "cell_type": "code",
   "execution_count": 23,
   "metadata": {
    "collapsed": false
   },
   "outputs": [
    {
     "data": {
      "image/png": "[encoded data removed]",
      "text/plain": [
       "<matplotlib.figure.Figure at 0x10388a090>"
      ]
     },
     "metadata": {},
     "output_type": "display_data"
    }
   ],
   "source": [
    "calibration_plot(clfbin, xbintest, ybintest)"
   ]
  },
  {
   "cell_type": "code",
   "execution_count": 24,
   "metadata": {
    "collapsed": false
   },
   "outputs": [
    {
     "data": {
      "image/png": "[encoded data removed]",
      "text/plain": [
       "<matplotlib.figure.Figure at 0x1029fa290>"
      ]
     },
     "metadata": {},
     "output_type": "display_data"
    }
   ],
   "source": [
    "calibration_plot(rfbin, xbintest, ybintest)"
   ]
  },
  {
   "cell_type": "markdown",
   "metadata": {
    "collapsed": false
   },
   "source": [
    "#NLTK Sentiment with Naive Bayes Classifier"
   ]
  },
  {
   "cell_type": "code",
   "execution_count": 46,
   "metadata": {
    "collapsed": false
   },
   "outputs": [],
   "source": [
    "reddit = []\n",
    "for row in range(len(critics.body)):\n",
    "    words = critics.iloc[row].body.split()\n",
    "    temp = (words, critics.iloc[row].Answer1)\n",
    "    reddit.append(temp)\n",
    "\n",
    "    "
   ]
  },
  {
   "cell_type": "code",
   "execution_count": 50,
   "metadata": {
    "collapsed": false
   },
   "outputs": [],
   "source": [
    "#SOURCE THIS\n",
    "\n",
    "import nltk\n",
    "def get_words(reddits):\n",
    "    all_words = []\n",
    "    for (a, b) in reddits:\n",
    "        all_words.extend(a)\n",
    "    return all_words\n",
    "\n",
    "def get_word_features(wordlist):\n",
    "    wordlist = nltk.FreqDist(wordlist)\n",
    "    word_features = wordlist.keys()\n",
    "    return word_features\n"
   ]
  },
  {
   "cell_type": "code",
   "execution_count": 56,
   "metadata": {
    "collapsed": false
   },
   "outputs": [],
   "source": [
    "word_features = get_word_features(get_words(reddit))\n",
    "#print word_features"
   ]
  },
  {
   "cell_type": "code",
   "execution_count": 53,
   "metadata": {
    "collapsed": true
   },
   "outputs": [],
   "source": [
    "def extract_features(document):\n",
    "    document_words = set(document)\n",
    "    features = {}\n",
    "    for word in word_features:\n",
    "        features['contains(%s)' % word] = (word in document_words)\n",
    "    return features"
   ]
  },
  {
   "cell_type": "code",
   "execution_count": 55,
   "metadata": {
    "collapsed": false
   },
   "outputs": [
    {
     "ename": "TypeError",
     "evalue": "unhashable type: 'list'",
     "output_type": "error",
     "traceback": [
      "\u001b[0;31m---------------------------------------------------------------------------\u001b[0m",
      "\u001b[0;31mTypeError\u001b[0m                                 Traceback (most recent call last)",
      "\u001b[0;32m<ipython-input-55-136ba1c67891>\u001b[0m in \u001b[0;36m<module>\u001b[0;34m()\u001b[0m\n\u001b[0;32m----> 1\u001b[0;31m \u001b[0mextract_features\u001b[0m\u001b[0;34m(\u001b[0m\u001b[0mreddit\u001b[0m\u001b[0;34m[\u001b[0m\u001b[0;36m1\u001b[0m\u001b[0;34m]\u001b[0m\u001b[0;34m)\u001b[0m\u001b[0;34m\u001b[0m\u001b[0m\n\u001b[0m\u001b[1;32m      2\u001b[0m \u001b[0;31m#training_set = nltk.classify.apply_features(extract_features, reddit)\u001b[0m\u001b[0;34m\u001b[0m\u001b[0;34m\u001b[0m\u001b[0m\n",
      "\u001b[0;32m<ipython-input-53-836808cc7a3c>\u001b[0m in \u001b[0;36mextract_features\u001b[0;34m(document)\u001b[0m\n\u001b[1;32m      1\u001b[0m \u001b[0;32mdef\u001b[0m \u001b[0mextract_features\u001b[0m\u001b[0;34m(\u001b[0m\u001b[0mdocument\u001b[0m\u001b[0;34m)\u001b[0m\u001b[0;34m:\u001b[0m\u001b[0;34m\u001b[0m\u001b[0m\n\u001b[0;32m----> 2\u001b[0;31m     \u001b[0mdocument_words\u001b[0m \u001b[0;34m=\u001b[0m \u001b[0mset\u001b[0m\u001b[0;34m(\u001b[0m\u001b[0mdocument\u001b[0m\u001b[0;34m)\u001b[0m\u001b[0;34m\u001b[0m\u001b[0m\n\u001b[0m\u001b[1;32m      3\u001b[0m     \u001b[0mfeatures\u001b[0m \u001b[0;34m=\u001b[0m \u001b[0;34m{\u001b[0m\u001b[0;34m}\u001b[0m\u001b[0;34m\u001b[0m\u001b[0m\n\u001b[1;32m      4\u001b[0m     \u001b[0;32mfor\u001b[0m \u001b[0mword\u001b[0m \u001b[0;32min\u001b[0m \u001b[0mword_features\u001b[0m\u001b[0;34m:\u001b[0m\u001b[0;34m\u001b[0m\u001b[0m\n\u001b[1;32m      5\u001b[0m         \u001b[0mfeatures\u001b[0m\u001b[0;34m[\u001b[0m\u001b[0;34m'contains(%s)'\u001b[0m \u001b[0;34m%\u001b[0m \u001b[0mword\u001b[0m\u001b[0;34m]\u001b[0m \u001b[0;34m=\u001b[0m \u001b[0;34m(\u001b[0m\u001b[0mword\u001b[0m \u001b[0;32min\u001b[0m \u001b[0mdocument_words\u001b[0m\u001b[0;34m)\u001b[0m\u001b[0;34m\u001b[0m\u001b[0m\n",
      "\u001b[0;31mTypeError\u001b[0m: unhashable type: 'list'"
     ]
    }
   ],
   "source": [
    "extract_features(reddit[1])\n",
    "training_set = nltk.classify.apply_features(extract_features, reddit)"
   ]
  },
  {
   "cell_type": "code",
   "execution_count": null,
   "metadata": {
    "collapsed": false
   },
   "outputs": [],
   "source": [
    "classifier = nltk.NaiveBayesClassifier.train(training_set)\n",
    "classifier.classify(\"Microsoft Sucks\")"
   ]
  },
  {
   "cell_type": "code",
   "execution_count": null,
   "metadata": {
    "collapsed": false
   },
   "outputs": [],
   "source": [
    "print 'accuracy:', nltk.classify.util.accuracy(classifier, training_set)\n",
    "classifier.show_most_informative_features()"
   ]
  },
  {
   "cell_type": "code",
   "execution_count": null,
   "metadata": {
    "collapsed": false
   },
   "outputs": [],
   "source": [
    "nltk.download()"
   ]
  },
  {
   "cell_type": "code",
   "execution_count": null,
   "metadata": {
    "collapsed": false
   },
   "outputs": [],
   "source": [
    "import nltk"
   ]
  },
  {
   "cell_type": "code",
   "execution_count": null,
   "metadata": {
    "collapsed": false
   },
   "outputs": [],
   "source": [
    "test = []\n",
    "for (a,b) in reddit:\n",
    "    test.append(nltk.pos_tag(a))"
   ]
  },
  {
   "cell_type": "code",
   "execution_count": null,
   "metadata": {
    "collapsed": false
   },
   "outputs": [],
   "source": [
    "for a in test:\n",
    "    print nltk.ne_chunk(a)"
   ]
  },
  {
   "cell_type": "code",
   "execution_count": null,
   "metadata": {
    "collapsed": true
   },
   "outputs": [],
   "source": [
    "def tag(self, postagged_sentences):\n",
    "        return [self.tag_sentence(sentence) for sentence in postagged_sentences]"
   ]
  },
  {
   "cell_type": "code",
   "execution_count": null,
   "metadata": {
    "collapsed": false
   },
   "outputs": [],
   "source": [
    "class DictionaryTagger(object):\n",
    "    def __init__(self, dictionary_paths):\n",
    "        files = [open(path, 'r') for path in dictionary_paths]\n",
    "        dictionaries = [yaml.load(dict_file) for dict_file in files]\n",
    "        map(lambda x: x.close(), files)\n",
    "        self.dictionary = {}\n",
    "        self.max_key_size = 0\n",
    "        for curr_dict in dictionaries:\n",
    "            for key in curr_dict:\n",
    "                if key in self.dictionary:\n",
    "                    self.dictionary[key].extend(curr_dict[key])\n",
    "                else:\n",
    "                    self.dictionary[key] = curr_dict[key]\n",
    "                    self.max_key_size = max(self.max_key_size, len(key))\n",
    "\n",
    "dicttagger = DictionaryTagger([ 'dicts/positive.yml', 'dicts/negative.yml'])"
   ]
  },
  {
   "cell_type": "markdown",
   "metadata": {
    "collapsed": true
   },
   "source": [
    "#Final Predictions"
   ]
  },
  {
   "cell_type": "code",
   "execution_count": 168,
   "metadata": {
    "collapsed": false
   },
   "outputs": [],
   "source": [
    "vectorizer = CountVectorizer(min_df=best_min_df)\n",
    "X, y = make_xyBinary(critics, vectorizer)"
   ]
  },
  {
   "cell_type": "code",
   "execution_count": 177,
   "metadata": {
    "collapsed": false
   },
   "outputs": [
    {
     "name": "stdout",
     "output_type": "stream",
     "text": [
      "[0 0 1 ..., 1 0 0]\n"
     ]
    }
   ],
   "source": [
    "prediction = logistic.predict(X)\n",
    "print prediction"
   ]
  },
  {
   "cell_type": "code",
   "execution_count": 170,
   "metadata": {
    "collapsed": false
   },
   "outputs": [],
   "source": [
    "critics['prediction'] = prediction*critics['score']"
   ]
  },
  {
   "cell_type": "code",
   "execution_count": 171,
   "metadata": {
    "collapsed": false
   },
   "outputs": [],
   "source": [
    "company = critics.groupby('company').agg({'prediction':np.mean})"
   ]
  },
  {
   "cell_type": "code",
   "execution_count": 172,
   "metadata": {
    "collapsed": false
   },
   "outputs": [],
   "source": [
    "grp = critics.groupby('company')"
   ]
  },
  {
   "cell_type": "code",
   "execution_count": 173,
   "metadata": {
    "collapsed": false
   },
   "outputs": [],
   "source": [
    "names = []\n",
    "for a,b in grp:\n",
    "    names.append(a)"
   ]
  },
  {
   "cell_type": "code",
   "execution_count": 174,
   "metadata": {
    "collapsed": true
   },
   "outputs": [],
   "source": [
    "values = []\n",
    "for i in company.values:\n",
    "    values.append(i[0])"
   ]
  },
  {
   "cell_type": "code",
   "execution_count": 175,
   "metadata": {
    "collapsed": false
   },
   "outputs": [],
   "source": [
    "final = pd.DataFrame()\n",
    "final['weighted_predict'] = values\n",
    "final['name'] = names"
   ]
  },
  {
   "cell_type": "code",
   "execution_count": 176,
   "metadata": {
    "collapsed": false
   },
   "outputs": [
    {
     "data": {
      "text/html": [
       "<div>\n",
       "<table border=\"1\" class=\"dataframe\">\n",
       "  <thead>\n",
       "    <tr style=\"text-align: right;\">\n",
       "      <th></th>\n",
       "      <th>weighted_predict</th>\n",
       "      <th>name</th>\n",
       "    </tr>\n",
       "  </thead>\n",
       "  <tbody>\n",
       "    <tr>\n",
       "      <th>0</th>\n",
       "      <td>0.882353</td>\n",
       "      <td>Airbnb</td>\n",
       "    </tr>\n",
       "    <tr>\n",
       "      <th>1</th>\n",
       "      <td>0.985507</td>\n",
       "      <td>Amazon</td>\n",
       "    </tr>\n",
       "    <tr>\n",
       "      <th>2</th>\n",
       "      <td>3.651413</td>\n",
       "      <td>Apple</td>\n",
       "    </tr>\n",
       "    <tr>\n",
       "      <th>3</th>\n",
       "      <td>0.000000</td>\n",
       "      <td>Asana</td>\n",
       "    </tr>\n",
       "    <tr>\n",
       "      <th>4</th>\n",
       "      <td>0.000000</td>\n",
       "      <td>Buzzfeed</td>\n",
       "    </tr>\n",
       "  </tbody>\n",
       "</table>\n",
       "</div>"
      ],
      "text/plain": [
       "   weighted_predict      name\n",
       "0          0.882353    Airbnb\n",
       "1          0.985507    Amazon\n",
       "2          3.651413     Apple\n",
       "3          0.000000     Asana\n",
       "4          0.000000  Buzzfeed"
      ]
     },
     "execution_count": 176,
     "metadata": {},
     "output_type": "execute_result"
    }
   ],
   "source": [
    "final.head()"
   ]
  },
  {
   "cell_type": "code",
   "execution_count": 125,
   "metadata": {
    "collapsed": true
   },
   "outputs": [],
   "source": [
    "final.to_csv(\"company_with_predictions.csv\")"
   ]
  },
  {
   "cell_type": "markdown",
   "metadata": {},
   "source": [
    "#Predictions with Categories"
   ]
  },
  {
   "cell_type": "code",
   "execution_count": 160,
   "metadata": {
    "collapsed": true
   },
   "outputs": [],
   "source": [
    "vectorizer = CountVectorizer(min_df=best_min_df)\n",
    "X, y = make_xy(critics, vectorizer)"
   ]
  },
  {
   "cell_type": "code",
   "execution_count": 161,
   "metadata": {
    "collapsed": true
   },
   "outputs": [],
   "source": [
    "prediction = clf.predict(X)"
   ]
  },
  {
   "cell_type": "code",
   "execution_count": 162,
   "metadata": {
    "collapsed": false
   },
   "outputs": [
    {
     "data": {
      "text/plain": [
       "array([0, 0, 0, ..., 0, 0, 0])"
      ]
     },
     "execution_count": 162,
     "metadata": {},
     "output_type": "execute_result"
    }
   ],
   "source": [
    "prediction"
   ]
  },
  {
   "cell_type": "code",
   "execution_count": 163,
   "metadata": {
    "collapsed": false
   },
   "outputs": [],
   "source": [
    "critics['prediction_range'] = prediction*critics['score']"
   ]
  },
  {
   "cell_type": "code",
   "execution_count": 164,
   "metadata": {
    "collapsed": true
   },
   "outputs": [],
   "source": [
    "company_range = critics.groupby('company').agg({'prediction_range':np.mean})"
   ]
  },
  {
   "cell_type": "code",
   "execution_count": 180,
   "metadata": {
    "collapsed": false
   },
   "outputs": [],
   "source": [
    "weight_values = []\n",
    "for i in company_range.values:\n",
    "    weight_values.append(i[0])"
   ]
  },
  {
   "cell_type": "code",
   "execution_count": 166,
   "metadata": {
    "collapsed": false
   },
   "outputs": [],
   "source": [
    "final_weight = pd.DataFrame()\n",
    "final_weight['weighted_predict_range'] = weight_values\n",
    "final_weight['name'] = names"
   ]
  },
  {
   "cell_type": "code",
   "execution_count": 181,
   "metadata": {
    "collapsed": false
   },
   "outputs": [],
   "source": [
    "final_weight.to_csv(\"company_with_prediction_range.csv\")"
   ]
  },
  {
   "cell_type": "code",
   "execution_count": null,
   "metadata": {
    "collapsed": true
   },
   "outputs": [],
   "source": []
  }
 ],
 "metadata": {
  "kernelspec": {
   "display_name": "Python 2",
   "language": "python",
   "name": "python2"
  },
  "language_info": {
   "codemirror_mode": {
    "name": "ipython",
    "version": 2
   },
   "file_extension": ".py",
   "mimetype": "text/x-python",
   "name": "python",
   "nbconvert_exporter": "python",
   "pygments_lexer": "ipython2",
   "version": "2.7.10"
  }
 },
 "nbformat": 4,
 "nbformat_minor": 0
}
