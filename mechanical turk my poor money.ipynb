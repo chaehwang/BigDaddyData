{
 "cells": [
  {
   "cell_type": "markdown",
   "metadata": {},
   "source": [
    "#Model Building Using Text Analysis"
   ]
  },
  {
   "cell_type": "code",
   "execution_count": 320,
   "metadata": {
    "collapsed": true
   },
   "outputs": [],
   "source": [
    "%matplotlib inline\n",
    "import numpy as np\n",
    "import scipy as sp\n",
    "import matplotlib as mpl\n",
    "import matplotlib.cm as cm\n",
    "import matplotlib.pyplot as plt\n",
    "import pandas as pd\n",
    "pd.set_option('display.width', 500)\n",
    "pd.set_option('display.max_columns', 100)\n",
    "pd.set_option('display.notebook_repr_html', True)\n",
    "import seaborn as sns\n",
    "from sklearn.naive_bayes import MultinomialNB\n",
    "from sklearn.ensemble import RandomForestClassifier\n",
    "from sklearn.cross_validation import train_test_split\n",
    "from sklearn.linear_model import LogisticRegression\n",
    "sns.set_style(\"whitegrid\")\n",
    "sns.set_context(\"poster\")\n",
    "import nltk\n",
    "from sklearn.feature_extraction.text import CountVectorizer"
   ]
  },
  {
   "cell_type": "code",
   "execution_count": 375,
   "metadata": {
    "collapsed": false
   },
   "outputs": [
    {
     "data": {
      "text/html": [
       "<div>\n",
       "<table border=\"1\" class=\"dataframe\">\n",
       "  <thead>\n",
       "    <tr style=\"text-align: right;\">\n",
       "      <th></th>\n",
       "      <th>Unnamed: 0</th>\n",
       "      <th>index</th>\n",
       "      <th>body</th>\n",
       "      <th>company</th>\n",
       "      <th>date</th>\n",
       "      <th>score</th>\n",
       "      <th>Worker1</th>\n",
       "      <th>Answer1</th>\n",
       "      <th>Avg</th>\n",
       "      <th>Date</th>\n",
       "      <th>positive</th>\n",
       "    </tr>\n",
       "  </thead>\n",
       "  <tbody>\n",
       "    <tr>\n",
       "      <th>0</th>\n",
       "      <td>3L21G7IH4773YI2L6RV6T5G4RTC1YW</td>\n",
       "      <td>1199</td>\n",
       "      <td>I shall do that! I was thinking \"I've had this...</td>\n",
       "      <td>Fitbit</td>\n",
       "      <td>1449270750</td>\n",
       "      <td>3</td>\n",
       "      <td>A2R0YYUAWNT7UD</td>\n",
       "      <td>2</td>\n",
       "      <td>2</td>\n",
       "      <td>2015-12-05 06:58:53 UTC</td>\n",
       "      <td>True</td>\n",
       "    </tr>\n",
       "    <tr>\n",
       "      <th>1</th>\n",
       "      <td>3I7KR83SNAOQ3IGZ6P98Z3JCRQR9KI</td>\n",
       "      <td>1178</td>\n",
       "      <td>Love it. Has helped keep me on track for weigh...</td>\n",
       "      <td>Fitbit</td>\n",
       "      <td>1449265917</td>\n",
       "      <td>2</td>\n",
       "      <td>A1NM7ZPZ3NH412</td>\n",
       "      <td>2</td>\n",
       "      <td>2</td>\n",
       "      <td>2015-12-05 06:59:05 UTC</td>\n",
       "      <td>True</td>\n",
       "    </tr>\n",
       "    <tr>\n",
       "      <th>2</th>\n",
       "      <td>3P7RGTLO6EO481Q4YVN8VYUWX89KA8</td>\n",
       "      <td>1174</td>\n",
       "      <td>I love it because I do not have to stop and pu...</td>\n",
       "      <td>Fitbit</td>\n",
       "      <td>1449251995</td>\n",
       "      <td>2</td>\n",
       "      <td>A3ITZNJQUTIZ4C</td>\n",
       "      <td>2</td>\n",
       "      <td>2</td>\n",
       "      <td>2015-12-05 07:02:17 UTC</td>\n",
       "      <td>True</td>\n",
       "    </tr>\n",
       "    <tr>\n",
       "      <th>3</th>\n",
       "      <td>373L46LKP7HF9UT8S10LOXXFNV3KJO</td>\n",
       "      <td>409</td>\n",
       "      <td>I never wore a watch, now I wear an Apple Watc...</td>\n",
       "      <td>Apple</td>\n",
       "      <td>1449290608</td>\n",
       "      <td>1</td>\n",
       "      <td>A2R0YYUAWNT7UD</td>\n",
       "      <td>2</td>\n",
       "      <td>2</td>\n",
       "      <td>2015-12-05 06:59:32 UTC</td>\n",
       "      <td>True</td>\n",
       "    </tr>\n",
       "    <tr>\n",
       "      <th>4</th>\n",
       "      <td>3G9UA71JVV5REFMO97BCKSSTHB2J7G</td>\n",
       "      <td>1465</td>\n",
       "      <td>The fallout soundtracks are great, but IMO the...</td>\n",
       "      <td>Spotify</td>\n",
       "      <td>1449249457</td>\n",
       "      <td>1</td>\n",
       "      <td>A1FP3SH704X01V</td>\n",
       "      <td>2</td>\n",
       "      <td>2</td>\n",
       "      <td>2015-12-05 06:59:41 UTC</td>\n",
       "      <td>True</td>\n",
       "    </tr>\n",
       "  </tbody>\n",
       "</table>\n",
       "</div>"
      ],
      "text/plain": [
       "                       Unnamed: 0  index                                               body  company        date  score         Worker1  Answer1  Avg                     Date positive\n",
       "0  3L21G7IH4773YI2L6RV6T5G4RTC1YW   1199  I shall do that! I was thinking \"I've had this...   Fitbit  1449270750      3  A2R0YYUAWNT7UD        2    2  2015-12-05 06:58:53 UTC     True\n",
       "1  3I7KR83SNAOQ3IGZ6P98Z3JCRQR9KI   1178  Love it. Has helped keep me on track for weigh...   Fitbit  1449265917      2  A1NM7ZPZ3NH412        2    2  2015-12-05 06:59:05 UTC     True\n",
       "2  3P7RGTLO6EO481Q4YVN8VYUWX89KA8   1174  I love it because I do not have to stop and pu...   Fitbit  1449251995      2  A3ITZNJQUTIZ4C        2    2  2015-12-05 07:02:17 UTC     True\n",
       "3  373L46LKP7HF9UT8S10LOXXFNV3KJO    409  I never wore a watch, now I wear an Apple Watc...    Apple  1449290608      1  A2R0YYUAWNT7UD        2    2  2015-12-05 06:59:32 UTC     True\n",
       "4  3G9UA71JVV5REFMO97BCKSSTHB2J7G   1465  The fallout soundtracks are great, but IMO the...  Spotify  1449249457      1  A1FP3SH704X01V        2    2  2015-12-05 06:59:41 UTC     True"
      ]
     },
     "execution_count": 375,
     "metadata": {},
     "output_type": "execute_result"
    }
   ],
   "source": [
    "#critics = pd.read_csv('comments1_with_sentimentsoriginal.csv')\n",
    "critics = pd.read_csv('comments1_with_sentimentsoriginal.csv')\n",
    "critics = critics.dropna(subset=['body', 'Answer1']) \n",
    "#let's drop rows with missing quotes\n",
    "critics['positive'] = critics['Answer1'] >= 0\n",
    "critics.head()\n"
   ]
  },
  {
   "cell_type": "code",
   "execution_count": 376,
   "metadata": {
    "collapsed": false
   },
   "outputs": [],
   "source": [
    "critics['Answer1'] = critics['Answer1'].apply(int)"
   ]
  },
  {
   "cell_type": "code",
   "execution_count": 377,
   "metadata": {
    "collapsed": false
   },
   "outputs": [
    {
     "data": {
      "text/html": [
       "<div>\n",
       "<table border=\"1\" class=\"dataframe\">\n",
       "  <thead>\n",
       "    <tr style=\"text-align: right;\">\n",
       "      <th></th>\n",
       "      <th>Unnamed: 0</th>\n",
       "      <th>index</th>\n",
       "      <th>body</th>\n",
       "      <th>company</th>\n",
       "      <th>date</th>\n",
       "      <th>score</th>\n",
       "      <th>Worker1</th>\n",
       "      <th>Answer1</th>\n",
       "      <th>Avg</th>\n",
       "      <th>Date</th>\n",
       "      <th>positive</th>\n",
       "      <th>num_word</th>\n",
       "      <th>num_sentence</th>\n",
       "    </tr>\n",
       "  </thead>\n",
       "  <tbody>\n",
       "    <tr>\n",
       "      <th>0</th>\n",
       "      <td>3L21G7IH4773YI2L6RV6T5G4RTC1YW</td>\n",
       "      <td>1199</td>\n",
       "      <td>I shall do that! I was thinking \"I've had this...</td>\n",
       "      <td>Fitbit</td>\n",
       "      <td>1449270750</td>\n",
       "      <td>3</td>\n",
       "      <td>A2R0YYUAWNT7UD</td>\n",
       "      <td>2</td>\n",
       "      <td>2</td>\n",
       "      <td>2015-12-05 06:58:53 UTC</td>\n",
       "      <td>True</td>\n",
       "      <td>65</td>\n",
       "      <td>12</td>\n",
       "    </tr>\n",
       "    <tr>\n",
       "      <th>1</th>\n",
       "      <td>3I7KR83SNAOQ3IGZ6P98Z3JCRQR9KI</td>\n",
       "      <td>1178</td>\n",
       "      <td>Love it. Has helped keep me on track for weigh...</td>\n",
       "      <td>Fitbit</td>\n",
       "      <td>1449265917</td>\n",
       "      <td>2</td>\n",
       "      <td>A1NM7ZPZ3NH412</td>\n",
       "      <td>2</td>\n",
       "      <td>2</td>\n",
       "      <td>2015-12-05 06:59:05 UTC</td>\n",
       "      <td>True</td>\n",
       "      <td>11</td>\n",
       "      <td>3</td>\n",
       "    </tr>\n",
       "    <tr>\n",
       "      <th>2</th>\n",
       "      <td>3P7RGTLO6EO481Q4YVN8VYUWX89KA8</td>\n",
       "      <td>1174</td>\n",
       "      <td>I love it because I do not have to stop and pu...</td>\n",
       "      <td>Fitbit</td>\n",
       "      <td>1449251995</td>\n",
       "      <td>2</td>\n",
       "      <td>A3ITZNJQUTIZ4C</td>\n",
       "      <td>2</td>\n",
       "      <td>2</td>\n",
       "      <td>2015-12-05 07:02:17 UTC</td>\n",
       "      <td>True</td>\n",
       "      <td>17</td>\n",
       "      <td>1</td>\n",
       "    </tr>\n",
       "    <tr>\n",
       "      <th>3</th>\n",
       "      <td>373L46LKP7HF9UT8S10LOXXFNV3KJO</td>\n",
       "      <td>409</td>\n",
       "      <td>I never wore a watch, now I wear an Apple Watc...</td>\n",
       "      <td>Apple</td>\n",
       "      <td>1449290608</td>\n",
       "      <td>1</td>\n",
       "      <td>A2R0YYUAWNT7UD</td>\n",
       "      <td>2</td>\n",
       "      <td>2</td>\n",
       "      <td>2015-12-05 06:59:32 UTC</td>\n",
       "      <td>True</td>\n",
       "      <td>22</td>\n",
       "      <td>3</td>\n",
       "    </tr>\n",
       "    <tr>\n",
       "      <th>4</th>\n",
       "      <td>3G9UA71JVV5REFMO97BCKSSTHB2J7G</td>\n",
       "      <td>1465</td>\n",
       "      <td>The fallout soundtracks are great, but IMO the...</td>\n",
       "      <td>Spotify</td>\n",
       "      <td>1449249457</td>\n",
       "      <td>1</td>\n",
       "      <td>A1FP3SH704X01V</td>\n",
       "      <td>2</td>\n",
       "      <td>2</td>\n",
       "      <td>2015-12-05 06:59:41 UTC</td>\n",
       "      <td>True</td>\n",
       "      <td>26</td>\n",
       "      <td>5</td>\n",
       "    </tr>\n",
       "  </tbody>\n",
       "</table>\n",
       "</div>"
      ],
      "text/plain": [
       "                       Unnamed: 0  index                                               body  company        date  score         Worker1  Answer1  Avg                     Date positive  num_word  num_sentence\n",
       "0  3L21G7IH4773YI2L6RV6T5G4RTC1YW   1199  I shall do that! I was thinking \"I've had this...   Fitbit  1449270750      3  A2R0YYUAWNT7UD        2    2  2015-12-05 06:58:53 UTC     True        65            12\n",
       "1  3I7KR83SNAOQ3IGZ6P98Z3JCRQR9KI   1178  Love it. Has helped keep me on track for weigh...   Fitbit  1449265917      2  A1NM7ZPZ3NH412        2    2  2015-12-05 06:59:05 UTC     True        11             3\n",
       "2  3P7RGTLO6EO481Q4YVN8VYUWX89KA8   1174  I love it because I do not have to stop and pu...   Fitbit  1449251995      2  A3ITZNJQUTIZ4C        2    2  2015-12-05 07:02:17 UTC     True        17             1\n",
       "3  373L46LKP7HF9UT8S10LOXXFNV3KJO    409  I never wore a watch, now I wear an Apple Watc...    Apple  1449290608      1  A2R0YYUAWNT7UD        2    2  2015-12-05 06:59:32 UTC     True        22             3\n",
       "4  3G9UA71JVV5REFMO97BCKSSTHB2J7G   1465  The fallout soundtracks are great, but IMO the...  Spotify  1449249457      1  A1FP3SH704X01V        2    2  2015-12-05 06:59:41 UTC     True        26             5"
      ]
     },
     "execution_count": 377,
     "metadata": {},
     "output_type": "execute_result"
    }
   ],
   "source": [
    "from pattern.vector import stem, PORTER, LEMMA\n",
    "punctuation = r'[.,;:!?]'\n",
    "import re\n",
    "def num_sentence(body):\n",
    "    return len(re.split(punctuation, body))\n",
    "def num_word(sentence):\n",
    "    return len(re.split(\" \", sentence))\n",
    "\n",
    "num_word = critics.body.apply(num_word)\n",
    "num_sentence = critics.body.apply(num_sentence)\n",
    "critics['num_word'] = num_word\n",
    "critics['num_sentence'] = num_sentence\n",
    "critics.head()\n",
    "\n"
   ]
  },
  {
   "cell_type": "code",
   "execution_count": 378,
   "metadata": {
    "collapsed": false
   },
   "outputs": [],
   "source": [
    "grp = critics.groupby('company')"
   ]
  },
  {
   "cell_type": "code",
   "execution_count": 379,
   "metadata": {
    "collapsed": false
   },
   "outputs": [
    {
     "data": {
      "text/plain": [
       "(array([   60.,     0.,   445.,     0.,     0.,  1325.,     0.,   340.,\n",
       "            0.,    28.]),\n",
       " array([-2. , -1.6, -1.2, -0.8, -0.4,  0. ,  0.4,  0.8,  1.2,  1.6,  2. ]),\n",
       " <a list of 10 Patch objects>)"
      ]
     },
     "execution_count": 379,
     "metadata": {},
     "output_type": "execute_result"
    },
    {
     "data": {
      "image/png": "[encoded data removed]",
      "text/plain": [
       "<matplotlib.figure.Figure at 0x111807e50>"
      ]
     },
     "metadata": {},
     "output_type": "display_data"
    }
   ],
   "source": [
    "plt.hist(critics['Answer1'])"
   ]
  },
  {
   "cell_type": "code",
   "execution_count": 380,
   "metadata": {
    "collapsed": false
   },
   "outputs": [
    {
     "data": {
      "text/plain": [
       "(array([  2.14100000e+03,   4.40000000e+01,   4.00000000e+00,\n",
       "          5.00000000e+00,   0.00000000e+00,   1.00000000e+00,\n",
       "          1.00000000e+00,   0.00000000e+00,   0.00000000e+00,\n",
       "          2.00000000e+00]),\n",
       " array([ -71.,   32.,  135.,  238.,  341.,  444.,  547.,  650.,  753.,\n",
       "         856.,  959.]),\n",
       " <a list of 10 Patch objects>)"
      ]
     },
     "execution_count": 380,
     "metadata": {},
     "output_type": "execute_result"
    },
    {
     "data": {
      "image/png": "[encoded data removed]",
      "text/plain": [
       "<matplotlib.figure.Figure at 0x11176e810>"
      ]
     },
     "metadata": {},
     "output_type": "display_data"
    }
   ],
   "source": [
    "plt.hist(critics['score'])"
   ]
  },
  {
   "cell_type": "markdown",
   "metadata": {},
   "source": [
    "#Validation Tools"
   ]
  },
  {
   "cell_type": "code",
   "execution_count": 385,
   "metadata": {
    "collapsed": false
   },
   "outputs": [],
   "source": [
    "def make_xy(critics, vectorizer=None):\n",
    "    #Your code here    \n",
    "    if vectorizer is None:\n",
    "        vectorizer = CountVectorizer(encoding = 'latin-1', strip_accents = 'ascii', stop_words='english')\n",
    "    X = vectorizer.fit_transform(critics.body)\n",
    "    X = X.tocsc()  # some versions of sklearn return COO format\n",
    "    y = (critics.Answer1).values.astype(np.int)\n",
    "    return X, y\n",
    "\n",
    "\n",
    "def make_xyBinary(critics, vectorizer=None):\n",
    "    #Your code here    \n",
    "    if vectorizer is None:\n",
    "        vectorizer = CountVectorizer(encoding = 'latin-1', strip_accents = 'ascii', stop_words='english')\n",
    "    X = vectorizer.fit_transform(critics.body)\n",
    "    X = X.tocsc()  # some versions of sklearn return COO format\n",
    "    y = (critics.positive).values.astype(np.int)\n",
    "    return X, y\n",
    "X, y = make_xy(critics)\n",
    "Xbin, ybin = make_xyBinary(critics)"
   ]
  },
  {
   "cell_type": "code",
   "execution_count": 387,
   "metadata": {
    "collapsed": false
   },
   "outputs": [],
   "source": [
    "\n",
    "#train/test split the data\n",
    "xtrain, xtest, ytrain, ytest = train_test_split(X, y)\n",
    "xbintrain, xbintest, ybintrain, ybintest = train_test_split(Xbin, ybin)"
   ]
  },
  {
   "cell_type": "code",
   "execution_count": 388,
   "metadata": {
    "collapsed": true
   },
   "outputs": [],
   "source": [
    "from sklearn.cross_validation import KFold\n",
    "def cv_score(clf, X, y, scorefunc):\n",
    "    result = 0.\n",
    "    nfold = 5\n",
    "    for train, test in KFold(y.size, nfold): # split data into train/test groups, 5 times\n",
    "        clf.fit(X[train], y[train]) # fit\n",
    "        result += scorefunc(clf, X[test], y[test]) # evaluate score function on held-out data\n",
    "    return result / nfold # average"
   ]
  },
  {
   "cell_type": "code",
   "execution_count": 389,
   "metadata": {
    "collapsed": true
   },
   "outputs": [],
   "source": [
    "def log_likelihood(clf, x, y):\n",
    "    prob = clf.predict_log_proba(x)\n",
    "    rotten = y < 0\n",
    "    fresh = ~rotten\n",
    "    return prob[rotten, 0].sum() + prob[fresh, 1].sum()"
   ]
  },
  {
   "cell_type": "code",
   "execution_count": 390,
   "metadata": {
    "collapsed": true
   },
   "outputs": [],
   "source": [
    "from sklearn.cross_validation import train_test_split\n",
    "itrain, itest = train_test_split(xrange(critics.shape[0]), train_size=0.7)\n",
    "mask=np.ones(critics.shape[0], dtype='int')\n",
    "mask[itrain]=1\n",
    "mask[itest]=0\n",
    "mask = (mask==1)"
   ]
  },
  {
   "cell_type": "markdown",
   "metadata": {},
   "source": [
    "#Model Building Time"
   ]
  },
  {
   "cell_type": "markdown",
   "metadata": {},
   "source": [
    "##MultiNomial Naive Bayes"
   ]
  },
  {
   "cell_type": "code",
   "execution_count": 391,
   "metadata": {
    "collapsed": false
   },
   "outputs": [
    {
     "name": "stdout",
     "output_type": "stream",
     "text": [
      "Naive Bayes\n",
      "Accuracy on training data: 0.86\n",
      "MN Accuracy: 54.91%\n",
      "Naive Bayes Binary\n",
      "Accuracy on training data: 0.93\n",
      "MN Accuracy: 72.55%\n"
     ]
    }
   ],
   "source": [
    "#Multinomail Naive Bayes\n",
    "clf = MultinomialNB()\n",
    "clf = clf.fit(xtrain, ytrain)\n",
    "training_accuracy = clf.score(xtrain, ytrain)\n",
    "print \"Naive Bayes\"\n",
    "print \"Accuracy on training data: %0.2f\" % (training_accuracy)\n",
    "print \"MN Accuracy: %0.2f%%\" % (100 * clf.score(xtest, ytest))\n",
    "\n",
    "clfbin = MultinomialNB()\n",
    "clfbin = clfbin.fit(xbintrain, ybintrain)\n",
    "training_accuracy = clfbin.score(xbintrain, ybintrain)\n",
    "print \"Naive Bayes Binary\"\n",
    "print \"Accuracy on training data: %0.2f\" % (training_accuracy)\n",
    "print \"MN Accuracy: %0.2f%%\" % (100 * clfbin.score(xbintest, ybintest))"
   ]
  },
  {
   "cell_type": "code",
   "execution_count": 394,
   "metadata": {
    "collapsed": false
   },
   "outputs": [],
   "source": [
    "def validation(clf, binary= False):\n",
    "    alphas = [0, .1, 1, 5, 10, 50]\n",
    "    min_dfs = [1e-5, 1e-4, 1e-3, 1e-2, 1e-1]\n",
    "\n",
    "    #Find the best value for alpha and min_df, and the best classifier\n",
    "    best_alpha = None\n",
    "    best_min_df = None\n",
    "    maxscore=-np.inf\n",
    "    for alpha in alphas:\n",
    "        for min_df in min_dfs:         \n",
    "            vectorizer = CountVectorizer(min_df = min_df, encoding = 'latin-1')\n",
    "            if not binary:\n",
    "                Xthis, ythis = make_xy(critics, vectorizer)\n",
    "            else:\n",
    "                Xthis, ythis = make_xyBinary(critics,vectorizer)\n",
    "            Xtrainthis=Xthis[mask]\n",
    "            ytrainthis=ythis[mask]\n",
    "            #your code here\n",
    "            clf = MultinomialNB(alpha=alpha)\n",
    "            cvscore = cv_score(clf, Xtrainthis, ytrainthis, log_likelihood)\n",
    "\n",
    "            if cvscore > maxscore:\n",
    "                maxscore = cvscore\n",
    "                best_alpha, best_min_df = alpha, min_df\n",
    "    return best_alpha, best_min_df\n",
    "best_alpha1, best_min_df1 = validation(clf)\n",
    "best_alpha2, best_min_df2 = validation(clf, binary = True)"
   ]
  },
  {
   "cell_type": "code",
   "execution_count": 397,
   "metadata": {
    "collapsed": false
   },
   "outputs": [
    {
     "name": "stdout",
     "output_type": "stream",
     "text": [
      "Parameter Optimized Naive Bayes\n",
      "Accuracy on training data: 0.60\n",
      "Accuracy on test data:     0.62\n",
      "Parameter Optimized Naive Bayes Binary\n",
      "Accuracy on training data: 0.77\n",
      "Accuracy on test data:     0.78\n"
     ]
    }
   ],
   "source": [
    "vectorizer = CountVectorizer(min_df=best_min_df1, encoding = 'latin-1')\n",
    "X, y = make_xy(critics, vectorizer)\n",
    "xtrain=X[mask]\n",
    "ytrain=y[mask]\n",
    "xtest=X[~mask]\n",
    "ytest=y[~mask]\n",
    "\n",
    "clf = MultinomialNB(alpha=best_alpha1).fit(xtrain, ytrain)\n",
    "\n",
    "vectorizerbin = CountVectorizer(min_df=best_min_df2, encoding='latin-1')\n",
    "Xbin, ybin = make_xyBinary(critics, vectorizer)\n",
    "xbintrain=Xbin[mask]\n",
    "ybintrain=ybin[mask]\n",
    "xbintest=Xbin[~mask]\n",
    "ybintest=ybin[~mask]\n",
    "\n",
    "clfbin = MultinomialNB(alpha=best_alpha2).fit(xbintrain, ybintrain)\n",
    "\n",
    "# Your code here. Print the accuracy on the test and training dataset\n",
    "training_accuracy = clf.score(xtrain, ytrain)\n",
    "test_accuracy = clf.score(xtest, ytest)\n",
    "\n",
    "print \"Parameter Optimized Naive Bayes\"\n",
    "print \"Accuracy on training data: %0.2f\" % (training_accuracy)\n",
    "print \"Accuracy on test data:     %0.2f\" % (test_accuracy)\n",
    "\n",
    "training_accuracybin = clfbin.score(xbintrain, ybintrain)\n",
    "test_accuracybin = clfbin.score(xbintest, ybintest)\n",
    "\n",
    "print \"Parameter Optimized Naive Bayes Binary\"\n",
    "print \"Accuracy on training data: %0.2f\" % (training_accuracybin)\n",
    "print \"Accuracy on test data:     %0.2f\" % (test_accuracybin)\n",
    "\n"
   ]
  },
  {
   "cell_type": "markdown",
   "metadata": {},
   "source": [
    "##Random Forest"
   ]
  },
  {
   "cell_type": "code",
   "execution_count": 398,
   "metadata": {
    "collapsed": false
   },
   "outputs": [
    {
     "name": "stdout",
     "output_type": "stream",
     "text": [
      "Random Forest with Ranges\n",
      "Accuracy on training data: 0.94\n",
      "RF Accuracy: 58.48%\n",
      "Random Forest Binary Data\n",
      "Accuracy on training data: 0.98\n",
      "RF Accuracy: 76.97%\n"
     ]
    }
   ],
   "source": [
    "#Random Forest\n",
    "rf = RandomForestClassifier(n_estimators=100, min_samples_split=2, n_jobs=-1, class_weight = 'auto').fit(xtrain,ytrain)\n",
    "rf_train_accuracy = rf.score(xtrain, ytrain)\n",
    "print \"Random Forest with Ranges\"\n",
    "print \"Accuracy on training data: %0.2f\" % (rf_train_accuracy)\n",
    "print \"RF Accuracy: %.02f%%\" % (100*rf.score(xtest,ytest))\n",
    "\n",
    "rfbin = RandomForestClassifier(n_estimators=100, min_samples_split=2, n_jobs=-1, class_weight = 'auto').fit(xbintrain,ybintrain)\n",
    "rfbin_train_accuracy = rfbin.score(xbintrain, ybintrain)\n",
    "print \"Random Forest Binary Data\"\n",
    "print \"Accuracy on training data: %0.2f\" % (rfbin_train_accuracy)\n",
    "print \"RF Accuracy: %.02f%%\" % (100*rfbin.score(xbintest,ybintest))"
   ]
  },
  {
   "cell_type": "code",
   "execution_count": 400,
   "metadata": {
    "collapsed": false
   },
   "outputs": [],
   "source": [
    "n_ests = [10, 20, 50, 100, 150, 200]\n",
    "min_dfs = [0,.1,.01,.001,.0001,1]\n",
    "max_depths = [5,10,15,20,25,40,50,70,80,90]\n",
    "\n",
    "#Find the best value for alpha and min_df, and the best classifier\n",
    "best_n_est = 10\n",
    "# n_est = range(best_n_est-5, best_n_est+5)\n",
    "# min_dfs = range(int(best_min_df), int(best_min_df+5.))\n",
    "# max_depths = range(max_depth-5, max_depth+5)\n",
    "\n",
    "# best_n_est = n_est[0]\n",
    "maxscore=-np.inf\n",
    "for max_depth in max_depths:\n",
    "    for n_est in n_ests:  \n",
    "        for min_df in min_dfs:\n",
    "            vectorizer = CountVectorizer(min_df = min_df, encoding = 'latin-1')       \n",
    "            Xthis, ythis = make_xy(critics, vectorizer)\n",
    "            Xtrainthis=Xthis[mask]\n",
    "            ytrainthis=ythis[mask]\n",
    "            #your code here\n",
    "            rf = RandomForestClassifier(n_estimators=n_est,max_depth = max_depth, min_samples_split=2, class_weight = 'auto', n_jobs=-1)\n",
    "            cvscore = cv_score(rf, Xtrainthis, ytrainthis, log_likelihood)\n",
    "\n",
    "            if cvscore > maxscore:\n",
    "                maxscore = cvscore\n",
    "                best_n_est, best_min_df, best_max_depth = n_est, min_df, max_depth"
   ]
  },
  {
   "cell_type": "code",
   "execution_count": 402,
   "metadata": {
    "collapsed": false
   },
   "outputs": [
    {
     "name": "stdout",
     "output_type": "stream",
     "text": [
      "Accuracy on training data: 0.97\n",
      "Accuracy on test 0.60\n"
     ]
    }
   ],
   "source": [
    "vectorizer = CountVectorizer(min_df=best_min_df, encoding = 'latin-1')\n",
    "X, y = make_xy(critics, vectorizer)\n",
    "xtrain=X[mask]\n",
    "ytrain=y[mask]\n",
    "xtest=X[~mask]\n",
    "ytest=y[~mask]\n",
    "\n",
    "best_rf = RandomForestClassifier(n_estimators=best_n_est, min_samples_split=2, n_jobs=-1, class_weight= 'auto').fit(xtrain,ytrain)\n",
    "rf_train_accuracy = best_rf.score(xtrain, ytrain)\n",
    "rf_test_accuracy = best_rf.score(xtest, ytest)\n",
    "\n",
    "print \"Accuracy on training data: %0.2f\" % (rf_train_accuracy)\n",
    "print \"Accuracy on test %0.2f\" % (rf_test_accuracy)"
   ]
  },
  {
   "cell_type": "markdown",
   "metadata": {},
   "source": [
    "#Logistic Regression"
   ]
  },
  {
   "cell_type": "code",
   "execution_count": 403,
   "metadata": {
    "collapsed": false
   },
   "outputs": [
    {
     "name": "stdout",
     "output_type": "stream",
     "text": [
      "Logistic Regression\n",
      "Accuracy on training data: 0.68\n",
      "Logistic Accuracy: 66.52%\n"
     ]
    }
   ],
   "source": [
    "#Logistic Regression\n",
    "logistic = LogisticRegression(penalty=\"l1\", class_weight = 'auto')\n",
    "logistic = logistic.fit(xbintrain, ybintrain)\n",
    "log_train_accuracy = logistic.score(xbintrain,ybintrain)\n",
    "print \"Logistic Regression\"\n",
    "print \"Accuracy on training data: %0.2f\" % (log_train_accuracy)\n",
    "print \"Logistic Accuracy: %.02f%%\" % (100*logistic.score(xbintest,ybintest))"
   ]
  },
  {
   "cell_type": "markdown",
   "metadata": {},
   "source": [
    "#Support Vector Machine"
   ]
  },
  {
   "cell_type": "code",
   "execution_count": 404,
   "metadata": {
    "collapsed": false
   },
   "outputs": [
    {
     "name": "stdout",
     "output_type": "stream",
     "text": [
      "Support Vector Machine\n",
      "Accuracy on training data: 0.56\n",
      "Logistic Accuracy: 55.76%\n"
     ]
    }
   ],
   "source": [
    "from sklearn.svm import SVC\n",
    "clfsvm = SVC(kernel=\"linear\").fit(xtrain, ytrain)\n",
    "svm_accuracy= clfsvm.score(xtest, ytest)\n",
    "print \"Support Vector Machine\"\n",
    "print \"Accuracy on training data: %0.2f\" % (svm_accuracy)\n",
    "print \"Logistic Accuracy: %.02f%%\" % (100*clfsvm.score(xtest,ytest))"
   ]
  },
  {
   "cell_type": "code",
   "execution_count": 405,
   "metadata": {
    "collapsed": false
   },
   "outputs": [],
   "source": [
    "Cs = [.001,.01, .1, 1, 10]\n",
    "min_dfs = [ 1e-4, 1e-3, 1e-1]\n",
    "\n",
    "#Find the best value for alpha and min_df, and the best classifier\n",
    "best_alpha = None\n",
    "best_min_df = None\n",
    "maxscore=-np.inf\n",
    "for c in Cs:\n",
    "    for min_df in min_dfs:         \n",
    "        vectorizer = CountVectorizer(min_df = min_df, encoding = 'latin-1')\n",
    "        Xthis, ythis = make_xyBinary(critics,vectorizer)\n",
    "        Xtrainthis=Xthis[mask]\n",
    "        ytrainthis=ythis[mask]\n",
    "        #your code here\n",
    "        svm = SVC(kernel = 'linear', C=c, probability = True)\n",
    "        cvscore = cv_score(svm, Xtrainthis, ytrainthis, log_likelihood)\n",
    "\n",
    "        if cvscore > maxscore:\n",
    "            maxscore = cvscore\n",
    "            best_c, best_min_df = c, min_df\n",
    "            \n"
   ]
  },
  {
   "cell_type": "code",
   "execution_count": 406,
   "metadata": {
    "collapsed": false
   },
   "outputs": [
    {
     "data": {
      "text/plain": [
       "0.01"
      ]
     },
     "execution_count": 406,
     "metadata": {},
     "output_type": "execute_result"
    }
   ],
   "source": [
    "best_c"
   ]
  },
  {
   "cell_type": "code",
   "execution_count": 407,
   "metadata": {
    "collapsed": false
   },
   "outputs": [
    {
     "name": "stdout",
     "output_type": "stream",
     "text": [
      "Optimized SVM Parameters\n",
      "Accuracy on training data: 0.08\n",
      "Accuracy on test 0.07\n"
     ]
    }
   ],
   "source": [
    "vectorizer = CountVectorizer(min_df=best_min_df, encoding = 'latin-1')\n",
    "X, y = make_xy(critics, vectorizer)\n",
    "xtrain=X[mask]\n",
    "ytrain=y[mask]\n",
    "xtest=X[~mask]\n",
    "ytest=y[~mask]\n",
    "\n",
    "best_svm = SVC(kernel = 'linear', C=best_c, class_weight = 'auto').fit(xtrain,ytrain)\n",
    "svm_train_accuracy = best_svm.score(xtrain, ytrain)\n",
    "svm_test_accuracy = best_svm.score(xtest, ytest)\n",
    "\n",
    "print \"Optimized SVM Parameters\"\n",
    "print \"Accuracy on training data: %0.2f\" % (svm_train_accuracy)\n",
    "print \"Accuracy on test %0.2f\" % (svm_test_accuracy)"
   ]
  },
  {
   "cell_type": "markdown",
   "metadata": {},
   "source": [
    "#Visualization of the Results"
   ]
  },
  {
   "cell_type": "code",
   "execution_count": 408,
   "metadata": {
    "collapsed": true
   },
   "outputs": [],
   "source": [
    "def calibration_plot(clf, xtest, ytest):\n",
    "    prob = clf.predict_proba(xtest)[:, 1]\n",
    "    outcome = ytest\n",
    "    data = pd.DataFrame(dict(prob=prob, outcome=outcome))\n",
    "\n",
    "    #group outcomes into bins of similar probability\n",
    "    bins = np.linspace(0, 1, 20)\n",
    "    cuts = pd.cut(prob, bins)\n",
    "    binwidth = bins[1] - bins[0]\n",
    "    \n",
    "    #freshness ratio and number of examples in each bin\n",
    "    cal = data.groupby(cuts).outcome.agg(['mean', 'count'])\n",
    "    cal['pmid'] = (bins[:-1] + bins[1:]) / 2\n",
    "    cal['sig'] = np.sqrt(cal.pmid * (1 - cal.pmid) / cal['count'])\n",
    "        \n",
    "    #the calibration plot\n",
    "    ax = plt.subplot2grid((3, 1), (0, 0), rowspan=2)\n",
    "    p = plt.errorbar(cal.pmid, cal['mean'], cal['sig'])\n",
    "    plt.plot(cal.pmid, cal.pmid, linestyle='--', lw=1, color='k')\n",
    "    plt.ylabel(\"Empirical P(Fresh)\")\n",
    "    \n",
    "    #the distribution of P(fresh)\n",
    "    ax = plt.subplot2grid((3, 1), (2, 0), sharex=ax)\n",
    "    \n",
    "    plt.bar(left=cal.pmid - binwidth / 2, height=cal['count'],\n",
    "            width=.95 * (bins[1] - bins[0]),\n",
    "            fc=p[0].get_color())\n",
    "    \n",
    "    plt.xlabel(\"Predicted P(Fresh)\")\n",
    "    plt.ylabel(\"Number\")"
   ]
  },
  {
   "cell_type": "code",
   "execution_count": 409,
   "metadata": {
    "collapsed": false
   },
   "outputs": [
    {
     "data": {
      "image/png": "[encoded data removed]",
      "text/plain": [
       "<matplotlib.figure.Figure at 0x1117135d0>"
      ]
     },
     "metadata": {},
     "output_type": "display_data"
    }
   ],
   "source": [
    "calibration_plot(logistic, xbintest, ybintest)"
   ]
  },
  {
   "cell_type": "code",
   "execution_count": 410,
   "metadata": {
    "collapsed": false
   },
   "outputs": [
    {
     "data": {
      "image/png": "[encoded data removed]",
      "text/plain": [
       "<matplotlib.figure.Figure at 0x1029dc3d0>"
      ]
     },
     "metadata": {},
     "output_type": "display_data"
    }
   ],
   "source": [
    "calibration_plot(clfbin, xbintest, ybintest)"
   ]
  },
  {
   "cell_type": "code",
   "execution_count": 411,
   "metadata": {
    "collapsed": false
   },
   "outputs": [
    {
     "data": {
      "image/png": "[encoded data removed]",
      "text/plain": [
       "<matplotlib.figure.Figure at 0x111409f10>"
      ]
     },
     "metadata": {},
     "output_type": "display_data"
    }
   ],
   "source": [
    "calibration_plot(rfbin, xbintest, ybintest)"
   ]
  },
  {
   "cell_type": "markdown",
   "metadata": {
    "collapsed": false
   },
   "source": [
    "#NLTK Sentiment with Naive Bayes Classifier"
   ]
  },
  {
   "cell_type": "code",
   "execution_count": 46,
   "metadata": {
    "collapsed": false
   },
   "outputs": [],
   "source": [
    "reddit = []\n",
    "for row in range(len(critics.body)):\n",
    "    words = critics.iloc[row].body.split()\n",
    "    temp = (words, critics.iloc[row].Answer1)\n",
    "    reddit.append(temp)\n",
    "\n",
    "    "
   ]
  },
  {
   "cell_type": "code",
   "execution_count": 413,
   "metadata": {
    "collapsed": false
   },
   "outputs": [],
   "source": [
    "#http://www.laurentluce.com/posts/twitter-sentiment-analysis-using-python-and-nltk/\n",
    "import nltk\n",
    "def get_words(reddits):\n",
    "    all_words = []\n",
    "    for (a, b) in reddits:\n",
    "        all_words.extend(a)\n",
    "    return all_words\n",
    "\n",
    "def get_word_features(wordlist):\n",
    "    wordlist = nltk.FreqDist(wordlist)\n",
    "    word_features = wordlist.keys()\n",
    "    return word_features\n"
   ]
  },
  {
   "cell_type": "code",
   "execution_count": 414,
   "metadata": {
    "collapsed": false
   },
   "outputs": [],
   "source": [
    "word_features = get_word_features(get_words(reddit))\n",
    "#print word_features"
   ]
  },
  {
   "cell_type": "code",
   "execution_count": 415,
   "metadata": {
    "collapsed": true
   },
   "outputs": [],
   "source": [
    "def extract_features(document):\n",
    "    document_words = set(document)\n",
    "    features = {}\n",
    "    for word in word_features:\n",
    "        features['contains(%s)' % word] = (word in document_words)\n",
    "    return features"
   ]
  },
  {
   "cell_type": "code",
   "execution_count": 416,
   "metadata": {
    "collapsed": false
   },
   "outputs": [],
   "source": [
    "#extract_features(reddit[1])\n",
    "training_set = nltk.classify.apply_features(extract_features, reddit)"
   ]
  },
  {
   "cell_type": "code",
   "execution_count": 425,
   "metadata": {
    "collapsed": false
   },
   "outputs": [],
   "source": [
    "classifier = nltk.NaiveBayesClassifier.train(training_set)"
   ]
  },
  {
   "cell_type": "code",
   "execution_count": 426,
   "metadata": {
    "collapsed": false
   },
   "outputs": [
    {
     "name": "stdout",
     "output_type": "stream",
     "text": [
      "accuracy: 0.755687973998\n",
      "Most Informative Features\n",
      "        contains(great,) = True                2 : 0      =     85.5 : 1.0\n",
      "      contains(awesome.) = True                2 : 0      =     51.3 : 1.0\n",
      "      contains(Spotify.) = True                2 : 0      =     51.3 : 1.0\n",
      "     contains(painfully) = True                2 : 0      =     51.3 : 1.0\n",
      "       contains(Really?) = True                2 : 0      =     51.3 : 1.0\n",
      "       contains(tracker) = True                2 : 0      =     51.3 : 1.0\n",
      "           contains(Has) = True                2 : 0      =     51.3 : 1.0\n",
      "           contains(us,) = True                2 : 0      =     51.3 : 1.0\n",
      "           contains(IMO) = True                2 : 0      =     51.3 : 1.0\n",
      "          contains(far.) = True                2 : 0      =     51.3 : 1.0\n"
     ]
    }
   ],
   "source": [
    "print 'accuracy:', nltk.classify.util.accuracy(classifier, training_set)\n",
    "classifier.show_most_informative_features()"
   ]
  },
  {
   "cell_type": "markdown",
   "metadata": {
    "collapsed": true
   },
   "source": [
    "#Final Predictions"
   ]
  },
  {
   "cell_type": "code",
   "execution_count": 269,
   "metadata": {
    "collapsed": false
   },
   "outputs": [],
   "source": [
    "vectorizer = CountVectorizer(min_df=best_min_df)\n",
    "X, y = make_xyBinary(critics, vectorizer)"
   ]
  },
  {
   "cell_type": "code",
   "execution_count": 297,
   "metadata": {
    "collapsed": false
   },
   "outputs": [],
   "source": [
    "prediction = logistic.predict(Xbin)\n",
    "critics['prediction_binary'] = prediction\n"
   ]
  },
  {
   "cell_type": "code",
   "execution_count": 298,
   "metadata": {
    "collapsed": false
   },
   "outputs": [],
   "source": [
    "critics['prediction'] = prediction*critics['score']"
   ]
  },
  {
   "cell_type": "code",
   "execution_count": 299,
   "metadata": {
    "collapsed": false
   },
   "outputs": [],
   "source": [
    "company = critics.groupby('company').agg({'prediction':np.mean})\n",
    "company2 = critics.groupby('company').agg({'prediction_binary':np.mean})"
   ]
  },
  {
   "cell_type": "code",
   "execution_count": 300,
   "metadata": {
    "collapsed": false
   },
   "outputs": [],
   "source": [
    "grp = critics.groupby('company')"
   ]
  },
  {
   "cell_type": "code",
   "execution_count": 301,
   "metadata": {
    "collapsed": false
   },
   "outputs": [],
   "source": [
    "names = []\n",
    "for a,b in grp:\n",
    "    names.append(a)"
   ]
  },
  {
   "cell_type": "code",
   "execution_count": 302,
   "metadata": {
    "collapsed": true
   },
   "outputs": [],
   "source": [
    "values = []\n",
    "for i in company.values:\n",
    "    values.append(i[0])\n",
    "values2 = []\n",
    "for i in company2.values:\n",
    "    values2.append(i[0])"
   ]
  },
  {
   "cell_type": "code",
   "execution_count": 303,
   "metadata": {
    "collapsed": false
   },
   "outputs": [],
   "source": [
    "final = pd.DataFrame()\n",
    "final['weighted_predict'] = values\n",
    "final['name'] = names\n",
    "final['predict_binary'] = values2"
   ]
  },
  {
   "cell_type": "code",
   "execution_count": 304,
   "metadata": {
    "collapsed": false
   },
   "outputs": [
    {
     "data": {
      "text/html": [
       "<div>\n",
       "<table border=\"1\" class=\"dataframe\">\n",
       "  <thead>\n",
       "    <tr style=\"text-align: right;\">\n",
       "      <th></th>\n",
       "      <th>weighted_predict</th>\n",
       "      <th>name</th>\n",
       "      <th>predict_binary</th>\n",
       "    </tr>\n",
       "  </thead>\n",
       "  <tbody>\n",
       "    <tr>\n",
       "      <th>0</th>\n",
       "      <td>-0.176471</td>\n",
       "      <td>Airbnb</td>\n",
       "      <td>0.117647</td>\n",
       "    </tr>\n",
       "    <tr>\n",
       "      <th>1</th>\n",
       "      <td>-0.246377</td>\n",
       "      <td>Amazon</td>\n",
       "      <td>-0.144928</td>\n",
       "    </tr>\n",
       "    <tr>\n",
       "      <th>2</th>\n",
       "      <td>-1.156124</td>\n",
       "      <td>Apple</td>\n",
       "      <td>-0.067295</td>\n",
       "    </tr>\n",
       "    <tr>\n",
       "      <th>3</th>\n",
       "      <td>1.000000</td>\n",
       "      <td>Asana</td>\n",
       "      <td>1.000000</td>\n",
       "    </tr>\n",
       "    <tr>\n",
       "      <th>4</th>\n",
       "      <td>0.000000</td>\n",
       "      <td>Buzzfeed</td>\n",
       "      <td>-2.000000</td>\n",
       "    </tr>\n",
       "  </tbody>\n",
       "</table>\n",
       "</div>"
      ],
      "text/plain": [
       "   weighted_predict      name  predict_binary\n",
       "0         -0.176471    Airbnb        0.117647\n",
       "1         -0.246377    Amazon       -0.144928\n",
       "2         -1.156124     Apple       -0.067295\n",
       "3          1.000000     Asana        1.000000\n",
       "4          0.000000  Buzzfeed       -2.000000"
      ]
     },
     "execution_count": 304,
     "metadata": {},
     "output_type": "execute_result"
    }
   ],
   "source": [
    "final.head()"
   ]
  },
  {
   "cell_type": "code",
   "execution_count": 305,
   "metadata": {
    "collapsed": true
   },
   "outputs": [],
   "source": [
    "final.to_csv(\"company_with_predictions.csv\")"
   ]
  },
  {
   "cell_type": "markdown",
   "metadata": {},
   "source": [
    "#Predictions with Categories"
   ]
  },
  {
   "cell_type": "code",
   "execution_count": 217,
   "metadata": {
    "collapsed": true
   },
   "outputs": [],
   "source": [
    "vectorizer = CountVectorizer(min_df=best_min_df)\n",
    "X, y = make_xy(critics, vectorizer)"
   ]
  },
  {
   "cell_type": "code",
   "execution_count": 259,
   "metadata": {
    "collapsed": true
   },
   "outputs": [],
   "source": [
    "prediction = best_rf.predict(X)"
   ]
  },
  {
   "cell_type": "code",
   "execution_count": 226,
   "metadata": {
    "collapsed": false
   },
   "outputs": [],
   "source": [
    "critics['prediction_range_range'] = prediction\n"
   ]
  },
  {
   "cell_type": "code",
   "execution_count": 227,
   "metadata": {
    "collapsed": false
   },
   "outputs": [],
   "source": [
    "critics['prediction_range'] = prediction*critics['score']"
   ]
  },
  {
   "cell_type": "code",
   "execution_count": 228,
   "metadata": {
    "collapsed": true
   },
   "outputs": [],
   "source": [
    "company_range = critics.groupby('company').agg({'prediction_range':np.mean})"
   ]
  },
  {
   "cell_type": "code",
   "execution_count": 229,
   "metadata": {
    "collapsed": false
   },
   "outputs": [],
   "source": [
    "weight_values = []\n",
    "for i in company_range.values:\n",
    "    weight_values.append(i[0])"
   ]
  },
  {
   "cell_type": "code",
   "execution_count": 230,
   "metadata": {
    "collapsed": false
   },
   "outputs": [],
   "source": [
    "final_weight = pd.DataFrame()\n",
    "final_weight['weighted_predict_range'] = weight_values\n",
    "final_weight['name'] = names"
   ]
  },
  {
   "cell_type": "code",
   "execution_count": 231,
   "metadata": {
    "collapsed": false
   },
   "outputs": [],
   "source": [
    "final_weight.to_csv(\"company_with_prediction_range.csv\")"
   ]
  },
  {
   "cell_type": "markdown",
   "metadata": {},
   "source": [
    "#Second Model Using Text Characteristics"
   ]
  },
  {
   "cell_type": "code",
   "execution_count": 198,
   "metadata": {
    "collapsed": true
   },
   "outputs": [],
   "source": [
    "import statsmodels.api as sm\n",
    "from statsmodels.formula.api import glm, ols"
   ]
  },
  {
   "cell_type": "code",
   "execution_count": 232,
   "metadata": {
    "collapsed": false
   },
   "outputs": [
    {
     "data": {
      "text/html": [
       "<table class=\"simpletable\">\n",
       "<caption>OLS Regression Results</caption>\n",
       "<tr>\n",
       "  <th>Dep. Variable:</th>         <td>Answer1</td>     <th>  R-squared:         </th> <td>   0.618</td>\n",
       "</tr>\n",
       "<tr>\n",
       "  <th>Model:</th>                   <td>OLS</td>       <th>  Adj. R-squared:    </th> <td>   0.618</td>\n",
       "</tr>\n",
       "<tr>\n",
       "  <th>Method:</th>             <td>Least Squares</td>  <th>  F-statistic:       </th> <td>   993.9</td>\n",
       "</tr>\n",
       "<tr>\n",
       "  <th>Date:</th>             <td>Wed, 09 Dec 2015</td> <th>  Prob (F-statistic):</th>  <td>  0.00</td> \n",
       "</tr>\n",
       "<tr>\n",
       "  <th>Time:</th>                 <td>20:54:49</td>     <th>  Log-Likelihood:    </th> <td> -1053.2</td>\n",
       "</tr>\n",
       "<tr>\n",
       "  <th>No. Observations:</th>      <td>  1846</td>      <th>  AIC:               </th> <td>   2114.</td>\n",
       "</tr>\n",
       "<tr>\n",
       "  <th>Df Residuals:</th>          <td>  1842</td>      <th>  BIC:               </th> <td>   2137.</td>\n",
       "</tr>\n",
       "<tr>\n",
       "  <th>Df Model:</th>              <td>     3</td>      <th>                     </th>     <td> </td>   \n",
       "</tr>\n",
       "<tr>\n",
       "  <th>Covariance Type:</th>      <td>nonrobust</td>    <th>                     </th>     <td> </td>   \n",
       "</tr>\n",
       "</table>\n",
       "<table class=\"simpletable\">\n",
       "<tr>\n",
       "             <td></td>               <th>coef</th>     <th>std err</th>      <th>t</th>      <th>P>|t|</th> <th>[95.0% Conf. Int.]</th> \n",
       "</tr>\n",
       "<tr>\n",
       "  <th>Intercept</th>              <td>    0.0195</td> <td>    0.014</td> <td>    1.429</td> <td> 0.153</td> <td>   -0.007     0.046</td>\n",
       "</tr>\n",
       "<tr>\n",
       "  <th>prediction_range_range</th> <td>    0.9220</td> <td>    0.017</td> <td>   54.029</td> <td> 0.000</td> <td>    0.889     0.955</td>\n",
       "</tr>\n",
       "<tr>\n",
       "  <th>num_word:num_sentence</th>  <td>-2.045e-07</td> <td> 7.53e-06</td> <td>   -0.027</td> <td> 0.978</td> <td> -1.5e-05  1.46e-05</td>\n",
       "</tr>\n",
       "<tr>\n",
       "  <th>num_word</th>               <td>   -0.0001</td> <td>    0.000</td> <td>   -0.318</td> <td> 0.750</td> <td>   -0.001     0.001</td>\n",
       "</tr>\n",
       "</table>\n",
       "<table class=\"simpletable\">\n",
       "<tr>\n",
       "  <th>Omnibus:</th>       <td>309.978</td> <th>  Durbin-Watson:     </th> <td>   1.221</td>\n",
       "</tr>\n",
       "<tr>\n",
       "  <th>Prob(Omnibus):</th> <td> 0.000</td>  <th>  Jarque-Bera (JB):  </th> <td>4617.647</td>\n",
       "</tr>\n",
       "<tr>\n",
       "  <th>Skew:</th>          <td> 0.288</td>  <th>  Prob(JB):          </th> <td>    0.00</td>\n",
       "</tr>\n",
       "<tr>\n",
       "  <th>Kurtosis:</th>      <td>10.727</td>  <th>  Cond. No.          </th> <td>3.91e+03</td>\n",
       "</tr>\n",
       "</table>"
      ],
      "text/plain": [
       "<class 'statsmodels.iolib.summary.Summary'>\n",
       "\"\"\"\n",
       "                            OLS Regression Results                            \n",
       "==============================================================================\n",
       "Dep. Variable:                Answer1   R-squared:                       0.618\n",
       "Model:                            OLS   Adj. R-squared:                  0.618\n",
       "Method:                 Least Squares   F-statistic:                     993.9\n",
       "Date:                Wed, 09 Dec 2015   Prob (F-statistic):               0.00\n",
       "Time:                        20:54:49   Log-Likelihood:                -1053.2\n",
       "No. Observations:                1846   AIC:                             2114.\n",
       "Df Residuals:                    1842   BIC:                             2137.\n",
       "Df Model:                           3                                         \n",
       "Covariance Type:            nonrobust                                         \n",
       "==========================================================================================\n",
       "                             coef    std err          t      P>|t|      [95.0% Conf. Int.]\n",
       "------------------------------------------------------------------------------------------\n",
       "Intercept                  0.0195      0.014      1.429      0.153        -0.007     0.046\n",
       "prediction_range_range     0.9220      0.017     54.029      0.000         0.889     0.955\n",
       "num_word:num_sentence  -2.045e-07   7.53e-06     -0.027      0.978      -1.5e-05  1.46e-05\n",
       "num_word                  -0.0001      0.000     -0.318      0.750        -0.001     0.001\n",
       "==============================================================================\n",
       "Omnibus:                      309.978   Durbin-Watson:                   1.221\n",
       "Prob(Omnibus):                  0.000   Jarque-Bera (JB):             4617.647\n",
       "Skew:                           0.288   Prob(JB):                         0.00\n",
       "Kurtosis:                      10.727   Cond. No.                     3.91e+03\n",
       "==============================================================================\n",
       "\n",
       "Warnings:\n",
       "[1] Standard Errors assume that the covariance matrix of the errors is correctly specified.\n",
       "[2] The condition number is large, 3.91e+03. This might indicate that there are\n",
       "strong multicollinearity or other numerical problems.\n",
       "\"\"\""
      ]
     },
     "execution_count": 232,
     "metadata": {},
     "output_type": "execute_result"
    }
   ],
   "source": [
    "ols_model = ols('Answer1 ~prediction_range_range + num_word:num_sentence + num_word ', critics).fit()\n",
    "ols_model.summary()"
   ]
  },
  {
   "cell_type": "code",
   "execution_count": 233,
   "metadata": {
    "collapsed": false
   },
   "outputs": [],
   "source": [
    "y = ols_model.predict(critics)"
   ]
  },
  {
   "cell_type": "code",
   "execution_count": 236,
   "metadata": {
    "collapsed": true
   },
   "outputs": [],
   "source": [
    "critics['prediction_range'] = y*critics['score']\n",
    "critics['range'] = y\n",
    "\n",
    "company_range = critics.groupby('company').agg({'prediction_range':np.mean})\n",
    "company_range2 = critics.groupby('company').agg({'range':np.mean})\n",
    "weight_values = []\n",
    "for i in company_range.values:\n",
    "    weight_values.append(i[0])\n",
    "    \n",
    "weight = []\n",
    "for i in company_range2.values:\n",
    "    weight.append(i[0])\n",
    "final_weight = pd.DataFrame()\n",
    "final_weight['weighted_predict_range'] = weight_values\n",
    "final_weight['name'] = names\n",
    "final_weight['predict_range'] = weight\n",
    "final_weight.to_csv(\"company_with_prediction_range.csv\")"
   ]
  },
  {
   "cell_type": "code",
   "execution_count": 309,
   "metadata": {
    "collapsed": false
   },
   "outputs": [
    {
     "data": {
      "text/html": [
       "<table class=\"simpletable\">\n",
       "<caption>OLS Regression Results</caption>\n",
       "<tr>\n",
       "  <th>Dep. Variable:</th>         <td>Answer1</td>     <th>  R-squared:         </th> <td>   0.013</td>\n",
       "</tr>\n",
       "<tr>\n",
       "  <th>Model:</th>                   <td>OLS</td>       <th>  Adj. R-squared:    </th> <td>   0.012</td>\n",
       "</tr>\n",
       "<tr>\n",
       "  <th>Method:</th>             <td>Least Squares</td>  <th>  F-statistic:       </th> <td>   8.228</td>\n",
       "</tr>\n",
       "<tr>\n",
       "  <th>Date:</th>             <td>Wed, 09 Dec 2015</td> <th>  Prob (F-statistic):</th> <td>1.94e-05</td>\n",
       "</tr>\n",
       "<tr>\n",
       "  <th>Time:</th>                 <td>22:48:56</td>     <th>  Log-Likelihood:    </th> <td> -1929.5</td>\n",
       "</tr>\n",
       "<tr>\n",
       "  <th>No. Observations:</th>      <td>  1846</td>      <th>  AIC:               </th> <td>   3867.</td>\n",
       "</tr>\n",
       "<tr>\n",
       "  <th>Df Residuals:</th>          <td>  1842</td>      <th>  BIC:               </th> <td>   3889.</td>\n",
       "</tr>\n",
       "<tr>\n",
       "  <th>Df Model:</th>              <td>     3</td>      <th>                     </th>     <td> </td>   \n",
       "</tr>\n",
       "<tr>\n",
       "  <th>Covariance Type:</th>      <td>nonrobust</td>    <th>                     </th>     <td> </td>   \n",
       "</tr>\n",
       "</table>\n",
       "<table class=\"simpletable\">\n",
       "<tr>\n",
       "            <td></td>               <th>coef</th>     <th>std err</th>      <th>t</th>      <th>P>|t|</th> <th>[95.0% Conf. Int.]</th> \n",
       "</tr>\n",
       "<tr>\n",
       "  <th>Intercept</th>             <td>    0.0231</td> <td>    0.022</td> <td>    1.052</td> <td> 0.293</td> <td>   -0.020     0.066</td>\n",
       "</tr>\n",
       "<tr>\n",
       "  <th>prediction</th>            <td>   -0.0008</td> <td>    0.001</td> <td>   -0.664</td> <td> 0.507</td> <td>   -0.003     0.002</td>\n",
       "</tr>\n",
       "<tr>\n",
       "  <th>num_word:num_sentence</th> <td> 2.457e-05</td> <td> 1.21e-05</td> <td>    2.028</td> <td> 0.043</td> <td> 8.05e-07  4.83e-05</td>\n",
       "</tr>\n",
       "<tr>\n",
       "  <th>num_word</th>              <td>   -0.0026</td> <td>    0.001</td> <td>   -4.299</td> <td> 0.000</td> <td>   -0.004    -0.001</td>\n",
       "</tr>\n",
       "</table>\n",
       "<table class=\"simpletable\">\n",
       "<tr>\n",
       "  <th>Omnibus:</th>       <td>21.507</td> <th>  Durbin-Watson:     </th> <td>   0.034</td>\n",
       "</tr>\n",
       "<tr>\n",
       "  <th>Prob(Omnibus):</th> <td> 0.000</td> <th>  Jarque-Bera (JB):  </th> <td>  35.564</td>\n",
       "</tr>\n",
       "<tr>\n",
       "  <th>Skew:</th>          <td>-0.025</td> <th>  Prob(JB):          </th> <td>1.89e-08</td>\n",
       "</tr>\n",
       "<tr>\n",
       "  <th>Kurtosis:</th>      <td> 3.678</td> <th>  Cond. No.          </th> <td>3.14e+03</td>\n",
       "</tr>\n",
       "</table>"
      ],
      "text/plain": [
       "<class 'statsmodels.iolib.summary.Summary'>\n",
       "\"\"\"\n",
       "                            OLS Regression Results                            \n",
       "==============================================================================\n",
       "Dep. Variable:                Answer1   R-squared:                       0.013\n",
       "Model:                            OLS   Adj. R-squared:                  0.012\n",
       "Method:                 Least Squares   F-statistic:                     8.228\n",
       "Date:                Wed, 09 Dec 2015   Prob (F-statistic):           1.94e-05\n",
       "Time:                        22:48:56   Log-Likelihood:                -1929.5\n",
       "No. Observations:                1846   AIC:                             3867.\n",
       "Df Residuals:                    1842   BIC:                             3889.\n",
       "Df Model:                           3                                         \n",
       "Covariance Type:            nonrobust                                         \n",
       "=========================================================================================\n",
       "                            coef    std err          t      P>|t|      [95.0% Conf. Int.]\n",
       "-----------------------------------------------------------------------------------------\n",
       "Intercept                 0.0231      0.022      1.052      0.293        -0.020     0.066\n",
       "prediction               -0.0008      0.001     -0.664      0.507        -0.003     0.002\n",
       "num_word:num_sentence  2.457e-05   1.21e-05      2.028      0.043      8.05e-07  4.83e-05\n",
       "num_word                 -0.0026      0.001     -4.299      0.000        -0.004    -0.001\n",
       "==============================================================================\n",
       "Omnibus:                       21.507   Durbin-Watson:                   0.034\n",
       "Prob(Omnibus):                  0.000   Jarque-Bera (JB):               35.564\n",
       "Skew:                          -0.025   Prob(JB):                     1.89e-08\n",
       "Kurtosis:                       3.678   Cond. No.                     3.14e+03\n",
       "==============================================================================\n",
       "\n",
       "Warnings:\n",
       "[1] Standard Errors assume that the covariance matrix of the errors is correctly specified.\n",
       "[2] The condition number is large, 3.14e+03. This might indicate that there are\n",
       "strong multicollinearity or other numerical problems.\n",
       "\"\"\""
      ]
     },
     "execution_count": 309,
     "metadata": {},
     "output_type": "execute_result"
    }
   ],
   "source": [
    "ols_model = ols('Answer1 ~prediction+ num_word:num_sentence + num_word ', critics).fit()\n",
    "ols_model.summary()"
   ]
  },
  {
   "cell_type": "code",
   "execution_count": 310,
   "metadata": {
    "collapsed": false
   },
   "outputs": [
    {
     "data": {
      "text/plain": [
       "array([ 2,  2,  2,  2,  2,  1,  1,  1,  1,  1,  1,  1,  1,  1,  1,  1,  1,\n",
       "        1,  1,  1,  1,  1,  1,  1,  1,  1,  1,  1,  1,  1,  1,  1,  1,  1,\n",
       "        1,  1,  1,  1,  1,  1,  1,  1,  1,  1,  1,  1,  1,  1,  1,  1,  1,\n",
       "        1,  1,  1,  1,  1,  1,  1,  1,  1,  1,  1,  1,  1,  1,  1,  1,  1,\n",
       "        1,  1,  1,  1,  1,  1,  1,  1,  1,  1,  1,  1,  1,  1,  1,  1,  1,\n",
       "        1,  1,  1,  1,  1,  1,  1,  1,  1,  1,  1,  1,  1,  1,  1,  1,  1,\n",
       "        0,  0,  0,  0,  0,  0,  0,  0,  0,  0,  0,  0,  0,  0,  0,  0,  0,\n",
       "        0,  0,  0,  0,  0,  0,  0,  0,  0,  0,  0,  0,  0,  0,  0,  0,  0,\n",
       "        0,  0,  0,  0,  0,  0,  0,  0,  0,  0,  0,  0,  0,  0,  0,  0,  0,\n",
       "        0,  0,  0,  0,  0,  0,  0,  0,  0,  0,  0,  0,  0,  0,  0,  0,  0,\n",
       "        0,  0,  0,  0,  0,  0,  0,  0,  0,  0,  0,  0,  0,  0,  0,  0,  0,\n",
       "        0,  0,  0,  0,  0,  0,  0,  0,  0,  0,  0,  0,  0,  0,  0,  0,  0,\n",
       "        0,  0,  0,  0,  0,  0,  0,  0,  0,  0,  0,  0,  0,  0,  0,  0,  0,\n",
       "        0,  0,  0,  0,  0,  0,  0,  0,  0,  0,  0,  0,  0,  0,  0,  0,  0,\n",
       "        0,  0,  0,  0,  0,  0,  0,  0,  0,  0,  0,  0,  0,  0,  0,  0,  0,\n",
       "        0,  0,  0,  0,  0,  0,  0,  0,  0,  0,  0,  0,  0,  0,  0,  0,  0,\n",
       "        0,  0,  0,  0,  0,  0,  0,  0,  0,  0,  0,  0,  0,  0,  0,  0,  0,\n",
       "        0,  0,  0,  0,  0,  0,  0,  0,  0,  0,  0,  0,  0,  0,  0,  0,  0,\n",
       "        0,  0,  0,  0,  0,  0,  0,  0,  0,  0,  0,  0,  0,  0,  0,  0,  0,\n",
       "        0,  0,  0,  0,  0,  0,  0,  0,  0,  0,  0,  0,  0,  0,  0,  0,  0,\n",
       "        0,  0,  0,  0,  0,  0,  0,  0,  0,  0,  0,  0,  0,  0,  0,  0,  0,\n",
       "        0,  0,  0,  0,  0,  0,  0,  0,  0,  0,  0,  0,  0,  0,  0,  0,  0,\n",
       "        0,  0,  0,  0,  0,  0,  0,  0,  0,  0,  0,  0,  0,  0,  0,  0,  0,\n",
       "        0,  0,  0,  0,  0,  0,  0,  0,  0,  0,  0,  0,  0,  0,  0,  0,  0,\n",
       "        0,  0,  0,  0,  0,  0,  0,  0,  0,  0,  0,  0,  0,  0,  0,  0,  0,\n",
       "        0,  0,  0,  0,  0,  0,  0,  0,  0,  0,  0,  0,  0,  0,  0,  0,  0,\n",
       "        0,  0,  0,  0, -2, -2, -2, -2, -2, -2, -2, -2, -2, -2, -1, -1, -1,\n",
       "       -1, -1, -1, -1, -1, -1, -1, -1, -1, -1, -1, -1, -1, -1, -1, -1, -1,\n",
       "       -1, -1, -1, -1, -1, -1, -1, -1, -1, -1, -1, -1, -1, -1, -1, -1, -1,\n",
       "       -1, -1, -1, -1, -1, -1, -1, -1, -1, -1, -1, -1, -1, -1, -1, -1, -1,\n",
       "       -1, -1, -1, -1, -1, -1, -1, -1, -1, -1, -1, -1, -1, -1, -1, -1, -1,\n",
       "       -1, -1, -1, -1, -1, -1, -1, -1, -1, -1, -1, -1, -1, -1, -1, -1, -1,\n",
       "       -1, -1, -1, -1, -1, -1, -1, -1, -1, -1])"
      ]
     },
     "execution_count": 310,
     "metadata": {},
     "output_type": "execute_result"
    }
   ],
   "source": [
    "ybintest"
   ]
  },
  {
   "cell_type": "code",
   "execution_count": null,
   "metadata": {
    "collapsed": true
   },
   "outputs": [],
   "source": []
  }
 ],
 "metadata": {
  "kernelspec": {
   "display_name": "Python 2",
   "language": "python",
   "name": "python2"
  },
  "language_info": {
   "codemirror_mode": {
    "name": "ipython",
    "version": 2
   },
   "file_extension": ".py",
   "mimetype": "text/x-python",
   "name": "python",
   "nbconvert_exporter": "python",
   "pygments_lexer": "ipython2",
   "version": "2.7.10"
  }
 },
 "nbformat": 4,
 "nbformat_minor": 0
}
