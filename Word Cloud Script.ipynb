{
 "cells": [
  {
   "cell_type": "code",
   "execution_count": 2,
   "metadata": {
    "collapsed": false
   },
   "outputs": [],
   "source": [
    "%matplotlib inline\n",
    "import pandas as pd\n",
    "from os import path\n",
    "from PIL import Image\n",
    "import numpy as np\n",
    "import matplotlib.pyplot as plt\n",
    "from sklearn.feature_extraction.text import CountVectorizer\n",
    "from wordcloud import WordCloud, STOPWORDS\n",
    "import wordcloud\n",
    "import ImageDraw\n",
    "import ImageFont\n",
    "from PIL import Image\n",
    "from PIL import ImageDraw\n",
    "from PIL import ImageFont\n",
    "import os\n",
    "import re\n",
    "from collections import Counter"
   ]
  },
  {
   "cell_type": "code",
   "execution_count": 25,
   "metadata": {
    "collapsed": false
   },
   "outputs": [],
   "source": [
    "reddit = pd.read_csv(\"comments1_with_sentiments.csv\")                                                                           \n",
    "\n",
    "#source is https://github.com/amueller/word_cloud/blob/master/examples/masked.py\n",
    "def make_wordcloud(company):\n",
    "    filtered = reddit[reddit['company']==company]\n",
    "    txt = ''.join(filtered.body)\n",
    "    cv = CountVectorizer(min_df=0, stop_words=\"english\", max_features=200)\n",
    "    counts = cv.fit_transform([txt]).toarray().ravel()                                                  \n",
    "    words = np.array(cv.get_feature_names()) \n",
    "    counts = counts / float(counts.max())\n",
    "    img_grey = Image.new(\"L\", (30, 30))\n",
    "    draw = ImageDraw.Draw(img_grey)\n",
    "    wc = WordCloud(background_color=\"black\", max_words=2000,stopwords=STOPWORDS.add(\"said\"))\n",
    "    wc.generate(txt)\n",
    "    wc.to_file(\"\"+str(company)+'.png')"
   ]
  },
  {
   "cell_type": "code",
   "execution_count": 26,
   "metadata": {
    "collapsed": false
   },
   "outputs": [],
   "source": [
    "company = pd.read_csv(\"companies.csv\")"
   ]
  },
  {
   "cell_type": "code",
   "execution_count": 27,
   "metadata": {
    "collapsed": false
   },
   "outputs": [],
   "source": [
    "\n",
    "for i in company.values:\n",
    "    try:\n",
    "        make_wordcloud(str(i[0]))\n",
    "    except:\n",
    "        pass"
   ]
  },
  {
   "cell_type": "code",
   "execution_count": null,
   "metadata": {
    "collapsed": false
   },
   "outputs": [],
   "source": []
  },
  {
   "cell_type": "code",
   "execution_count": null,
   "metadata": {
    "collapsed": false
   },
   "outputs": [],
   "source": []
  },
  {
   "cell_type": "code",
   "execution_count": null,
   "metadata": {
    "collapsed": true
   },
   "outputs": [],
   "source": []
  }
 ],
 "metadata": {
  "kernelspec": {
   "display_name": "Python 2",
   "language": "python",
   "name": "python2"
  },
  "language_info": {
   "codemirror_mode": {
    "name": "ipython",
    "version": 2
   },
   "file_extension": ".py",
   "mimetype": "text/x-python",
   "name": "python",
   "nbconvert_exporter": "python",
   "pygments_lexer": "ipython2",
   "version": "2.7.10"
  }
 },
 "nbformat": 4,
 "nbformat_minor": 0
}
