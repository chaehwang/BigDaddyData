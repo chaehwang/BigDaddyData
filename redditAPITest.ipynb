{
 "cells": [
  {
   "cell_type": "code",
   "execution_count": 1,
   "metadata": {
    "collapsed": false
   },
   "outputs": [],
   "source": [
    "import requests\n",
    "from bs4 import BeautifulSoup\n",
    "\n",
    "headers = {\n",
    "    'User-Agent': 'desktop:com.startupsentimentanalysis:v0.0.1 (by  /u/all_clear)'\n",
    "}\n"
   ]
  },
  {
   "cell_type": "code",
   "execution_count": 2,
   "metadata": {
    "collapsed": true
   },
   "outputs": [],
   "source": [
    "r = requests.get('http://www.reddit.com/r/tech/search?q=\"microsoft\"', headers=headers)"
   ]
  },
  {
   "cell_type": "code",
   "execution_count": 3,
   "metadata": {
    "collapsed": false
   },
   "outputs": [],
   "source": [
    "soup = BeautifulSoup(r.text)"
   ]
  },
  {
   "cell_type": "code",
   "execution_count": 1,
   "metadata": {
    "collapsed": false
   },
   "outputs": [],
   "source": [
    "#soup"
   ]
  },
  {
   "cell_type": "code",
   "execution_count": 5,
   "metadata": {
    "collapsed": false
   },
   "outputs": [],
   "source": [
    "# searchPosts is a list that'll contain the links of actual relevant posts\n",
    "searchPosts = []\n",
    "\n",
    "for link in soup.find_all('a', ['search-title', 'may-blank']):\n",
    "     if (link['href'][-16:] == \"ref=search_posts\") and (link.text[-8:] != \"comments\") and (link['href'][:4] == \"http\"):\n",
    "            searchPosts.append(link)\n"
   ]
  },
  {
   "cell_type": "code",
   "execution_count": 6,
   "metadata": {
    "collapsed": false
   },
   "outputs": [
    {
     "name": "stdout",
     "output_type": "stream",
     "text": [
      "https://www.reddit.com/r/technology/comments/2wpzbm/the_superfish_problem_is_microsofts_opportunity/?ref=search_posts\n",
      "https://www.reddit.com/r/explainlikeimfive/comments/39q25f/eli5_apple_is_forcing_every_iphone_to_have/?ref=search_posts\n",
      "https://www.reddit.com/r/Minecraft/comments/2ggf7s/mega_thread_microsoft_has_acquired_mojang/?ref=search_posts\n",
      "https://www.reddit.com/r/IAmA/comments/3rid26/we_are_the_microsoft_excel_team_ask_us_anything/?ref=search_posts\n",
      "https://www.reddit.com/r/IAmA/comments/16i543/iama_a_microsoft_employee_who_has_worked_on/?ref=search_posts\n",
      "https://www.reddit.com/r/Games/comments/27pdp8/official_rgames_microsoft_2014_e3_conference/?ref=search_posts\n",
      "https://www.reddit.com/r/gaming/comments/1fwby3/considering_the_last_thread_was_mysteriously/?ref=search_posts\n",
      "https://www.reddit.com/r/gaming/comments/1g4765/dear_microsoft_gamers_made_the_xbox_360_arguably/?ref=search_posts\n",
      "https://www.reddit.com/r/sysadmin/comments/2h8nbu/microsoft_certified_exams_can_now_be_taken_online/?ref=search_posts\n",
      "https://www.reddit.com/r/politics/comments/z14wb/obamas_top_5_contributors_are_the_university_of/?ref=search_posts\n",
      "https://www.reddit.com/r/microsoft/comments/2yrjpc/i_didnt_care_for_microsoft_as_a_business_that_is/?ref=search_posts\n",
      "https://www.reddit.com/r/IAmA/comments/1mz20e/hi_im_panos_panay_corporate_vp_of_surface_at/?ref=search_posts\n",
      "https://www.reddit.com/r/Games/comments/1g1vo2/official_rgames_microsoft_e3_conference_thread/?ref=search_posts\n",
      "https://www.reddit.com/r/xboxone/comments/3dp85z/wow_microsoft_and_xbox_really_pulled_through/?ref=search_posts\n",
      "https://www.reddit.com/r/IAmA/comments/11kyja/iam_panos_panay_gm_of_microsoft_surface_amaa_ask/?ref=search_posts\n",
      "https://www.reddit.com/r/YouShouldKnow/comments/3svxp5/ysk_how_to_recover_an_unsaved_draft_on_microsoft/?ref=search_posts\n",
      "https://www.reddit.com/r/SubredditDrama/comments/2ggtro/microsoft_buys_minecraft_the_gaming_community/?ref=search_posts\n",
      "https://www.reddit.com/r/Frugal/comments/1xbghm/website_dedicated_to_free_tutorials_covering/?ref=search_posts\n",
      "https://www.reddit.com/r/microsoft/comments/3np2du/microsoft_surface_is_the_most_innovative_and_well/?ref=search_posts\n",
      "https://www.reddit.com/r/microsoft/comments/rsbb2/reddit_thoughts_why_the_microsoft_hate/?ref=search_posts\n",
      "https://www.reddit.com/r/technology/comments/97tqu/microsoft_wins_again_arrghh/?ref=search_posts\n"
     ]
    }
   ],
   "source": [
    "for link in searchPosts:\n",
    "    print link['href']"
   ]
  },
  {
   "cell_type": "code",
   "execution_count": 1,
   "metadata": {
    "collapsed": false
   },
   "outputs": [],
   "source": [
    "import praw\n",
    "# r = praw.Reddit(user_agent='my_cool_application')\n",
    "# #submissions = r.get_subreddit('Microsoft').get_top(limit=5)\n",
    "# #hello = [str(x) for x in submissions]"
   ]
  },
  {
   "cell_type": "code",
   "execution_count": 2,
   "metadata": {
    "collapsed": false
   },
   "outputs": [],
   "source": [
    "# pd.DataFrame(hello).to_csv(\"test.csv\")"
   ]
  },
  {
   "cell_type": "code",
   "execution_count": 3,
   "metadata": {
    "collapsed": true
   },
   "outputs": [],
   "source": [
    "import pandas as pd"
   ]
  },
  {
   "cell_type": "code",
   "execution_count": 84,
   "metadata": {
    "collapsed": false
   },
   "outputs": [],
   "source": [
    "# import time\n",
    "\n",
    "# # import praw\n",
    "\n",
    "# r = praw.Reddit('PRAW related-question monitor by u/_Daimon_ v 1.0.'\n",
    "#                 'Url: https://praw.readthedocs.org/en/latest/'\n",
    "#                 'pages/writing_a_bot.html')\n",
    "# r.login()\n",
    "# already_done = []\n",
    "\n",
    "# prawWords = ['praw', 'reddit_api', 'mellort']\n",
    "\n",
    "# subreddit = r.get_subreddit('learnpython')\n",
    "# for submission in subreddit.get_hot(limit=10):\n",
    "#     op_text = submission.selftext.lower()\n",
    "#     has_praw = any(string in op_text for string in prawWords)\n",
    "#     # Test if it contains a PRAW-related question\n",
    "#     if submission.id not in already_done and has_praw:\n",
    "#         msg = '[PRAW related thread](%s)' % submission.short_link\n",
    "#         r.send_message('_Daimon_', 'PRAW Thread', msg)\n",
    "#         already_done.append(submission.id)\n"
   ]
  },
  {
   "cell_type": "code",
   "execution_count": 5,
   "metadata": {
    "collapsed": false
   },
   "outputs": [],
   "source": [
    "companies = pd.read_csv(\"companies.csv\")\n"
   ]
  },
  {
   "cell_type": "code",
   "execution_count": 6,
   "metadata": {
    "collapsed": false
   },
   "outputs": [
    {
     "name": "stdout",
     "output_type": "stream",
     "text": [
      "['Aetna']\n",
      "['Zocdoc']\n",
      "['Oscar_Health']\n",
      "['Chartboost']\n",
      "['Wayfair']\n",
      "['Grubhub']\n",
      "['AppNexus']\n",
      "['Rivot']\n",
      "['EA']\n"
     ]
    }
   ],
   "source": [
    "import time\n",
    "body = []\n",
    "score = []\n",
    "company = []\n",
    "link = []\n",
    "date = []\n",
    "title = []\n",
    "\n",
    "for i in companies.values:\n",
    "    try:\n",
    "        r = praw.Reddit('Comment parser example by u/_Daimon_')\n",
    "        subreddit = r.get_subreddit(i[0]).get_top(limit = 40)\n",
    "        for k in subreddit:\n",
    "            temp = str(k)\n",
    "            try:\n",
    "                comments = praw.helpers.flatten_tree(k.comments)\n",
    "                #comments = k.get_comments()\n",
    "                for j in comments:\n",
    "                    body.append(j.body)\n",
    "                    score.append(j.score)\n",
    "                    company.append(i[0])\n",
    "                    link.append(j.permalink)\n",
    "                    date.append(j.created_utc)\n",
    "                    title.append(temp)\n",
    "            except:\n",
    "                pass\n",
    "\n",
    "    except:\n",
    "        print i\n",
    "        pass      \n"
   ]
  },
  {
   "cell_type": "code",
   "execution_count": 7,
   "metadata": {
    "collapsed": false
   },
   "outputs": [],
   "source": [
    "\n",
    "temp = pd.DataFrame({'body':body, 'score':score, 'company':company, 'link':link, 'date':date, 'title':title})"
   ]
  },
  {
   "cell_type": "code",
   "execution_count": 8,
   "metadata": {
    "collapsed": false
   },
   "outputs": [
    {
     "data": {
      "text/html": [
       "<div>\n",
       "<table border=\"1\" class=\"dataframe\">\n",
       "  <thead>\n",
       "    <tr style=\"text-align: right;\">\n",
       "      <th></th>\n",
       "      <th>body</th>\n",
       "      <th>company</th>\n",
       "      <th>date</th>\n",
       "      <th>link</th>\n",
       "      <th>score</th>\n",
       "      <th>title</th>\n",
       "    </tr>\n",
       "  </thead>\n",
       "  <tbody>\n",
       "    <tr>\n",
       "      <th>0</th>\n",
       "      <td>+1 for a Google Now web page. Hell, the chrome...</td>\n",
       "      <td>Google</td>\n",
       "      <td>1449094902</td>\n",
       "      <td>https://www.reddit.com/r/google/comments/3v6xf...</td>\n",
       "      <td>148</td>\n",
       "      <td>311 :: [The Verge] Google removes Chrome's not...</td>\n",
       "    </tr>\n",
       "    <tr>\n",
       "      <th>1</th>\n",
       "      <td>Honestly whenever I see a browser suggestion t...</td>\n",
       "      <td>Google</td>\n",
       "      <td>1449143574</td>\n",
       "      <td>https://www.reddit.com/r/google/comments/3v6xf...</td>\n",
       "      <td>9</td>\n",
       "      <td>311 :: [The Verge] Google removes Chrome's not...</td>\n",
       "    </tr>\n",
       "    <tr>\n",
       "      <th>2</th>\n",
       "      <td>Seriously, it's annoying how there isn't even ...</td>\n",
       "      <td>Google</td>\n",
       "      <td>1449104391</td>\n",
       "      <td>https://www.reddit.com/r/google/comments/3v6xf...</td>\n",
       "      <td>33</td>\n",
       "      <td>311 :: [The Verge] Google removes Chrome's not...</td>\n",
       "    </tr>\n",
       "    <tr>\n",
       "      <th>3</th>\n",
       "      <td>I think google should do something more akin t...</td>\n",
       "      <td>Google</td>\n",
       "      <td>1449100615</td>\n",
       "      <td>https://www.reddit.com/r/google/comments/3v6xf...</td>\n",
       "      <td>21</td>\n",
       "      <td>311 :: [The Verge] Google removes Chrome's not...</td>\n",
       "    </tr>\n",
       "    <tr>\n",
       "      <th>4</th>\n",
       "      <td>Dude I've been waiting for Google to either bu...</td>\n",
       "      <td>Google</td>\n",
       "      <td>1449148178</td>\n",
       "      <td>https://www.reddit.com/r/google/comments/3v6xf...</td>\n",
       "      <td>1</td>\n",
       "      <td>311 :: [The Verge] Google removes Chrome's not...</td>\n",
       "    </tr>\n",
       "  </tbody>\n",
       "</table>\n",
       "</div>"
      ],
      "text/plain": [
       "                                                body company        date  \\\n",
       "0  +1 for a Google Now web page. Hell, the chrome...  Google  1449094902   \n",
       "1  Honestly whenever I see a browser suggestion t...  Google  1449143574   \n",
       "2  Seriously, it's annoying how there isn't even ...  Google  1449104391   \n",
       "3  I think google should do something more akin t...  Google  1449100615   \n",
       "4  Dude I've been waiting for Google to either bu...  Google  1449148178   \n",
       "\n",
       "                                                link  score  \\\n",
       "0  https://www.reddit.com/r/google/comments/3v6xf...    148   \n",
       "1  https://www.reddit.com/r/google/comments/3v6xf...      9   \n",
       "2  https://www.reddit.com/r/google/comments/3v6xf...     33   \n",
       "3  https://www.reddit.com/r/google/comments/3v6xf...     21   \n",
       "4  https://www.reddit.com/r/google/comments/3v6xf...      1   \n",
       "\n",
       "                                               title  \n",
       "0  311 :: [The Verge] Google removes Chrome's not...  \n",
       "1  311 :: [The Verge] Google removes Chrome's not...  \n",
       "2  311 :: [The Verge] Google removes Chrome's not...  \n",
       "3  311 :: [The Verge] Google removes Chrome's not...  \n",
       "4  311 :: [The Verge] Google removes Chrome's not...  "
      ]
     },
     "execution_count": 8,
     "metadata": {},
     "output_type": "execute_result"
    }
   ],
   "source": [
    "temp.head()"
   ]
  },
  {
   "cell_type": "code",
   "execution_count": 9,
   "metadata": {
    "collapsed": false
   },
   "outputs": [],
   "source": [
    "temp.to_csv(\"comments.csv\",  encoding='utf-8')"
   ]
  },
  {
   "cell_type": "code",
   "execution_count": 10,
   "metadata": {
    "collapsed": false
   },
   "outputs": [
    {
     "data": {
      "text/plain": [
       "(1595, 6)"
      ]
     },
     "execution_count": 10,
     "metadata": {},
     "output_type": "execute_result"
    }
   ],
   "source": [
    "temp.shape"
   ]
  },
  {
   "cell_type": "code",
   "execution_count": 31,
   "metadata": {
    "collapsed": false
   },
   "outputs": [
    {
     "data": {
      "text/plain": [
       "[1448818019.0,\n",
       " 1448845153.0,\n",
       " 1448848087.0,\n",
       " 1446516331.0,\n",
       " 1448808460.0,\n",
       " 1448826762.0,\n",
       " 1448830705.0,\n",
       " 1448854815.0,\n",
       " 1448863048.0,\n",
       " 1448857247.0,\n",
       " 1440360648.0,\n",
       " 1446228776.0,\n",
       " 1448861997.0,\n",
       " 1448851771.0,\n",
       " 1448858608.0,\n",
       " 1446431634.0,\n",
       " 1448832231.0,\n",
       " 1428961518.0,\n",
       " 1445325198.0,\n",
       " 1448847086.0,\n",
       " 1448837543.0,\n",
       " 1448815562.0,\n",
       " 1448756386.0,\n",
       " 1448110723.0,\n",
       " 1447728241.0]"
      ]
     },
     "execution_count": 31,
     "metadata": {},
     "output_type": "execute_result"
    }
   ],
   "source": [
    "date"
   ]
  },
  {
   "cell_type": "code",
   "execution_count": 40,
   "metadata": {
    "collapsed": false
   },
   "outputs": [
    {
     "data": {
      "text/plain": [
       "[<praw.objects.Submission at 0x10b00e5d0>,\n",
       " <praw.objects.Submission at 0x10b00efd0>,\n",
       " <praw.objects.Submission at 0x10b00eb10>,\n",
       " <praw.objects.Submission at 0x10a5ef550>,\n",
       " <praw.objects.Submission at 0x10a5efb90>,\n",
       " <praw.objects.Submission at 0x10a5eff50>,\n",
       " <praw.objects.Submission at 0x10b015d90>,\n",
       " <praw.objects.Submission at 0x10b0bfb10>,\n",
       " <praw.objects.Submission at 0x10a2825d0>,\n",
       " <praw.objects.Submission at 0x10a282c10>,\n",
       " <praw.objects.Submission at 0x10a285050>,\n",
       " <praw.objects.Submission at 0x10b0b7dd0>,\n",
       " <praw.objects.Submission at 0x10a2941d0>,\n",
       " <praw.objects.Submission at 0x10a2943d0>,\n",
       " <praw.objects.Submission at 0x10b0ff990>,\n",
       " <praw.objects.Submission at 0x10b0b1a90>,\n",
       " <praw.objects.Submission at 0x10a285210>,\n",
       " <praw.objects.Submission at 0x10a2b8110>,\n",
       " <praw.objects.Submission at 0x10b21e310>,\n",
       " <praw.objects.Submission at 0x10b21e410>,\n",
       " <praw.objects.Submission at 0x10b0ffdd0>,\n",
       " <praw.objects.Submission at 0x10a282ad0>,\n",
       " <praw.objects.Submission at 0x10a285f10>,\n",
       " <praw.objects.Submission at 0x10a285750>]"
      ]
     },
     "execution_count": 40,
     "metadata": {},
     "output_type": "execute_result"
    }
   ],
   "source": [
    "title"
   ]
  },
  {
   "cell_type": "code",
   "execution_count": 6,
   "metadata": {
    "collapsed": false
   },
   "outputs": [
    {
     "ename": "Forbidden",
     "evalue": "HTTP error",
     "output_type": "error",
     "traceback": [
      "\u001b[0;31m---------------------------------------------------------------------------\u001b[0m",
      "\u001b[0;31mForbidden\u001b[0m                                 Traceback (most recent call last)",
      "\u001b[0;32m<ipython-input-6-edd62117d28f>\u001b[0m in \u001b[0;36m<module>\u001b[0;34m()\u001b[0m\n\u001b[1;32m      1\u001b[0m \u001b[0mr\u001b[0m \u001b[0;34m=\u001b[0m \u001b[0mpraw\u001b[0m\u001b[0;34m.\u001b[0m\u001b[0mReddit\u001b[0m\u001b[0;34m(\u001b[0m\u001b[0;34m'Comment parser example by u/_Daimon_'\u001b[0m\u001b[0;34m)\u001b[0m\u001b[0;34m\u001b[0m\u001b[0m\n\u001b[1;32m      2\u001b[0m \u001b[0msubreddit\u001b[0m \u001b[0;34m=\u001b[0m \u001b[0mr\u001b[0m\u001b[0;34m.\u001b[0m\u001b[0mget_subreddit\u001b[0m\u001b[0;34m(\u001b[0m\u001b[0mi\u001b[0m\u001b[0;34m[\u001b[0m\u001b[0;36m0\u001b[0m\u001b[0;34m]\u001b[0m\u001b[0;34m)\u001b[0m\u001b[0;34m.\u001b[0m\u001b[0mget_hot\u001b[0m\u001b[0;34m(\u001b[0m\u001b[0mlimit\u001b[0m \u001b[0;34m=\u001b[0m \u001b[0;36m3\u001b[0m\u001b[0;34m)\u001b[0m\u001b[0;34m\u001b[0m\u001b[0m\n\u001b[0;32m----> 3\u001b[0;31m \u001b[0;32mfor\u001b[0m \u001b[0mk\u001b[0m \u001b[0;32min\u001b[0m \u001b[0msubreddit\u001b[0m\u001b[0;34m:\u001b[0m\u001b[0;34m\u001b[0m\u001b[0m\n\u001b[0m\u001b[1;32m      4\u001b[0m     \u001b[0mtemp\u001b[0m \u001b[0;34m=\u001b[0m \u001b[0mstr\u001b[0m\u001b[0;34m(\u001b[0m\u001b[0mk\u001b[0m\u001b[0;34m)\u001b[0m\u001b[0;34m\u001b[0m\u001b[0m\n\u001b[1;32m      5\u001b[0m     \u001b[0;32mtry\u001b[0m\u001b[0;34m:\u001b[0m\u001b[0;34m\u001b[0m\u001b[0m\n",
      "\u001b[0;32m/Applications/anaconda/lib/python2.7/site-packages/praw/__init__.pyc\u001b[0m in \u001b[0;36mget_content\u001b[0;34m(self, url, params, limit, place_holder, root_field, thing_field, after_field, object_filter, **kwargs)\u001b[0m\n\u001b[1;32m    555\u001b[0m                 \u001b[0mself\u001b[0m\u001b[0;34m.\u001b[0m\u001b[0m_use_oauth\u001b[0m \u001b[0;34m=\u001b[0m \u001b[0m_use_oauth\u001b[0m\u001b[0;34m\u001b[0m\u001b[0m\n\u001b[1;32m    556\u001b[0m             \u001b[0;32mtry\u001b[0m\u001b[0;34m:\u001b[0m\u001b[0;34m\u001b[0m\u001b[0m\n\u001b[0;32m--> 557\u001b[0;31m                 \u001b[0mpage_data\u001b[0m \u001b[0;34m=\u001b[0m \u001b[0mself\u001b[0m\u001b[0;34m.\u001b[0m\u001b[0mrequest_json\u001b[0m\u001b[0;34m(\u001b[0m\u001b[0murl\u001b[0m\u001b[0;34m,\u001b[0m \u001b[0mparams\u001b[0m\u001b[0;34m=\u001b[0m\u001b[0mparams\u001b[0m\u001b[0;34m)\u001b[0m\u001b[0;34m\u001b[0m\u001b[0m\n\u001b[0m\u001b[1;32m    558\u001b[0m                 \u001b[0;32mif\u001b[0m \u001b[0mobject_filter\u001b[0m\u001b[0;34m:\u001b[0m\u001b[0;34m\u001b[0m\u001b[0m\n\u001b[1;32m    559\u001b[0m                     \u001b[0mpage_data\u001b[0m \u001b[0;34m=\u001b[0m \u001b[0mpage_data\u001b[0m\u001b[0;34m[\u001b[0m\u001b[0mobject_filter\u001b[0m\u001b[0;34m]\u001b[0m\u001b[0;34m\u001b[0m\u001b[0m\n",
      "\u001b[0;32m/Applications/anaconda/lib/python2.7/site-packages/praw/__init__.pyc\u001b[0m in \u001b[0;36mrequest_json\u001b[0;34m(self, url, params, data, as_objects, retry_on_error, method)\u001b[0m\n",
      "\u001b[0;32m/Applications/anaconda/lib/python2.7/site-packages/praw/decorators.pyc\u001b[0m in \u001b[0;36mraise_api_exceptions\u001b[0;34m(function, *args, **kwargs)\u001b[0m\n\u001b[1;32m    111\u001b[0m     \"\"\"\n\u001b[1;32m    112\u001b[0m     \u001b[0;32mtry\u001b[0m\u001b[0;34m:\u001b[0m\u001b[0;34m\u001b[0m\u001b[0m\n\u001b[0;32m--> 113\u001b[0;31m         \u001b[0mreturn_value\u001b[0m \u001b[0;34m=\u001b[0m \u001b[0mfunction\u001b[0m\u001b[0;34m(\u001b[0m\u001b[0;34m*\u001b[0m\u001b[0margs\u001b[0m\u001b[0;34m,\u001b[0m \u001b[0;34m**\u001b[0m\u001b[0mkwargs\u001b[0m\u001b[0;34m)\u001b[0m\u001b[0;34m\u001b[0m\u001b[0m\n\u001b[0m\u001b[1;32m    114\u001b[0m     \u001b[0;32mexcept\u001b[0m \u001b[0merrors\u001b[0m\u001b[0;34m.\u001b[0m\u001b[0mHTTPException\u001b[0m \u001b[0;32mas\u001b[0m \u001b[0mexc\u001b[0m\u001b[0;34m:\u001b[0m\u001b[0;34m\u001b[0m\u001b[0m\n\u001b[1;32m    115\u001b[0m         \u001b[0;32mif\u001b[0m \u001b[0mexc\u001b[0m\u001b[0;34m.\u001b[0m\u001b[0m_raw\u001b[0m\u001b[0;34m.\u001b[0m\u001b[0mstatus_code\u001b[0m \u001b[0;34m!=\u001b[0m \u001b[0;36m400\u001b[0m\u001b[0;34m:\u001b[0m  \u001b[0;31m# pylint: disable=W0212\u001b[0m\u001b[0;34m\u001b[0m\u001b[0m\n",
      "\u001b[0;32m/Applications/anaconda/lib/python2.7/site-packages/praw/__init__.pyc\u001b[0m in \u001b[0;36mrequest_json\u001b[0;34m(self, url, params, data, as_objects, retry_on_error, method)\u001b[0m\n\u001b[1;32m    610\u001b[0m             \u001b[0murl\u001b[0m \u001b[0;34m+=\u001b[0m \u001b[0;34m'.json'\u001b[0m\u001b[0;34m\u001b[0m\u001b[0m\n\u001b[1;32m    611\u001b[0m         response = self._request(url, params, data, method=method,\n\u001b[0;32m--> 612\u001b[0;31m                                  retry_on_error=retry_on_error)\n\u001b[0m\u001b[1;32m    613\u001b[0m         \u001b[0mhook\u001b[0m \u001b[0;34m=\u001b[0m \u001b[0mself\u001b[0m\u001b[0;34m.\u001b[0m\u001b[0m_json_reddit_objecter\u001b[0m \u001b[0;32mif\u001b[0m \u001b[0mas_objects\u001b[0m \u001b[0;32melse\u001b[0m \u001b[0mNone\u001b[0m\u001b[0;34m\u001b[0m\u001b[0m\n\u001b[1;32m    614\u001b[0m         \u001b[0;31m# Request url just needs to be available for the objecter to use\u001b[0m\u001b[0;34m\u001b[0m\u001b[0;34m\u001b[0m\u001b[0m\n",
      "\u001b[0;32m/Applications/anaconda/lib/python2.7/site-packages/praw/__init__.pyc\u001b[0m in \u001b[0;36m_request\u001b[0;34m(self, url, params, data, files, auth, timeout, raw_response, retry_on_error, method)\u001b[0m\n\u001b[1;32m    443\u001b[0m                 \u001b[0mself\u001b[0m\u001b[0;34m.\u001b[0m\u001b[0m_use_oauth\u001b[0m \u001b[0;34m=\u001b[0m \u001b[0mself\u001b[0m\u001b[0;34m.\u001b[0m\u001b[0mis_oauth_session\u001b[0m\u001b[0;34m(\u001b[0m\u001b[0;34m)\u001b[0m\u001b[0;34m\u001b[0m\u001b[0m\n\u001b[1;32m    444\u001b[0m                 \u001b[0mresponse\u001b[0m \u001b[0;34m=\u001b[0m \u001b[0mhandle_redirect\u001b[0m\u001b[0;34m(\u001b[0m\u001b[0;34m)\u001b[0m\u001b[0;34m\u001b[0m\u001b[0m\n\u001b[0;32m--> 445\u001b[0;31m                 \u001b[0m_raise_response_exceptions\u001b[0m\u001b[0;34m(\u001b[0m\u001b[0mresponse\u001b[0m\u001b[0;34m)\u001b[0m\u001b[0;34m\u001b[0m\u001b[0m\n\u001b[0m\u001b[1;32m    446\u001b[0m                 \u001b[0mself\u001b[0m\u001b[0;34m.\u001b[0m\u001b[0mhttp\u001b[0m\u001b[0;34m.\u001b[0m\u001b[0mcookies\u001b[0m\u001b[0;34m.\u001b[0m\u001b[0mupdate\u001b[0m\u001b[0;34m(\u001b[0m\u001b[0mresponse\u001b[0m\u001b[0;34m.\u001b[0m\u001b[0mcookies\u001b[0m\u001b[0;34m)\u001b[0m\u001b[0;34m\u001b[0m\u001b[0m\n\u001b[1;32m    447\u001b[0m                 \u001b[0mself\u001b[0m\u001b[0;34m.\u001b[0m\u001b[0m_use_oauth\u001b[0m \u001b[0;34m=\u001b[0m \u001b[0mtempauth\u001b[0m\u001b[0;34m\u001b[0m\u001b[0m\n",
      "\u001b[0;32m/Applications/anaconda/lib/python2.7/site-packages/praw/internal.pyc\u001b[0m in \u001b[0;36m_raise_response_exceptions\u001b[0;34m(response)\u001b[0m\n\u001b[1;32m    203\u001b[0m \u001b[0;34m\u001b[0m\u001b[0m\n\u001b[1;32m    204\u001b[0m     \u001b[0;32mif\u001b[0m \u001b[0mresponse\u001b[0m\u001b[0;34m.\u001b[0m\u001b[0mstatus_code\u001b[0m \u001b[0;34m==\u001b[0m \u001b[0mcodes\u001b[0m\u001b[0;34m.\u001b[0m\u001b[0mforbidden\u001b[0m\u001b[0;34m:\u001b[0m  \u001b[0;31m# pylint: disable=E1101\u001b[0m\u001b[0;34m\u001b[0m\u001b[0m\n\u001b[0;32m--> 205\u001b[0;31m         \u001b[0;32mraise\u001b[0m \u001b[0mForbidden\u001b[0m\u001b[0;34m(\u001b[0m\u001b[0m_raw\u001b[0m\u001b[0;34m=\u001b[0m\u001b[0mresponse\u001b[0m\u001b[0;34m)\u001b[0m\u001b[0;34m\u001b[0m\u001b[0m\n\u001b[0m\u001b[1;32m    206\u001b[0m     \u001b[0;32melif\u001b[0m \u001b[0mresponse\u001b[0m\u001b[0;34m.\u001b[0m\u001b[0mstatus_code\u001b[0m \u001b[0;34m==\u001b[0m \u001b[0mcodes\u001b[0m\u001b[0;34m.\u001b[0m\u001b[0mnot_found\u001b[0m\u001b[0;34m:\u001b[0m  \u001b[0;31m# pylint: disable=E1101\u001b[0m\u001b[0;34m\u001b[0m\u001b[0m\n\u001b[1;32m    207\u001b[0m         \u001b[0;32mraise\u001b[0m \u001b[0mNotFound\u001b[0m\u001b[0;34m(\u001b[0m\u001b[0m_raw\u001b[0m\u001b[0;34m=\u001b[0m\u001b[0mresponse\u001b[0m\u001b[0;34m)\u001b[0m\u001b[0;34m\u001b[0m\u001b[0m\n",
      "\u001b[0;31mForbidden\u001b[0m: HTTP error"
     ]
    }
   ],
   "source": [
    "r = praw.Reddit('Comment parser example by u/_Daimon_')\n",
    "subreddit = r.get_subreddit(i[0]).get_hot(limit = 3)\n",
    "for k in subreddit:\n",
    "    temp = str(k)\n",
    "    try:\n",
    "        comments = praw.helpers.flatten_tree(k.comments)\n",
    "        #comments = k.get_comments()\n",
    "        for j in comments:\n",
    "            body.append(j.body)\n",
    "            score.append(j.score)\n",
    "            company.append(i[0])\n",
    "            link.append(j.permalink)\n",
    "            date.append(j.created_utc)\n",
    "            title.append(temp)\n",
    "    except:\n",
    "        pass"
   ]
  },
  {
   "cell_type": "code",
   "execution_count": null,
   "metadata": {
    "collapsed": true
   },
   "outputs": [],
   "source": []
  }
 ],
 "metadata": {
  "kernelspec": {
   "display_name": "Python 2",
   "language": "python",
   "name": "python2"
  },
  "language_info": {
   "codemirror_mode": {
    "name": "ipython",
    "version": 2
   },
   "file_extension": ".py",
   "mimetype": "text/x-python",
   "name": "python",
   "nbconvert_exporter": "python",
   "pygments_lexer": "ipython2",
   "version": "2.7.10"
  }
 },
 "nbformat": 4,
 "nbformat_minor": 0
}
