{
 "cells": [
  {
   "cell_type": "code",
   "execution_count": 2,
   "metadata": {
    "collapsed": false
   },
   "outputs": [],
   "source": [
    "import praw\n",
    "import pandas as pd\n",
    "import time"
   ]
  },
  {
   "cell_type": "code",
   "execution_count": 7,
   "metadata": {
    "collapsed": false
   },
   "outputs": [
    {
     "name": "stdout",
     "output_type": "stream",
     "text": [
      "Facebook\n",
      "Facebook\n",
      "Facebook\n",
      "Facebook\n"
     ]
    }
   ],
   "source": [
    "body2 = []\n",
    "score2 = []\n",
    "company2 = []\n",
    "link2 = []\n",
    "date2 = []\n",
    "title2 = []\n",
    "\n",
    "subs = ['tech', 'technology', 'business', 'startups']\n",
    "\n",
    "for sub in subs:\n",
    "    try:\n",
    "        r = praw.Reddit('Comment parser example by u/_Daimon_')\n",
    "        results = r.search(str('title:'+'Facebook'), subreddit=sub, sort='top', limit=10)\n",
    "        print 'Facebook'\n",
    "        for result in results:\n",
    "            body2.append(result.selftext)\n",
    "            score2.append(result.score)\n",
    "            company2.append('Facebook')\n",
    "            link2.append(result.permalink)\n",
    "            date2.append(result.created_utc)\n",
    "            title2.append(result)\n",
    "            try:\n",
    "                comments = praw.helpers.flatten_tree(result.comments)\n",
    "                for comment in comments:\n",
    "                    body2.append(comment.body)\n",
    "                    score2.append(comment.score)\n",
    "                    company2.append('Facebook')\n",
    "                    link2.append(comment.permalink)\n",
    "                    date2.append(comment.created_utc)\n",
    "                    title2.append(result)\n",
    "            except:\n",
    "                pass\n",
    "    except:\n",
    "        print \"No data for \"+ Facebook\n",
    "        pass"
   ]
  },
  {
   "cell_type": "code",
   "execution_count": 8,
   "metadata": {
    "collapsed": true
   },
   "outputs": [],
   "source": [
    "temp2 = pd.DataFrame({'body':body2, 'score':score2, 'company':company2, 'link':link2, 'date':date2, 'title':title2})"
   ]
  },
  {
   "cell_type": "code",
   "execution_count": 10,
   "metadata": {
    "collapsed": false
   },
   "outputs": [],
   "source": [
    "temp2.to_csv(\"facebookcomments.csv\",  encoding='utf-8', index=False)"
   ]
  },
  {
   "cell_type": "code",
   "execution_count": 9,
   "metadata": {
    "collapsed": false
   },
   "outputs": [
    {
     "data": {
      "text/plain": [
       "(1267, 6)"
      ]
     },
     "execution_count": 9,
     "metadata": {},
     "output_type": "execute_result"
    }
   ],
   "source": [
    "temp2.shape"
   ]
  },
  {
   "cell_type": "code",
   "execution_count": null,
   "metadata": {
    "collapsed": true
   },
   "outputs": [],
   "source": []
  }
 ],
 "metadata": {
  "kernelspec": {
   "display_name": "Python 2",
   "language": "python",
   "name": "python2"
  },
  "language_info": {
   "codemirror_mode": {
    "name": "ipython",
    "version": 2
   },
   "file_extension": ".py",
   "mimetype": "text/x-python",
   "name": "python",
   "nbconvert_exporter": "python",
   "pygments_lexer": "ipython2",
   "version": "2.7.10"
  }
 },
 "nbformat": 4,
 "nbformat_minor": 0
}
