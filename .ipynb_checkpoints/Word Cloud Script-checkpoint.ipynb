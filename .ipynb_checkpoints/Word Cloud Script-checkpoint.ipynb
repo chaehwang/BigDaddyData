{
 "cells": [
  {
   "cell_type": "code",
   "execution_count": 3,
   "metadata": {
    "collapsed": false
   },
   "outputs": [],
   "source": [
    "import pandas as pd\n",
    "from os import path\n",
    "from PIL import Image\n",
    "import numpy as np\n",
    "import matplotlib.pyplot as plt\n",
    "from sklearn.feature_extraction.text import CountVectorizer\n",
    "from wordcloud import WordCloud, STOPWORDS\n",
    "import wordcloud\n",
    "import ImageDraw\n",
    "import ImageFont"
   ]
  },
  {
   "cell_type": "code",
   "execution_count": 29,
   "metadata": {
    "collapsed": false
   },
   "outputs": [],
   "source": [
    "reddit = pd.read_csv(\"comments.csv\")                                                                           \n",
    "\n",
    "#source is https://github.com/amueller/word_cloud/blob/master/examples/masked.py\n",
    "def make_wordcloud(company):\n",
    "    filtered = reddit[reddit['company']==company]\n",
    "    txt = ''.join(filtered.body)\n",
    "    cv = CountVectorizer(min_df=0, stop_words=\"english\", max_features=200)\n",
    "    counts = cv.fit_transform([txt]).toarray().ravel()                                                  \n",
    "    words = np.array(cv.get_feature_names()) \n",
    "    counts = counts / float(counts.max())\n",
    "    img_grey = Image.new(\"L\", (30, 30))\n",
    "    draw = ImageDraw.Draw(img_grey)\n",
    "    wc = WordCloud(background_color=\"white\", max_words=2000,stopwords=STOPWORDS.add(\"said\"))\n",
    "    wc.generate(txt)\n",
    "    wc.to_file(\"\"+str(company)+'.png')"
   ]
  },
  {
   "cell_type": "code",
   "execution_count": 24,
   "metadata": {
    "collapsed": false
   },
   "outputs": [],
   "source": [
    "company = pd.read_csv(\"companies.csv\")"
   ]
  },
  {
   "cell_type": "code",
   "execution_count": 34,
   "metadata": {
    "collapsed": false
   },
   "outputs": [
    {
     "name": "stdout",
     "output_type": "stream",
     "text": [
      "Google\n",
      "Apple\n",
      "Amazon\n",
      "Uber\n",
      "Lyft\n",
      "Airbnb\n",
      "Fitbit\n",
      "Jawbone\n",
      "Microsoft\n",
      "Coursera\n",
      "Athenahealth\n",
      "Aetna\n",
      "Twitter\n",
      "Snapchat\n",
      "Dropbox\n",
      "Spotify\n",
      "Zocdoc\n",
      "Asana\n",
      "LinkedIn\n",
      "Oscar_Health\n",
      "Chartboost\n",
      "Groupon\n",
      "Wayfair\n",
      "Instagram\n",
      "Buzzfeed\n",
      "Pinterest\n",
      "Laserfiche\n",
      "Palantir\n",
      "Kayak\n",
      "Grubhub\n",
      "Box\n",
      "Hubspot\n",
      "Square\n",
      "AppNexus\n",
      "Quora\n",
      "Vivint\n",
      "Rivot\n",
      "Riot_Games\n",
      "EA\n",
      "YikYak\n",
      "Misfit\n",
      "DoorDash\n",
      "Birchbox\n",
      "Slack\n",
      "Tinder\n",
      "Gilt\n",
      "GitHub\n",
      "Zenefits\n"
     ]
    }
   ],
   "source": [
    "for i in company.values:\n",
    "    try:\n",
    "        print str(i[0])\n",
    "        make_wordcloud(str(i[0]))\n",
    "    except:\n",
    "        pass"
   ]
  },
  {
   "cell_type": "code",
   "execution_count": 17,
   "metadata": {
    "collapsed": true
   },
   "outputs": [],
   "source": []
  },
  {
   "cell_type": "code",
   "execution_count": 21,
   "metadata": {
    "collapsed": false
   },
   "outputs": [],
   "source": []
  },
  {
   "cell_type": "code",
   "execution_count": 29,
   "metadata": {
    "collapsed": false
   },
   "outputs": [],
   "source": []
  },
  {
   "cell_type": "code",
   "execution_count": 30,
   "metadata": {
    "collapsed": false
   },
   "outputs": [
    {
     "data": {
      "text/plain": [
       "<wordcloud.wordcloud.WordCloud at 0x10a3c25d0>"
      ]
     },
     "execution_count": 30,
     "metadata": {},
     "output_type": "execute_result"
    }
   ],
   "source": []
  },
  {
   "cell_type": "code",
   "execution_count": 31,
   "metadata": {
    "collapsed": false
   },
   "outputs": [
    {
     "data": {
      "text/plain": [
       "<wordcloud.wordcloud.WordCloud at 0x10a3c25d0>"
      ]
     },
     "execution_count": 31,
     "metadata": {},
     "output_type": "execute_result"
    }
   ],
   "source": []
  },
  {
   "cell_type": "code",
   "execution_count": null,
   "metadata": {
    "collapsed": false
   },
   "outputs": [],
   "source": []
  },
  {
   "cell_type": "code",
   "execution_count": null,
   "metadata": {
    "collapsed": true
   },
   "outputs": [],
   "source": []
  }
 ],
 "metadata": {
  "kernelspec": {
   "display_name": "Python 2",
   "language": "python",
   "name": "python2"
  },
  "language_info": {
   "codemirror_mode": {
    "name": "ipython",
    "version": 2
   },
   "file_extension": ".py",
   "mimetype": "text/x-python",
   "name": "python",
   "nbconvert_exporter": "python",
   "pygments_lexer": "ipython2",
   "version": "2.7.10"
  }
 },
 "nbformat": 4,
 "nbformat_minor": 0
}
