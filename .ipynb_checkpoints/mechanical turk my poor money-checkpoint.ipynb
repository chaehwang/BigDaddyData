{
 "cells": [
  {
   "cell_type": "markdown",
   "metadata": {},
   "source": [
    "# Model Building Using Text Analysis"
   ]
  },
  {
   "cell_type": "code",
   "execution_count": 31,
   "metadata": {
    "collapsed": true
   },
   "outputs": [],
   "source": [
    "%matplotlib inline\n",
    "import numpy as np\n",
    "import scipy as sp\n",
    "import matplotlib as mpl\n",
    "import matplotlib.cm as cm\n",
    "import matplotlib.pyplot as plt\n",
    "import pandas as pd\n",
    "pd.set_option('display.width', 500)\n",
    "pd.set_option('display.max_columns', 100)\n",
    "pd.set_option('display.notebook_repr_html', True)\n",
    "import seaborn as sns\n",
    "from sklearn.naive_bayes import MultinomialNB\n",
    "from sklearn.ensemble import RandomForestClassifier\n",
    "from sklearn.cross_validation import train_test_split\n",
    "from sklearn.linear_model import LogisticRegression\n",
    "sns.set_style(\"whitegrid\")\n",
    "sns.set_context(\"poster\")\n",
    "import nltk\n",
    "from sklearn.feature_extraction.text import CountVectorizer"
   ]
  },
  {
   "cell_type": "code",
   "execution_count": 32,
   "metadata": {
    "collapsed": false
   },
   "outputs": [
    {
     "data": {
      "text/html": [
       "<div>\n",
       "<table border=\"1\" class=\"dataframe\">\n",
       "  <thead>\n",
       "    <tr style=\"text-align: right;\">\n",
       "      <th></th>\n",
       "      <th>Unnamed: 0</th>\n",
       "      <th>index</th>\n",
       "      <th>body</th>\n",
       "      <th>company</th>\n",
       "      <th>date</th>\n",
       "      <th>score</th>\n",
       "      <th>Worker1</th>\n",
       "      <th>Answer1</th>\n",
       "      <th>Avg</th>\n",
       "      <th>Date</th>\n",
       "      <th>positive</th>\n",
       "    </tr>\n",
       "  </thead>\n",
       "  <tbody>\n",
       "    <tr>\n",
       "      <th>0</th>\n",
       "      <td>3L21G7IH4773YI2L6RV6T5G4RTC1YW</td>\n",
       "      <td>1199</td>\n",
       "      <td>I shall do that! I was thinking \"I've had this...</td>\n",
       "      <td>Fitbit</td>\n",
       "      <td>1449270750</td>\n",
       "      <td>3</td>\n",
       "      <td>A2R0YYUAWNT7UD</td>\n",
       "      <td>2</td>\n",
       "      <td>2</td>\n",
       "      <td>2015-12-05 06:58:53 UTC</td>\n",
       "      <td>True</td>\n",
       "    </tr>\n",
       "    <tr>\n",
       "      <th>1</th>\n",
       "      <td>3I7KR83SNAOQ3IGZ6P98Z3JCRQR9KI</td>\n",
       "      <td>1178</td>\n",
       "      <td>Love it. Has helped keep me on track for weigh...</td>\n",
       "      <td>Fitbit</td>\n",
       "      <td>1449265917</td>\n",
       "      <td>2</td>\n",
       "      <td>A1NM7ZPZ3NH412</td>\n",
       "      <td>2</td>\n",
       "      <td>2</td>\n",
       "      <td>2015-12-05 06:59:05 UTC</td>\n",
       "      <td>True</td>\n",
       "    </tr>\n",
       "    <tr>\n",
       "      <th>2</th>\n",
       "      <td>3P7RGTLO6EO481Q4YVN8VYUWX89KA8</td>\n",
       "      <td>1174</td>\n",
       "      <td>I love it because I do not have to stop and pu...</td>\n",
       "      <td>Fitbit</td>\n",
       "      <td>1449251995</td>\n",
       "      <td>2</td>\n",
       "      <td>A3ITZNJQUTIZ4C</td>\n",
       "      <td>2</td>\n",
       "      <td>2</td>\n",
       "      <td>2015-12-05 07:02:17 UTC</td>\n",
       "      <td>True</td>\n",
       "    </tr>\n",
       "    <tr>\n",
       "      <th>3</th>\n",
       "      <td>373L46LKP7HF9UT8S10LOXXFNV3KJO</td>\n",
       "      <td>409</td>\n",
       "      <td>I never wore a watch, now I wear an Apple Watc...</td>\n",
       "      <td>Apple</td>\n",
       "      <td>1449290608</td>\n",
       "      <td>1</td>\n",
       "      <td>A2R0YYUAWNT7UD</td>\n",
       "      <td>2</td>\n",
       "      <td>2</td>\n",
       "      <td>2015-12-05 06:59:32 UTC</td>\n",
       "      <td>True</td>\n",
       "    </tr>\n",
       "    <tr>\n",
       "      <th>4</th>\n",
       "      <td>3G9UA71JVV5REFMO97BCKSSTHB2J7G</td>\n",
       "      <td>1465</td>\n",
       "      <td>The fallout soundtracks are great, but IMO the...</td>\n",
       "      <td>Spotify</td>\n",
       "      <td>1449249457</td>\n",
       "      <td>1</td>\n",
       "      <td>A1FP3SH704X01V</td>\n",
       "      <td>2</td>\n",
       "      <td>2</td>\n",
       "      <td>2015-12-05 06:59:41 UTC</td>\n",
       "      <td>True</td>\n",
       "    </tr>\n",
       "  </tbody>\n",
       "</table>\n",
       "</div>"
      ],
      "text/plain": [
       "                       Unnamed: 0  index                                               body  company        date  score         Worker1  Answer1  Avg                     Date positive\n",
       "0  3L21G7IH4773YI2L6RV6T5G4RTC1YW   1199  I shall do that! I was thinking \"I've had this...   Fitbit  1449270750      3  A2R0YYUAWNT7UD        2    2  2015-12-05 06:58:53 UTC     True\n",
       "1  3I7KR83SNAOQ3IGZ6P98Z3JCRQR9KI   1178  Love it. Has helped keep me on track for weigh...   Fitbit  1449265917      2  A1NM7ZPZ3NH412        2    2  2015-12-05 06:59:05 UTC     True\n",
       "2  3P7RGTLO6EO481Q4YVN8VYUWX89KA8   1174  I love it because I do not have to stop and pu...   Fitbit  1449251995      2  A3ITZNJQUTIZ4C        2    2  2015-12-05 07:02:17 UTC     True\n",
       "3  373L46LKP7HF9UT8S10LOXXFNV3KJO    409  I never wore a watch, now I wear an Apple Watc...    Apple  1449290608      1  A2R0YYUAWNT7UD        2    2  2015-12-05 06:59:32 UTC     True\n",
       "4  3G9UA71JVV5REFMO97BCKSSTHB2J7G   1465  The fallout soundtracks are great, but IMO the...  Spotify  1449249457      1  A1FP3SH704X01V        2    2  2015-12-05 06:59:41 UTC     True"
      ]
     },
     "execution_count": 32,
     "metadata": {},
     "output_type": "execute_result"
    }
   ],
   "source": [
    "#critics = pd.read_csv('comments1_with_sentimentsoriginal.csv')\n",
    "critics = pd.read_csv('comments1_with_sentimentsoriginal.csv')\n",
    "critics = critics.dropna(subset=['body', 'Answer1']) \n",
    "#let's drop rows with missing quotes\n",
    "critics['positive'] = critics['Answer1'] >= 0\n",
    "critics.head()"
   ]
  },
  {
   "cell_type": "code",
   "execution_count": 33,
   "metadata": {
    "collapsed": false
   },
   "outputs": [],
   "source": [
    "critics['Answer1'] = critics['Answer1'].apply(int)"
   ]
  },
  {
   "cell_type": "code",
   "execution_count": 34,
   "metadata": {
    "collapsed": false
   },
   "outputs": [
    {
     "data": {
      "text/html": [
       "<div>\n",
       "<table border=\"1\" class=\"dataframe\">\n",
       "  <thead>\n",
       "    <tr style=\"text-align: right;\">\n",
       "      <th></th>\n",
       "      <th>Unnamed: 0</th>\n",
       "      <th>index</th>\n",
       "      <th>body</th>\n",
       "      <th>company</th>\n",
       "      <th>date</th>\n",
       "      <th>score</th>\n",
       "      <th>Worker1</th>\n",
       "      <th>Answer1</th>\n",
       "      <th>Avg</th>\n",
       "      <th>Date</th>\n",
       "      <th>positive</th>\n",
       "      <th>num_word</th>\n",
       "      <th>num_sentence</th>\n",
       "    </tr>\n",
       "  </thead>\n",
       "  <tbody>\n",
       "    <tr>\n",
       "      <th>0</th>\n",
       "      <td>3L21G7IH4773YI2L6RV6T5G4RTC1YW</td>\n",
       "      <td>1199</td>\n",
       "      <td>I shall do that! I was thinking \"I've had this...</td>\n",
       "      <td>Fitbit</td>\n",
       "      <td>1449270750</td>\n",
       "      <td>3</td>\n",
       "      <td>A2R0YYUAWNT7UD</td>\n",
       "      <td>2</td>\n",
       "      <td>2</td>\n",
       "      <td>2015-12-05 06:58:53 UTC</td>\n",
       "      <td>True</td>\n",
       "      <td>65</td>\n",
       "      <td>12</td>\n",
       "    </tr>\n",
       "    <tr>\n",
       "      <th>1</th>\n",
       "      <td>3I7KR83SNAOQ3IGZ6P98Z3JCRQR9KI</td>\n",
       "      <td>1178</td>\n",
       "      <td>Love it. Has helped keep me on track for weigh...</td>\n",
       "      <td>Fitbit</td>\n",
       "      <td>1449265917</td>\n",
       "      <td>2</td>\n",
       "      <td>A1NM7ZPZ3NH412</td>\n",
       "      <td>2</td>\n",
       "      <td>2</td>\n",
       "      <td>2015-12-05 06:59:05 UTC</td>\n",
       "      <td>True</td>\n",
       "      <td>11</td>\n",
       "      <td>3</td>\n",
       "    </tr>\n",
       "    <tr>\n",
       "      <th>2</th>\n",
       "      <td>3P7RGTLO6EO481Q4YVN8VYUWX89KA8</td>\n",
       "      <td>1174</td>\n",
       "      <td>I love it because I do not have to stop and pu...</td>\n",
       "      <td>Fitbit</td>\n",
       "      <td>1449251995</td>\n",
       "      <td>2</td>\n",
       "      <td>A3ITZNJQUTIZ4C</td>\n",
       "      <td>2</td>\n",
       "      <td>2</td>\n",
       "      <td>2015-12-05 07:02:17 UTC</td>\n",
       "      <td>True</td>\n",
       "      <td>17</td>\n",
       "      <td>1</td>\n",
       "    </tr>\n",
       "    <tr>\n",
       "      <th>3</th>\n",
       "      <td>373L46LKP7HF9UT8S10LOXXFNV3KJO</td>\n",
       "      <td>409</td>\n",
       "      <td>I never wore a watch, now I wear an Apple Watc...</td>\n",
       "      <td>Apple</td>\n",
       "      <td>1449290608</td>\n",
       "      <td>1</td>\n",
       "      <td>A2R0YYUAWNT7UD</td>\n",
       "      <td>2</td>\n",
       "      <td>2</td>\n",
       "      <td>2015-12-05 06:59:32 UTC</td>\n",
       "      <td>True</td>\n",
       "      <td>22</td>\n",
       "      <td>3</td>\n",
       "    </tr>\n",
       "    <tr>\n",
       "      <th>4</th>\n",
       "      <td>3G9UA71JVV5REFMO97BCKSSTHB2J7G</td>\n",
       "      <td>1465</td>\n",
       "      <td>The fallout soundtracks are great, but IMO the...</td>\n",
       "      <td>Spotify</td>\n",
       "      <td>1449249457</td>\n",
       "      <td>1</td>\n",
       "      <td>A1FP3SH704X01V</td>\n",
       "      <td>2</td>\n",
       "      <td>2</td>\n",
       "      <td>2015-12-05 06:59:41 UTC</td>\n",
       "      <td>True</td>\n",
       "      <td>26</td>\n",
       "      <td>5</td>\n",
       "    </tr>\n",
       "  </tbody>\n",
       "</table>\n",
       "</div>"
      ],
      "text/plain": [
       "                       Unnamed: 0  index                                               body  company        date  score         Worker1  Answer1  Avg                     Date positive  num_word  num_sentence\n",
       "0  3L21G7IH4773YI2L6RV6T5G4RTC1YW   1199  I shall do that! I was thinking \"I've had this...   Fitbit  1449270750      3  A2R0YYUAWNT7UD        2    2  2015-12-05 06:58:53 UTC     True        65            12\n",
       "1  3I7KR83SNAOQ3IGZ6P98Z3JCRQR9KI   1178  Love it. Has helped keep me on track for weigh...   Fitbit  1449265917      2  A1NM7ZPZ3NH412        2    2  2015-12-05 06:59:05 UTC     True        11             3\n",
       "2  3P7RGTLO6EO481Q4YVN8VYUWX89KA8   1174  I love it because I do not have to stop and pu...   Fitbit  1449251995      2  A3ITZNJQUTIZ4C        2    2  2015-12-05 07:02:17 UTC     True        17             1\n",
       "3  373L46LKP7HF9UT8S10LOXXFNV3KJO    409  I never wore a watch, now I wear an Apple Watc...    Apple  1449290608      1  A2R0YYUAWNT7UD        2    2  2015-12-05 06:59:32 UTC     True        22             3\n",
       "4  3G9UA71JVV5REFMO97BCKSSTHB2J7G   1465  The fallout soundtracks are great, but IMO the...  Spotify  1449249457      1  A1FP3SH704X01V        2    2  2015-12-05 06:59:41 UTC     True        26             5"
      ]
     },
     "execution_count": 34,
     "metadata": {},
     "output_type": "execute_result"
    }
   ],
   "source": [
    "from pattern.vector import stem, PORTER, LEMMA\n",
    "punctuation = r'[.,;:!?]'\n",
    "import re\n",
    "def num_sentence(body):\n",
    "    return len(re.split(punctuation, body))\n",
    "def num_word(sentence):\n",
    "    return len(re.split(\" \", sentence))\n",
    "\n",
    "num_word = critics.body.apply(num_word)\n",
    "num_sentence = critics.body.apply(num_sentence)\n",
    "critics['num_word'] = num_word\n",
    "critics['num_sentence'] = num_sentence\n",
    "critics.head()\n",
    "\n"
   ]
  },
  {
   "cell_type": "code",
   "execution_count": 35,
   "metadata": {
    "collapsed": false
   },
   "outputs": [],
   "source": [
    "grp = critics.groupby('company')"
   ]
  },
  {
   "cell_type": "code",
   "execution_count": 36,
   "metadata": {
    "collapsed": false
   },
   "outputs": [
    {
     "data": {
      "text/plain": [
       "(array([   65.,     0.,   606.,     0.,     0.,  2264.,     0.,   459.,\n",
       "            0.,    37.]),\n",
       " array([-2. , -1.6, -1.2, -0.8, -0.4,  0. ,  0.4,  0.8,  1.2,  1.6,  2. ]),\n",
       " <a list of 10 Patch objects>)"
      ]
     },
     "execution_count": 36,
     "metadata": {},
     "output_type": "execute_result"
    },
    {
     "data": {
      "image/png": "[encoded data removed]",
      "text/plain": [
       "<matplotlib.figure.Figure at 0x10b21e790>"
      ]
     },
     "metadata": {},
     "output_type": "display_data"
    }
   ],
   "source": [
    "plt.hist(critics['Answer1'])"
   ]
  },
  {
   "cell_type": "code",
   "execution_count": 37,
   "metadata": {
    "collapsed": false
   },
   "outputs": [
    {
     "data": {
      "text/plain": [
       "(array([  3.41500000e+03,   5.00000000e+00,   2.00000000e+00,\n",
       "          2.00000000e+00,   2.00000000e+00,   0.00000000e+00,\n",
       "          1.00000000e+00,   2.00000000e+00,   0.00000000e+00,\n",
       "          2.00000000e+00]),\n",
       " array([  -71. ,   309.7,   690.4,  1071.1,  1451.8,  1832.5,  2213.2,\n",
       "         2593.9,  2974.6,  3355.3,  3736. ]),\n",
       " <a list of 10 Patch objects>)"
      ]
     },
     "execution_count": 37,
     "metadata": {},
     "output_type": "execute_result"
    },
    {
     "data": {
      "image/png": "[encoded data removed]",
      "text/plain": [
       "<matplotlib.figure.Figure at 0x10ddf40d0>"
      ]
     },
     "metadata": {},
     "output_type": "display_data"
    }
   ],
   "source": [
    "plt.hist(critics['score'])"
   ]
  },
  {
   "cell_type": "markdown",
   "metadata": {},
   "source": [
    "# Validation Tools"
   ]
  },
  {
   "cell_type": "code",
   "execution_count": 38,
   "metadata": {
    "collapsed": false
   },
   "outputs": [],
   "source": [
    "def make_xy(critics, vectorizer=None):\n",
    "    #Your code here    \n",
    "    if vectorizer is None:\n",
    "        vectorizer = CountVectorizer(encoding = 'latin-1', strip_accents = 'ascii', stop_words='english')\n",
    "    X = vectorizer.fit_transform(critics.body)\n",
    "    X = X.tocsc()  # some versions of sklearn return COO format\n",
    "    y = (critics.Answer1).values.astype(np.int)\n",
    "    return X, y\n",
    "\n",
    "\n",
    "def make_xyBinary(critics, vectorizer=None):\n",
    "    #Your code here    \n",
    "    if vectorizer is None:\n",
    "        vectorizer = CountVectorizer(encoding = 'latin-1', strip_accents = 'ascii', stop_words='english')\n",
    "    X = vectorizer.fit_transform(critics.body)\n",
    "    X = X.tocsc()  # some versions of sklearn return COO format\n",
    "    y = (critics.positive).values.astype(np.int)\n",
    "    return X, y\n",
    "X, y = make_xy(critics)\n",
    "Xbin, ybin = make_xyBinary(critics)"
   ]
  },
  {
   "cell_type": "code",
   "execution_count": 39,
   "metadata": {
    "collapsed": false
   },
   "outputs": [],
   "source": [
    "\n",
    "#train/test split the data\n",
    "xtrain, xtest, ytrain, ytest = train_test_split(X, y)\n",
    "xbintrain, xbintest, ybintrain, ybintest = train_test_split(Xbin, ybin)"
   ]
  },
  {
   "cell_type": "code",
   "execution_count": 40,
   "metadata": {
    "collapsed": true
   },
   "outputs": [],
   "source": [
    "from sklearn.cross_validation import KFold\n",
    "def cv_score(clf, X, y, scorefunc):\n",
    "    result = 0.\n",
    "    nfold = 5\n",
    "    for train, test in KFold(y.size, nfold): # split data into train/test groups, 5 times\n",
    "        clf.fit(X[train], y[train]) # fit\n",
    "        result += scorefunc(clf, X[test], y[test]) # evaluate score function on held-out data\n",
    "    return result / nfold # average"
   ]
  },
  {
   "cell_type": "code",
   "execution_count": 41,
   "metadata": {
    "collapsed": true
   },
   "outputs": [],
   "source": [
    "def log_likelihood(clf, x, y):\n",
    "    prob = clf.predict_log_proba(x)\n",
    "    rotten = y < 0\n",
    "    fresh = ~rotten\n",
    "    return prob[rotten, 0].sum() + prob[fresh, 1].sum()"
   ]
  },
  {
   "cell_type": "code",
   "execution_count": 42,
   "metadata": {
    "collapsed": true
   },
   "outputs": [],
   "source": [
    "from sklearn.cross_validation import train_test_split\n",
    "itrain, itest = train_test_split(xrange(critics.shape[0]), train_size=0.7)\n",
    "mask=np.ones(critics.shape[0], dtype='int')\n",
    "mask[itrain]=1\n",
    "mask[itest]=0\n",
    "mask = (mask==1)"
   ]
  },
  {
   "cell_type": "markdown",
   "metadata": {},
   "source": [
    "# Model Building Time"
   ]
  },
  {
   "cell_type": "markdown",
   "metadata": {},
   "source": [
    "## ROC curve"
   ]
  },
  {
   "cell_type": "code",
   "execution_count": 43,
   "metadata": {
    "collapsed": true
   },
   "outputs": [],
   "source": [
    "from sklearn.metrics import roc_curve, auc\n",
    "def make_roc(name, clf, ytest, xtest, ax=None, labe=5, proba=True, skip=0):\n",
    "    initial=False\n",
    "    if not ax:\n",
    "        ax=plt.gca()\n",
    "        initial=True\n",
    "    if proba:#for stuff like logistic regression\n",
    "        fpr, tpr, thresholds=roc_curve(ytest, clf.predict_proba(xtest)[:,1])\n",
    "    else:#for stuff like SVM\n",
    "        fpr, tpr, thresholds=roc_curve(ytest, clf.decision_function(xtest))\n",
    "    roc_auc = auc(fpr, tpr)\n",
    "    if skip:\n",
    "        l=fpr.shape[0]\n",
    "        ax.plot(fpr[0:l:skip], tpr[0:l:skip], '.-', alpha=0.3, label='ROC curve for %s (area = %0.2f)' % (name, roc_auc))\n",
    "    else:\n",
    "        ax.plot(fpr, tpr, '.-', alpha=0.3, label='ROC curve for %s (area = %0.2f)' % (name, roc_auc))\n",
    "    label_kwargs = {}\n",
    "    label_kwargs['bbox'] = dict(\n",
    "        boxstyle='round,pad=0.3', alpha=0.2,\n",
    "    )\n",
    "    if labe!=None:\n",
    "        for k in xrange(0, fpr.shape[0],labe):\n",
    "            #from https://gist.github.com/podshumok/c1d1c9394335d86255b8\n",
    "            threshold = str(np.round(thresholds[k], 2))\n",
    "            ax.annotate(threshold, (fpr[k], tpr[k]), **label_kwargs)\n",
    "    if initial:\n",
    "        ax.plot([0, 1], [0, 1], 'k--')\n",
    "        ax.set_xlim([0.0, 1.0])\n",
    "        ax.set_ylim([0.0, 1.05])\n",
    "        ax.set_xlabel('False Positive Rate')\n",
    "        ax.set_ylabel('True Positive Rate')\n",
    "        ax.set_title('ROC')\n",
    "    ax.legend(loc=\"lower right\")\n",
    "    return ax"
   ]
  },
  {
   "cell_type": "markdown",
   "metadata": {},
   "source": [
    "## MultiNomial Naive Bayes"
   ]
  },
  {
   "cell_type": "code",
   "execution_count": 44,
   "metadata": {
    "collapsed": false
   },
   "outputs": [
    {
     "name": "stdout",
     "output_type": "stream",
     "text": [
      "Naive Bayes\n",
      "Accuracy on training data: 0.86\n",
      "MN Accuracy: 59.09%\n",
      "Naive Bayes Binary\n",
      "Accuracy on training data: 0.93\n",
      "MN Accuracy: 75.76%\n"
     ]
    }
   ],
   "source": [
    "#Multinomial Naive Bayes\n",
    "clf = MultinomialNB()\n",
    "clf = clf.fit(xtrain, ytrain)\n",
    "training_accuracy = clf.score(xtrain, ytrain)\n",
    "print \"Naive Bayes\"\n",
    "print \"Accuracy on training data: %0.2f\" % (training_accuracy)\n",
    "print \"MN Accuracy: %0.2f%%\" % (100 * clf.score(xtest, ytest))\n",
    "\n",
    "clfbin = MultinomialNB()\n",
    "clfbin = clfbin.fit(xbintrain, ybintrain)\n",
    "training_accuracy = clfbin.score(xbintrain, ybintrain)\n",
    "print \"Naive Bayes Binary\"\n",
    "print \"Accuracy on training data: %0.2f\" % (training_accuracy)\n",
    "print \"MN Accuracy: %0.2f%%\" % (100 * clfbin.score(xbintest, ybintest))"
   ]
  },
  {
   "cell_type": "code",
   "execution_count": 45,
   "metadata": {
    "collapsed": false
   },
   "outputs": [],
   "source": [
    "def validation(clf, binary= False):\n",
    "    alphas = [0, .1, 1, 5, 10, 50]\n",
    "    min_dfs = [1e-5, 1e-4, 1e-3, 1e-2, 1e-1]\n",
    "\n",
    "    #Find the best value for alpha and min_df, and the best classifier\n",
    "    best_alpha = None\n",
    "    best_min_df = None\n",
    "    maxscore=-np.inf\n",
    "    for alpha in alphas:\n",
    "        for min_df in min_dfs:         \n",
    "            vectorizer = CountVectorizer(min_df = min_df, encoding = 'latin-1')\n",
    "            if not binary:\n",
    "                Xthis, ythis = make_xy(critics, vectorizer)\n",
    "            else:\n",
    "                Xthis, ythis = make_xyBinary(critics,vectorizer)\n",
    "            Xtrainthis=Xthis[mask]\n",
    "            ytrainthis=ythis[mask]\n",
    "            #your code here\n",
    "            clf = MultinomialNB(alpha=alpha)\n",
    "            cvscore = cv_score(clf, Xtrainthis, ytrainthis, log_likelihood)\n",
    "\n",
    "            if cvscore > maxscore:\n",
    "                maxscore = cvscore\n",
    "                best_alpha, best_min_df = alpha, min_df\n",
    "    return best_alpha, best_min_df\n",
    "best_alpha1, best_min_df1 = validation(clf)\n",
    "best_alpha2, best_min_df2 = validation(clf, binary = True)"
   ]
  },
  {
   "cell_type": "code",
   "execution_count": 46,
   "metadata": {
    "collapsed": false
   },
   "outputs": [
    {
     "name": "stdout",
     "output_type": "stream",
     "text": [
      "Parameter Optimized Naive Bayes\n",
      "Accuracy on training data: 0.67\n",
      "Accuracy on test data:     0.64\n",
      "Parameter Optimized Naive Bayes Binary\n",
      "Accuracy on training data: 0.81\n",
      "Accuracy on test data:     0.78\n"
     ]
    }
   ],
   "source": [
    "vectorizer = CountVectorizer(min_df=best_min_df1, encoding = 'latin-1')\n",
    "X1, y1 = make_xy(critics, vectorizer)\n",
    "xtrain1=X1[mask]\n",
    "ytrain1=y1[mask]\n",
    "xtest1=X1[~mask]\n",
    "ytest1=y1[~mask]\n",
    "\n",
    "best_clf = MultinomialNB(alpha=best_alpha1).fit(xtrain1, ytrain1)\n",
    "\n",
    "vectorizerbin = CountVectorizer(min_df=best_min_df2, encoding='latin-1')\n",
    "Xbin, ybin = make_xyBinary(critics, vectorizer)\n",
    "xbintrain1=Xbin[mask]\n",
    "ybintrain1=ybin[mask]\n",
    "xbintest1=Xbin[~mask]\n",
    "ybintest1=ybin[~mask]\n",
    "\n",
    "best_clfbin = MultinomialNB(alpha=best_alpha2).fit(xbintrain1, ybintrain1)\n",
    "\n",
    "# Your code here. Print the accuracy on the test and training dataset\n",
    "training_accuracy = best_clf.score(xtrain1, ytrain1)\n",
    "test_accuracy = best_clf.score(xtest1, ytest1)\n",
    "\n",
    "print \"Parameter Optimized Naive Bayes\"\n",
    "print \"Accuracy on training data: %0.2f\" % (training_accuracy)\n",
    "print \"Accuracy on test data:     %0.2f\" % (test_accuracy)\n",
    "\n",
    "training_accuracybin = best_clfbin.score(xbintrain1, ybintrain1)\n",
    "test_accuracybin = best_clfbin.score(xbintest1, ybintest1)\n",
    "\n",
    "print \"Parameter Optimized Naive Bayes Binary\"\n",
    "print \"Accuracy on training data: %0.2f\" % (training_accuracybin)\n",
    "print \"Accuracy on test data:     %0.2f\" % (test_accuracybin)"
   ]
  },
  {
   "cell_type": "code",
   "execution_count": 47,
   "metadata": {
    "collapsed": false
   },
   "outputs": [
    {
     "data": {
      "image/png": "[encoded data removed]",
      "text/plain": [
       "<matplotlib.figure.Figure at 0x10b0cc9d0>"
      ]
     },
     "metadata": {},
     "output_type": "display_data"
    }
   ],
   "source": [
    "with sns.color_palette(palette=\"muted\"):\n",
    "    make_roc(\"multinomial-nb\", best_clfbin, ybintest1, xbintest1, labe=200, skip=50)"
   ]
  },
  {
   "cell_type": "markdown",
   "metadata": {},
   "source": [
    "## Random Forest"
   ]
  },
  {
   "cell_type": "code",
   "execution_count": 48,
   "metadata": {
    "collapsed": false
   },
   "outputs": [
    {
     "name": "stdout",
     "output_type": "stream",
     "text": [
      "Random Forest with Ranges\n",
      "Accuracy on training data: 1.00\n",
      "RF Accuracy: 66.43%\n",
      "Random Forest Binary Data\n",
      "Accuracy on training data: 1.00\n",
      "RF Accuracy: 78.32%\n"
     ]
    }
   ],
   "source": [
    "#Random Forest\n",
    "rf = RandomForestClassifier(n_estimators=100, min_samples_split=2, n_jobs=-1, class_weight = 'auto').fit(xtrain,ytrain)\n",
    "rf_train_accuracy = rf.score(xtrain, ytrain)\n",
    "print \"Random Forest with Ranges\"\n",
    "print \"Accuracy on training data: %0.2f\" % (rf_train_accuracy)\n",
    "print \"RF Accuracy: %.02f%%\" % (100*rf.score(xtest,ytest))\n",
    "\n",
    "rfbin = RandomForestClassifier(n_estimators=100, min_samples_split=2, n_jobs= -1, class_weight = 'auto').fit(xbintrain,ybintrain)\n",
    "rfbin_train_accuracy = rfbin.score(xbintrain, ybintrain)\n",
    "print \"Random Forest Binary Data\"\n",
    "print \"Accuracy on training data: %0.2f\" % (rfbin_train_accuracy)\n",
    "print \"RF Accuracy: %.02f%%\" % (100*rfbin.score(xbintest,ybintest))"
   ]
  },
  {
   "cell_type": "code",
   "execution_count": 50,
   "metadata": {
    "collapsed": false
   },
   "outputs": [],
   "source": [
    "n_ests = [10, 20, 50, 100, 150, 200]\n",
    "min_dfs = [0,.1,.01,.001,.0001,1]\n",
    "max_depths = [5,10,15,20,25,40,50,70,80,90]\n",
    "\n",
    "#Find the best value for alpha and min_df, and the best classifier\n",
    "best_n_est = 10\n",
    "# n_est = range(best_n_est-5, best_n_est+5)\n",
    "# min_dfs = range(int(best_min_df), int(best_min_df+5.))\n",
    "# max_depths = range(max_depth-5, max_depth+5)\n",
    "\n",
    "# best_n_est = n_est[0]\n",
    "maxscore=-np.inf\n",
    "for max_depth in max_depths:\n",
    "    for n_est in n_ests:  \n",
    "        for min_df in min_dfs:\n",
    "            vectorizer = CountVectorizer(min_df = min_df, encoding = 'latin-1')       \n",
    "            Xthis, ythis = make_xy(critics, vectorizer)\n",
    "            Xtrainthis=Xthis[mask]\n",
    "            ytrainthis=ythis[mask]\n",
    "            #your code here\n",
    "            rf = RandomForestClassifier(n_estimators=n_est,max_depth = max_depth, min_samples_split=2, class_weight = 'auto', n_jobs=-1)\n",
    "            cvscore = cv_score(rf, Xtrainthis, ytrainthis, log_likelihood)\n",
    "\n",
    "            if cvscore > maxscore:\n",
    "                maxscore = cvscore\n",
    "                best_n_est, best_min_df, best_max_depth = n_est, min_df, max_depth\n",
    "                \n",
    "maxscore_bin=-np.inf\n",
    "for max_depth in max_depths:\n",
    "    for n_est in n_ests:  \n",
    "        for min_df in min_dfs:\n",
    "            vectorizer = CountVectorizer(min_df = min_df, encoding = 'latin-1')       \n",
    "            Xthis_bin, ythis_bin = make_xyBinary(critics, vectorizer)\n",
    "            Xtrainthis_bin=Xthis_bin[mask]\n",
    "            ytrainthis_bin=ythis_bin[mask]\n",
    "            #your code here\n",
    "            rfbin = RandomForestClassifier(n_estimators=n_est,max_depth = max_depth, min_samples_split=2, class_weight = 'auto', n_jobs=-1)\n",
    "            cvscore = cv_score(rfbin, Xtrainthis, ytrainthis, log_likelihood)\n",
    "\n",
    "            if cvscore > maxscore_bin:\n",
    "                maxscore_bin = cvscore\n",
    "                best_n_est_bin, best_min_df_bin, best_max_depth_bin = n_est, min_df, max_depth"
   ]
  },
  {
   "cell_type": "code",
   "execution_count": null,
   "metadata": {
    "collapsed": false,
    "scrolled": true
   },
   "outputs": [],
   "source": [
    "vectorizer = CountVectorizer(min_df=best_min_df, encoding = 'latin-1')\n",
    "X2, y2 = make_xy(critics, vectorizer)\n",
    "xtrain2=X2[mask]\n",
    "ytrain2=y2[mask]\n",
    "xtest2=X2[~mask]\n",
    "ytest2=y2[~mask]\n",
    "\n",
    "best_rf = RandomForestClassifier(n_estimators=best_n_est, max_depth=best_max_depth, min_samples_split=2, n_jobs=-1, class_weight= 'auto').fit(xtrain2,ytrain2)\n",
    "rf_train_accuracy = best_rf.score(xtrain2, ytrain2)\n",
    "rf_test_accuracy = best_rf.score(xtest2, ytest2)\n",
    "\n",
    "print \"Random Forest with Ranges\"\n",
    "print \"Accuracy on training data: %0.2f\" % (rf_train_accuracy)\n",
    "print \"Accuracy on test %0.2f\" % (rf_test_accuracy)\n",
    "\n",
    "vectorizerbin = CountVectorizer(min_df=best_min_df_bin)\n",
    "Xbin2, ybin2 = make_xyBinary(critics, vectorizer)\n",
    "xbintrain2=Xbin2[mask]\n",
    "ybintrain2=ybin2[mask]\n",
    "xbintest2=Xbin[~mask]\n",
    "ybintest2=ybin[~mask]\n",
    "\n",
    "best_rfbin = RandomForestClassifier(n_estimators=best_n_est_bin, max_depth=best_max_depth_bin, min_samples_split=2, n_jobs=-1, class_weight= 'auto').fit(xbintrain2,ybintrain2)\n",
    "rfbin_train_accuracy = best_rfbin.score(xbintrain2, ybintrain2)\n",
    "rfbin_test_accuracy = best_rfbin.score(xbintest2, ybintest2)\n",
    "\n",
    "print \"Random Forest Binary Data\"\n",
    "print \"Accuracy on training data: %0.2f\" % (rfbin_train_accuracy)\n",
    "print \"RF Accuracy: %.02f%%\" % (rfbin_test_accuracy)"
   ]
  },
  {
   "cell_type": "code",
   "execution_count": null,
   "metadata": {
    "collapsed": false
   },
   "outputs": [],
   "source": [
    "with sns.color_palette(palette=\"muted\"):\n",
    "    make_roc(\"random-forest\", best_rfbin, ybintest2, xbintest2, labe=200, skip=50)"
   ]
  },
  {
   "cell_type": "markdown",
   "metadata": {},
   "source": [
    "## Logistic Regression"
   ]
  },
  {
   "cell_type": "code",
   "execution_count": null,
   "metadata": {
    "collapsed": false
   },
   "outputs": [],
   "source": [
    "#Logistic Regression\n",
    "logistic = LogisticRegression(penalty = 'l1', class_weight = 'auto')\n",
    "logistic = logistic.fit(xbintrain, ybintrain)\n",
    "log_train_accuracy = logistic.score(xbintrain,ybintrain)\n",
    "print \"Logistic Regression\"\n",
    "print \"Accuracy on training data: %0.2f\" % (log_train_accuracy)\n",
    "print \"Logistic Accuracy: %.02f%%\" % (100*logistic.score(xbintest,ybintest))"
   ]
  },
  {
   "cell_type": "code",
   "execution_count": null,
   "metadata": {
    "collapsed": false,
    "scrolled": false
   },
   "outputs": [],
   "source": [
    "Cs = [0.001, 0.01, 0.1, 1, 10, 100]\n",
    "min_dfs = [ 1e-4, 1e-3, 1e-1]\n",
    "\n",
    "#Find the best value for alpha and min_df, and the best classifier\n",
    "best_alpha = None\n",
    "best_min_df = None\n",
    "maxscore=-np.inf\n",
    "for c in Cs:\n",
    "    for min_df in min_dfs:         \n",
    "        vectorizer = CountVectorizer(min_df = min_df)\n",
    "        Xthis, ythis = make_xyBinary(critics,vectorizer)\n",
    "        Xtrainthis=Xthis[mask]\n",
    "        ytrainthis=ythis[mask]\n",
    "        #your code here\n",
    "        logistic = LogisticRegression(penalty = 'l1', C=c, class_weight='auto')\n",
    "        cvscore = cv_score(logistic, Xtrainthis, ytrainthis, log_likelihood)\n",
    "\n",
    "        if cvscore > maxscore:\n",
    "            maxscore = cvscore\n",
    "            best_c, best_min_df = c, min_df"
   ]
  },
  {
   "cell_type": "code",
   "execution_count": null,
   "metadata": {
    "collapsed": false
   },
   "outputs": [],
   "source": [
    "vectorizer = CountVectorizer(min_df=best_min_df, encoding= 'latin-1')\n",
    "X3, y3 = make_xyBinary(critics, vectorizer)\n",
    "xbintrain3=X3[mask]\n",
    "ybintrain3=y3[mask]\n",
    "xbintest3=X3[~mask]\n",
    "ybintest3=y3[~mask]\n",
    "\n",
    "best_log = LogisticRegression(penalty = 'l1', C=best_c, class_weight='auto').fit(xbintrain3,ybintrain3)\n",
    "log_train_accuracy = best_log.score(xbintrain3, ybintrain3)\n",
    "log_test_accuracy = best_log.score(xbintest3, ybintest3)\n",
    "\n",
    "print \"Optimized Logistic Regression Parameters\"\n",
    "print \"Accuracy on training data: %0.2f\" % (log_train_accuracy)\n",
    "print \"Accuracy on test %0.2f\" % (log_test_accuracy)"
   ]
  },
  {
   "cell_type": "code",
   "execution_count": null,
   "metadata": {
    "collapsed": false
   },
   "outputs": [],
   "source": [
    "with sns.color_palette(palette=\"muted\"):\n",
    "    make_roc(\"logistic\", best_log, ybintest3, xbintest3, labe=200, skip=50)"
   ]
  },
  {
   "cell_type": "markdown",
   "metadata": {},
   "source": [
    "## Support Vector Machine"
   ]
  },
  {
   "cell_type": "code",
   "execution_count": null,
   "metadata": {
    "collapsed": false
   },
   "outputs": [],
   "source": [
    "from sklearn.svm import SVC\n",
    "clfsvm = SVC(kernel='linear', class_weight='auto').fit(xtrain, ytrain)\n",
    "svm_accuracy=clfsvm.score(xtest, ytest)\n",
    "print \"Support Vector Machine\"\n",
    "print \"Accuracy on training data: %0.2f\" % (svm_accuracy)\n",
    "print \"Logistic Accuracy: %.02f%%\" % (100*clfsvm.score(xtest,ytest))"
   ]
  },
  {
   "cell_type": "code",
   "execution_count": null,
   "metadata": {
    "collapsed": false
   },
   "outputs": [],
   "source": [
    "Cs = [.001,.01, .1, 1, 10, 100]\n",
    "min_dfs = [ 1e-4, 1e-3, 1e-1]\n",
    "\n",
    "#Find the best value for alpha and min_df, and the best classifier\n",
    "best_alpha = None\n",
    "best_min_df = None\n",
    "maxscore=-np.inf\n",
    "for c in Cs:\n",
    "    for min_df in min_dfs:         \n",
    "        vectorizer = CountVectorizer(min_df = min_df, encoding = 'latin-1')\n",
    "        Xthis, ythis = make_xyBinary(critics,vectorizer)\n",
    "        Xtrainthis=Xthis[mask]\n",
    "        ytrainthis=ythis[mask]\n",
    "        #your code here\n",
    "        svm = SVC(kernel='linear', C=c, class_weight='auto', probability=True)\n",
    "        cvscore = cv_score(svm, Xtrainthis, ytrainthis, log_likelihood)\n",
    "        if cvscore > maxscore:\n",
    "            maxscore = cvscore\n",
    "            best_c, best_min_df = c, min_df"
   ]
  },
  {
   "cell_type": "code",
   "execution_count": null,
   "metadata": {
    "collapsed": false
   },
   "outputs": [],
   "source": [
    "vectorizer = CountVectorizer(min_df=best_min_df)\n",
    "Xbin4, ybin4 = make_xyBinary(critics, vectorizer)\n",
    "xbintrain4=Xbin4[mask]\n",
    "ybintrain4=ybin4[mask]\n",
    "xbintest4=Xbin4[~mask]\n",
    "ybintest4=ybin4[~mask]\n",
    "\n",
    "best_svm = SVC(kernel='linear', C=best_c, class_weight ='auto').fit(xbintrain4,ybintrain4)\n",
    "svm_train_accuracy = best_svm.score(xbintrain4, ybintrain4)\n",
    "svm_test_accuracy = best_svm.score(xbintest4, ybintest4)\n",
    "\n",
    "print \"Optimized SVM Parameters\"\n",
    "print \"Accuracy on training data: %0.2f\" % (svm_train_accuracy)\n",
    "print \"Accuracy on test %0.2f\" % (svm_test_accuracy)"
   ]
  },
  {
   "cell_type": "code",
   "execution_count": null,
   "metadata": {
    "collapsed": false
   },
   "outputs": [],
   "source": [
    "with sns.color_palette(palette=\"muted\"):\n",
    "    make_roc(\"linear-svm\", best_svm, ybintest4, xbintest4, proba=False, labe=200, skip=50)"
   ]
  },
  {
   "cell_type": "markdown",
   "metadata": {},
   "source": [
    "## ROC curve comparison of all models"
   ]
  },
  {
   "cell_type": "code",
   "execution_count": null,
   "metadata": {
    "collapsed": false
   },
   "outputs": [],
   "source": [
    "with sns.color_palette(palette=\"muted\"):\n",
    "    roc_plot = make_roc(\"multinomial-nb\", best_clfbin, ybintest1, xbintest1, labe=200, skip=50)\n",
    "    make_roc(\"random-forest\", best_rfbin, ybintest2, xbintest2, labe=200, ax=roc_plot, skip=50)\n",
    "    make_roc(\"logistic\", best_log, ybintest3, xbintest3, labe=200, ax=roc_plot, skip=50)\n",
    "    make_roc(\"linear-svm\", best_svm, ybintest4, xbintest4, proba=False, labe=200, ax=roc_plot, skip=50)"
   ]
  },
  {
   "cell_type": "markdown",
   "metadata": {},
   "source": [
    "# Visualization of the Results"
   ]
  },
  {
   "cell_type": "code",
   "execution_count": null,
   "metadata": {
    "collapsed": true
   },
   "outputs": [],
   "source": [
    "def calibration_plot(clf, xtest, ytest):\n",
    "    prob = clf.predict_proba(xtest)[:, 1]\n",
    "    outcome = ytest\n",
    "    data = pd.DataFrame(dict(prob=prob, outcome=outcome))\n",
    "\n",
    "    #group outcomes into bins of similar probability\n",
    "    bins = np.linspace(0, 1, 20)\n",
    "    cuts = pd.cut(prob, bins)\n",
    "    binwidth = bins[1] - bins[0]\n",
    "    \n",
    "    #freshness ratio and number of examples in each bin\n",
    "    cal = data.groupby(cuts).outcome.agg(['mean', 'count'])\n",
    "    cal['pmid'] = (bins[:-1] + bins[1:]) / 2\n",
    "    cal['sig'] = np.sqrt(cal.pmid * (1 - cal.pmid) / cal['count'])\n",
    "        \n",
    "    #the calibration plot\n",
    "    ax = plt.subplot2grid((3, 1), (0, 0), rowspan=2)\n",
    "    p = plt.errorbar(cal.pmid, cal['mean'], cal['sig'])\n",
    "    plt.plot(cal.pmid, cal.pmid, linestyle='--', lw=1, color='k')\n",
    "    plt.ylabel(\"Empirical P(Fresh)\")\n",
    "    \n",
    "    #the distribution of P(fresh)\n",
    "    ax = plt.subplot2grid((3, 1), (2, 0), sharex=ax)\n",
    "    \n",
    "    plt.bar(left=cal.pmid - binwidth / 2, height=cal['count'],\n",
    "            width=.95 * (bins[1] - bins[0]),\n",
    "            fc=p[0].get_color())\n",
    "    \n",
    "    plt.xlabel(\"Predicted P(Fresh)\")\n",
    "    plt.ylabel(\"Number\")"
   ]
  },
  {
   "cell_type": "code",
   "execution_count": null,
   "metadata": {
    "collapsed": false
   },
   "outputs": [],
   "source": [
    "calibration_plot(logistic, xbintest, ybintest)"
   ]
  },
  {
   "cell_type": "code",
   "execution_count": null,
   "metadata": {
    "collapsed": false
   },
   "outputs": [],
   "source": [
    "calibration_plot(clfbin, xbintest, ybintest)"
   ]
  },
  {
   "cell_type": "code",
   "execution_count": null,
   "metadata": {
    "collapsed": false
   },
   "outputs": [],
   "source": [
    "calibration_plot(rfbin, xbintest, ybintest)"
   ]
  },
  {
   "cell_type": "markdown",
   "metadata": {
    "collapsed": false
   },
   "source": [
    "#NLTK Sentiment with Naive Bayes Classifier"
   ]
  },
  {
   "cell_type": "code",
   "execution_count": null,
   "metadata": {
    "collapsed": false
   },
   "outputs": [],
   "source": [
    "reddit = []\n",
    "for row in range(len(critics.body)):\n",
    "    words = critics.iloc[row].body.split()\n",
    "    temp = (words, critics.iloc[row].Answer1)\n",
    "    reddit.append(temp)\n",
    "\n",
    "    "
   ]
  },
  {
   "cell_type": "code",
   "execution_count": null,
   "metadata": {
    "collapsed": false
   },
   "outputs": [],
   "source": [
    "#http://www.laurentluce.com/posts/twitter-sentiment-analysis-using-python-and-nltk/\n",
    "import nltk\n",
    "def get_words(reddits):\n",
    "    all_words = []\n",
    "    for (a, b) in reddits:\n",
    "        all_words.extend(a)\n",
    "    return all_words\n",
    "\n",
    "def get_word_features(wordlist):\n",
    "    wordlist = nltk.FreqDist(wordlist)\n",
    "    word_features = wordlist.keys()\n",
    "    return word_features\n"
   ]
  },
  {
   "cell_type": "code",
   "execution_count": null,
   "metadata": {
    "collapsed": false
   },
   "outputs": [],
   "source": [
    "word_features = get_word_features(get_words(reddit))\n",
    "#print word_features"
   ]
  },
  {
   "cell_type": "code",
   "execution_count": null,
   "metadata": {
    "collapsed": true
   },
   "outputs": [],
   "source": [
    "def extract_features(document):\n",
    "    document_words = set(document)\n",
    "    features = {}\n",
    "    for word in word_features:\n",
    "        features['contains(%s)' % word] = (word in document_words)\n",
    "    return features"
   ]
  },
  {
   "cell_type": "code",
   "execution_count": null,
   "metadata": {
    "collapsed": false
   },
   "outputs": [],
   "source": [
    "#extract_features(reddit[1])\n",
    "training_set = nltk.classify.apply_features(extract_features, reddit)"
   ]
  },
  {
   "cell_type": "code",
   "execution_count": null,
   "metadata": {
    "collapsed": false
   },
   "outputs": [],
   "source": [
    "classifier = nltk.NaiveBayesClassifier.train(training_set)"
   ]
  },
  {
   "cell_type": "code",
   "execution_count": null,
   "metadata": {
    "collapsed": false
   },
   "outputs": [],
   "source": [
    "print 'accuracy:', nltk.classify.util.accuracy(classifier, training_set)\n",
    "classifier.show_most_informative_features()"
   ]
  },
  {
   "cell_type": "markdown",
   "metadata": {
    "collapsed": true
   },
   "source": [
    "#Final Predictions"
   ]
  },
  {
   "cell_type": "code",
   "execution_count": null,
   "metadata": {
    "collapsed": false
   },
   "outputs": [],
   "source": [
    "vectorizer = CountVectorizer(min_df=best_min_df)\n",
    "X, y = make_xyBinary(critics, vectorizer)"
   ]
  },
  {
   "cell_type": "code",
   "execution_count": null,
   "metadata": {
    "collapsed": false
   },
   "outputs": [],
   "source": [
    "prediction = logistic.predict(Xbin)\n",
    "critics['prediction_binary'] = prediction\n"
   ]
  },
  {
   "cell_type": "code",
   "execution_count": null,
   "metadata": {
    "collapsed": false
   },
   "outputs": [],
   "source": [
    "critics['prediction'] = prediction*critics['score']"
   ]
  },
  {
   "cell_type": "code",
   "execution_count": null,
   "metadata": {
    "collapsed": false
   },
   "outputs": [],
   "source": [
    "company = critics.groupby('company').agg({'prediction':np.mean})\n",
    "company2 = critics.groupby('company').agg({'prediction_binary':np.mean})"
   ]
  },
  {
   "cell_type": "code",
   "execution_count": null,
   "metadata": {
    "collapsed": false
   },
   "outputs": [],
   "source": [
    "grp = critics.groupby('company')"
   ]
  },
  {
   "cell_type": "code",
   "execution_count": null,
   "metadata": {
    "collapsed": false
   },
   "outputs": [],
   "source": [
    "names = []\n",
    "for a,b in grp:\n",
    "    names.append(a)"
   ]
  },
  {
   "cell_type": "code",
   "execution_count": null,
   "metadata": {
    "collapsed": true
   },
   "outputs": [],
   "source": [
    "values = []\n",
    "for i in company.values:\n",
    "    values.append(i[0])\n",
    "values2 = []\n",
    "for i in company2.values:\n",
    "    values2.append(i[0])"
   ]
  },
  {
   "cell_type": "code",
   "execution_count": null,
   "metadata": {
    "collapsed": false
   },
   "outputs": [],
   "source": [
    "final = pd.DataFrame()\n",
    "final['weighted_predict'] = values\n",
    "final['name'] = names\n",
    "final['predict_binary'] = values2"
   ]
  },
  {
   "cell_type": "code",
   "execution_count": null,
   "metadata": {
    "collapsed": false
   },
   "outputs": [],
   "source": [
    "final.head()"
   ]
  },
  {
   "cell_type": "code",
   "execution_count": null,
   "metadata": {
    "collapsed": true
   },
   "outputs": [],
   "source": [
    "final.to_csv(\"company_with_predictions_binary_no_hierarchy.csv\")"
   ]
  },
  {
   "cell_type": "markdown",
   "metadata": {},
   "source": [
    "#Predictions with Categories"
   ]
  },
  {
   "cell_type": "code",
   "execution_count": null,
   "metadata": {
    "collapsed": true
   },
   "outputs": [],
   "source": [
    "vectorizer = CountVectorizer(min_df=best_min_df)\n",
    "X, y = make_xy(critics, vectorizer)"
   ]
  },
  {
   "cell_type": "code",
   "execution_count": null,
   "metadata": {
    "collapsed": true
   },
   "outputs": [],
   "source": [
    "prediction = best_rf.predict(X)"
   ]
  },
  {
   "cell_type": "code",
   "execution_count": null,
   "metadata": {
    "collapsed": false
   },
   "outputs": [],
   "source": [
    "critics['prediction_range_range'] = prediction\n"
   ]
  },
  {
   "cell_type": "code",
   "execution_count": null,
   "metadata": {
    "collapsed": false
   },
   "outputs": [],
   "source": [
    "critics['prediction_range'] = prediction*critics['score']"
   ]
  },
  {
   "cell_type": "code",
   "execution_count": null,
   "metadata": {
    "collapsed": true
   },
   "outputs": [],
   "source": [
    "company_range = critics.groupby('company').agg({'prediction_range':np.mean})"
   ]
  },
  {
   "cell_type": "code",
   "execution_count": null,
   "metadata": {
    "collapsed": false
   },
   "outputs": [],
   "source": [
    "weight_values = []\n",
    "for i in company_range.values:\n",
    "    weight_values.append(i[0])"
   ]
  },
  {
   "cell_type": "code",
   "execution_count": null,
   "metadata": {
    "collapsed": false
   },
   "outputs": [],
   "source": [
    "final_weight = pd.DataFrame()\n",
    "final_weight['weighted_predict_range'] = weight_values\n",
    "final_weight['name'] = names"
   ]
  },
  {
   "cell_type": "code",
   "execution_count": null,
   "metadata": {
    "collapsed": false
   },
   "outputs": [],
   "source": [
    "final_weight.to_csv(\"company_with_prediction_range_no_hierarchy.csv\")"
   ]
  },
  {
   "cell_type": "markdown",
   "metadata": {},
   "source": [
    "#Second Model Using Text Characteristics"
   ]
  },
  {
   "cell_type": "code",
   "execution_count": null,
   "metadata": {
    "collapsed": true
   },
   "outputs": [],
   "source": [
    "import statsmodels.api as sm\n",
    "from statsmodels.formula.api import glm, ols"
   ]
  },
  {
   "cell_type": "code",
   "execution_count": null,
   "metadata": {
    "collapsed": false
   },
   "outputs": [],
   "source": [
    "ols_model = ols('Answer1 ~prediction_range_range + num_word:num_sentence + num_word ', critics).fit()\n",
    "ols_model.summary()"
   ]
  },
  {
   "cell_type": "code",
   "execution_count": null,
   "metadata": {
    "collapsed": false
   },
   "outputs": [],
   "source": [
    "y = ols_model.predict(critics)"
   ]
  },
  {
   "cell_type": "code",
   "execution_count": null,
   "metadata": {
    "collapsed": true
   },
   "outputs": [],
   "source": [
    "critics['prediction_range'] = y*critics['score']\n",
    "critics['range'] = y\n",
    "\n",
    "company_range = critics.groupby('company').agg({'prediction_range':np.mean})\n",
    "company_range2 = critics.groupby('company').agg({'range':np.mean})\n",
    "\n",
    "weight_values = []\n",
    "for i in company_range.values:\n",
    "    weight_values.append(i[0])\n",
    "    \n",
    "weight = []\n",
    "for i in company_range2.values:\n",
    "    weight.append(i[0])\n",
    "final_weight = pd.DataFrame()\n",
    "\n",
    "final_weight['weighted_predict_range'] = weight_values\n",
    "final_weight['name'] = names\n",
    "final_weight['predict_range'] = weight\n",
    "\n",
    "final_weight.to_csv(\"company_with_prediction_range_multimodel.csv\")"
   ]
  },
  {
   "cell_type": "code",
   "execution_count": 1,
   "metadata": {
    "collapsed": false
   },
   "outputs": [
    {
     "ename": "NameError",
     "evalue": "name 'ols' is not defined",
     "output_type": "error",
     "traceback": [
      "\u001b[0;31m---------------------------------------------------------------------------\u001b[0m",
      "\u001b[0;31mNameError\u001b[0m                                 Traceback (most recent call last)",
      "\u001b[0;32m<ipython-input-1-07f828d74bca>\u001b[0m in \u001b[0;36m<module>\u001b[0;34m()\u001b[0m\n\u001b[0;32m----> 1\u001b[0;31m \u001b[0mols_model\u001b[0m \u001b[0;34m=\u001b[0m \u001b[0mols\u001b[0m\u001b[0;34m(\u001b[0m\u001b[0;34m'Answer1 ~prediction+ num_word:num_sentence + num_word '\u001b[0m\u001b[0;34m,\u001b[0m \u001b[0mcritics\u001b[0m\u001b[0;34m)\u001b[0m\u001b[0;34m.\u001b[0m\u001b[0mfit\u001b[0m\u001b[0;34m(\u001b[0m\u001b[0;34m)\u001b[0m\u001b[0;34m\u001b[0m\u001b[0m\n\u001b[0m\u001b[1;32m      2\u001b[0m \u001b[0mols_model\u001b[0m\u001b[0;34m.\u001b[0m\u001b[0msummary\u001b[0m\u001b[0;34m(\u001b[0m\u001b[0;34m)\u001b[0m\u001b[0;34m\u001b[0m\u001b[0m\n",
      "\u001b[0;31mNameError\u001b[0m: name 'ols' is not defined"
     ]
    }
   ],
   "source": [
    "ols_model = ols('Answer1 ~prediction+ num_word:num_sentence + num_word ', critics).fit()\n",
    "ols_model.summary()"
   ]
  },
  {
   "cell_type": "code",
   "execution_count": null,
   "metadata": {
    "collapsed": false
   },
   "outputs": [],
   "source": []
  },
  {
   "cell_type": "code",
   "execution_count": null,
   "metadata": {
    "collapsed": true
   },
   "outputs": [],
   "source": []
  }
 ],
 "metadata": {
  "kernelspec": {
   "display_name": "Python 2",
   "language": "python",
   "name": "python2"
  },
  "language_info": {
   "codemirror_mode": {
    "name": "ipython",
    "version": 2
   },
   "file_extension": ".py",
   "mimetype": "text/x-python",
   "name": "python",
   "nbconvert_exporter": "python",
   "pygments_lexer": "ipython2",
   "version": "2.7.10"
  }
 },
 "nbformat": 4,
 "nbformat_minor": 0
}
