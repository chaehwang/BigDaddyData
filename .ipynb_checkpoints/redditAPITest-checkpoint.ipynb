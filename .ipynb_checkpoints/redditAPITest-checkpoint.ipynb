{
 "cells": [
  {
   "cell_type": "code",
   "execution_count": 1,
   "metadata": {
    "collapsed": false
   },
   "outputs": [],
   "source": [
    "import requests\n",
    "from bs4 import BeautifulSoup\n",
    "\n",
    "headers = {\n",
    "    'User-Agent': 'desktop:com.startupsentimentanalysis:v0.0.1 (by  /u/all_clear)'\n",
    "}\n"
   ]
  },
  {
   "cell_type": "code",
   "execution_count": 2,
   "metadata": {
    "collapsed": true
   },
   "outputs": [],
   "source": [
    "r = requests.get('http://www.reddit.com/r/tech/search?q=\"microsoft\"', headers=headers)"
   ]
  },
  {
   "cell_type": "code",
   "execution_count": 3,
   "metadata": {
    "collapsed": false
   },
   "outputs": [],
   "source": [
    "soup = BeautifulSoup(r.text)"
   ]
  },
  {
   "cell_type": "code",
   "execution_count": 1,
   "metadata": {
    "collapsed": false
   },
   "outputs": [],
   "source": [
    "#soup"
   ]
  },
  {
   "cell_type": "code",
   "execution_count": 5,
   "metadata": {
    "collapsed": false
   },
   "outputs": [],
   "source": [
    "# searchPosts is a list that'll contain the links of actual relevant posts\n",
    "searchPosts = []\n",
    "\n",
    "for link in soup.find_all('a', ['search-title', 'may-blank']):\n",
    "     if (link['href'][-16:] == \"ref=search_posts\") and (link.text[-8:] != \"comments\") and (link['href'][:4] == \"http\"):\n",
    "            searchPosts.append(link)\n"
   ]
  },
  {
   "cell_type": "code",
   "execution_count": 6,
   "metadata": {
    "collapsed": false
   },
   "outputs": [
    {
     "name": "stdout",
     "output_type": "stream",
     "text": [
      "https://www.reddit.com/r/technology/comments/2wpzbm/the_superfish_problem_is_microsofts_opportunity/?ref=search_posts\n",
      "https://www.reddit.com/r/explainlikeimfive/comments/39q25f/eli5_apple_is_forcing_every_iphone_to_have/?ref=search_posts\n",
      "https://www.reddit.com/r/Minecraft/comments/2ggf7s/mega_thread_microsoft_has_acquired_mojang/?ref=search_posts\n",
      "https://www.reddit.com/r/IAmA/comments/3rid26/we_are_the_microsoft_excel_team_ask_us_anything/?ref=search_posts\n",
      "https://www.reddit.com/r/IAmA/comments/16i543/iama_a_microsoft_employee_who_has_worked_on/?ref=search_posts\n",
      "https://www.reddit.com/r/Games/comments/27pdp8/official_rgames_microsoft_2014_e3_conference/?ref=search_posts\n",
      "https://www.reddit.com/r/gaming/comments/1fwby3/considering_the_last_thread_was_mysteriously/?ref=search_posts\n",
      "https://www.reddit.com/r/gaming/comments/1g4765/dear_microsoft_gamers_made_the_xbox_360_arguably/?ref=search_posts\n",
      "https://www.reddit.com/r/sysadmin/comments/2h8nbu/microsoft_certified_exams_can_now_be_taken_online/?ref=search_posts\n",
      "https://www.reddit.com/r/politics/comments/z14wb/obamas_top_5_contributors_are_the_university_of/?ref=search_posts\n",
      "https://www.reddit.com/r/microsoft/comments/2yrjpc/i_didnt_care_for_microsoft_as_a_business_that_is/?ref=search_posts\n",
      "https://www.reddit.com/r/IAmA/comments/1mz20e/hi_im_panos_panay_corporate_vp_of_surface_at/?ref=search_posts\n",
      "https://www.reddit.com/r/Games/comments/1g1vo2/official_rgames_microsoft_e3_conference_thread/?ref=search_posts\n",
      "https://www.reddit.com/r/xboxone/comments/3dp85z/wow_microsoft_and_xbox_really_pulled_through/?ref=search_posts\n",
      "https://www.reddit.com/r/IAmA/comments/11kyja/iam_panos_panay_gm_of_microsoft_surface_amaa_ask/?ref=search_posts\n",
      "https://www.reddit.com/r/YouShouldKnow/comments/3svxp5/ysk_how_to_recover_an_unsaved_draft_on_microsoft/?ref=search_posts\n",
      "https://www.reddit.com/r/SubredditDrama/comments/2ggtro/microsoft_buys_minecraft_the_gaming_community/?ref=search_posts\n",
      "https://www.reddit.com/r/Frugal/comments/1xbghm/website_dedicated_to_free_tutorials_covering/?ref=search_posts\n",
      "https://www.reddit.com/r/microsoft/comments/3np2du/microsoft_surface_is_the_most_innovative_and_well/?ref=search_posts\n",
      "https://www.reddit.com/r/microsoft/comments/rsbb2/reddit_thoughts_why_the_microsoft_hate/?ref=search_posts\n",
      "https://www.reddit.com/r/technology/comments/97tqu/microsoft_wins_again_arrghh/?ref=search_posts\n"
     ]
    }
   ],
   "source": [
    "for link in searchPosts:\n",
    "    print link['href']"
   ]
  },
  {
   "cell_type": "code",
   "execution_count": 2,
   "metadata": {
    "collapsed": false
   },
   "outputs": [],
   "source": [
    "import praw\n",
    "# r = praw.Reddit(user_agent='my_cool_application')\n",
    "# #submissions = r.get_subreddit('Microsoft').get_top(limit=5)\n",
    "# #hello = [str(x) for x in submissions]"
   ]
  },
  {
   "cell_type": "code",
   "execution_count": 3,
   "metadata": {
    "collapsed": false
   },
   "outputs": [],
   "source": [
    "# pd.DataFrame(hello).to_csv(\"test.csv\")"
   ]
  },
  {
   "cell_type": "code",
   "execution_count": 4,
   "metadata": {
    "collapsed": true
   },
   "outputs": [],
   "source": [
    "import pandas as pd"
   ]
  },
  {
   "cell_type": "code",
   "execution_count": 84,
   "metadata": {
    "collapsed": false
   },
   "outputs": [],
   "source": [
    "# import time\n",
    "\n",
    "# # import praw\n",
    "\n",
    "# r = praw.Reddit('PRAW related-question monitor by u/_Daimon_ v 1.0.'\n",
    "#                 'Url: https://praw.readthedocs.org/en/latest/'\n",
    "#                 'pages/writing_a_bot.html')\n",
    "# r.login()\n",
    "# already_done = []\n",
    "\n",
    "# prawWords = ['praw', 'reddit_api', 'mellort']\n",
    "\n",
    "# subreddit = r.get_subreddit('learnpython')\n",
    "# for submission in subreddit.get_hot(limit=10):\n",
    "#     op_text = submission.selftext.lower()\n",
    "#     has_praw = any(string in op_text for string in prawWords)\n",
    "#     # Test if it contains a PRAW-related question\n",
    "#     if submission.id not in already_done and has_praw:\n",
    "#         msg = '[PRAW related thread](%s)' % submission.short_link\n",
    "#         r.send_message('_Daimon_', 'PRAW Thread', msg)\n",
    "#         already_done.append(submission.id)\n"
   ]
  },
  {
   "cell_type": "code",
   "execution_count": 5,
   "metadata": {
    "collapsed": false
   },
   "outputs": [],
   "source": [
    "companies = pd.read_csv(\"companies.csv\")\n"
   ]
  },
  {
   "cell_type": "code",
   "execution_count": null,
   "metadata": {
    "collapsed": false
   },
   "outputs": [
    {
     "name": "stdout",
     "output_type": "stream",
     "text": [
      "420 :: Google Has a new layout for diseases\n",
      "16 :: United vs. google? What's the cause for United to call google out on th...\n",
      "58 :: Monthly APPreciation Thread for November 2015\n",
      "737 :: Dell added Thurderbolt 3 to it's entire range of XPS laptops and nobod...\n",
      "no\n",
      "16 :: New Amazon Prime Air teaser\n",
      "5 :: What are the needs fulfilled by the Amazon Echo?"
     ]
    }
   ],
   "source": [
    "import time\n",
    "body = []\n",
    "score = []\n",
    "company = []\n",
    "link = []\n",
    "\n",
    "for i in companies.values:\n",
    "    r = praw.Reddit('Comment parser example by u/_Daimon_')\n",
    "    subreddit = r.get_subreddit(i[0]).get_hot(limit = 3)\n",
    "    for k in subreddit:\n",
    "        print k\n",
    "        try:\n",
    "            comments = praw.helpers.flatten_tree(k.comments)\n",
    "            #comments = k.get_comments()\n",
    "            for j in comments:\n",
    "                body.append(j.body)\n",
    "                score.append(j.score)\n",
    "                company.append(i[0])\n",
    "                link.append(j.permalink)\n",
    "        except:\n",
    "            print 'no'\n",
    "            pass\n",
    "        time.sleep(10)\n",
    "pd.DataFrame({'body':body, 'score':score, 'company':company, 'link':link})"
   ]
  },
  {
   "cell_type": "code",
   "execution_count": 106,
   "metadata": {
    "collapsed": true
   },
   "outputs": [],
   "source": [
    "temp = pd.DataFrame({'body':body, 'score':score, 'company':company})"
   ]
  },
  {
   "cell_type": "code",
   "execution_count": 23,
   "metadata": {
    "collapsed": false
   },
   "outputs": [
    {
     "data": {
      "text/plain": [
       "[u\"It's been like that for a while.\",\n",
       " u\"Haha that's the funny part about reddit.. I posted this like 3-4 months ago on here and it got downvoted to hell. Gets posted now and it has over 350 upvotes.. lmao\",\n",
       " u\"Mine isn't.\",\n",
       " u\"Canada here, don't have it.\",\n",
       " u'You can also download a cool pdf that includes all that information. right from the search results screen.',\n",
       " u'Link to the PDF please?',\n",
       " u'US only? ',\n",
       " u\"I'm in the UK and it worked\",\n",
       " u\"I'm UK and it didn't work.\",\n",
       " u'Worked a few months ago for me in the UK. ',\n",
       " u'I assume Google regularly does limited real world tests with all kinds of stuff. Other companies are probably jealous as hell when they see how Google can just go and say \"Oh let\\'s do some experiments and see how this feature in 20 different variations scores with our users.\" ',\n",
       " u\"I'm in Denmark and it doesn't look like that\",\n",
       " u'Australia also is a no',\n",
       " u'Google, making the unknown known. http://imgur.com/5bxHYYC',\n",
       " u\"[It's been that way since February.](https://googleblog.blogspot.com/2015/02/health-info-knowledge-graph.html) (At least in the U.S.)\",\n",
       " u'Beautiful ',\n",
       " u'Thought this was /r/4chan for a second ',\n",
       " u\"Chrome probably doesn't allow the way they're doing the session hijacking. My guess would be XSRF protection, but United's of course going to make it sound like it's Chrome's fault.\",\n",
       " u\"They also don't allow insecure ciphers to be used for the wifi sign-on pages anymore, which could also be the reason. Either way, if they setup their network properly they wouldn't have any issues with Chrome.\",\n",
       " u\"Another possibility is that they're using an NPAPI plugin still for Firefox and Chrome, which Chrome recently started blocking.\",\n",
       " u\"Many OEMs (Gigabyte, ASUS, MSI...) also sell Thunderbolt 3 enabled motherboards now. Thanks to the USB-C connector, and Alpine Ridge controller, the third iteration of Thunderbolt is on its way to becoming mainstream for all PCs.\\n\\n**Which is great because we'll get more peripherals and better pricing overall. Also, the promise of external GPUs.**\\n\\nNow the question is why didn't Apple put TB3 ports in the latest 2015 iMac refresh?... Too bad, really, as it would have allowed us to use a better GPU eventually... Apple were front runners with TB 1 & 2 and now they lag behind PC OEMs. :(\",\n",
       " u'Got the gigabyte board with thunderbolt. Now just need to figure out how to virtualize my graphics card on my pc so i can display to thunderbolt display. ',\n",
       " u\"They put a hdd instead of an ssd as standard on the imac. They're kind of cash grabbing on the imac now. \",\n",
       " u'I have looked into some Asus-motherboards, and while they have thunderbolt headers on the board itself, I can only find information about them having USB 3.1 via USB-C on the backplate. ',\n",
       " u\"Well TB3 uses USB-C connectors, usually USB 3.1 compatible, so I'm confused about your question?\\n\\nHere's an example: https://www.asus.com/Motherboards/Z170-PREMIUM/\\n\\nI don't know much about ASUS, I'm more of a Gigabyte guy myself.\\n\\nEDIT: I think you're right, they may not have released TB3 mobos yet. It's definitely in their plans at any rate.\",\n",
       " u'For some reason the thunderbolt compatability on that motherboard had completely escaped me. Thanks for the info!',\n",
       " u'A better GPU without being able to use the internal 5K display. ',\n",
       " u\"TB3 is basically a PCIe 3.0 4x port (40 GB/s), so one will be able to hook up an external GPU pretty much like you'd plug an internal one.\",\n",
       " u'But then you need to figure out plugging the internal monitor into the external graphics card display port. If it supported target display mode like older iMacs, it would work. ',\n",
       " u\"On laptops they'd probably consider feedback into the internal display as redundant, since most people have been using a docking system w/ an external display for years anyway.\",\n",
       " u'Target Display Mode no longer exists in the current gen iMacs.',\n",
       " u\"That's for the OEM to work out, but you have to assume that if laptops (or All in Ones like the iMac) accept TB3 eGPUs, surely they'll be able to drive the video out to the internal display. Otherwise it doesn't make much sense.\\n\\nMSI has an eGPU in the works, we'll see how it works. Probably just route the video out internally to the built-in display video in. Or maybe use a short USB 3.1 cable as video in, from the video out of the eGPU (the flow would be TB3 out -> eGPU in -> eGPU USB3.1 out -> USB 3.1 (or another TB) in -> done).\\n\\nAnyhow it seems like a very small engineering challenge, it's just routing a cable somewhere.\\n\\nAlso remember that with DX12 for instance, you can use both the iGPU and dGPU (or eGPU) at the same time, which means you will probably be able to use either video out (the one from the motherboard, or the one from the GPU).\",\n",
       " u'You can currently use external GPUs with the internal LCD with [this](http://www.trustedreviews.com/opinions/nvidia-optimus-explained_Page-2).',\n",
       " u'> (40 GB/s)\\n\\nCorrection - TB3 is [40 giga**bits** per second (G**b**ps)](https://thunderbolttechnology.net/blog/thunderbolt-3-usb-c-does-it-all), not 40 giga**bytes** per second (G**B**ps). The distinction is there are 8 bits to a byte. A byte is capitalized B in GBps and and a bit is lowercase b in Gbps. ',\n",
       " u\"> Now the question is why didn't Apple put TB3 ports in the latest 2015 iMac refresh?... Too bad, really, as it would have allowed us to use a better GPU eventually... Apple were front runners with TB 1 & 2 and now they lag behind PC OEMs. :(\\n\\nBecause the ultraportable devices with TB3 have Broadwell which is not available in a desktop form, you would have to use a Skylake chip which hasn't really hit the market too well outside of the K enthusiast chips.\\n\\nTB3 requires a particular pcie configuration as it is requiring more and more lanes with every generation. Broadwell/Skylake increased this capability.\",\n",
       " u'There are Broadwell based computers with Thunderbolt 3.0? Got a link?',\n",
       " u\"I don't think any exist currently due to the chipset timing, but broadwell should be capable. We'll probably just never see any. Maybe Broadwell-E when it launches. Otherwise skylake is it for mobile.\",\n",
       " u\"Do you have more info on Broadwell supporting Thunderbolt 3.0 though? I thought it was restricted to Skylake.\\n\\nThat would mean we'd get a TB3 wielding Mac Pro a lot sooner than the Skylake Xeon E5s are due...\",\n",
       " u\"> Do you have more info on Broadwell supporting Thunderbolt 3.0 though? \\n\\nThunderbolt still is, and will probably be for quite a while a separate chipset. The CPU doesn't directly dictate support(yet), the board design and available PCI-E lanes do.\\n\\nThe problem with the Mac Pro is that they use Xeons, which will be running Broadwell-e not skylake. However, the high end Xeons should have enough PCI-E lane availability to support a chipset upgrade.\",\n",
       " u\"That's a very good observation. it's true that Intel messed up a lot and made refreshes complicated this year.\",\n",
       " u\"FFS, I've been waiting for an eGPU for ages now. Plenty of companies (ASUS, MSI, Gigabyte) have shown working prototypes, but Intel are being really shitty about who and what is allowed to use Thunderbolt.\",\n",
       " u\"Intel actually showed off egpu stuff earlier this year with skylake and tb3. It's happening.\",\n",
       " u'Alienware already has them available to buy for their machines but they do not use TB3. \\n\\nEdit: http://www.pcworld.com/article/2907954/reviewed-alienwares-amplifier-turbo-boosts-a-laptop-with-titan-x-graphics.html\\n\\nI was really expecting TB to get there first but it actually looks like they are late to the game and with a inferior product because they waited so long.',\n",
       " u\"Well, it's not like Alienware's custom, proprietary PCI connection is ever going to take off, so it doesn't matter.\",\n",
       " u'My guess is that they want to launch TB3 on one of their flagship \"pro\" models. After all, TB1 was first released on the MacBook Pro, and TB2 came in on the Mac Pro. \\n\\nAs nice as the retina iMacs are, laptops are the real money makers for the Mac, and it makes sense that Apple would want to hype them up with as exclusive new tech as possible. ',\n",
       " u\"They'd have one computer with 3 and the rest with 2, not a great way to start.\",\n",
       " u\"I highly doubt they're going to wait that long...\\n\\nMac Pros use Xeon E5s, which generally launch about a year after the mainstream chips for any given generation. We're still waiting on Broadwell Xeon E5s to come in maybe Q1 or Q2 of 2016. Skylake Xeon E5s aren't coming until Q3 or Q4 2016, and that's when we'll get Thunderbolt 3.0 in the Mac Pro. \",\n",
       " u\"That's going to leave that machine extremely long in the tooth if it takes that long. The current model dates from late 2013.\",\n",
       " u'The current model is the longest MacPro has gone without a refresh.',\n",
       " u\"That's what's kind of worrying. Can they really hold out until...late 2016?\",\n",
       " u\"Right. Personally I think we'll see a Broadwell based Mac Pro in early 2016, and the a Skylake based Mac Pro in late 2017. \",\n",
       " u'With how long the tower Mac pro stuck around, I doubt that. I could see them waiting till 2017 but if they update in 2016 then I doubt they will again the next year. ',\n",
       " u'rMBP 14\". No dGPU, but TB3 allows you to plug in an nVidia 980 TI.',\n",
       " u\"Why would a company that is going out of its way to prevent upgrading with your own parts add something that would enable you to make such a significant upgrade?    \\n\\nI am a huge apple fan boy, but I can't see this happening in anything besides the Mac Pro, and I don't even think that's too likely.\",\n",
       " u'I\\'d the lack of mac upgradability has more to do with making things combat/small/thin than greed. An external GPU would be even more freeing to the 15\" MBP because they could then eliminate the design constraint of fitting a mobile GPU in them. And clearly apple kinda hates having to put up with nvidia/amd graphics based on outdated the ones they use are. \\n\\nI bet thats Apple\\'s plan, release iGPU only MBPs alongside a sleek aluminum enclosure and workstation grade FirePro cards built in. ',\n",
       " u\"The new Mac mini and 21 inch iMac have the same designs as the previous generations, but both moved to soldered ram. It's not just about making things smaller. It's a business decision. \",\n",
       " u\"Yep, Apple knows that most smart shoppers will buy the base model, then buy RAM on Amazon instead of paying Apple double the price to upgrade.\\n\\nI'd imagine this is why most phone manufacturers are leaving out SD card slots.\",\n",
       " u\"People [have already gotten external GPUs running over Thunderbolt 2](http://www.journaldulapin.com/2013/08/24/a-thunderbolt-gpu-on-a-mac-how-to/) on Apple laptops with minimal performance hit (~80%) and there have been several demonstrations of eGPU TB2 devices at various trade shows. However, none of these have made it to market yet and they've all required a fairly heavy amount of fiddling around by the user, not exactly the plug-and-play ease of use you'd expect to see from Apple. TB3 will allow higher bandwidth and reduce the performance hit from eGPUs even further, which could be the final step that sees eGPUs entering the mainstream.\",\n",
       " u\"I've been waiting so many years for eGPUs to go mainstream.  Now that I think about it, it might be another nail in desktop's coffin.\",\n",
       " u\">going out of its way to prevent upgrading\\n\\nHow so? The form factor of the iMac doesn't lend itself to upgrading, but Apple didn't adopt that form to prevent upgrading. Apple co-developed Thunderbolt and has implemented each successive generation but because TB3 isn't on the new iMacs they are suddenly going out of their way to prevent upgrading? That doesn't make sense.\",\n",
       " u\"On board ram doesn't provide a significant advantage in space, power consumption, or costs.\",\n",
       " u'Thunderbolt ram however...',\n",
       " u'They definitely are trying to prevent upgrading. The new Mac mini has the same design as the old one, but moved to soldered ram. Same with the 21 inch iMac. ',\n",
       " u\"It's far, far more likely that's to cut manufacturing and warranty/support costs on low-end systems, otherwise they would have done that years ago.\",\n",
       " u\"Apple doesn't warranty replaced parts anyway. And if your OEM ram failed, it would be a lot easier and less expensive for Apple to replace that than the entire logic board. \",\n",
       " u\"The only substantive improvement to the current mini, beside the graphics, was a second thunderbolt port. Which significantly increases the ability to upgrade storage, graphics and port selection (through adapters and hubs).\\n\\nIt's not much compared to the locking they did but it does improve the upgradability.\",\n",
       " u\"None of the new laptops allow upgrading, I understand it's small form factor, but that's not really an excuse.\",\n",
       " u'You\\'d be surprised. \\n\\nStarting with the Mac Pro, the substantive add-ons and components for the desktop is achieved not through internal upgrade slots, but through the use of the Thunderbolt 3 extension. \\n\\nSo basically more storage, more functionality and processing performance, through external add-ons. \\n\\nA dGPU would allow this to happen, especially for a \\'Pro\\'-tier laptop like the rMBP 14\". In addition, it would outsource the cost of purchasing the discrete GPU to the user (And therefore wouldn\\'t damage the high profit margins that Apple seems to be clinging on to in recent times).\\n\\nI\\'m speaking from an Apple fanboy perspective as well.',\n",
       " u'The Mac Pro has thinderbolt 3?',\n",
       " u'No, all the latest Apple products currently use Thunderbolt 2',\n",
       " u'14\"? Why the downgrade?',\n",
       " u'With a low wattage dual core mobile CPU... No thanks.',\n",
       " u\"That lilts MacBook would explode lol.\\n\\nWhy not just throw an AMD on there and cause a nuclear explosion while you're playing fallout\",\n",
       " u'I think some companies already do something similar. Alienware has this weird GPU in a box you can buy alongside their laptops.',\n",
       " u\"You'd probably need an external power supply as well, unless the rMBP can sustain that many watts.\",\n",
       " u'All of the no.',\n",
       " u'Damn that would be amazing. Then just throw in a 5k retina cinema display...\\n\\nhttp://i.imgur.com/Y88sPTY.gif',\n",
       " u'My CC is ready to go for a tb3+5k display combination.',\n",
       " u'https://i.imgur.com/cYanmPn.gif',\n",
       " u\"You're not gaming at 5k with a 980ti\",\n",
       " u\"Depends on the game and settings really. I've gamed on a 5K monitor with a 980Ti. It was great. \",\n",
       " u\"Naw, 3D rendering dawg. Right now I'm stuck running a Linux machine hooked up to an old TV like a savage. \",\n",
       " u\"You're not gaming at 5k with anything currently on the market...\",\n",
       " u'I know',\n",
       " u'Im sure a game like doom could run at 5k, right?\\n',\n",
       " u'Sure. It would be about the size of a postage stamp up there but why not, YOLO.\\n\\nBrutal Doom might update to 5K support which would be sweet',\n",
       " u'actually you can. [link](https://www.youtube.com/watch?v=AxUZPvzsPXY)\\nFar cry 4 - 5K Ultra @50fps ',\n",
       " u\"Huh. TIL. I assume that's an exception to the rule, though I haven't looked into it much. FC4 seems well optimized for Maxwell GPUs. Shadow of Mordor and Bioshock Infinite are both older games and aren't as GPU-intensive as more recent AAA titles like GTA V. In the case of the 5k iMac though I'd expect that the CPU would limit performance more because of throttling due to high temperatures. \",\n",
       " u'FIFTY fps?! the fuck?',\n",
       " u'> Thurderbolt',\n",
       " u'Turdbolt.',\n",
       " u'I like that this is downvoted. Just shows how fickle Reddit is. ',\n",
       " u'> Thirderbolt',\n",
       " u\"It's\",\n",
       " u'Whoops',\n",
       " u'ermahgerd thurderbolt.',\n",
       " u'Came here to say this.  You took my thurder. ',\n",
       " u\"No one noticed?  People have been talking about it since it came out. Maybe you weren't paying attention to non Apple hardware. \\n\\nI'm about to buy an XPS 15, but waiting to see how the Lenovo P50/70 turn out. It'll be a desktop replacement so I don't need super portability but I'm worried that the XPS may be too thin to handle the hardware in it--ie Heat issues. \\n\\nAlso so far no TB3 eGPU enclosures. \",\n",
       " u\"It's a good thing.\\n\\nBut why is this on /r/Apple ?\",\n",
       " u'eGPU options that will undoubtedly run circles around anything Apple puts in their machines ',\n",
       " u'Because Apple has arguably been the biggest supporter of Thunderbolt up to this point. But now they seem to be lagging.',\n",
       " u'no needs, just wants. ',\n",
       " u\"My parents have one that I get to use when I go home and I can't say I'm very impressed with it. If you know the music you enjoy is available on Prime, then it should have no issues playing that when you ask it to. We all speak clearly in plain English but at times it seems to have problems understanding what we're saying. I believe this may have more to do with connectivity issues, but the issue persists.\\n\\nAnd of course if you have your tinfoil hat on, it fulfills the need to have your household audio recorded 24/7\\n\\nIf you have any specific questions I can do my best to answer them. I'm sure it's very useful for some peoples needs. For myself however, I don't see the price being justified. I'd rather use my phone and its voice capabilities than have a dedicated unit in my home.\",\n",
       " u\"If you click on the mute button on the unit it won't listen to you at all, you can still use the remote to force it to listen while pushed down.\",\n",
       " u'I was super, super sick a few months ago,  and echo was great for playing music, podcasts, etc. when I was bedridden.  I hear it can also be a nice interface for some smart home projects.  Other than that,  it is an expensive toy =)',\n",
       " u\"I wouldn't buy this now, but I got the Prime beta $99 price several months ago and figured it would be nice. I use my echo as a bluetooth speaker primarily, and also find it nice, believe it or not, for those times when I want to hear the time or the news while I'm in bed and don't want to take out my phone. Other than that, the Amazon Music selection is rather limited, and I do listen to some podcasts on it. It's also nice for those times where you might have an Audible subscription (I don't).\",\n",
       " u'If one of your friends is drunk enough to puke, take a cab. No one cares if you puke in a cab. ',\n",
       " u'Nope, they also care. Last time I was in one when a friend threw up it cost $150.']"
      ]
     },
     "execution_count": 23,
     "metadata": {},
     "output_type": "execute_result"
    }
   ],
   "source": [
    "body"
   ]
  },
  {
   "cell_type": "code",
   "execution_count": 111,
   "metadata": {
    "collapsed": false
   },
   "outputs": [],
   "source": [
    "temp.to_csv(\"comments.csv\",  encoding='utf-8')"
   ]
  },
  {
   "cell_type": "code",
   "execution_count": null,
   "metadata": {
    "collapsed": true
   },
   "outputs": [],
   "source": []
  }
 ],
 "metadata": {
  "kernelspec": {
   "display_name": "Python 2",
   "language": "python",
   "name": "python2"
  },
  "language_info": {
   "codemirror_mode": {
    "name": "ipython",
    "version": 2
   },
   "file_extension": ".py",
   "mimetype": "text/x-python",
   "name": "python",
   "nbconvert_exporter": "python",
   "pygments_lexer": "ipython2",
   "version": "2.7.10"
  }
 },
 "nbformat": 4,
 "nbformat_minor": 0
}
