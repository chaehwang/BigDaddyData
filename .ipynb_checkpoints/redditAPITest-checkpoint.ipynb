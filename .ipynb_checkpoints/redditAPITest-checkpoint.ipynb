{
 "cells": [
  {
   "cell_type": "code",
   "execution_count": 1,
   "metadata": {
    "collapsed": false
   },
   "outputs": [],
   "source": [
    "import requests\n",
    "from bs4 import BeautifulSoup\n",
    "\n",
    "headers = {\n",
    "    'User-Agent': 'desktop:com.startupsentimentanalysis:v0.0.1 (by  /u/all_clear)'\n",
    "}\n"
   ]
  },
  {
   "cell_type": "code",
   "execution_count": 2,
   "metadata": {
    "collapsed": true
   },
   "outputs": [],
   "source": [
    "r = requests.get('http://www.reddit.com/r/tech/search?q=\"microsoft\"', headers=headers)"
   ]
  },
  {
   "cell_type": "code",
   "execution_count": 3,
   "metadata": {
    "collapsed": false
   },
   "outputs": [],
   "source": [
    "soup = BeautifulSoup(r.text)"
   ]
  },
  {
   "cell_type": "code",
   "execution_count": 1,
   "metadata": {
    "collapsed": false
   },
   "outputs": [],
   "source": [
    "#soup"
   ]
  },
  {
   "cell_type": "code",
   "execution_count": 5,
   "metadata": {
    "collapsed": false
   },
   "outputs": [],
   "source": [
    "# searchPosts is a list that'll contain the links of actual relevant posts\n",
    "searchPosts = []\n",
    "\n",
    "for link in soup.find_all('a', ['search-title', 'may-blank']):\n",
    "     if (link['href'][-16:] == \"ref=search_posts\") and (link.text[-8:] != \"comments\") and (link['href'][:4] == \"http\"):\n",
    "            searchPosts.append(link)\n"
   ]
  },
  {
   "cell_type": "code",
   "execution_count": 6,
   "metadata": {
    "collapsed": false
   },
   "outputs": [
    {
     "name": "stdout",
     "output_type": "stream",
     "text": [
      "https://www.reddit.com/r/technology/comments/2wpzbm/the_superfish_problem_is_microsofts_opportunity/?ref=search_posts\n",
      "https://www.reddit.com/r/explainlikeimfive/comments/39q25f/eli5_apple_is_forcing_every_iphone_to_have/?ref=search_posts\n",
      "https://www.reddit.com/r/Minecraft/comments/2ggf7s/mega_thread_microsoft_has_acquired_mojang/?ref=search_posts\n",
      "https://www.reddit.com/r/IAmA/comments/3rid26/we_are_the_microsoft_excel_team_ask_us_anything/?ref=search_posts\n",
      "https://www.reddit.com/r/IAmA/comments/16i543/iama_a_microsoft_employee_who_has_worked_on/?ref=search_posts\n",
      "https://www.reddit.com/r/Games/comments/27pdp8/official_rgames_microsoft_2014_e3_conference/?ref=search_posts\n",
      "https://www.reddit.com/r/gaming/comments/1fwby3/considering_the_last_thread_was_mysteriously/?ref=search_posts\n",
      "https://www.reddit.com/r/gaming/comments/1g4765/dear_microsoft_gamers_made_the_xbox_360_arguably/?ref=search_posts\n",
      "https://www.reddit.com/r/sysadmin/comments/2h8nbu/microsoft_certified_exams_can_now_be_taken_online/?ref=search_posts\n",
      "https://www.reddit.com/r/politics/comments/z14wb/obamas_top_5_contributors_are_the_university_of/?ref=search_posts\n",
      "https://www.reddit.com/r/microsoft/comments/2yrjpc/i_didnt_care_for_microsoft_as_a_business_that_is/?ref=search_posts\n",
      "https://www.reddit.com/r/IAmA/comments/1mz20e/hi_im_panos_panay_corporate_vp_of_surface_at/?ref=search_posts\n",
      "https://www.reddit.com/r/Games/comments/1g1vo2/official_rgames_microsoft_e3_conference_thread/?ref=search_posts\n",
      "https://www.reddit.com/r/xboxone/comments/3dp85z/wow_microsoft_and_xbox_really_pulled_through/?ref=search_posts\n",
      "https://www.reddit.com/r/IAmA/comments/11kyja/iam_panos_panay_gm_of_microsoft_surface_amaa_ask/?ref=search_posts\n",
      "https://www.reddit.com/r/YouShouldKnow/comments/3svxp5/ysk_how_to_recover_an_unsaved_draft_on_microsoft/?ref=search_posts\n",
      "https://www.reddit.com/r/SubredditDrama/comments/2ggtro/microsoft_buys_minecraft_the_gaming_community/?ref=search_posts\n",
      "https://www.reddit.com/r/Frugal/comments/1xbghm/website_dedicated_to_free_tutorials_covering/?ref=search_posts\n",
      "https://www.reddit.com/r/microsoft/comments/3np2du/microsoft_surface_is_the_most_innovative_and_well/?ref=search_posts\n",
      "https://www.reddit.com/r/microsoft/comments/rsbb2/reddit_thoughts_why_the_microsoft_hate/?ref=search_posts\n",
      "https://www.reddit.com/r/technology/comments/97tqu/microsoft_wins_again_arrghh/?ref=search_posts\n"
     ]
    }
   ],
   "source": [
    "for link in searchPosts:\n",
    "    print link['href']"
   ]
  },
  {
   "cell_type": "code",
   "execution_count": 31,
   "metadata": {
    "collapsed": false
   },
   "outputs": [],
   "source": [
    "# import praw\n",
    "# r = praw.Reddit(user_agent='my_cool_application')\n",
    "# #submissions = r.get_subreddit('Microsoft').get_top(limit=5)\n",
    "# #hello = [str(x) for x in submissions]"
   ]
  },
  {
   "cell_type": "code",
   "execution_count": 24,
   "metadata": {
    "collapsed": false
   },
   "outputs": [],
   "source": [
    "# pd.DataFrame(hello).to_csv(\"test.csv\")"
   ]
  },
  {
   "cell_type": "code",
   "execution_count": 23,
   "metadata": {
    "collapsed": true
   },
   "outputs": [],
   "source": [
    "import pandas as pd"
   ]
  },
  {
   "cell_type": "code",
   "execution_count": 84,
   "metadata": {
    "collapsed": false
   },
   "outputs": [],
   "source": [
    "# import time\n",
    "\n",
    "# # import praw\n",
    "\n",
    "# r = praw.Reddit('PRAW related-question monitor by u/_Daimon_ v 1.0.'\n",
    "#                 'Url: https://praw.readthedocs.org/en/latest/'\n",
    "#                 'pages/writing_a_bot.html')\n",
    "# r.login()\n",
    "# already_done = []\n",
    "\n",
    "# prawWords = ['praw', 'reddit_api', 'mellort']\n",
    "\n",
    "# subreddit = r.get_subreddit('learnpython')\n",
    "# for submission in subreddit.get_hot(limit=10):\n",
    "#     op_text = submission.selftext.lower()\n",
    "#     has_praw = any(string in op_text for string in prawWords)\n",
    "#     # Test if it contains a PRAW-related question\n",
    "#     if submission.id not in already_done and has_praw:\n",
    "#         msg = '[PRAW related thread](%s)' % submission.short_link\n",
    "#         r.send_message('_Daimon_', 'PRAW Thread', msg)\n",
    "#         already_done.append(submission.id)\n"
   ]
  },
  {
   "cell_type": "code",
   "execution_count": 82,
   "metadata": {
    "collapsed": false
   },
   "outputs": [],
   "source": [
    "r = praw.Reddit('Comment parser example by u/_Daimon_')\n",
    "subreddit = r.get_subreddit(\"Microsoft\")\n",
    "comments = subreddit.get_comments()"
   ]
  },
  {
   "cell_type": "code",
   "execution_count": 85,
   "metadata": {
    "collapsed": false
   },
   "outputs": [
    {
     "name": "stdout",
     "output_type": "stream",
     "text": [
      "That's useful, and I will do that, thank you.\n",
      "\n",
      "Is there a list somewhere on the web of root certificates that *should* be there? And are there tools that can automatically check the installed certificates against such (a) list(s), and warn the user If anything is installed that shouldn't be?\n",
      "1\n",
      "But... but... but... if they provide a crappy app on their properties, it's the same thing as the quality, useful apps provided by others!\n",
      "1\n",
      "I uninstalled it with powershell, even if You unpin it the fucking overlay keep starting with your game which is annoying\n",
      "1\n",
      "Well it is one of their core services, so what do you expect? Just don't use it and unpin it from the start menu.\n",
      "1\n",
      "You can actually view all the certificates on your system by searching Certificates in the Start menu. Open the Trusted Root Certificates section and look for the two names mentioned in the article.\n",
      "2\n",
      "I wholeheartedly agree. They are note sending a message to OEMs that they need to ready their customers well or we will force you to do so.\r\n",
      "\r\n",
      "I know people are complaining about Windows 10 being able to uninstall software, and I think it's rubbish that they do it without you asking, but that same feature could be used for good to strip bundled OEM software if Microsoft identified that an OEM was going overboard in a way that violated their license. That would be a sweet victory against OEMs.\n",
      "1\n",
      "Shots fired.\n",
      "1\n",
      "> IT can get their heads' out of their arses and stop being blockers.\n",
      "\n",
      "I've been a Sysadmin for 16 years and I've never met an IT person that didn't want to be running the latest and greatest of everything. It's not IT that blocks upgrades it's the developers of all the 3rd party software your/our/everyone's business uses. That and the bean counters.\n",
      "\n",
      "For example, we finished migrating from XP to Windows 7  November 2013. I'd have loved to ditch that decades old OS a lot sooner but our medical records software, which is our lifeblood, didn't support anything other than XP until May 2013.\n",
      "\n",
      "\"Well just switch software vendors?\" OK, that'll be an 8 figure bill just for the licensing. Probably close to the same amount to train all staff, tweak our processes, integrate with all the rest of our software, test with our partners, and fully migrate.\n",
      "\n",
      "\n",
      "TL;DR\n",
      "\n",
      "IT loves new stuff but often forced to use what's old.\n",
      "\n",
      "\n",
      "1\n",
      "Does anyone know of a Windows tool that can test for these rogue root certificates?\n",
      "3\n",
      "Good work MS! \n",
      "4\n",
      "And really, what can Dell do? They fuck up just like Lenovo did and got caught. Dell is so deeply rooted in Windows that they have to roll over and take their punishment for fucking up\n",
      "3\n",
      "What do you know . . . Windows Defender can actually be useful. \n",
      "-6\n",
      "Five years ago they wouldn't have dreamed about going head to head with a manufacturer. I'm really glad that they no longer tolerate this bullshit.\n",
      "16\n",
      "There are four (now five) comments and everyone can only see one less than that. \n",
      "1\n",
      "They did this with the Lenovo one as well if I recall correctly. Awesome job by Microsoft. \n",
      "8\n",
      "I don't understand the reference. Why?\n",
      "1\n",
      "Good on you MS.\n",
      "15\n",
      "Let me know if you find an answer. Sorry I'm no help but I have one of these coming in the mail for my sister\n",
      "1\n",
      "Impressive tech if Microsoft can get to market before Apple.\n",
      "2\n",
      "One person here is shadow banned.\n",
      "3\n",
      "Anyone? Microsoft keep saying it's a feature for everyone, doubt everyone has this issue, can't find any relevant articles about this.\n",
      "1\n",
      "What frequencies do you think the Bluetooth version uses?\n",
      "1\n",
      "Yeah, I think there's something weird going on here. My orders for the Lumia 950 are still showing as \"in process\" while they were supposed to start shipping yesterday. People who ordered yesterday have their orders in \"completed\" or \"back order\" status.\n",
      "1\n",
      "Figured it out. You have to click at random places around the vicinity of the original graph and hit enter and backspace a certain number of times until it stops doing it. Duh.\n",
      "1\n",
      "Really weird. I recently ordered, cancelled, reordered, cancelled and reordered again my Microsoft Band 2 through the Microsoft Store. Each time the cancellation process was instantaneous (well, almost). I'm in the UK in case you were wondering.\n",
      "1\n"
     ]
    }
   ],
   "source": [
    "for i in comments:\n",
    "    print i.body\n",
    "    print i.score"
   ]
  },
  {
   "cell_type": "code",
   "execution_count": null,
   "metadata": {
    "collapsed": true
   },
   "outputs": [],
   "source": []
  }
 ],
 "metadata": {
  "kernelspec": {
   "display_name": "Python 2",
   "language": "python",
   "name": "python2"
  },
  "language_info": {
   "codemirror_mode": {
    "name": "ipython",
    "version": 2
   },
   "file_extension": ".py",
   "mimetype": "text/x-python",
   "name": "python",
   "nbconvert_exporter": "python",
   "pygments_lexer": "ipython2",
   "version": "2.7.10"
  }
 },
 "nbformat": 4,
 "nbformat_minor": 0
}
