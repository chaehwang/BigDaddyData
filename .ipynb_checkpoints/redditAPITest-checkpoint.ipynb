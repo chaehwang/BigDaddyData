{
 "cells": [
  {
   "cell_type": "code",
   "execution_count": 1,
   "metadata": {
    "collapsed": false
   },
   "outputs": [],
   "source": [
    "import requests\n",
    "from bs4 import BeautifulSoup\n",
    "\n",
    "headers = {\n",
    "    'User-Agent': 'desktop:com.startupsentimentanalysis:v0.0.1 (by  /u/all_clear)'\n",
    "}\n"
   ]
  },
  {
   "cell_type": "code",
   "execution_count": 2,
   "metadata": {
    "collapsed": true
   },
   "outputs": [],
   "source": [
    "r = requests.get('http://www.reddit.com/r/tech/search?q=\"microsoft\"', headers=headers)"
   ]
  },
  {
   "cell_type": "code",
   "execution_count": 3,
   "metadata": {
    "collapsed": false
   },
   "outputs": [],
   "source": [
    "soup = BeautifulSoup(r.text)"
   ]
  },
  {
   "cell_type": "code",
   "execution_count": 1,
   "metadata": {
    "collapsed": false
   },
   "outputs": [],
   "source": [
    "#soup"
   ]
  },
  {
   "cell_type": "code",
   "execution_count": 5,
   "metadata": {
    "collapsed": false
   },
   "outputs": [],
   "source": [
    "# searchPosts is a list that'll contain the links of actual relevant posts\n",
    "searchPosts = []\n",
    "\n",
    "for link in soup.find_all('a', ['search-title', 'may-blank']):\n",
    "     if (link['href'][-16:] == \"ref=search_posts\") and (link.text[-8:] != \"comments\") and (link['href'][:4] == \"http\"):\n",
    "            searchPosts.append(link)\n"
   ]
  },
  {
   "cell_type": "code",
   "execution_count": 6,
   "metadata": {
    "collapsed": false
   },
   "outputs": [
    {
     "name": "stdout",
     "output_type": "stream",
     "text": [
      "https://www.reddit.com/r/technology/comments/2wpzbm/the_superfish_problem_is_microsofts_opportunity/?ref=search_posts\n",
      "https://www.reddit.com/r/explainlikeimfive/comments/39q25f/eli5_apple_is_forcing_every_iphone_to_have/?ref=search_posts\n",
      "https://www.reddit.com/r/Minecraft/comments/2ggf7s/mega_thread_microsoft_has_acquired_mojang/?ref=search_posts\n",
      "https://www.reddit.com/r/IAmA/comments/3rid26/we_are_the_microsoft_excel_team_ask_us_anything/?ref=search_posts\n",
      "https://www.reddit.com/r/IAmA/comments/16i543/iama_a_microsoft_employee_who_has_worked_on/?ref=search_posts\n",
      "https://www.reddit.com/r/Games/comments/27pdp8/official_rgames_microsoft_2014_e3_conference/?ref=search_posts\n",
      "https://www.reddit.com/r/gaming/comments/1fwby3/considering_the_last_thread_was_mysteriously/?ref=search_posts\n",
      "https://www.reddit.com/r/gaming/comments/1g4765/dear_microsoft_gamers_made_the_xbox_360_arguably/?ref=search_posts\n",
      "https://www.reddit.com/r/sysadmin/comments/2h8nbu/microsoft_certified_exams_can_now_be_taken_online/?ref=search_posts\n",
      "https://www.reddit.com/r/politics/comments/z14wb/obamas_top_5_contributors_are_the_university_of/?ref=search_posts\n",
      "https://www.reddit.com/r/microsoft/comments/2yrjpc/i_didnt_care_for_microsoft_as_a_business_that_is/?ref=search_posts\n",
      "https://www.reddit.com/r/IAmA/comments/1mz20e/hi_im_panos_panay_corporate_vp_of_surface_at/?ref=search_posts\n",
      "https://www.reddit.com/r/Games/comments/1g1vo2/official_rgames_microsoft_e3_conference_thread/?ref=search_posts\n",
      "https://www.reddit.com/r/xboxone/comments/3dp85z/wow_microsoft_and_xbox_really_pulled_through/?ref=search_posts\n",
      "https://www.reddit.com/r/IAmA/comments/11kyja/iam_panos_panay_gm_of_microsoft_surface_amaa_ask/?ref=search_posts\n",
      "https://www.reddit.com/r/YouShouldKnow/comments/3svxp5/ysk_how_to_recover_an_unsaved_draft_on_microsoft/?ref=search_posts\n",
      "https://www.reddit.com/r/SubredditDrama/comments/2ggtro/microsoft_buys_minecraft_the_gaming_community/?ref=search_posts\n",
      "https://www.reddit.com/r/Frugal/comments/1xbghm/website_dedicated_to_free_tutorials_covering/?ref=search_posts\n",
      "https://www.reddit.com/r/microsoft/comments/3np2du/microsoft_surface_is_the_most_innovative_and_well/?ref=search_posts\n",
      "https://www.reddit.com/r/microsoft/comments/rsbb2/reddit_thoughts_why_the_microsoft_hate/?ref=search_posts\n",
      "https://www.reddit.com/r/technology/comments/97tqu/microsoft_wins_again_arrghh/?ref=search_posts\n"
     ]
    }
   ],
   "source": [
    "for link in searchPosts:\n",
    "    print link['href']"
   ]
  },
  {
   "cell_type": "code",
   "execution_count": 2,
   "metadata": {
    "collapsed": false
   },
   "outputs": [],
   "source": [
    "import praw\n",
    "# r = praw.Reddit(user_agent='my_cool_application')\n",
    "# #submissions = r.get_subreddit('Microsoft').get_top(limit=5)\n",
    "# #hello = [str(x) for x in submissions]"
   ]
  },
  {
   "cell_type": "code",
   "execution_count": 3,
   "metadata": {
    "collapsed": false
   },
   "outputs": [],
   "source": [
    "# pd.DataFrame(hello).to_csv(\"test.csv\")"
   ]
  },
  {
   "cell_type": "code",
   "execution_count": 4,
   "metadata": {
    "collapsed": true
   },
   "outputs": [],
   "source": [
    "import pandas as pd"
   ]
  },
  {
   "cell_type": "code",
   "execution_count": 84,
   "metadata": {
    "collapsed": false
   },
   "outputs": [],
   "source": [
    "# import time\n",
    "\n",
    "# # import praw\n",
    "\n",
    "# r = praw.Reddit('PRAW related-question monitor by u/_Daimon_ v 1.0.'\n",
    "#                 'Url: https://praw.readthedocs.org/en/latest/'\n",
    "#                 'pages/writing_a_bot.html')\n",
    "# r.login()\n",
    "# already_done = []\n",
    "\n",
    "# prawWords = ['praw', 'reddit_api', 'mellort']\n",
    "\n",
    "# subreddit = r.get_subreddit('learnpython')\n",
    "# for submission in subreddit.get_hot(limit=10):\n",
    "#     op_text = submission.selftext.lower()\n",
    "#     has_praw = any(string in op_text for string in prawWords)\n",
    "#     # Test if it contains a PRAW-related question\n",
    "#     if submission.id not in already_done and has_praw:\n",
    "#         msg = '[PRAW related thread](%s)' % submission.short_link\n",
    "#         r.send_message('_Daimon_', 'PRAW Thread', msg)\n",
    "#         already_done.append(submission.id)\n"
   ]
  },
  {
   "cell_type": "code",
   "execution_count": 5,
   "metadata": {
    "collapsed": false
   },
   "outputs": [],
   "source": [
    "companies = pd.read_csv(\"companies.csv\")\n"
   ]
  },
  {
   "cell_type": "code",
   "execution_count": 51,
   "metadata": {
    "collapsed": false
   },
   "outputs": [
    {
     "name": "stdout",
     "output_type": "stream",
     "text": [
      "no\n",
      "no\n",
      "no\n",
      "no\n",
      "no\n",
      "no\n",
      "no\n",
      "no\n",
      "no\n",
      "no\n",
      "no\n",
      "no\n",
      "no\n",
      "no\n",
      "no\n",
      "no\n",
      "no\n",
      "no\n",
      "no\n",
      "no\n",
      "no\n",
      "no\n",
      "no\n",
      "no\n",
      "no\n",
      "no\n",
      "no\n",
      "no\n",
      "no\n",
      "no\n",
      "no\n",
      "no\n",
      "no\n",
      "no\n",
      "no\n",
      "no\n",
      "no\n",
      "no\n",
      "no\n",
      "no\n",
      "no\n",
      "no\n",
      "no\n",
      "no\n",
      "no\n"
     ]
    },
    {
     "data": {
      "text/html": [
       "<div>\n",
       "<table border=\"1\" class=\"dataframe\">\n",
       "  <thead>\n",
       "    <tr style=\"text-align: right;\">\n",
       "      <th></th>\n",
       "      <th>body</th>\n",
       "      <th>company</th>\n",
       "      <th>link</th>\n",
       "      <th>score</th>\n",
       "      <th>title</th>\n",
       "    </tr>\n",
       "  </thead>\n",
       "  <tbody>\n",
       "    <tr>\n",
       "      <th>0</th>\n",
       "      <td>Chrome probably doesn't allow the way they're ...</td>\n",
       "      <td>Google</td>\n",
       "      <td>https://www.reddit.com/r/google/comments/3usav...</td>\n",
       "      <td>105</td>\n",
       "      <td>140 :: United vs. google? What's the cause for...</td>\n",
       "    </tr>\n",
       "    <tr>\n",
       "      <th>1</th>\n",
       "      <td>It's just a simple URL shortener.</td>\n",
       "      <td>Google</td>\n",
       "      <td>https://www.reddit.com/r/google/comments/3uu13...</td>\n",
       "      <td>15</td>\n",
       "      <td>23 :: Does Google remember their URL shortener...</td>\n",
       "    </tr>\n",
       "    <tr>\n",
       "      <th>2</th>\n",
       "      <td>Betcha this was a 20% time project, something ...</td>\n",
       "      <td>Google</td>\n",
       "      <td>https://www.reddit.com/r/google/comments/3uu13...</td>\n",
       "      <td>6</td>\n",
       "      <td>23 :: Does Google remember their URL shortener...</td>\n",
       "    </tr>\n",
       "    <tr>\n",
       "      <th>3</th>\n",
       "      <td>It seems to do exactly what it's designed to d...</td>\n",
       "      <td>Google</td>\n",
       "      <td>https://www.reddit.com/r/google/comments/3uu13...</td>\n",
       "      <td>5</td>\n",
       "      <td>23 :: Does Google remember their URL shortener...</td>\n",
       "    </tr>\n",
       "    <tr>\n",
       "      <th>4</th>\n",
       "      <td>Ridiculously outdated? depressing? You're bein...</td>\n",
       "      <td>Google</td>\n",
       "      <td>https://www.reddit.com/r/google/comments/3uu13...</td>\n",
       "      <td>3</td>\n",
       "      <td>23 :: Does Google remember their URL shortener...</td>\n",
       "    </tr>\n",
       "    <tr>\n",
       "      <th>5</th>\n",
       "      <td>I didn't even know it had a page.  I use a plu...</td>\n",
       "      <td>Google</td>\n",
       "      <td>https://www.reddit.com/r/google/comments/3uu13...</td>\n",
       "      <td>1</td>\n",
       "      <td>23 :: Does Google remember their URL shortener...</td>\n",
       "    </tr>\n",
       "    <tr>\n",
       "      <th>6</th>\n",
       "      <td>My completely dumb guess is that like me Googl...</td>\n",
       "      <td>Google</td>\n",
       "      <td>https://www.reddit.com/r/google/comments/3utzp...</td>\n",
       "      <td>5</td>\n",
       "      <td>13 :: Google Wallet Suspended for \"Unusual Act...</td>\n",
       "    </tr>\n",
       "    <tr>\n",
       "      <th>7</th>\n",
       "      <td>&gt;an incredibly important financial commitment ...</td>\n",
       "      <td>Google</td>\n",
       "      <td>https://www.reddit.com/r/google/comments/3utzp...</td>\n",
       "      <td>5</td>\n",
       "      <td>13 :: Google Wallet Suspended for \"Unusual Act...</td>\n",
       "    </tr>\n",
       "    <tr>\n",
       "      <th>8</th>\n",
       "      <td>[Here's an article](http://milenomics.com/2015...</td>\n",
       "      <td>Google</td>\n",
       "      <td>https://www.reddit.com/r/google/comments/3utzp...</td>\n",
       "      <td>1</td>\n",
       "      <td>13 :: Google Wallet Suspended for \"Unusual Act...</td>\n",
       "    </tr>\n",
       "    <tr>\n",
       "      <th>9</th>\n",
       "      <td>[Alternote](http://alternoteapp.com/ \"10/10\") ...</td>\n",
       "      <td>Apple</td>\n",
       "      <td>https://www.reddit.com/r/apple/comments/3r5za8...</td>\n",
       "      <td>15</td>\n",
       "      <td>62 :: Monthly APPreciation Thread for November...</td>\n",
       "    </tr>\n",
       "    <tr>\n",
       "      <th>10</th>\n",
       "      <td>To be clear, this logs into Evernote and uses ...</td>\n",
       "      <td>Apple</td>\n",
       "      <td>https://www.reddit.com/r/apple/comments/3r5za8...</td>\n",
       "      <td>1</td>\n",
       "      <td>62 :: Monthly APPreciation Thread for November...</td>\n",
       "    </tr>\n",
       "    <tr>\n",
       "      <th>11</th>\n",
       "      <td>I believe you can work offline and it will syn...</td>\n",
       "      <td>Apple</td>\n",
       "      <td>https://www.reddit.com/r/apple/comments/3r5za8...</td>\n",
       "      <td>1</td>\n",
       "      <td>62 :: Monthly APPreciation Thread for November...</td>\n",
       "    </tr>\n",
       "    <tr>\n",
       "      <th>12</th>\n",
       "      <td>FYI, was just checking this app in App Store, ...</td>\n",
       "      <td>Apple</td>\n",
       "      <td>https://www.reddit.com/r/apple/comments/3r5za8...</td>\n",
       "      <td>2</td>\n",
       "      <td>62 :: Monthly APPreciation Thread for November...</td>\n",
       "    </tr>\n",
       "    <tr>\n",
       "      <th>13</th>\n",
       "      <td>Good to know!</td>\n",
       "      <td>Apple</td>\n",
       "      <td>https://www.reddit.com/r/apple/comments/3r5za8...</td>\n",
       "      <td>1</td>\n",
       "      <td>62 :: Monthly APPreciation Thread for November...</td>\n",
       "    </tr>\n",
       "    <tr>\n",
       "      <th>14</th>\n",
       "      <td>Same for me. I'd love to love Evernote, but it...</td>\n",
       "      <td>Apple</td>\n",
       "      <td>https://www.reddit.com/r/apple/comments/3r5za8...</td>\n",
       "      <td>2</td>\n",
       "      <td>62 :: Monthly APPreciation Thread for November...</td>\n",
       "    </tr>\n",
       "    <tr>\n",
       "      <th>15</th>\n",
       "      <td>Absolutely great, I hope they'll release the i...</td>\n",
       "      <td>Apple</td>\n",
       "      <td>https://www.reddit.com/r/apple/comments/3r5za8...</td>\n",
       "      <td>3</td>\n",
       "      <td>62 :: Monthly APPreciation Thread for November...</td>\n",
       "    </tr>\n",
       "    <tr>\n",
       "      <th>16</th>\n",
       "      <td>Is it confirmed they're working on one? I woul...</td>\n",
       "      <td>Apple</td>\n",
       "      <td>https://www.reddit.com/r/apple/comments/3r5za8...</td>\n",
       "      <td>3</td>\n",
       "      <td>62 :: Monthly APPreciation Thread for November...</td>\n",
       "    </tr>\n",
       "    <tr>\n",
       "      <th>17</th>\n",
       "      <td>Yes it is, see [here](http://alternoteapp.com)...</td>\n",
       "      <td>Apple</td>\n",
       "      <td>https://www.reddit.com/r/apple/comments/3r5za8...</td>\n",
       "      <td>2</td>\n",
       "      <td>62 :: Monthly APPreciation Thread for November...</td>\n",
       "    </tr>\n",
       "    <tr>\n",
       "      <th>18</th>\n",
       "      <td>I'm so excited.</td>\n",
       "      <td>Apple</td>\n",
       "      <td>https://www.reddit.com/r/apple/comments/3r5za8...</td>\n",
       "      <td>2</td>\n",
       "      <td>62 :: Monthly APPreciation Thread for November...</td>\n",
       "    </tr>\n",
       "    <tr>\n",
       "      <th>19</th>\n",
       "      <td>[Me, too!](http://giphy.com/gifs/rNTHyN2lZ4v60...</td>\n",
       "      <td>Apple</td>\n",
       "      <td>https://www.reddit.com/r/apple/comments/3r5za8...</td>\n",
       "      <td>1</td>\n",
       "      <td>62 :: Monthly APPreciation Thread for November...</td>\n",
       "    </tr>\n",
       "    <tr>\n",
       "      <th>20</th>\n",
       "      <td>Yes I love alternote! I'm in grad school and u...</td>\n",
       "      <td>Apple</td>\n",
       "      <td>https://www.reddit.com/r/apple/comments/3r5za8...</td>\n",
       "      <td>5</td>\n",
       "      <td>62 :: Monthly APPreciation Thread for November...</td>\n",
       "    </tr>\n",
       "    <tr>\n",
       "      <th>21</th>\n",
       "      <td>I recently released a Mac app called [Backgrou...</td>\n",
       "      <td>Apple</td>\n",
       "      <td>https://www.reddit.com/r/apple/comments/3r5za8...</td>\n",
       "      <td>14</td>\n",
       "      <td>62 :: Monthly APPreciation Thread for November...</td>\n",
       "    </tr>\n",
       "    <tr>\n",
       "      <th>22</th>\n",
       "      <td>I like it! Is there plans for a pc version?</td>\n",
       "      <td>Apple</td>\n",
       "      <td>https://www.reddit.com/r/apple/comments/3r5za8...</td>\n",
       "      <td>1</td>\n",
       "      <td>62 :: Monthly APPreciation Thread for November...</td>\n",
       "    </tr>\n",
       "    <tr>\n",
       "      <th>23</th>\n",
       "      <td>Sorry, not at the moment!</td>\n",
       "      <td>Apple</td>\n",
       "      <td>https://www.reddit.com/r/apple/comments/3r5za8...</td>\n",
       "      <td>1</td>\n",
       "      <td>62 :: Monthly APPreciation Thread for November...</td>\n",
       "    </tr>\n",
       "    <tr>\n",
       "      <th>24</th>\n",
       "      <td>TLDR killing off the MacBook by putting the \"i...</td>\n",
       "      <td>Apple</td>\n",
       "      <td>https://www.reddit.com/r/apple/comments/3utrlh...</td>\n",
       "      <td>20</td>\n",
       "      <td>83 :: Thinner MacBook Air in 13\" and 15\" Sizes...</td>\n",
       "    </tr>\n",
       "  </tbody>\n",
       "</table>\n",
       "</div>"
      ],
      "text/plain": [
       "                                                 body company  \\\n",
       "0   Chrome probably doesn't allow the way they're ...  Google   \n",
       "1                   It's just a simple URL shortener.  Google   \n",
       "2   Betcha this was a 20% time project, something ...  Google   \n",
       "3   It seems to do exactly what it's designed to d...  Google   \n",
       "4   Ridiculously outdated? depressing? You're bein...  Google   \n",
       "5   I didn't even know it had a page.  I use a plu...  Google   \n",
       "6   My completely dumb guess is that like me Googl...  Google   \n",
       "7   >an incredibly important financial commitment ...  Google   \n",
       "8   [Here's an article](http://milenomics.com/2015...  Google   \n",
       "9   [Alternote](http://alternoteapp.com/ \"10/10\") ...   Apple   \n",
       "10  To be clear, this logs into Evernote and uses ...   Apple   \n",
       "11  I believe you can work offline and it will syn...   Apple   \n",
       "12  FYI, was just checking this app in App Store, ...   Apple   \n",
       "13                                     Good to know!    Apple   \n",
       "14  Same for me. I'd love to love Evernote, but it...   Apple   \n",
       "15  Absolutely great, I hope they'll release the i...   Apple   \n",
       "16  Is it confirmed they're working on one? I woul...   Apple   \n",
       "17  Yes it is, see [here](http://alternoteapp.com)...   Apple   \n",
       "18                                    I'm so excited.   Apple   \n",
       "19  [Me, too!](http://giphy.com/gifs/rNTHyN2lZ4v60...   Apple   \n",
       "20  Yes I love alternote! I'm in grad school and u...   Apple   \n",
       "21  I recently released a Mac app called [Backgrou...   Apple   \n",
       "22        I like it! Is there plans for a pc version?   Apple   \n",
       "23                          Sorry, not at the moment!   Apple   \n",
       "24  TLDR killing off the MacBook by putting the \"i...   Apple   \n",
       "\n",
       "                                                 link  score  \\\n",
       "0   https://www.reddit.com/r/google/comments/3usav...    105   \n",
       "1   https://www.reddit.com/r/google/comments/3uu13...     15   \n",
       "2   https://www.reddit.com/r/google/comments/3uu13...      6   \n",
       "3   https://www.reddit.com/r/google/comments/3uu13...      5   \n",
       "4   https://www.reddit.com/r/google/comments/3uu13...      3   \n",
       "5   https://www.reddit.com/r/google/comments/3uu13...      1   \n",
       "6   https://www.reddit.com/r/google/comments/3utzp...      5   \n",
       "7   https://www.reddit.com/r/google/comments/3utzp...      5   \n",
       "8   https://www.reddit.com/r/google/comments/3utzp...      1   \n",
       "9   https://www.reddit.com/r/apple/comments/3r5za8...     15   \n",
       "10  https://www.reddit.com/r/apple/comments/3r5za8...      1   \n",
       "11  https://www.reddit.com/r/apple/comments/3r5za8...      1   \n",
       "12  https://www.reddit.com/r/apple/comments/3r5za8...      2   \n",
       "13  https://www.reddit.com/r/apple/comments/3r5za8...      1   \n",
       "14  https://www.reddit.com/r/apple/comments/3r5za8...      2   \n",
       "15  https://www.reddit.com/r/apple/comments/3r5za8...      3   \n",
       "16  https://www.reddit.com/r/apple/comments/3r5za8...      3   \n",
       "17  https://www.reddit.com/r/apple/comments/3r5za8...      2   \n",
       "18  https://www.reddit.com/r/apple/comments/3r5za8...      2   \n",
       "19  https://www.reddit.com/r/apple/comments/3r5za8...      1   \n",
       "20  https://www.reddit.com/r/apple/comments/3r5za8...      5   \n",
       "21  https://www.reddit.com/r/apple/comments/3r5za8...     14   \n",
       "22  https://www.reddit.com/r/apple/comments/3r5za8...      1   \n",
       "23  https://www.reddit.com/r/apple/comments/3r5za8...      1   \n",
       "24  https://www.reddit.com/r/apple/comments/3utrlh...     20   \n",
       "\n",
       "                                                title  \n",
       "0   140 :: United vs. google? What's the cause for...  \n",
       "1   23 :: Does Google remember their URL shortener...  \n",
       "2   23 :: Does Google remember their URL shortener...  \n",
       "3   23 :: Does Google remember their URL shortener...  \n",
       "4   23 :: Does Google remember their URL shortener...  \n",
       "5   23 :: Does Google remember their URL shortener...  \n",
       "6   13 :: Google Wallet Suspended for \"Unusual Act...  \n",
       "7   13 :: Google Wallet Suspended for \"Unusual Act...  \n",
       "8   13 :: Google Wallet Suspended for \"Unusual Act...  \n",
       "9   62 :: Monthly APPreciation Thread for November...  \n",
       "10  62 :: Monthly APPreciation Thread for November...  \n",
       "11  62 :: Monthly APPreciation Thread for November...  \n",
       "12  62 :: Monthly APPreciation Thread for November...  \n",
       "13  62 :: Monthly APPreciation Thread for November...  \n",
       "14  62 :: Monthly APPreciation Thread for November...  \n",
       "15  62 :: Monthly APPreciation Thread for November...  \n",
       "16  62 :: Monthly APPreciation Thread for November...  \n",
       "17  62 :: Monthly APPreciation Thread for November...  \n",
       "18  62 :: Monthly APPreciation Thread for November...  \n",
       "19  62 :: Monthly APPreciation Thread for November...  \n",
       "20  62 :: Monthly APPreciation Thread for November...  \n",
       "21  62 :: Monthly APPreciation Thread for November...  \n",
       "22  62 :: Monthly APPreciation Thread for November...  \n",
       "23  62 :: Monthly APPreciation Thread for November...  \n",
       "24  83 :: Thinner MacBook Air in 13\" and 15\" Sizes...  "
      ]
     },
     "execution_count": 51,
     "metadata": {},
     "output_type": "execute_result"
    }
   ],
   "source": [
    "import time\n",
    "body = []\n",
    "score = []\n",
    "company = []\n",
    "link = []\n",
    "date = []\n",
    "title = []\n",
    "\n",
    "for i in companies.values:\n",
    "    try:\n",
    "        r = praw.Reddit('Comment parser example by u/_Daimon_')\n",
    "        subreddit = r.get_subreddit(i[0]).get_hot(limit = 3)\n",
    "        for k in subreddit:\n",
    "            temp = str(k)\n",
    "            try:\n",
    "                comments = praw.helpers.flatten_tree(k.comments)\n",
    "                #comments = k.get_comments()\n",
    "                for j in comments:\n",
    "                    body.append(j.body)\n",
    "                    score.append(j.score)\n",
    "                    company.append(i[0])\n",
    "                    link.append(j.permalink)\n",
    "                    date.append(j.created_utc)\n",
    "                    title.append(temp)\n",
    "            except:\n",
    "                pass\n",
    "\n",
    "    except:\n",
    "        print 'no'\n",
    "        pass      \n",
    "pd.DataFrame({'body':body, 'score':score, 'company':company, 'link':link, 'title':title})"
   ]
  },
  {
   "cell_type": "code",
   "execution_count": 50,
   "metadata": {
    "collapsed": false
   },
   "outputs": [
    {
     "name": "stdout",
     "output_type": "stream",
     "text": [
      "['Medium']\n"
     ]
    }
   ],
   "source": [
    "print i\n",
    "#temp = pd.DataFrame({'body':body, 'score':score, 'company':company, 'link':link, 'date':date, 'title':title})"
   ]
  },
  {
   "cell_type": "code",
   "execution_count": 48,
   "metadata": {
    "collapsed": false
   },
   "outputs": [
    {
     "data": {
      "text/html": [
       "<div>\n",
       "<table border=\"1\" class=\"dataframe\">\n",
       "  <thead>\n",
       "    <tr style=\"text-align: right;\">\n",
       "      <th></th>\n",
       "      <th>body</th>\n",
       "      <th>company</th>\n",
       "      <th>date</th>\n",
       "      <th>link</th>\n",
       "      <th>score</th>\n",
       "      <th>title</th>\n",
       "    </tr>\n",
       "  </thead>\n",
       "  <tbody>\n",
       "    <tr>\n",
       "      <th>0</th>\n",
       "      <td>It's been like that for a while.</td>\n",
       "      <td>Google</td>\n",
       "      <td>1448818019</td>\n",
       "      <td>https://www.reddit.com/r/google/comments/3upks...</td>\n",
       "      <td>52</td>\n",
       "      <td>450 :: Google Has a new layout for diseases</td>\n",
       "    </tr>\n",
       "    <tr>\n",
       "      <th>1</th>\n",
       "      <td>Haha that's the funny part about reddit.. I po...</td>\n",
       "      <td>Google</td>\n",
       "      <td>1448854667</td>\n",
       "      <td>https://www.reddit.com/r/google/comments/3upks...</td>\n",
       "      <td>-3</td>\n",
       "      <td>450 :: Google Has a new layout for diseases</td>\n",
       "    </tr>\n",
       "    <tr>\n",
       "      <th>2</th>\n",
       "      <td>Mine isn't.</td>\n",
       "      <td>Google</td>\n",
       "      <td>1448822096</td>\n",
       "      <td>https://www.reddit.com/r/google/comments/3upks...</td>\n",
       "      <td>2</td>\n",
       "      <td>450 :: Google Has a new layout for diseases</td>\n",
       "    </tr>\n",
       "    <tr>\n",
       "      <th>3</th>\n",
       "      <td>Canada here, don't have it.</td>\n",
       "      <td>Google</td>\n",
       "      <td>1448841004</td>\n",
       "      <td>https://www.reddit.com/r/google/comments/3upks...</td>\n",
       "      <td>7</td>\n",
       "      <td>450 :: Google Has a new layout for diseases</td>\n",
       "    </tr>\n",
       "    <tr>\n",
       "      <th>4</th>\n",
       "      <td>Also Canada, also don't have it</td>\n",
       "      <td>Google</td>\n",
       "      <td>1448864586</td>\n",
       "      <td>https://www.reddit.com/r/google/comments/3upks...</td>\n",
       "      <td>1</td>\n",
       "      <td>450 :: Google Has a new layout for diseases</td>\n",
       "    </tr>\n",
       "  </tbody>\n",
       "</table>\n",
       "</div>"
      ],
      "text/plain": [
       "                                                body company        date  \\\n",
       "0                   It's been like that for a while.  Google  1448818019   \n",
       "1  Haha that's the funny part about reddit.. I po...  Google  1448854667   \n",
       "2                                        Mine isn't.  Google  1448822096   \n",
       "3                        Canada here, don't have it.  Google  1448841004   \n",
       "4                   Also Canada, also don't have it   Google  1448864586   \n",
       "\n",
       "                                                link  score  \\\n",
       "0  https://www.reddit.com/r/google/comments/3upks...     52   \n",
       "1  https://www.reddit.com/r/google/comments/3upks...     -3   \n",
       "2  https://www.reddit.com/r/google/comments/3upks...      2   \n",
       "3  https://www.reddit.com/r/google/comments/3upks...      7   \n",
       "4  https://www.reddit.com/r/google/comments/3upks...      1   \n",
       "\n",
       "                                         title  \n",
       "0  450 :: Google Has a new layout for diseases  \n",
       "1  450 :: Google Has a new layout for diseases  \n",
       "2  450 :: Google Has a new layout for diseases  \n",
       "3  450 :: Google Has a new layout for diseases  \n",
       "4  450 :: Google Has a new layout for diseases  "
      ]
     },
     "execution_count": 48,
     "metadata": {},
     "output_type": "execute_result"
    }
   ],
   "source": [
    "temp.head()"
   ]
  },
  {
   "cell_type": "code",
   "execution_count": 111,
   "metadata": {
    "collapsed": false
   },
   "outputs": [],
   "source": [
    "temp.to_csv(\"comments.csv\",  encoding='utf-8')"
   ]
  },
  {
   "cell_type": "code",
   "execution_count": 49,
   "metadata": {
    "collapsed": false
   },
   "outputs": [
    {
     "data": {
      "text/plain": [
       "(466, 6)"
      ]
     },
     "execution_count": 49,
     "metadata": {},
     "output_type": "execute_result"
    }
   ],
   "source": [
    "temp.shape"
   ]
  },
  {
   "cell_type": "code",
   "execution_count": 31,
   "metadata": {
    "collapsed": false
   },
   "outputs": [
    {
     "data": {
      "text/plain": [
       "[1448818019.0,\n",
       " 1448845153.0,\n",
       " 1448848087.0,\n",
       " 1446516331.0,\n",
       " 1448808460.0,\n",
       " 1448826762.0,\n",
       " 1448830705.0,\n",
       " 1448854815.0,\n",
       " 1448863048.0,\n",
       " 1448857247.0,\n",
       " 1440360648.0,\n",
       " 1446228776.0,\n",
       " 1448861997.0,\n",
       " 1448851771.0,\n",
       " 1448858608.0,\n",
       " 1446431634.0,\n",
       " 1448832231.0,\n",
       " 1428961518.0,\n",
       " 1445325198.0,\n",
       " 1448847086.0,\n",
       " 1448837543.0,\n",
       " 1448815562.0,\n",
       " 1448756386.0,\n",
       " 1448110723.0,\n",
       " 1447728241.0]"
      ]
     },
     "execution_count": 31,
     "metadata": {},
     "output_type": "execute_result"
    }
   ],
   "source": [
    "date"
   ]
  },
  {
   "cell_type": "code",
   "execution_count": 40,
   "metadata": {
    "collapsed": false
   },
   "outputs": [
    {
     "data": {
      "text/plain": [
       "[<praw.objects.Submission at 0x10b00e5d0>,\n",
       " <praw.objects.Submission at 0x10b00efd0>,\n",
       " <praw.objects.Submission at 0x10b00eb10>,\n",
       " <praw.objects.Submission at 0x10a5ef550>,\n",
       " <praw.objects.Submission at 0x10a5efb90>,\n",
       " <praw.objects.Submission at 0x10a5eff50>,\n",
       " <praw.objects.Submission at 0x10b015d90>,\n",
       " <praw.objects.Submission at 0x10b0bfb10>,\n",
       " <praw.objects.Submission at 0x10a2825d0>,\n",
       " <praw.objects.Submission at 0x10a282c10>,\n",
       " <praw.objects.Submission at 0x10a285050>,\n",
       " <praw.objects.Submission at 0x10b0b7dd0>,\n",
       " <praw.objects.Submission at 0x10a2941d0>,\n",
       " <praw.objects.Submission at 0x10a2943d0>,\n",
       " <praw.objects.Submission at 0x10b0ff990>,\n",
       " <praw.objects.Submission at 0x10b0b1a90>,\n",
       " <praw.objects.Submission at 0x10a285210>,\n",
       " <praw.objects.Submission at 0x10a2b8110>,\n",
       " <praw.objects.Submission at 0x10b21e310>,\n",
       " <praw.objects.Submission at 0x10b21e410>,\n",
       " <praw.objects.Submission at 0x10b0ffdd0>,\n",
       " <praw.objects.Submission at 0x10a282ad0>,\n",
       " <praw.objects.Submission at 0x10a285f10>,\n",
       " <praw.objects.Submission at 0x10a285750>]"
      ]
     },
     "execution_count": 40,
     "metadata": {},
     "output_type": "execute_result"
    }
   ],
   "source": [
    "title"
   ]
  },
  {
   "cell_type": "code",
   "execution_count": null,
   "metadata": {
    "collapsed": true
   },
   "outputs": [],
   "source": []
  }
 ],
 "metadata": {
  "kernelspec": {
   "display_name": "Python 2",
   "language": "python",
   "name": "python2"
  },
  "language_info": {
   "codemirror_mode": {
    "name": "ipython",
    "version": 2
   },
   "file_extension": ".py",
   "mimetype": "text/x-python",
   "name": "python",
   "nbconvert_exporter": "python",
   "pygments_lexer": "ipython2",
   "version": "2.7.10"
  }
 },
 "nbformat": 4,
 "nbformat_minor": 0
}
