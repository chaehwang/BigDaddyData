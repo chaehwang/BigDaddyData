{
 "cells": [
  {
   "cell_type": "code",
   "execution_count": 2,
   "metadata": {
    "collapsed": false
   },
   "outputs": [],
   "source": [
    "import praw\n",
    "import pandas as pd\n",
    "import time"
   ]
  },
  {
   "cell_type": "code",
   "execution_count": null,
   "metadata": {
    "collapsed": true
   },
   "outputs": [],
   "source": [
    "body1 = []\n",
    "score1 = []\n",
    "company1 = []\n",
    "link1 = []\n",
    "date1 = []\n",
    "title1 = []\n",
    "\n",
    "r = praw.Reddit('Comment parser example by u/_Daimon_')\n",
    "        subreddit = r.get_subreddit('Facebook').get_top(limit = 40)\n",
    "        for k in subreddit:\n",
    "            body1.append(k.selftext)\n",
    "            score1.append(k.score)\n",
    "            company1.append('Facebook')\n",
    "            link1.append(k.permalink)\n",
    "            date1.append(k.created_utc)\n",
    "            title1.append(k)\n",
    "            try:\n",
    "                comments = praw.helpers.flatten_tree(k.comments)\n",
    "                for j in comments:\n",
    "                    body1.append(j.body)\n",
    "                    score1.append(j.score)\n",
    "                    company1.append('Facebook')\n",
    "                    link1.append(j.permalink)\n",
    "                    date1.append(j.created_utc)\n",
    "                    title1.append(k)\n",
    "            except:\n",
    "                pass"
   ]
  }
 ],
 "metadata": {
  "kernelspec": {
   "display_name": "Python 2",
   "language": "python",
   "name": "python2"
  },
  "language_info": {
   "codemirror_mode": {
    "name": "ipython",
    "version": 2
   },
   "file_extension": ".py",
   "mimetype": "text/x-python",
   "name": "python",
   "nbconvert_exporter": "python",
   "pygments_lexer": "ipython2",
   "version": "2.7.10"
  }
 },
 "nbformat": 4,
 "nbformat_minor": 0
}
