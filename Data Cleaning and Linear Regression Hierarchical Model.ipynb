{
 "cells": [
  {
   "cell_type": "markdown",
   "metadata": {},
   "source": [
    "# Data Cleaning and Linear Regression Hierarchical Predicting "
   ]
  },
  {
   "cell_type": "code",
   "execution_count": 1,
   "metadata": {
    "collapsed": true
   },
   "outputs": [],
   "source": [
    "%matplotlib inline\n",
    "import numpy as np\n",
    "import scipy as sp\n",
    "import matplotlib as mpl\n",
    "import matplotlib.cm as cm\n",
    "import matplotlib.pyplot as plt\n",
    "import pandas as pd\n",
    "import time\n",
    "pd.set_option('display.width', 500)\n",
    "pd.set_option('display.max_columns', 100)\n",
    "pd.set_option('display.notebook_repr_html', True)\n",
    "import seaborn as sns\n",
    "sns.set_style(\"whitegrid\")\n",
    "sns.set_context(\"poster\")"
   ]
  },
  {
   "cell_type": "code",
   "execution_count": 183,
   "metadata": {
    "collapsed": false
   },
   "outputs": [],
   "source": [
    "# import data file downloaded from Crunchbase database\n",
    "crunchbasedf = pd.read_csv('crunchbase_export.csv')\n",
    "\n",
    "# import list of companies that we did sentiment analysis on\n",
    "companies_list = pd.read_csv('companies.csv').company.tolist()\n",
    "\n",
    "# make all company names lowercase for easier comparison\n",
    "companies_list = [x.lower() for x in companies_list]\n",
    "lowercase = lambda x: str(x).lower()\n",
    "crunchbasedf.name = crunchbasedf.name.apply(lowercase)"
   ]
  },
  {
   "cell_type": "code",
   "execution_count": 160,
   "metadata": {
    "collapsed": false
   },
   "outputs": [],
   "source": [
    "# create formatter that changes string into proper format \n",
    "# (for some reason, the data in crunchbasedf is formatted \n",
    "# really weirdly, requiring me to do this)\n",
    "\n",
    "def formatter(string):\n",
    "    space = False\n",
    "    formatted = \"\"\n",
    "    for s in string:\n",
    "        if space and (s is not ' '):\n",
    "            formatted += s\n",
    "        elif s == ' ':\n",
    "            space = True\n",
    "    return formatted"
   ]
  },
  {
   "cell_type": "code",
   "execution_count": 181,
   "metadata": {
    "collapsed": false
   },
   "outputs": [],
   "source": [
    "# ************************************************ #\n",
    "# CREATE DATAFRAME WITH ONLY THE COMPANIES WE NEED #\n",
    "# ************************************************ #\n",
    "\n",
    "# declare lists of relevant demographics data we will be using\n",
    "first_funding_date = []\n",
    "last_funding_date = []\n",
    "funding_total = []\n",
    "founded_date = []\n",
    "public = []\n",
    "funding_rounds = []\n",
    "new_companies_list = []\n",
    "\n",
    "# iterate through list of companies to extract information for each companies\n",
    "for company in companies_list:\n",
    "    # check if company is in crunchbasedf\n",
    "    if company in crunchbasedf.name.tolist():\n",
    "        # only include companies in crunchbasedf\n",
    "        new_companies_list.append(company)\n",
    "        \n",
    "        # create public variable\n",
    "        if formatter(crunchbasedf[crunchbasedf.name==company].status.to_string()).strip() == \"ipo\":\n",
    "            public.append(1)\n",
    "        else:\n",
    "            public.append(0)\n",
    "\n",
    "        # create funding rounds variable\n",
    "        funding_rounds.append(int(formatter(crunchbasedf[crunchbasedf.name==company].funding_rounds.to_string()).strip()))\n",
    "\n",
    "        # create total funds variable\n",
    "        funding_total.append(int(formatter(crunchbasedf[crunchbasedf.name==company][' funding_total_usd '].to_string()).replace(\",\",\"\").strip()))\n",
    "\n",
    "        # create last funding date variable\n",
    "        last_funding_date.append(crunchbasedf[crunchbasedf.name==company].last_funding_at.to_string()[-10:])\n",
    "\n",
    "        # create first funding date variable\n",
    "        first_funding_date.append(crunchbasedf[crunchbasedf.name==company].first_funding_at.to_string()[-10:])\n",
    "\n",
    "        # create founded date variable\n",
    "        founded_date.append(crunchbasedf[crunchbasedf.name==company].founded_at.to_string()[-10:])\n",
    "\n",
    "# create dictionary with all \n",
    "dfdict = {'company':new_companies_list,'first_funding_date':first_funding_date,'last_funding_date':last_funding_date,\n",
    "          'funding_total':funding_total,'founded_date':founded_date,'public':public,'funding_rounds':funding_rounds}"
   ]
  },
  {
   "cell_type": "code",
   "execution_count": 202,
   "metadata": {
    "collapsed": false
   },
   "outputs": [
    {
     "data": {
      "text/html": [
       "<div>\n",
       "<table border=\"1\" class=\"dataframe\">\n",
       "  <thead>\n",
       "    <tr style=\"text-align: right;\">\n",
       "      <th></th>\n",
       "      <th>company</th>\n",
       "      <th>first_funding_date</th>\n",
       "      <th>founded_date</th>\n",
       "      <th>funding_rounds</th>\n",
       "      <th>funding_total</th>\n",
       "      <th>last_funding_date</th>\n",
       "      <th>public</th>\n",
       "    </tr>\n",
       "  </thead>\n",
       "  <tbody>\n",
       "    <tr>\n",
       "      <th>0</th>\n",
       "      <td>facebook</td>\n",
       "      <td>2004-09-01</td>\n",
       "      <td>2004-02-04</td>\n",
       "      <td>11</td>\n",
       "      <td>2425700000</td>\n",
       "      <td>2011-01-21</td>\n",
       "      <td>1</td>\n",
       "    </tr>\n",
       "    <tr>\n",
       "      <th>1</th>\n",
       "      <td>google</td>\n",
       "      <td>1998-08-01</td>\n",
       "      <td>1998-09-07</td>\n",
       "      <td>3</td>\n",
       "      <td>26100000</td>\n",
       "      <td>1999-06-07</td>\n",
       "      <td>1</td>\n",
       "    </tr>\n",
       "    <tr>\n",
       "      <th>2</th>\n",
       "      <td>apple</td>\n",
       "      <td>1977-05-15</td>\n",
       "      <td>1976-04-01</td>\n",
       "      <td>1</td>\n",
       "      <td>250000</td>\n",
       "      <td>1977-05-15</td>\n",
       "      <td>1</td>\n",
       "    </tr>\n",
       "    <tr>\n",
       "      <th>3</th>\n",
       "      <td>amazon</td>\n",
       "      <td>1995-07-01</td>\n",
       "      <td>1994-07-05</td>\n",
       "      <td>1</td>\n",
       "      <td>8000000</td>\n",
       "      <td>1995-07-01</td>\n",
       "      <td>1</td>\n",
       "    </tr>\n",
       "    <tr>\n",
       "      <th>4</th>\n",
       "      <td>uber</td>\n",
       "      <td>2009-08-01</td>\n",
       "      <td>2009-03-01</td>\n",
       "      <td>13</td>\n",
       "      <td>8207450000</td>\n",
       "      <td>2015-09-07</td>\n",
       "      <td>0</td>\n",
       "    </tr>\n",
       "    <tr>\n",
       "      <th>5</th>\n",
       "      <td>lyft</td>\n",
       "      <td>2009-06-01</td>\n",
       "      <td>2012-01-01</td>\n",
       "      <td>8</td>\n",
       "      <td>1012500000</td>\n",
       "      <td>2015-05-15</td>\n",
       "      <td>0</td>\n",
       "    </tr>\n",
       "    <tr>\n",
       "      <th>6</th>\n",
       "      <td>airbnb</td>\n",
       "      <td>2009-01-01</td>\n",
       "      <td>2008-08-01</td>\n",
       "      <td>8</td>\n",
       "      <td>2394820000</td>\n",
       "      <td>2015-11-20</td>\n",
       "      <td>0</td>\n",
       "    </tr>\n",
       "    <tr>\n",
       "      <th>7</th>\n",
       "      <td>fitbit</td>\n",
       "      <td>2008-10-10</td>\n",
       "      <td>2007-05-01</td>\n",
       "      <td>4</td>\n",
       "      <td>66000000</td>\n",
       "      <td>2013-08-13</td>\n",
       "      <td>1</td>\n",
       "    </tr>\n",
       "    <tr>\n",
       "      <th>8</th>\n",
       "      <td>jawbone</td>\n",
       "      <td>2006-12-15</td>\n",
       "      <td>1999-01-01</td>\n",
       "      <td>12</td>\n",
       "      <td>818799995</td>\n",
       "      <td>2015-04-30</td>\n",
       "      <td>0</td>\n",
       "    </tr>\n",
       "    <tr>\n",
       "      <th>9</th>\n",
       "      <td>coursera</td>\n",
       "      <td>2012-04-18</td>\n",
       "      <td>2012-01-01</td>\n",
       "      <td>6</td>\n",
       "      <td>146100000</td>\n",
       "      <td>2015-10-27</td>\n",
       "      <td>0</td>\n",
       "    </tr>\n",
       "    <tr>\n",
       "      <th>10</th>\n",
       "      <td>athenahealth</td>\n",
       "      <td>1999-10-01</td>\n",
       "      <td>1997-01-01</td>\n",
       "      <td>3</td>\n",
       "      <td>40000000</td>\n",
       "      <td>2004-04-23</td>\n",
       "      <td>1</td>\n",
       "    </tr>\n",
       "    <tr>\n",
       "      <th>11</th>\n",
       "      <td>twitter</td>\n",
       "      <td>2007-07-01</td>\n",
       "      <td>2006-03-21</td>\n",
       "      <td>8</td>\n",
       "      <td>1160166511</td>\n",
       "      <td>2011-09-08</td>\n",
       "      <td>1</td>\n",
       "    </tr>\n",
       "    <tr>\n",
       "      <th>12</th>\n",
       "      <td>snapchat</td>\n",
       "      <td>2012-05-01</td>\n",
       "      <td>2011-05-01</td>\n",
       "      <td>8</td>\n",
       "      <td>1185585000</td>\n",
       "      <td>2015-05-29</td>\n",
       "      <td>0</td>\n",
       "    </tr>\n",
       "    <tr>\n",
       "      <th>13</th>\n",
       "      <td>dropbox</td>\n",
       "      <td>2007-06-01</td>\n",
       "      <td>2007-06-01</td>\n",
       "      <td>6</td>\n",
       "      <td>1107215000</td>\n",
       "      <td>2014-04-06</td>\n",
       "      <td>0</td>\n",
       "    </tr>\n",
       "    <tr>\n",
       "      <th>14</th>\n",
       "      <td>spotify</td>\n",
       "      <td>2008-10-01</td>\n",
       "      <td>2006-07-14</td>\n",
       "      <td>11</td>\n",
       "      <td>1063779080</td>\n",
       "      <td>2015-08-30</td>\n",
       "      <td>0</td>\n",
       "    </tr>\n",
       "    <tr>\n",
       "      <th>15</th>\n",
       "      <td>zocdoc</td>\n",
       "      <td>2008-08-18</td>\n",
       "      <td>2007-09-18</td>\n",
       "      <td>4</td>\n",
       "      <td>223000000</td>\n",
       "      <td>2015-08-20</td>\n",
       "      <td>0</td>\n",
       "    </tr>\n",
       "    <tr>\n",
       "      <th>16</th>\n",
       "      <td>asana</td>\n",
       "      <td>2008-09-01</td>\n",
       "      <td>2009-01-01</td>\n",
       "      <td>4</td>\n",
       "      <td>38200000</td>\n",
       "      <td>2012-07-23</td>\n",
       "      <td>0</td>\n",
       "    </tr>\n",
       "    <tr>\n",
       "      <th>17</th>\n",
       "      <td>linkedin</td>\n",
       "      <td>2003-11-01</td>\n",
       "      <td>2003-05-05</td>\n",
       "      <td>5</td>\n",
       "      <td>103200000</td>\n",
       "      <td>2008-10-22</td>\n",
       "      <td>1</td>\n",
       "    </tr>\n",
       "    <tr>\n",
       "      <th>18</th>\n",
       "      <td>oscar</td>\n",
       "      <td>2013-07-19</td>\n",
       "      <td>2013-07-01</td>\n",
       "      <td>5</td>\n",
       "      <td>327500000</td>\n",
       "      <td>2015-09-15</td>\n",
       "      <td>0</td>\n",
       "    </tr>\n",
       "    <tr>\n",
       "      <th>19</th>\n",
       "      <td>chartboost</td>\n",
       "      <td>2011-10-01</td>\n",
       "      <td>2011-02-01</td>\n",
       "      <td>3</td>\n",
       "      <td>21000000</td>\n",
       "      <td>2015-03-01</td>\n",
       "      <td>0</td>\n",
       "    </tr>\n",
       "    <tr>\n",
       "      <th>20</th>\n",
       "      <td>groupon</td>\n",
       "      <td>2007-01-01</td>\n",
       "      <td>2008-11-11</td>\n",
       "      <td>6</td>\n",
       "      <td>1137000000</td>\n",
       "      <td>2011-02-25</td>\n",
       "      <td>1</td>\n",
       "    </tr>\n",
       "    <tr>\n",
       "      <th>21</th>\n",
       "      <td>wayfair</td>\n",
       "      <td>2011-06-21</td>\n",
       "      <td>2002-08-01</td>\n",
       "      <td>3</td>\n",
       "      <td>358000000</td>\n",
       "      <td>2014-03-07</td>\n",
       "      <td>1</td>\n",
       "    </tr>\n",
       "    <tr>\n",
       "      <th>22</th>\n",
       "      <td>instagram</td>\n",
       "      <td>2010-03-05</td>\n",
       "      <td>2010-06-02</td>\n",
       "      <td>3</td>\n",
       "      <td>57500000</td>\n",
       "      <td>2012-04-05</td>\n",
       "      <td>0</td>\n",
       "    </tr>\n",
       "    <tr>\n",
       "      <th>23</th>\n",
       "      <td>buzzfeed</td>\n",
       "      <td>2008-07-09</td>\n",
       "      <td>2006-01-01</td>\n",
       "      <td>6</td>\n",
       "      <td>296300000</td>\n",
       "      <td>2015-08-18</td>\n",
       "      <td>0</td>\n",
       "    </tr>\n",
       "    <tr>\n",
       "      <th>24</th>\n",
       "      <td>pinterest</td>\n",
       "      <td>2010-01-01</td>\n",
       "      <td>2009-01-01</td>\n",
       "      <td>10</td>\n",
       "      <td>1315500000</td>\n",
       "      <td>2015-06-01</td>\n",
       "      <td>0</td>\n",
       "    </tr>\n",
       "    <tr>\n",
       "      <th>25</th>\n",
       "      <td>palantir technologies</td>\n",
       "      <td>2005-09-01</td>\n",
       "      <td>2004-01-01</td>\n",
       "      <td>16</td>\n",
       "      <td>1671557162</td>\n",
       "      <td>2015-10-21</td>\n",
       "      <td>0</td>\n",
       "    </tr>\n",
       "    <tr>\n",
       "      <th>26</th>\n",
       "      <td>kayak</td>\n",
       "      <td>2004-01-01</td>\n",
       "      <td>2004-01-14</td>\n",
       "      <td>6</td>\n",
       "      <td>235024070</td>\n",
       "      <td>2012-08-17</td>\n",
       "      <td>0</td>\n",
       "    </tr>\n",
       "    <tr>\n",
       "      <th>27</th>\n",
       "      <td>grubhub</td>\n",
       "      <td>2007-11-01</td>\n",
       "      <td>2004-01-01</td>\n",
       "      <td>6</td>\n",
       "      <td>84100000</td>\n",
       "      <td>2013-08-21</td>\n",
       "      <td>1</td>\n",
       "    </tr>\n",
       "    <tr>\n",
       "      <th>28</th>\n",
       "      <td>box</td>\n",
       "      <td>2005-09-01</td>\n",
       "      <td>2005-01-01</td>\n",
       "      <td>11</td>\n",
       "      <td>558950000</td>\n",
       "      <td>2014-07-01</td>\n",
       "      <td>1</td>\n",
       "    </tr>\n",
       "    <tr>\n",
       "      <th>29</th>\n",
       "      <td>hubspot</td>\n",
       "      <td>2006-05-01</td>\n",
       "      <td>2006-06-09</td>\n",
       "      <td>6</td>\n",
       "      <td>100500000</td>\n",
       "      <td>2012-11-10</td>\n",
       "      <td>1</td>\n",
       "    </tr>\n",
       "    <tr>\n",
       "      <th>30</th>\n",
       "      <td>square</td>\n",
       "      <td>2009-11-01</td>\n",
       "      <td>2009-02-01</td>\n",
       "      <td>9</td>\n",
       "      <td>590500000</td>\n",
       "      <td>2015-04-01</td>\n",
       "      <td>1</td>\n",
       "    </tr>\n",
       "    <tr>\n",
       "      <th>31</th>\n",
       "      <td>appnexus</td>\n",
       "      <td>2007-12-27</td>\n",
       "      <td>2007-09-01</td>\n",
       "      <td>8</td>\n",
       "      <td>288171856</td>\n",
       "      <td>2015-04-15</td>\n",
       "      <td>0</td>\n",
       "    </tr>\n",
       "    <tr>\n",
       "      <th>32</th>\n",
       "      <td>quora</td>\n",
       "      <td>2010-03-28</td>\n",
       "      <td>2009-06-01</td>\n",
       "      <td>3</td>\n",
       "      <td>141000000</td>\n",
       "      <td>2014-04-09</td>\n",
       "      <td>0</td>\n",
       "    </tr>\n",
       "    <tr>\n",
       "      <th>33</th>\n",
       "      <td>vivint</td>\n",
       "      <td>2010-10-04</td>\n",
       "      <td>1997-06-01</td>\n",
       "      <td>1</td>\n",
       "      <td>565000000</td>\n",
       "      <td>2010-10-04</td>\n",
       "      <td>0</td>\n",
       "    </tr>\n",
       "    <tr>\n",
       "      <th>34</th>\n",
       "      <td>riot games</td>\n",
       "      <td>2008-07-10</td>\n",
       "      <td>2007-03-15</td>\n",
       "      <td>2</td>\n",
       "      <td>15000000</td>\n",
       "      <td>2009-09-09</td>\n",
       "      <td>0</td>\n",
       "    </tr>\n",
       "    <tr>\n",
       "      <th>35</th>\n",
       "      <td>yik yak</td>\n",
       "      <td>2014-04-22</td>\n",
       "      <td>2013-10-10</td>\n",
       "      <td>3</td>\n",
       "      <td>73500000</td>\n",
       "      <td>2014-11-24</td>\n",
       "      <td>0</td>\n",
       "    </tr>\n",
       "    <tr>\n",
       "      <th>36</th>\n",
       "      <td>misfit wearables</td>\n",
       "      <td>2011-11-23</td>\n",
       "      <td>2011-10-05</td>\n",
       "      <td>5</td>\n",
       "      <td>64396675</td>\n",
       "      <td>2014-12-02</td>\n",
       "      <td>0</td>\n",
       "    </tr>\n",
       "    <tr>\n",
       "      <th>37</th>\n",
       "      <td>doordash</td>\n",
       "      <td>2013-03-01</td>\n",
       "      <td>2013-01-01</td>\n",
       "      <td>4</td>\n",
       "      <td>59700000</td>\n",
       "      <td>2015-03-26</td>\n",
       "      <td>0</td>\n",
       "    </tr>\n",
       "    <tr>\n",
       "      <th>38</th>\n",
       "      <td>birchbox</td>\n",
       "      <td>2010-10-27</td>\n",
       "      <td>2010-01-01</td>\n",
       "      <td>3</td>\n",
       "      <td>71900000</td>\n",
       "      <td>2014-04-21</td>\n",
       "      <td>0</td>\n",
       "    </tr>\n",
       "    <tr>\n",
       "      <th>39</th>\n",
       "      <td>slack</td>\n",
       "      <td>2009-01-01</td>\n",
       "      <td>2013-01-01</td>\n",
       "      <td>7</td>\n",
       "      <td>339950000</td>\n",
       "      <td>2015-04-16</td>\n",
       "      <td>0</td>\n",
       "    </tr>\n",
       "    <tr>\n",
       "      <th>40</th>\n",
       "      <td>gilt groupe</td>\n",
       "      <td>2007-11-01</td>\n",
       "      <td>2007-01-01</td>\n",
       "      <td>7</td>\n",
       "      <td>286000000</td>\n",
       "      <td>2015-02-16</td>\n",
       "      <td>0</td>\n",
       "    </tr>\n",
       "    <tr>\n",
       "      <th>41</th>\n",
       "      <td>github</td>\n",
       "      <td>2012-07-09</td>\n",
       "      <td>2008-02-29</td>\n",
       "      <td>2</td>\n",
       "      <td>350000000</td>\n",
       "      <td>2015-07-29</td>\n",
       "      <td>0</td>\n",
       "    </tr>\n",
       "    <tr>\n",
       "      <th>42</th>\n",
       "      <td>zenefits</td>\n",
       "      <td>2013-07-26</td>\n",
       "      <td>2013-01-01</td>\n",
       "      <td>4</td>\n",
       "      <td>583600000</td>\n",
       "      <td>2015-05-06</td>\n",
       "      <td>0</td>\n",
       "    </tr>\n",
       "  </tbody>\n",
       "</table>\n",
       "</div>"
      ],
      "text/plain": [
       "                  company first_funding_date founded_date  funding_rounds  funding_total last_funding_date  public\n",
       "0                facebook         2004-09-01   2004-02-04              11     2425700000        2011-01-21       1\n",
       "1                  google         1998-08-01   1998-09-07               3       26100000        1999-06-07       1\n",
       "2                   apple         1977-05-15   1976-04-01               1         250000        1977-05-15       1\n",
       "3                  amazon         1995-07-01   1994-07-05               1        8000000        1995-07-01       1\n",
       "4                    uber         2009-08-01   2009-03-01              13     8207450000        2015-09-07       0\n",
       "5                    lyft         2009-06-01   2012-01-01               8     1012500000        2015-05-15       0\n",
       "6                  airbnb         2009-01-01   2008-08-01               8     2394820000        2015-11-20       0\n",
       "7                  fitbit         2008-10-10   2007-05-01               4       66000000        2013-08-13       1\n",
       "8                 jawbone         2006-12-15   1999-01-01              12      818799995        2015-04-30       0\n",
       "9                coursera         2012-04-18   2012-01-01               6      146100000        2015-10-27       0\n",
       "10           athenahealth         1999-10-01   1997-01-01               3       40000000        2004-04-23       1\n",
       "11                twitter         2007-07-01   2006-03-21               8     1160166511        2011-09-08       1\n",
       "12               snapchat         2012-05-01   2011-05-01               8     1185585000        2015-05-29       0\n",
       "13                dropbox         2007-06-01   2007-06-01               6     1107215000        2014-04-06       0\n",
       "14                spotify         2008-10-01   2006-07-14              11     1063779080        2015-08-30       0\n",
       "15                 zocdoc         2008-08-18   2007-09-18               4      223000000        2015-08-20       0\n",
       "16                  asana         2008-09-01   2009-01-01               4       38200000        2012-07-23       0\n",
       "17               linkedin         2003-11-01   2003-05-05               5      103200000        2008-10-22       1\n",
       "18                  oscar         2013-07-19   2013-07-01               5      327500000        2015-09-15       0\n",
       "19             chartboost         2011-10-01   2011-02-01               3       21000000        2015-03-01       0\n",
       "20                groupon         2007-01-01   2008-11-11               6     1137000000        2011-02-25       1\n",
       "21                wayfair         2011-06-21   2002-08-01               3      358000000        2014-03-07       1\n",
       "22              instagram         2010-03-05   2010-06-02               3       57500000        2012-04-05       0\n",
       "23               buzzfeed         2008-07-09   2006-01-01               6      296300000        2015-08-18       0\n",
       "24              pinterest         2010-01-01   2009-01-01              10     1315500000        2015-06-01       0\n",
       "25  palantir technologies         2005-09-01   2004-01-01              16     1671557162        2015-10-21       0\n",
       "26                  kayak         2004-01-01   2004-01-14               6      235024070        2012-08-17       0\n",
       "27                grubhub         2007-11-01   2004-01-01               6       84100000        2013-08-21       1\n",
       "28                    box         2005-09-01   2005-01-01              11      558950000        2014-07-01       1\n",
       "29                hubspot         2006-05-01   2006-06-09               6      100500000        2012-11-10       1\n",
       "30                 square         2009-11-01   2009-02-01               9      590500000        2015-04-01       1\n",
       "31               appnexus         2007-12-27   2007-09-01               8      288171856        2015-04-15       0\n",
       "32                  quora         2010-03-28   2009-06-01               3      141000000        2014-04-09       0\n",
       "33                 vivint         2010-10-04   1997-06-01               1      565000000        2010-10-04       0\n",
       "34             riot games         2008-07-10   2007-03-15               2       15000000        2009-09-09       0\n",
       "35                yik yak         2014-04-22   2013-10-10               3       73500000        2014-11-24       0\n",
       "36       misfit wearables         2011-11-23   2011-10-05               5       64396675        2014-12-02       0\n",
       "37               doordash         2013-03-01   2013-01-01               4       59700000        2015-03-26       0\n",
       "38               birchbox         2010-10-27   2010-01-01               3       71900000        2014-04-21       0\n",
       "39                  slack         2009-01-01   2013-01-01               7      339950000        2015-04-16       0\n",
       "40            gilt groupe         2007-11-01   2007-01-01               7      286000000        2015-02-16       0\n",
       "41                 github         2012-07-09   2008-02-29               2      350000000        2015-07-29       0\n",
       "42               zenefits         2013-07-26   2013-01-01               4      583600000        2015-05-06       0"
      ]
     },
     "execution_count": 202,
     "metadata": {},
     "output_type": "execute_result"
    }
   ],
   "source": [
    "# convert dictionary \n",
    "infodf = pd.DataFrame.from_dict(dfdict)\n",
    "\n",
    "# added founded date into Vivint through other source, since Cruchbase didn't have it\n",
    "infodf.loc[33,'founded_date'] = '1997-06-01'\n",
    "\n",
    "# change strings into date items to calculate company age and time since last funding\n",
    "infodf.first_funding_date = infodf.first_funding_date.apply(pd.datetools.parse)\n",
    "infodf.last_funding_date = infodf.last_funding_date.apply(pd.datetools.parse)\n",
    "infodf.founded_date = infodf.founded_date.apply(pd.datetools.parse)\n",
    "\n",
    "infodf"
   ]
  },
  {
   "cell_type": "code",
   "execution_count": 209,
   "metadata": {
    "collapsed": false
   },
   "outputs": [
    {
     "data": {
      "text/html": [
       "<div>\n",
       "<table border=\"1\" class=\"dataframe\">\n",
       "  <thead>\n",
       "    <tr style=\"text-align: right;\">\n",
       "      <th></th>\n",
       "      <th>company</th>\n",
       "      <th>first_funding_date</th>\n",
       "      <th>founded_date</th>\n",
       "      <th>funding_rounds</th>\n",
       "      <th>funding_total</th>\n",
       "      <th>last_funding_date</th>\n",
       "      <th>public</th>\n",
       "      <th>age</th>\n",
       "      <th>time_from_last_funding</th>\n",
       "    </tr>\n",
       "  </thead>\n",
       "  <tbody>\n",
       "    <tr>\n",
       "      <th>0</th>\n",
       "      <td>facebook</td>\n",
       "      <td>2004-09-01</td>\n",
       "      <td>2004-02-04</td>\n",
       "      <td>11</td>\n",
       "      <td>2425700000</td>\n",
       "      <td>2011-01-21</td>\n",
       "      <td>1</td>\n",
       "      <td>4327</td>\n",
       "      <td>1784</td>\n",
       "    </tr>\n",
       "    <tr>\n",
       "      <th>1</th>\n",
       "      <td>google</td>\n",
       "      <td>1998-08-01</td>\n",
       "      <td>1998-09-07</td>\n",
       "      <td>3</td>\n",
       "      <td>26100000</td>\n",
       "      <td>1999-06-07</td>\n",
       "      <td>1</td>\n",
       "      <td>6303</td>\n",
       "      <td>6030</td>\n",
       "    </tr>\n",
       "    <tr>\n",
       "      <th>2</th>\n",
       "      <td>apple</td>\n",
       "      <td>1977-05-15</td>\n",
       "      <td>1976-04-01</td>\n",
       "      <td>1</td>\n",
       "      <td>250000</td>\n",
       "      <td>1977-05-15</td>\n",
       "      <td>1</td>\n",
       "      <td>14497</td>\n",
       "      <td>14088</td>\n",
       "    </tr>\n",
       "    <tr>\n",
       "      <th>3</th>\n",
       "      <td>amazon</td>\n",
       "      <td>1995-07-01</td>\n",
       "      <td>1994-07-05</td>\n",
       "      <td>1</td>\n",
       "      <td>8000000</td>\n",
       "      <td>1995-07-01</td>\n",
       "      <td>1</td>\n",
       "      <td>7828</td>\n",
       "      <td>7467</td>\n",
       "    </tr>\n",
       "    <tr>\n",
       "      <th>4</th>\n",
       "      <td>uber</td>\n",
       "      <td>2009-08-01</td>\n",
       "      <td>2009-03-01</td>\n",
       "      <td>13</td>\n",
       "      <td>8207450000</td>\n",
       "      <td>2015-09-07</td>\n",
       "      <td>0</td>\n",
       "      <td>2475</td>\n",
       "      <td>94</td>\n",
       "    </tr>\n",
       "  </tbody>\n",
       "</table>\n",
       "</div>"
      ],
      "text/plain": [
       "    company first_funding_date founded_date  funding_rounds  funding_total last_funding_date  public    age  time_from_last_funding\n",
       "0  facebook         2004-09-01   2004-02-04              11     2425700000        2011-01-21       1   4327                    1784\n",
       "1    google         1998-08-01   1998-09-07               3       26100000        1999-06-07       1   6303                    6030\n",
       "2     apple         1977-05-15   1976-04-01               1         250000        1977-05-15       1  14497                   14088\n",
       "3    amazon         1995-07-01   1994-07-05               1        8000000        1995-07-01       1   7828                    7467\n",
       "4      uber         2009-08-01   2009-03-01              13     8207450000        2015-09-07       0   2475                      94"
      ]
     },
     "execution_count": 209,
     "metadata": {},
     "output_type": "execute_result"
    }
   ],
   "source": [
    "# calculate age and time since last funding\n",
    "import datetime\n",
    "today = datetime.datetime(2015, 12, 10)\n",
    "infodf['age'] = (today - infodf['founded_date']).values / np.timedelta64(1, 'D')\n",
    "infodf['time_from_last_funding'] = (today - infodf['last_funding_date']).values / np.timedelta64(1, 'D')\n",
    "infodf.head()"
   ]
  },
  {
   "cell_type": "code",
   "execution_count": 217,
   "metadata": {
    "collapsed": false
   },
   "outputs": [
    {
     "data": {
      "text/html": [
       "<div>\n",
       "<table border=\"1\" class=\"dataframe\">\n",
       "  <thead>\n",
       "    <tr style=\"text-align: right;\">\n",
       "      <th></th>\n",
       "      <th>weighted_predict</th>\n",
       "      <th>company</th>\n",
       "      <th>predict_binary</th>\n",
       "    </tr>\n",
       "  </thead>\n",
       "  <tbody>\n",
       "    <tr>\n",
       "      <th>0</th>\n",
       "      <td>-0.176471</td>\n",
       "      <td>airbnb</td>\n",
       "      <td>0.117647</td>\n",
       "    </tr>\n",
       "    <tr>\n",
       "      <th>1</th>\n",
       "      <td>-0.246377</td>\n",
       "      <td>amazon</td>\n",
       "      <td>-0.144928</td>\n",
       "    </tr>\n",
       "    <tr>\n",
       "      <th>2</th>\n",
       "      <td>-1.156124</td>\n",
       "      <td>apple</td>\n",
       "      <td>-0.067295</td>\n",
       "    </tr>\n",
       "    <tr>\n",
       "      <th>3</th>\n",
       "      <td>1.000000</td>\n",
       "      <td>asana</td>\n",
       "      <td>1.000000</td>\n",
       "    </tr>\n",
       "    <tr>\n",
       "      <th>4</th>\n",
       "      <td>0.000000</td>\n",
       "      <td>buzzfeed</td>\n",
       "      <td>-2.000000</td>\n",
       "    </tr>\n",
       "    <tr>\n",
       "      <th>5</th>\n",
       "      <td>0.000000</td>\n",
       "      <td>coursera</td>\n",
       "      <td>0.000000</td>\n",
       "    </tr>\n",
       "    <tr>\n",
       "      <th>6</th>\n",
       "      <td>-0.500000</td>\n",
       "      <td>doordash</td>\n",
       "      <td>-0.250000</td>\n",
       "    </tr>\n",
       "    <tr>\n",
       "      <th>7</th>\n",
       "      <td>0.750000</td>\n",
       "      <td>dropbox</td>\n",
       "      <td>0.250000</td>\n",
       "    </tr>\n",
       "    <tr>\n",
       "      <th>8</th>\n",
       "      <td>0.081967</td>\n",
       "      <td>fitbit</td>\n",
       "      <td>0.131148</td>\n",
       "    </tr>\n",
       "    <tr>\n",
       "      <th>9</th>\n",
       "      <td>-0.612903</td>\n",
       "      <td>google</td>\n",
       "      <td>-0.058065</td>\n",
       "    </tr>\n",
       "    <tr>\n",
       "      <th>10</th>\n",
       "      <td>0.000000</td>\n",
       "      <td>hubspot</td>\n",
       "      <td>0.000000</td>\n",
       "    </tr>\n",
       "    <tr>\n",
       "      <th>11</th>\n",
       "      <td>0.032609</td>\n",
       "      <td>instagram</td>\n",
       "      <td>0.076087</td>\n",
       "    </tr>\n",
       "    <tr>\n",
       "      <th>12</th>\n",
       "      <td>-2.000000</td>\n",
       "      <td>jawbone</td>\n",
       "      <td>-2.000000</td>\n",
       "    </tr>\n",
       "    <tr>\n",
       "      <th>13</th>\n",
       "      <td>-1.500000</td>\n",
       "      <td>kayak</td>\n",
       "      <td>-1.500000</td>\n",
       "    </tr>\n",
       "    <tr>\n",
       "      <th>14</th>\n",
       "      <td>-2.000000</td>\n",
       "      <td>laserfiche</td>\n",
       "      <td>-1.000000</td>\n",
       "    </tr>\n",
       "    <tr>\n",
       "      <th>15</th>\n",
       "      <td>-0.285714</td>\n",
       "      <td>linkedin</td>\n",
       "      <td>-0.142857</td>\n",
       "    </tr>\n",
       "    <tr>\n",
       "      <th>16</th>\n",
       "      <td>-0.383562</td>\n",
       "      <td>lyft</td>\n",
       "      <td>-0.150685</td>\n",
       "    </tr>\n",
       "    <tr>\n",
       "      <th>17</th>\n",
       "      <td>0.108696</td>\n",
       "      <td>microsoft</td>\n",
       "      <td>-0.043478</td>\n",
       "    </tr>\n",
       "    <tr>\n",
       "      <th>18</th>\n",
       "      <td>1.000000</td>\n",
       "      <td>pinterest</td>\n",
       "      <td>1.000000</td>\n",
       "    </tr>\n",
       "    <tr>\n",
       "      <th>19</th>\n",
       "      <td>0.000000</td>\n",
       "      <td>quora</td>\n",
       "      <td>0.000000</td>\n",
       "    </tr>\n",
       "    <tr>\n",
       "      <th>20</th>\n",
       "      <td>-1.000000</td>\n",
       "      <td>riot games</td>\n",
       "      <td>-2.000000</td>\n",
       "    </tr>\n",
       "    <tr>\n",
       "      <th>21</th>\n",
       "      <td>0.012821</td>\n",
       "      <td>snapchat</td>\n",
       "      <td>0.025641</td>\n",
       "    </tr>\n",
       "    <tr>\n",
       "      <th>22</th>\n",
       "      <td>-0.217949</td>\n",
       "      <td>spotify</td>\n",
       "      <td>0.000000</td>\n",
       "    </tr>\n",
       "    <tr>\n",
       "      <th>23</th>\n",
       "      <td>-0.015198</td>\n",
       "      <td>tinder</td>\n",
       "      <td>0.006079</td>\n",
       "    </tr>\n",
       "    <tr>\n",
       "      <th>24</th>\n",
       "      <td>-0.411765</td>\n",
       "      <td>twitter</td>\n",
       "      <td>-0.176471</td>\n",
       "    </tr>\n",
       "    <tr>\n",
       "      <th>25</th>\n",
       "      <td>0.162162</td>\n",
       "      <td>uber</td>\n",
       "      <td>0.162162</td>\n",
       "    </tr>\n",
       "    <tr>\n",
       "      <th>26</th>\n",
       "      <td>0.000000</td>\n",
       "      <td>vivint</td>\n",
       "      <td>0.000000</td>\n",
       "    </tr>\n",
       "    <tr>\n",
       "      <th>27</th>\n",
       "      <td>0.200000</td>\n",
       "      <td>yik yak</td>\n",
       "      <td>0.200000</td>\n",
       "    </tr>\n",
       "  </tbody>\n",
       "</table>\n",
       "</div>"
      ],
      "text/plain": [
       "    weighted_predict     company  predict_binary\n",
       "0          -0.176471      airbnb        0.117647\n",
       "1          -0.246377      amazon       -0.144928\n",
       "2          -1.156124       apple       -0.067295\n",
       "3           1.000000       asana        1.000000\n",
       "4           0.000000    buzzfeed       -2.000000\n",
       "5           0.000000    coursera        0.000000\n",
       "6          -0.500000    doordash       -0.250000\n",
       "7           0.750000     dropbox        0.250000\n",
       "8           0.081967      fitbit        0.131148\n",
       "9          -0.612903      google       -0.058065\n",
       "10          0.000000     hubspot        0.000000\n",
       "11          0.032609   instagram        0.076087\n",
       "12         -2.000000     jawbone       -2.000000\n",
       "13         -1.500000       kayak       -1.500000\n",
       "14         -2.000000  laserfiche       -1.000000\n",
       "15         -0.285714    linkedin       -0.142857\n",
       "16         -0.383562        lyft       -0.150685\n",
       "17          0.108696   microsoft       -0.043478\n",
       "18          1.000000   pinterest        1.000000\n",
       "19          0.000000       quora        0.000000\n",
       "20         -1.000000  riot games       -2.000000\n",
       "21          0.012821    snapchat        0.025641\n",
       "22         -0.217949     spotify        0.000000\n",
       "23         -0.015198      tinder        0.006079\n",
       "24         -0.411765     twitter       -0.176471\n",
       "25          0.162162        uber        0.162162\n",
       "26          0.000000      vivint        0.000000\n",
       "27          0.200000     yik yak        0.200000"
      ]
     },
     "execution_count": 217,
     "metadata": {},
     "output_type": "execute_result"
    }
   ],
   "source": [
    "# convert csv's with sentiment predictions into pandas dataframes\n",
    "bin_pred = pd.read_csv('company_with_predictions.csv')\n",
    "range_pred = pd.read_csv('company_with_prediction_range.csv')\n",
    "\n",
    "# drop first column (index column)\n",
    "bin_pred = bin_pred.drop(bin_pred.columns[[0]], axis=1)\n",
    "range_pred = range_pred.drop(range_pred.columns[[0]], axis=1)\n",
    "\n",
    "# change name of column from 'name' to 'company' to allow dataframe to merge with infodf in next step\n",
    "bin_pred = bin_pred.rename(columns={'name': 'company'})\n",
    "range_pred = range_pred.rename(columns={'name': 'company'})\n",
    "\n",
    "# make company names lowercase to allow for successful merge with infodf\n",
    "bin_pred.company = bin_pred.company.apply(lowercase)\n",
    "range_pred.company = range_pred.company.apply(lowercase)\n",
    "bin_pred"
   ]
  },
  {
   "cell_type": "code",
   "execution_count": 218,
   "metadata": {
    "collapsed": false
   },
   "outputs": [],
   "source": [
    "# merge sentiment data with demographics data\n",
    "newdf1 = pd.merge(infodf,bin_pred,how='inner',on=['company'])\n",
    "newdf2 = pd.merge(infodf,range_pred,how='inner',on=['company'])"
   ]
  },
  {
   "cell_type": "code",
   "execution_count": 248,
   "metadata": {
    "collapsed": true
   },
   "outputs": [],
   "source": [
    "# drop unnecessary columns\n",
    "newdf1 = newdf1.drop(['company','first_funding_date','founded_date','last_funding_date',], 1)\n",
    "newdf2 = newdf2.drop(['company','first_funding_date','founded_date','last_funding_date',], 1)"
   ]
  },
  {
   "cell_type": "markdown",
   "metadata": {},
   "source": [
    "Let's do some EDA to see the distribution of our data"
   ]
  },
  {
   "cell_type": "code",
   "execution_count": 225,
   "metadata": {
    "collapsed": false
   },
   "outputs": [
    {
     "data": {
      "text/plain": [
       "<matplotlib.text.Text at 0x2d47ec88>"
      ]
     },
     "execution_count": 225,
     "metadata": {},
     "output_type": "execute_result"
    },
    {
     "data": {
      "image/png": "[encoded data removed]",
      "text/plain": [
       "<matplotlib.figure.Figure at 0x304671d0>"
      ]
     },
     "metadata": {},
     "output_type": "display_data"
    }
   ],
   "source": [
    "# histogram of total funding\n",
    "plt.hist(newdf1.funding_total,bins=20)\n",
    "plt.title(\"Total Funding of Companies\")\n",
    "plt.xlabel(\"Total Funding (in millions $)\")\n",
    "plt.ylabel(\"Number of Companies\")"
   ]
  },
  {
   "cell_type": "code",
   "execution_count": 227,
   "metadata": {
    "collapsed": false
   },
   "outputs": [
    {
     "data": {
      "text/plain": [
       "<matplotlib.text.Text at 0x30b6ab38>"
      ]
     },
     "execution_count": 227,
     "metadata": {},
     "output_type": "execute_result"
    },
    {
     "data": {
      "image/png": "[encoded data removed]",
      "text/plain": [
       "<matplotlib.figure.Figure at 0x2b3ee9e8>"
      ]
     },
     "metadata": {},
     "output_type": "display_data"
    }
   ],
   "source": [
    "# histogram of number of funding rounds\n",
    "plt.hist(newdf1.funding_rounds,bins=10)\n",
    "plt.title(\"Funding Rounds of Companies\")\n",
    "plt.xlabel(\"Number of Funding Rounds\")\n",
    "plt.ylabel(\"Number of Companies\")"
   ]
  },
  {
   "cell_type": "code",
   "execution_count": 229,
   "metadata": {
    "collapsed": false
   },
   "outputs": [
    {
     "data": {
      "text/plain": [
       "<matplotlib.text.Text at 0x30a400b8>"
      ]
     },
     "execution_count": 229,
     "metadata": {},
     "output_type": "execute_result"
    },
    {
     "data": {
      "image/png": "[encoded data removed]",
      "text/plain": [
       "<matplotlib.figure.Figure at 0x326d4b38>"
      ]
     },
     "metadata": {},
     "output_type": "display_data"
    }
   ],
   "source": [
    "# histogram of age of companies\n",
    "plt.hist(newdf1.age,bins=15)\n",
    "plt.title(\"Age of Companies (in days)\")\n",
    "plt.xlabel(\"Age (days)\")\n",
    "plt.ylabel(\"Number of Companies\")"
   ]
  },
  {
   "cell_type": "code",
   "execution_count": 232,
   "metadata": {
    "collapsed": false
   },
   "outputs": [
    {
     "data": {
      "text/plain": [
       "<matplotlib.text.Text at 0x322a50f0>"
      ]
     },
     "execution_count": 232,
     "metadata": {},
     "output_type": "execute_result"
    },
    {
     "data": {
      "image/png": "[encoded data removed]",
      "text/plain": [
       "<matplotlib.figure.Figure at 0x338802b0>"
      ]
     },
     "metadata": {},
     "output_type": "display_data"
    }
   ],
   "source": [
    "# histogram of time since last funding\n",
    "plt.hist(newdf1.time_from_last_funding,bins=15)\n",
    "plt.title(\"Time Since Last Funding for All Companies\")\n",
    "plt.xlabel(\"Time Since Last Funding\")\n",
    "plt.ylabel(\"Number of Companies\")"
   ]
  },
  {
   "cell_type": "code",
   "execution_count": 235,
   "metadata": {
    "collapsed": false
   },
   "outputs": [
    {
     "data": {
      "text/plain": [
       "<matplotlib.text.Text at 0x33dc99b0>"
      ]
     },
     "execution_count": 235,
     "metadata": {},
     "output_type": "execute_result"
    },
    {
     "data": {
      "image/png": "[encoded data removed]",
      "text/plain": [
       "<matplotlib.figure.Figure at 0x33b0c710>"
      ]
     },
     "metadata": {},
     "output_type": "display_data"
    }
   ],
   "source": [
    "# histogram of weighted binary sentiment ranking\n",
    "plt.hist(newdf1.weighted_predict,bins=20)\n",
    "plt.title(\"Predicted Weighted Binary Sentiment Ranking\")\n",
    "plt.xlabel(\"Weighted Binary Sentiment Prediction\")\n",
    "plt.ylabel(\"Number of Companies\")"
   ]
  },
  {
   "cell_type": "code",
   "execution_count": 291,
   "metadata": {
    "collapsed": false
   },
   "outputs": [
    {
     "data": {
      "text/plain": [
       "<matplotlib.text.Text at 0x359089e8>"
      ]
     },
     "execution_count": 291,
     "metadata": {},
     "output_type": "execute_result"
    },
    {
     "data": {
      "image/png": "[encoded data removed]",
      "text/plain": [
       "<matplotlib.figure.Figure at 0x359069b0>"
      ]
     },
     "metadata": {},
     "output_type": "display_data"
    }
   ],
   "source": [
    "# histogram of weighted sentiment rank from -2 to 2\n",
    "plt.hist(newdf2.weighted_predict_range,bins=20)\n",
    "plt.title(\"Weighted Predicted Sentiment Ranking (on -2 to 2 scale)\")\n",
    "plt.xlabel(\"Sentiment Prediction (from -2 to 2)\")\n",
    "plt.ylabel(\"Number of Companies\")"
   ]
  },
  {
   "cell_type": "code",
   "execution_count": 292,
   "metadata": {
    "collapsed": false
   },
   "outputs": [
    {
     "data": {
      "text/plain": [
       "<matplotlib.text.Text at 0x35906518>"
      ]
     },
     "execution_count": 292,
     "metadata": {},
     "output_type": "execute_result"
    },
    {
     "data": {
      "image/png": "[encoded data removed]",
      "text/plain": [
       "<matplotlib.figure.Figure at 0x359328d0>"
      ]
     },
     "metadata": {},
     "output_type": "display_data"
    }
   ],
   "source": [
    "# histogram of binary sentiment ranking without weighting\n",
    "plt.hist(newdf1.predict_binary,bins=20)\n",
    "plt.title(\"Predicted Nonweighted Binary Sentiment Ranking\")\n",
    "plt.xlabel(\"Binary Sentiment Prediction\")\n",
    "plt.ylabel(\"Number of Companies\")"
   ]
  },
  {
   "cell_type": "code",
   "execution_count": 237,
   "metadata": {
    "collapsed": false
   },
   "outputs": [
    {
     "data": {
      "text/plain": [
       "<matplotlib.text.Text at 0x3424fe48>"
      ]
     },
     "execution_count": 237,
     "metadata": {},
     "output_type": "execute_result"
    },
    {
     "data": {
      "image/png": "[encoded data removed]",
      "text/plain": [
       "<matplotlib.figure.Figure at 0x33b0c278>"
      ]
     },
     "metadata": {},
     "output_type": "display_data"
    }
   ],
   "source": [
    "# histogram of sentiment ranking from -2 to 2 without weighting\n",
    "plt.hist(newdf2.predict_range,bins=20)\n",
    "plt.title(\"Predicted Nonweighted Sentiment Ranking (from -2 to 2)\")\n",
    "plt.xlabel(\"Predicted Sentiment Ranking (from -2 to 2)\")\n",
    "plt.ylabel(\"Number of Companies\")"
   ]
  },
  {
   "cell_type": "markdown",
   "metadata": {},
   "source": [
    "Let's try creating a linear regression model. First we try an ordinary least squares regression."
   ]
  },
  {
   "cell_type": "code",
   "execution_count": 76,
   "metadata": {
    "collapsed": true
   },
   "outputs": [],
   "source": [
    "import statsmodels.api as sm\n",
    "from statsmodels.formula.api import glm, ols"
   ]
  },
  {
   "cell_type": "code",
   "execution_count": 246,
   "metadata": {
    "collapsed": true
   },
   "outputs": [],
   "source": [
    "ols_model1 = ols('funding_total ~ time_from_last_funding + age + public + funding_rounds + weighted_predict + predict_binary', newdf1).fit()\n",
    "ols_model2 = ols('funding_total ~ time_from_last_funding + age + public + funding_rounds + weighted_predict_range + predict_range', newdf2).fit()"
   ]
  },
  {
   "cell_type": "code",
   "execution_count": 247,
   "metadata": {
    "collapsed": false
   },
   "outputs": [
    {
     "data": {
      "text/html": [
       "<table class=\"simpletable\">\n",
       "<caption>OLS Regression Results</caption>\n",
       "<tr>\n",
       "  <th>Dep. Variable:</th>      <td>funding_total</td>  <th>  R-squared:         </th> <td>   0.494</td>\n",
       "</tr>\n",
       "<tr>\n",
       "  <th>Model:</th>                   <td>OLS</td>       <th>  Adj. R-squared:    </th> <td>   0.325</td>\n",
       "</tr>\n",
       "<tr>\n",
       "  <th>Method:</th>             <td>Least Squares</td>  <th>  F-statistic:       </th> <td>   2.924</td>\n",
       "</tr>\n",
       "<tr>\n",
       "  <th>Date:</th>             <td>Thu, 10 Dec 2015</td> <th>  Prob (F-statistic):</th>  <td>0.0359</td> \n",
       "</tr>\n",
       "<tr>\n",
       "  <th>Time:</th>                 <td>01:45:23</td>     <th>  Log-Likelihood:    </th> <td> -557.16</td>\n",
       "</tr>\n",
       "<tr>\n",
       "  <th>No. Observations:</th>      <td>    25</td>      <th>  AIC:               </th> <td>   1128.</td>\n",
       "</tr>\n",
       "<tr>\n",
       "  <th>Df Residuals:</th>          <td>    18</td>      <th>  BIC:               </th> <td>   1137.</td>\n",
       "</tr>\n",
       "<tr>\n",
       "  <th>Df Model:</th>              <td>     6</td>      <th>                     </th>     <td> </td>   \n",
       "</tr>\n",
       "<tr>\n",
       "  <th>Covariance Type:</th>      <td>nonrobust</td>    <th>                     </th>     <td> </td>   \n",
       "</tr>\n",
       "</table>\n",
       "<table class=\"simpletable\">\n",
       "<tr>\n",
       "             <td></td>               <th>coef</th>     <th>std err</th>      <th>t</th>      <th>P>|t|</th> <th>[95.0% Conf. Int.]</th> \n",
       "</tr>\n",
       "<tr>\n",
       "  <th>Intercept</th>              <td>-1.276e+09</td> <td> 8.36e+08</td> <td>   -1.526</td> <td> 0.144</td> <td>-3.03e+09  4.81e+08</td>\n",
       "</tr>\n",
       "<tr>\n",
       "  <th>time_from_last_funding</th> <td> 2.719e+05</td> <td> 2.73e+05</td> <td>    0.996</td> <td> 0.333</td> <td>-3.02e+05  8.46e+05</td>\n",
       "</tr>\n",
       "<tr>\n",
       "  <th>age</th>                    <td>-8.986e+04</td> <td> 2.56e+05</td> <td>   -0.351</td> <td> 0.729</td> <td>-6.27e+05  4.48e+05</td>\n",
       "</tr>\n",
       "<tr>\n",
       "  <th>public</th>                 <td>-6.239e+08</td> <td> 7.78e+08</td> <td>   -0.802</td> <td> 0.433</td> <td>-2.26e+09  1.01e+09</td>\n",
       "</tr>\n",
       "<tr>\n",
       "  <th>funding_rounds</th>         <td>  3.92e+08</td> <td> 1.09e+08</td> <td>    3.585</td> <td> 0.002</td> <td> 1.62e+08  6.22e+08</td>\n",
       "</tr>\n",
       "<tr>\n",
       "  <th>weighted_predict</th>       <td> 5.688e+08</td> <td> 7.47e+08</td> <td>    0.762</td> <td> 0.456</td> <td>   -1e+09  2.14e+09</td>\n",
       "</tr>\n",
       "<tr>\n",
       "  <th>predict_binary</th>         <td> -2.89e+07</td> <td> 6.14e+08</td> <td>   -0.047</td> <td> 0.963</td> <td>-1.32e+09  1.26e+09</td>\n",
       "</tr>\n",
       "</table>\n",
       "<table class=\"simpletable\">\n",
       "<tr>\n",
       "  <th>Omnibus:</th>       <td>29.296</td> <th>  Durbin-Watson:     </th> <td>   1.794</td>\n",
       "</tr>\n",
       "<tr>\n",
       "  <th>Prob(Omnibus):</th> <td> 0.000</td> <th>  Jarque-Bera (JB):  </th> <td>  66.701</td>\n",
       "</tr>\n",
       "<tr>\n",
       "  <th>Skew:</th>          <td> 2.179</td> <th>  Prob(JB):          </th> <td>3.28e-15</td>\n",
       "</tr>\n",
       "<tr>\n",
       "  <th>Kurtosis:</th>      <td> 9.711</td> <th>  Cond. No.          </th> <td>2.16e+04</td>\n",
       "</tr>\n",
       "</table>"
      ],
      "text/plain": [
       "<class 'statsmodels.iolib.summary.Summary'>\n",
       "\"\"\"\n",
       "                            OLS Regression Results                            \n",
       "==============================================================================\n",
       "Dep. Variable:          funding_total   R-squared:                       0.494\n",
       "Model:                            OLS   Adj. R-squared:                  0.325\n",
       "Method:                 Least Squares   F-statistic:                     2.924\n",
       "Date:                Thu, 10 Dec 2015   Prob (F-statistic):             0.0359\n",
       "Time:                        01:45:23   Log-Likelihood:                -557.16\n",
       "No. Observations:                  25   AIC:                             1128.\n",
       "Df Residuals:                      18   BIC:                             1137.\n",
       "Df Model:                           6                                         \n",
       "Covariance Type:            nonrobust                                         \n",
       "==========================================================================================\n",
       "                             coef    std err          t      P>|t|      [95.0% Conf. Int.]\n",
       "------------------------------------------------------------------------------------------\n",
       "Intercept              -1.276e+09   8.36e+08     -1.526      0.144     -3.03e+09  4.81e+08\n",
       "time_from_last_funding  2.719e+05   2.73e+05      0.996      0.333     -3.02e+05  8.46e+05\n",
       "age                    -8.986e+04   2.56e+05     -0.351      0.729     -6.27e+05  4.48e+05\n",
       "public                 -6.239e+08   7.78e+08     -0.802      0.433     -2.26e+09  1.01e+09\n",
       "funding_rounds           3.92e+08   1.09e+08      3.585      0.002      1.62e+08  6.22e+08\n",
       "weighted_predict        5.688e+08   7.47e+08      0.762      0.456        -1e+09  2.14e+09\n",
       "predict_binary          -2.89e+07   6.14e+08     -0.047      0.963     -1.32e+09  1.26e+09\n",
       "==============================================================================\n",
       "Omnibus:                       29.296   Durbin-Watson:                   1.794\n",
       "Prob(Omnibus):                  0.000   Jarque-Bera (JB):               66.701\n",
       "Skew:                           2.179   Prob(JB):                     3.28e-15\n",
       "Kurtosis:                       9.711   Cond. No.                     2.16e+04\n",
       "==============================================================================\n",
       "\n",
       "Warnings:\n",
       "[1] Standard Errors assume that the covariance matrix of the errors is correctly specified.\n",
       "[2] The condition number is large, 2.16e+04. This might indicate that there are\n",
       "strong multicollinearity or other numerical problems.\n",
       "\"\"\""
      ]
     },
     "execution_count": 247,
     "metadata": {},
     "output_type": "execute_result"
    }
   ],
   "source": [
    "ols_model1.summary()"
   ]
  },
  {
   "cell_type": "code",
   "execution_count": 251,
   "metadata": {
    "collapsed": false
   },
   "outputs": [
    {
     "data": {
      "text/html": [
       "<table class=\"simpletable\">\n",
       "<caption>OLS Regression Results</caption>\n",
       "<tr>\n",
       "  <th>Dep. Variable:</th>      <td>funding_total</td>  <th>  R-squared:         </th> <td>   0.467</td>\n",
       "</tr>\n",
       "<tr>\n",
       "  <th>Model:</th>                   <td>OLS</td>       <th>  Adj. R-squared:    </th> <td>   0.289</td>\n",
       "</tr>\n",
       "<tr>\n",
       "  <th>Method:</th>             <td>Least Squares</td>  <th>  F-statistic:       </th> <td>   2.628</td>\n",
       "</tr>\n",
       "<tr>\n",
       "  <th>Date:</th>             <td>Thu, 10 Dec 2015</td> <th>  Prob (F-statistic):</th>  <td>0.0522</td> \n",
       "</tr>\n",
       "<tr>\n",
       "  <th>Time:</th>                 <td>02:06:20</td>     <th>  Log-Likelihood:    </th> <td> -557.80</td>\n",
       "</tr>\n",
       "<tr>\n",
       "  <th>No. Observations:</th>      <td>    25</td>      <th>  AIC:               </th> <td>   1130.</td>\n",
       "</tr>\n",
       "<tr>\n",
       "  <th>Df Residuals:</th>          <td>    18</td>      <th>  BIC:               </th> <td>   1138.</td>\n",
       "</tr>\n",
       "<tr>\n",
       "  <th>Df Model:</th>              <td>     6</td>      <th>                     </th>     <td> </td>   \n",
       "</tr>\n",
       "<tr>\n",
       "  <th>Covariance Type:</th>      <td>nonrobust</td>    <th>                     </th>     <td> </td>   \n",
       "</tr>\n",
       "</table>\n",
       "<table class=\"simpletable\">\n",
       "<tr>\n",
       "             <td></td>               <th>coef</th>     <th>std err</th>      <th>t</th>      <th>P>|t|</th> <th>[95.0% Conf. Int.]</th> \n",
       "</tr>\n",
       "<tr>\n",
       "  <th>Intercept</th>              <td>-1.077e+09</td> <td> 8.39e+08</td> <td>   -1.284</td> <td> 0.215</td> <td>-2.84e+09  6.85e+08</td>\n",
       "</tr>\n",
       "<tr>\n",
       "  <th>time_from_last_funding</th> <td>  2.82e+05</td> <td> 2.59e+05</td> <td>    1.088</td> <td> 0.291</td> <td>-2.62e+05  8.26e+05</td>\n",
       "</tr>\n",
       "<tr>\n",
       "  <th>age</th>                    <td>-1.678e+05</td> <td> 2.41e+05</td> <td>   -0.696</td> <td> 0.496</td> <td>-6.74e+05  3.39e+05</td>\n",
       "</tr>\n",
       "<tr>\n",
       "  <th>public</th>                 <td>  -7.1e+08</td> <td> 8.15e+08</td> <td>   -0.871</td> <td> 0.395</td> <td>-2.42e+09     1e+09</td>\n",
       "</tr>\n",
       "<tr>\n",
       "  <th>funding_rounds</th>         <td> 3.843e+08</td> <td> 1.09e+08</td> <td>    3.524</td> <td> 0.002</td> <td> 1.55e+08  6.13e+08</td>\n",
       "</tr>\n",
       "<tr>\n",
       "  <th>weighted_predict_range</th> <td> 6.496e+08</td> <td> 1.08e+09</td> <td>    0.602</td> <td> 0.554</td> <td>-1.62e+09  2.92e+09</td>\n",
       "</tr>\n",
       "<tr>\n",
       "  <th>predict_range</th>          <td>-3.796e+08</td> <td>  1.1e+09</td> <td>   -0.346</td> <td> 0.734</td> <td>-2.69e+09  1.93e+09</td>\n",
       "</tr>\n",
       "</table>\n",
       "<table class=\"simpletable\">\n",
       "<tr>\n",
       "  <th>Omnibus:</th>       <td>30.275</td> <th>  Durbin-Watson:     </th> <td>   1.814</td>\n",
       "</tr>\n",
       "<tr>\n",
       "  <th>Prob(Omnibus):</th> <td> 0.000</td> <th>  Jarque-Bera (JB):  </th> <td>  68.542</td>\n",
       "</tr>\n",
       "<tr>\n",
       "  <th>Skew:</th>          <td> 2.288</td> <th>  Prob(JB):          </th> <td>1.31e-15</td>\n",
       "</tr>\n",
       "<tr>\n",
       "  <th>Kurtosis:</th>      <td> 9.698</td> <th>  Cond. No.          </th> <td>2.96e+04</td>\n",
       "</tr>\n",
       "</table>"
      ],
      "text/plain": [
       "<class 'statsmodels.iolib.summary.Summary'>\n",
       "\"\"\"\n",
       "                            OLS Regression Results                            \n",
       "==============================================================================\n",
       "Dep. Variable:          funding_total   R-squared:                       0.467\n",
       "Model:                            OLS   Adj. R-squared:                  0.289\n",
       "Method:                 Least Squares   F-statistic:                     2.628\n",
       "Date:                Thu, 10 Dec 2015   Prob (F-statistic):             0.0522\n",
       "Time:                        02:06:20   Log-Likelihood:                -557.80\n",
       "No. Observations:                  25   AIC:                             1130.\n",
       "Df Residuals:                      18   BIC:                             1138.\n",
       "Df Model:                           6                                         \n",
       "Covariance Type:            nonrobust                                         \n",
       "==========================================================================================\n",
       "                             coef    std err          t      P>|t|      [95.0% Conf. Int.]\n",
       "------------------------------------------------------------------------------------------\n",
       "Intercept              -1.077e+09   8.39e+08     -1.284      0.215     -2.84e+09  6.85e+08\n",
       "time_from_last_funding   2.82e+05   2.59e+05      1.088      0.291     -2.62e+05  8.26e+05\n",
       "age                    -1.678e+05   2.41e+05     -0.696      0.496     -6.74e+05  3.39e+05\n",
       "public                   -7.1e+08   8.15e+08     -0.871      0.395     -2.42e+09     1e+09\n",
       "funding_rounds          3.843e+08   1.09e+08      3.524      0.002      1.55e+08  6.13e+08\n",
       "weighted_predict_range  6.496e+08   1.08e+09      0.602      0.554     -1.62e+09  2.92e+09\n",
       "predict_range          -3.796e+08    1.1e+09     -0.346      0.734     -2.69e+09  1.93e+09\n",
       "==============================================================================\n",
       "Omnibus:                       30.275   Durbin-Watson:                   1.814\n",
       "Prob(Omnibus):                  0.000   Jarque-Bera (JB):               68.542\n",
       "Skew:                           2.288   Prob(JB):                     1.31e-15\n",
       "Kurtosis:                       9.698   Cond. No.                     2.96e+04\n",
       "==============================================================================\n",
       "\n",
       "Warnings:\n",
       "[1] Standard Errors assume that the covariance matrix of the errors is correctly specified.\n",
       "[2] The condition number is large, 2.96e+04. This might indicate that there are\n",
       "strong multicollinearity or other numerical problems.\n",
       "\"\"\""
      ]
     },
     "execution_count": 251,
     "metadata": {},
     "output_type": "execute_result"
    }
   ],
   "source": [
    "ols_model2.summary()"
   ]
  },
  {
   "cell_type": "markdown",
   "metadata": {},
   "source": [
    "Because our R^2 values are really poor, we will try using a forward stepwise regression. Code is from http://planspace.org/20150423-forward_selection_with_statsmodels/"
   ]
  },
  {
   "cell_type": "code",
   "execution_count": 252,
   "metadata": {
    "collapsed": true
   },
   "outputs": [],
   "source": [
    "import statsmodels.formula.api as smf\n",
    "\n",
    "def forward_selected(data, response):\n",
    "    \"\"\"Linear model designed by forward selection.\n",
    "\n",
    "    Parameters:\n",
    "    -----------\n",
    "    data : pandas DataFrame with all possible predictors and response\n",
    "\n",
    "    response: string, name of response column in data\n",
    "\n",
    "    Returns:\n",
    "    --------\n",
    "    model: an \"optimal\" fitted statsmodels linear model\n",
    "           with an intercept\n",
    "           selected by forward selection\n",
    "           evaluated by adjusted R-squared\n",
    "    \"\"\"\n",
    "    remaining = set(data.columns)\n",
    "    remaining.remove(response)\n",
    "    selected = []\n",
    "    current_score, best_new_score = 0.0, 0.0\n",
    "    while remaining and current_score == best_new_score:\n",
    "        scores_with_candidates = []\n",
    "        for candidate in remaining:\n",
    "            formula = \"{} ~ {} + 1\".format(response,\n",
    "                                           ' + '.join(selected + [candidate]))\n",
    "            score = smf.ols(formula, data).fit().rsquared_adj\n",
    "            scores_with_candidates.append((score, candidate))\n",
    "        scores_with_candidates.sort()\n",
    "        best_new_score, best_candidate = scores_with_candidates.pop()\n",
    "        if current_score < best_new_score:\n",
    "            remaining.remove(best_candidate)\n",
    "            selected.append(best_candidate)\n",
    "            current_score = best_new_score\n",
    "    formula = \"{} ~ {} + 1\".format(response,\n",
    "                                   ' + '.join(selected))\n",
    "    model = smf.ols(formula, data).fit()\n",
    "    return model"
   ]
  },
  {
   "cell_type": "code",
   "execution_count": 253,
   "metadata": {
    "collapsed": true
   },
   "outputs": [],
   "source": [
    "ols_for_model1 = forward_selected(newdf1, 'funding_total')\n",
    "ols_for_model2 = forward_selected(newdf2, 'funding_total')"
   ]
  },
  {
   "cell_type": "code",
   "execution_count": 254,
   "metadata": {
    "collapsed": false
   },
   "outputs": [
    {
     "data": {
      "text/html": [
       "<table class=\"simpletable\">\n",
       "<caption>OLS Regression Results</caption>\n",
       "<tr>\n",
       "  <th>Dep. Variable:</th>      <td>funding_total</td>  <th>  R-squared:         </th> <td>   0.438</td>\n",
       "</tr>\n",
       "<tr>\n",
       "  <th>Model:</th>                   <td>OLS</td>       <th>  Adj. R-squared:    </th> <td>   0.386</td>\n",
       "</tr>\n",
       "<tr>\n",
       "  <th>Method:</th>             <td>Least Squares</td>  <th>  F-statistic:       </th> <td>   8.556</td>\n",
       "</tr>\n",
       "<tr>\n",
       "  <th>Date:</th>             <td>Thu, 10 Dec 2015</td> <th>  Prob (F-statistic):</th>  <td>0.00178</td>\n",
       "</tr>\n",
       "<tr>\n",
       "  <th>Time:</th>                 <td>02:19:31</td>     <th>  Log-Likelihood:    </th> <td> -558.47</td>\n",
       "</tr>\n",
       "<tr>\n",
       "  <th>No. Observations:</th>      <td>    25</td>      <th>  AIC:               </th> <td>   1123.</td>\n",
       "</tr>\n",
       "<tr>\n",
       "  <th>Df Residuals:</th>          <td>    22</td>      <th>  BIC:               </th> <td>   1127.</td>\n",
       "</tr>\n",
       "<tr>\n",
       "  <th>Df Model:</th>              <td>     2</td>      <th>                     </th>     <td> </td>   \n",
       "</tr>\n",
       "<tr>\n",
       "  <th>Covariance Type:</th>      <td>nonrobust</td>    <th>                     </th>     <td> </td>   \n",
       "</tr>\n",
       "</table>\n",
       "<table class=\"simpletable\">\n",
       "<tr>\n",
       "         <td></td>           <th>coef</th>     <th>std err</th>      <th>t</th>      <th>P>|t|</th> <th>[95.0% Conf. Int.]</th> \n",
       "</tr>\n",
       "<tr>\n",
       "  <th>Intercept</th>      <td>-8.911e+08</td> <td> 5.15e+08</td> <td>   -1.730</td> <td> 0.098</td> <td>-1.96e+09  1.77e+08</td>\n",
       "</tr>\n",
       "<tr>\n",
       "  <th>funding_rounds</th> <td> 3.129e+08</td> <td> 7.77e+07</td> <td>    4.029</td> <td> 0.001</td> <td> 1.52e+08  4.74e+08</td>\n",
       "</tr>\n",
       "<tr>\n",
       "  <th>predict_binary</th> <td> 3.553e+08</td> <td> 3.31e+08</td> <td>    1.072</td> <td> 0.295</td> <td>-3.32e+08  1.04e+09</td>\n",
       "</tr>\n",
       "</table>\n",
       "<table class=\"simpletable\">\n",
       "<tr>\n",
       "  <th>Omnibus:</th>       <td>35.259</td> <th>  Durbin-Watson:     </th> <td>   1.722</td>\n",
       "</tr>\n",
       "<tr>\n",
       "  <th>Prob(Omnibus):</th> <td> 0.000</td> <th>  Jarque-Bera (JB):  </th> <td> 101.670</td>\n",
       "</tr>\n",
       "<tr>\n",
       "  <th>Skew:</th>          <td> 2.582</td> <th>  Prob(JB):          </th> <td>8.37e-23</td>\n",
       "</tr>\n",
       "<tr>\n",
       "  <th>Kurtosis:</th>      <td>11.422</td> <th>  Cond. No.          </th> <td>    13.4</td>\n",
       "</tr>\n",
       "</table>"
      ],
      "text/plain": [
       "<class 'statsmodels.iolib.summary.Summary'>\n",
       "\"\"\"\n",
       "                            OLS Regression Results                            \n",
       "==============================================================================\n",
       "Dep. Variable:          funding_total   R-squared:                       0.438\n",
       "Model:                            OLS   Adj. R-squared:                  0.386\n",
       "Method:                 Least Squares   F-statistic:                     8.556\n",
       "Date:                Thu, 10 Dec 2015   Prob (F-statistic):            0.00178\n",
       "Time:                        02:19:31   Log-Likelihood:                -558.47\n",
       "No. Observations:                  25   AIC:                             1123.\n",
       "Df Residuals:                      22   BIC:                             1127.\n",
       "Df Model:                           2                                         \n",
       "Covariance Type:            nonrobust                                         \n",
       "==================================================================================\n",
       "                     coef    std err          t      P>|t|      [95.0% Conf. Int.]\n",
       "----------------------------------------------------------------------------------\n",
       "Intercept      -8.911e+08   5.15e+08     -1.730      0.098     -1.96e+09  1.77e+08\n",
       "funding_rounds  3.129e+08   7.77e+07      4.029      0.001      1.52e+08  4.74e+08\n",
       "predict_binary  3.553e+08   3.31e+08      1.072      0.295     -3.32e+08  1.04e+09\n",
       "==============================================================================\n",
       "Omnibus:                       35.259   Durbin-Watson:                   1.722\n",
       "Prob(Omnibus):                  0.000   Jarque-Bera (JB):              101.670\n",
       "Skew:                           2.582   Prob(JB):                     8.37e-23\n",
       "Kurtosis:                      11.422   Cond. No.                         13.4\n",
       "==============================================================================\n",
       "\n",
       "Warnings:\n",
       "[1] Standard Errors assume that the covariance matrix of the errors is correctly specified.\n",
       "\"\"\""
      ]
     },
     "execution_count": 254,
     "metadata": {},
     "output_type": "execute_result"
    }
   ],
   "source": [
    "ols_for_model1.summary()"
   ]
  },
  {
   "cell_type": "code",
   "execution_count": 255,
   "metadata": {
    "collapsed": false
   },
   "outputs": [
    {
     "data": {
      "text/html": [
       "<table class=\"simpletable\">\n",
       "<caption>OLS Regression Results</caption>\n",
       "<tr>\n",
       "  <th>Dep. Variable:</th>      <td>funding_total</td>  <th>  R-squared:         </th> <td>   0.408</td>\n",
       "</tr>\n",
       "<tr>\n",
       "  <th>Model:</th>                   <td>OLS</td>       <th>  Adj. R-squared:    </th> <td>   0.382</td>\n",
       "</tr>\n",
       "<tr>\n",
       "  <th>Method:</th>             <td>Least Squares</td>  <th>  F-statistic:       </th> <td>   15.86</td>\n",
       "</tr>\n",
       "<tr>\n",
       "  <th>Date:</th>             <td>Thu, 10 Dec 2015</td> <th>  Prob (F-statistic):</th> <td>0.000588</td>\n",
       "</tr>\n",
       "<tr>\n",
       "  <th>Time:</th>                 <td>02:19:58</td>     <th>  Log-Likelihood:    </th> <td> -559.11</td>\n",
       "</tr>\n",
       "<tr>\n",
       "  <th>No. Observations:</th>      <td>    25</td>      <th>  AIC:               </th> <td>   1122.</td>\n",
       "</tr>\n",
       "<tr>\n",
       "  <th>Df Residuals:</th>          <td>    23</td>      <th>  BIC:               </th> <td>   1125.</td>\n",
       "</tr>\n",
       "<tr>\n",
       "  <th>Df Model:</th>              <td>     1</td>      <th>                     </th>     <td> </td>   \n",
       "</tr>\n",
       "<tr>\n",
       "  <th>Covariance Type:</th>      <td>nonrobust</td>    <th>                     </th>     <td> </td>   \n",
       "</tr>\n",
       "</table>\n",
       "<table class=\"simpletable\">\n",
       "<tr>\n",
       "         <td></td>           <th>coef</th>     <th>std err</th>      <th>t</th>      <th>P>|t|</th> <th>[95.0% Conf. Int.]</th> \n",
       "</tr>\n",
       "<tr>\n",
       "  <th>Intercept</th>      <td>-9.537e+08</td> <td> 5.13e+08</td> <td>   -1.858</td> <td> 0.076</td> <td>-2.02e+09  1.08e+08</td>\n",
       "</tr>\n",
       "<tr>\n",
       "  <th>funding_rounds</th> <td> 3.101e+08</td> <td> 7.79e+07</td> <td>    3.982</td> <td> 0.001</td> <td> 1.49e+08  4.71e+08</td>\n",
       "</tr>\n",
       "</table>\n",
       "<table class=\"simpletable\">\n",
       "<tr>\n",
       "  <th>Omnibus:</th>       <td>35.628</td> <th>  Durbin-Watson:     </th> <td>   1.743</td>\n",
       "</tr>\n",
       "<tr>\n",
       "  <th>Prob(Omnibus):</th> <td> 0.000</td> <th>  Jarque-Bera (JB):  </th> <td> 107.732</td>\n",
       "</tr>\n",
       "<tr>\n",
       "  <th>Skew:</th>          <td> 2.576</td> <th>  Prob(JB):          </th> <td>4.04e-24</td>\n",
       "</tr>\n",
       "<tr>\n",
       "  <th>Kurtosis:</th>      <td>11.768</td> <th>  Cond. No.          </th> <td>    13.2</td>\n",
       "</tr>\n",
       "</table>"
      ],
      "text/plain": [
       "<class 'statsmodels.iolib.summary.Summary'>\n",
       "\"\"\"\n",
       "                            OLS Regression Results                            \n",
       "==============================================================================\n",
       "Dep. Variable:          funding_total   R-squared:                       0.408\n",
       "Model:                            OLS   Adj. R-squared:                  0.382\n",
       "Method:                 Least Squares   F-statistic:                     15.86\n",
       "Date:                Thu, 10 Dec 2015   Prob (F-statistic):           0.000588\n",
       "Time:                        02:19:58   Log-Likelihood:                -559.11\n",
       "No. Observations:                  25   AIC:                             1122.\n",
       "Df Residuals:                      23   BIC:                             1125.\n",
       "Df Model:                           1                                         \n",
       "Covariance Type:            nonrobust                                         \n",
       "==================================================================================\n",
       "                     coef    std err          t      P>|t|      [95.0% Conf. Int.]\n",
       "----------------------------------------------------------------------------------\n",
       "Intercept      -9.537e+08   5.13e+08     -1.858      0.076     -2.02e+09  1.08e+08\n",
       "funding_rounds  3.101e+08   7.79e+07      3.982      0.001      1.49e+08  4.71e+08\n",
       "==============================================================================\n",
       "Omnibus:                       35.628   Durbin-Watson:                   1.743\n",
       "Prob(Omnibus):                  0.000   Jarque-Bera (JB):              107.732\n",
       "Skew:                           2.576   Prob(JB):                     4.04e-24\n",
       "Kurtosis:                      11.768   Cond. No.                         13.2\n",
       "==============================================================================\n",
       "\n",
       "Warnings:\n",
       "[1] Standard Errors assume that the covariance matrix of the errors is correctly specified.\n",
       "\"\"\""
      ]
     },
     "execution_count": 255,
     "metadata": {},
     "output_type": "execute_result"
    }
   ],
   "source": [
    "ols_for_model2.summary()"
   ]
  },
  {
   "cell_type": "markdown",
   "metadata": {},
   "source": [
    "This isn't a significant improvement, although the R^2 values are better. Because some of the data is extremely right skew and the linear regression is still doing a poor job, let's transform the skew data and try again."
   ]
  },
  {
   "cell_type": "code",
   "execution_count": 259,
   "metadata": {
    "collapsed": true
   },
   "outputs": [],
   "source": [
    "# logging the skew data (based on the histograms from above)\n",
    "newdf1['log_age'] = newdf1.age.apply(np.log)\n",
    "newdf1['log_time_from_last_funding'] =  newdf1.time_from_last_funding.apply(np.log)\n",
    "newdf2['log_age'] = newdf2.age.apply(np.log)\n",
    "newdf2['log_time_from_last_funding'] =  newdf2.time_from_last_funding.apply(np.log)"
   ]
  },
  {
   "cell_type": "code",
   "execution_count": 260,
   "metadata": {
    "collapsed": false
   },
   "outputs": [
    {
     "data": {
      "text/plain": [
       "<matplotlib.text.Text at 0x34d11eb8>"
      ]
     },
     "execution_count": 260,
     "metadata": {},
     "output_type": "execute_result"
    },
    {
     "data": {
      "image/png": "[encoded data removed]",
      "text/plain": [
       "<matplotlib.figure.Figure at 0x3509a7b8>"
      ]
     },
     "metadata": {},
     "output_type": "display_data"
    }
   ],
   "source": [
    "# histogram of log(age)\n",
    "plt.hist(newdf1.log_age,bins=15)\n",
    "plt.title(\"Age of Companies (in log(days))\")\n",
    "plt.xlabel(\"Age (log(days))\")\n",
    "plt.ylabel(\"Number of Companies\")"
   ]
  },
  {
   "cell_type": "code",
   "execution_count": 261,
   "metadata": {
    "collapsed": false
   },
   "outputs": [
    {
     "data": {
      "text/plain": [
       "<matplotlib.text.Text at 0x35081c88>"
      ]
     },
     "execution_count": 261,
     "metadata": {},
     "output_type": "execute_result"
    },
    {
     "data": {
      "image/png": "[encoded data removed]",
      "text/plain": [
       "<matplotlib.figure.Figure at 0x3509a128>"
      ]
     },
     "metadata": {},
     "output_type": "display_data"
    }
   ],
   "source": [
    "# histogram of log of time since last funding\n",
    "plt.hist(newdf1.log_time_from_last_funding,bins=15)\n",
    "plt.title(\"Time Since Last Funding for All Companies (log plot)\")\n",
    "plt.xlabel(\"log(Time Since Last Funding)\")\n",
    "plt.ylabel(\"Number of Companies\")"
   ]
  },
  {
   "cell_type": "code",
   "execution_count": 262,
   "metadata": {
    "collapsed": true
   },
   "outputs": [],
   "source": [
    "log_newdf1 = newdf1.drop(['age','time_from_last_funding'], 1)\n",
    "log_newdf2 = newdf2.drop(['age','time_from_last_funding'], 1)"
   ]
  },
  {
   "cell_type": "code",
   "execution_count": 264,
   "metadata": {
    "collapsed": true
   },
   "outputs": [],
   "source": [
    "# try forward selection on log data\n",
    "log_ols_for_model1 = forward_selected(log_newdf1, 'funding_total')\n",
    "log_ols_for_model2 = forward_selected(log_newdf2, 'funding_total')"
   ]
  },
  {
   "cell_type": "code",
   "execution_count": 265,
   "metadata": {
    "collapsed": false
   },
   "outputs": [
    {
     "data": {
      "text/html": [
       "<table class=\"simpletable\">\n",
       "<caption>OLS Regression Results</caption>\n",
       "<tr>\n",
       "  <th>Dep. Variable:</th>      <td>funding_total</td>  <th>  R-squared:         </th> <td>   0.438</td>\n",
       "</tr>\n",
       "<tr>\n",
       "  <th>Model:</th>                   <td>OLS</td>       <th>  Adj. R-squared:    </th> <td>   0.386</td>\n",
       "</tr>\n",
       "<tr>\n",
       "  <th>Method:</th>             <td>Least Squares</td>  <th>  F-statistic:       </th> <td>   8.556</td>\n",
       "</tr>\n",
       "<tr>\n",
       "  <th>Date:</th>             <td>Thu, 10 Dec 2015</td> <th>  Prob (F-statistic):</th>  <td>0.00178</td>\n",
       "</tr>\n",
       "<tr>\n",
       "  <th>Time:</th>                 <td>02:34:11</td>     <th>  Log-Likelihood:    </th> <td> -558.47</td>\n",
       "</tr>\n",
       "<tr>\n",
       "  <th>No. Observations:</th>      <td>    25</td>      <th>  AIC:               </th> <td>   1123.</td>\n",
       "</tr>\n",
       "<tr>\n",
       "  <th>Df Residuals:</th>          <td>    22</td>      <th>  BIC:               </th> <td>   1127.</td>\n",
       "</tr>\n",
       "<tr>\n",
       "  <th>Df Model:</th>              <td>     2</td>      <th>                     </th>     <td> </td>   \n",
       "</tr>\n",
       "<tr>\n",
       "  <th>Covariance Type:</th>      <td>nonrobust</td>    <th>                     </th>     <td> </td>   \n",
       "</tr>\n",
       "</table>\n",
       "<table class=\"simpletable\">\n",
       "<tr>\n",
       "         <td></td>           <th>coef</th>     <th>std err</th>      <th>t</th>      <th>P>|t|</th> <th>[95.0% Conf. Int.]</th> \n",
       "</tr>\n",
       "<tr>\n",
       "  <th>Intercept</th>      <td>-8.911e+08</td> <td> 5.15e+08</td> <td>   -1.730</td> <td> 0.098</td> <td>-1.96e+09  1.77e+08</td>\n",
       "</tr>\n",
       "<tr>\n",
       "  <th>funding_rounds</th> <td> 3.129e+08</td> <td> 7.77e+07</td> <td>    4.029</td> <td> 0.001</td> <td> 1.52e+08  4.74e+08</td>\n",
       "</tr>\n",
       "<tr>\n",
       "  <th>predict_binary</th> <td> 3.553e+08</td> <td> 3.31e+08</td> <td>    1.072</td> <td> 0.295</td> <td>-3.32e+08  1.04e+09</td>\n",
       "</tr>\n",
       "</table>\n",
       "<table class=\"simpletable\">\n",
       "<tr>\n",
       "  <th>Omnibus:</th>       <td>35.259</td> <th>  Durbin-Watson:     </th> <td>   1.722</td>\n",
       "</tr>\n",
       "<tr>\n",
       "  <th>Prob(Omnibus):</th> <td> 0.000</td> <th>  Jarque-Bera (JB):  </th> <td> 101.670</td>\n",
       "</tr>\n",
       "<tr>\n",
       "  <th>Skew:</th>          <td> 2.582</td> <th>  Prob(JB):          </th> <td>8.37e-23</td>\n",
       "</tr>\n",
       "<tr>\n",
       "  <th>Kurtosis:</th>      <td>11.422</td> <th>  Cond. No.          </th> <td>    13.4</td>\n",
       "</tr>\n",
       "</table>"
      ],
      "text/plain": [
       "<class 'statsmodels.iolib.summary.Summary'>\n",
       "\"\"\"\n",
       "                            OLS Regression Results                            \n",
       "==============================================================================\n",
       "Dep. Variable:          funding_total   R-squared:                       0.438\n",
       "Model:                            OLS   Adj. R-squared:                  0.386\n",
       "Method:                 Least Squares   F-statistic:                     8.556\n",
       "Date:                Thu, 10 Dec 2015   Prob (F-statistic):            0.00178\n",
       "Time:                        02:34:11   Log-Likelihood:                -558.47\n",
       "No. Observations:                  25   AIC:                             1123.\n",
       "Df Residuals:                      22   BIC:                             1127.\n",
       "Df Model:                           2                                         \n",
       "Covariance Type:            nonrobust                                         \n",
       "==================================================================================\n",
       "                     coef    std err          t      P>|t|      [95.0% Conf. Int.]\n",
       "----------------------------------------------------------------------------------\n",
       "Intercept      -8.911e+08   5.15e+08     -1.730      0.098     -1.96e+09  1.77e+08\n",
       "funding_rounds  3.129e+08   7.77e+07      4.029      0.001      1.52e+08  4.74e+08\n",
       "predict_binary  3.553e+08   3.31e+08      1.072      0.295     -3.32e+08  1.04e+09\n",
       "==============================================================================\n",
       "Omnibus:                       35.259   Durbin-Watson:                   1.722\n",
       "Prob(Omnibus):                  0.000   Jarque-Bera (JB):              101.670\n",
       "Skew:                           2.582   Prob(JB):                     8.37e-23\n",
       "Kurtosis:                      11.422   Cond. No.                         13.4\n",
       "==============================================================================\n",
       "\n",
       "Warnings:\n",
       "[1] Standard Errors assume that the covariance matrix of the errors is correctly specified.\n",
       "\"\"\""
      ]
     },
     "execution_count": 265,
     "metadata": {},
     "output_type": "execute_result"
    }
   ],
   "source": [
    "log_ols_for_model1.summary()"
   ]
  },
  {
   "cell_type": "code",
   "execution_count": 266,
   "metadata": {
    "collapsed": false
   },
   "outputs": [
    {
     "data": {
      "text/html": [
       "<table class=\"simpletable\">\n",
       "<caption>OLS Regression Results</caption>\n",
       "<tr>\n",
       "  <th>Dep. Variable:</th>      <td>funding_total</td>  <th>  R-squared:         </th> <td>   0.408</td>\n",
       "</tr>\n",
       "<tr>\n",
       "  <th>Model:</th>                   <td>OLS</td>       <th>  Adj. R-squared:    </th> <td>   0.382</td>\n",
       "</tr>\n",
       "<tr>\n",
       "  <th>Method:</th>             <td>Least Squares</td>  <th>  F-statistic:       </th> <td>   15.86</td>\n",
       "</tr>\n",
       "<tr>\n",
       "  <th>Date:</th>             <td>Thu, 10 Dec 2015</td> <th>  Prob (F-statistic):</th> <td>0.000588</td>\n",
       "</tr>\n",
       "<tr>\n",
       "  <th>Time:</th>                 <td>02:34:25</td>     <th>  Log-Likelihood:    </th> <td> -559.11</td>\n",
       "</tr>\n",
       "<tr>\n",
       "  <th>No. Observations:</th>      <td>    25</td>      <th>  AIC:               </th> <td>   1122.</td>\n",
       "</tr>\n",
       "<tr>\n",
       "  <th>Df Residuals:</th>          <td>    23</td>      <th>  BIC:               </th> <td>   1125.</td>\n",
       "</tr>\n",
       "<tr>\n",
       "  <th>Df Model:</th>              <td>     1</td>      <th>                     </th>     <td> </td>   \n",
       "</tr>\n",
       "<tr>\n",
       "  <th>Covariance Type:</th>      <td>nonrobust</td>    <th>                     </th>     <td> </td>   \n",
       "</tr>\n",
       "</table>\n",
       "<table class=\"simpletable\">\n",
       "<tr>\n",
       "         <td></td>           <th>coef</th>     <th>std err</th>      <th>t</th>      <th>P>|t|</th> <th>[95.0% Conf. Int.]</th> \n",
       "</tr>\n",
       "<tr>\n",
       "  <th>Intercept</th>      <td>-9.537e+08</td> <td> 5.13e+08</td> <td>   -1.858</td> <td> 0.076</td> <td>-2.02e+09  1.08e+08</td>\n",
       "</tr>\n",
       "<tr>\n",
       "  <th>funding_rounds</th> <td> 3.101e+08</td> <td> 7.79e+07</td> <td>    3.982</td> <td> 0.001</td> <td> 1.49e+08  4.71e+08</td>\n",
       "</tr>\n",
       "</table>\n",
       "<table class=\"simpletable\">\n",
       "<tr>\n",
       "  <th>Omnibus:</th>       <td>35.628</td> <th>  Durbin-Watson:     </th> <td>   1.743</td>\n",
       "</tr>\n",
       "<tr>\n",
       "  <th>Prob(Omnibus):</th> <td> 0.000</td> <th>  Jarque-Bera (JB):  </th> <td> 107.732</td>\n",
       "</tr>\n",
       "<tr>\n",
       "  <th>Skew:</th>          <td> 2.576</td> <th>  Prob(JB):          </th> <td>4.04e-24</td>\n",
       "</tr>\n",
       "<tr>\n",
       "  <th>Kurtosis:</th>      <td>11.768</td> <th>  Cond. No.          </th> <td>    13.2</td>\n",
       "</tr>\n",
       "</table>"
      ],
      "text/plain": [
       "<class 'statsmodels.iolib.summary.Summary'>\n",
       "\"\"\"\n",
       "                            OLS Regression Results                            \n",
       "==============================================================================\n",
       "Dep. Variable:          funding_total   R-squared:                       0.408\n",
       "Model:                            OLS   Adj. R-squared:                  0.382\n",
       "Method:                 Least Squares   F-statistic:                     15.86\n",
       "Date:                Thu, 10 Dec 2015   Prob (F-statistic):           0.000588\n",
       "Time:                        02:34:25   Log-Likelihood:                -559.11\n",
       "No. Observations:                  25   AIC:                             1122.\n",
       "Df Residuals:                      23   BIC:                             1125.\n",
       "Df Model:                           1                                         \n",
       "Covariance Type:            nonrobust                                         \n",
       "==================================================================================\n",
       "                     coef    std err          t      P>|t|      [95.0% Conf. Int.]\n",
       "----------------------------------------------------------------------------------\n",
       "Intercept      -9.537e+08   5.13e+08     -1.858      0.076     -2.02e+09  1.08e+08\n",
       "funding_rounds  3.101e+08   7.79e+07      3.982      0.001      1.49e+08  4.71e+08\n",
       "==============================================================================\n",
       "Omnibus:                       35.628   Durbin-Watson:                   1.743\n",
       "Prob(Omnibus):                  0.000   Jarque-Bera (JB):              107.732\n",
       "Skew:                           2.576   Prob(JB):                     4.04e-24\n",
       "Kurtosis:                      11.768   Cond. No.                         13.2\n",
       "==============================================================================\n",
       "\n",
       "Warnings:\n",
       "[1] Standard Errors assume that the covariance matrix of the errors is correctly specified.\n",
       "\"\"\""
      ]
     },
     "execution_count": 266,
     "metadata": {},
     "output_type": "execute_result"
    }
   ],
   "source": [
    "log_ols_for_model2.summary()"
   ]
  },
  {
   "cell_type": "markdown",
   "metadata": {},
   "source": [
    "Since this didn't do anything to improve our model, let's try using a different method. Here we will use a Random Forest Regressor and see how well it predicts the total funding."
   ]
  },
  {
   "cell_type": "code",
   "execution_count": 270,
   "metadata": {
    "collapsed": true
   },
   "outputs": [],
   "source": [
    "y = log_newdf1.funding_total\n",
    "X1 = log_newdf1.drop(['funding_total'],1)\n",
    "X2 = log_newdf2.drop(['funding_total'],1)"
   ]
  },
  {
   "cell_type": "code",
   "execution_count": 287,
   "metadata": {
    "collapsed": false
   },
   "outputs": [],
   "source": [
    "from sklearn.ensemble import RandomForestRegressor\n",
    "model = RandomForestRegressor()\n",
    "forest_model1 = model.fit(X1,y)\n",
    "forest_model2 = model.fit(X2,y)"
   ]
  },
  {
   "cell_type": "code",
   "execution_count": 288,
   "metadata": {
    "collapsed": false
   },
   "outputs": [
    {
     "data": {
      "text/plain": [
       "0.79941314041359035"
      ]
     },
     "execution_count": 288,
     "metadata": {},
     "output_type": "execute_result"
    }
   ],
   "source": [
    "forest_model1.score(X1,y)"
   ]
  },
  {
   "cell_type": "code",
   "execution_count": 289,
   "metadata": {
    "collapsed": false
   },
   "outputs": [
    {
     "data": {
      "text/plain": [
       "0.82936211948770233"
      ]
     },
     "execution_count": 289,
     "metadata": {},
     "output_type": "execute_result"
    }
   ],
   "source": [
    "forest_model2.score(X2,y)"
   ]
  },
  {
   "cell_type": "markdown",
   "metadata": {},
   "source": [
    "Our R^2 value has significantly improved. At this time, we cannot determine whether this is simply due to overfitting, since we do not have enough data to split between testing and training value. However, this does show promise for having potential predictive power."
   ]
  },
  {
   "cell_type": "code",
   "execution_count": null,
   "metadata": {
    "collapsed": true
   },
   "outputs": [],
   "source": []
  }
 ],
 "metadata": {
  "kernelspec": {
   "display_name": "Python 2",
   "language": "python",
   "name": "python2"
  },
  "language_info": {
   "codemirror_mode": {
    "name": "ipython",
    "version": 2
   },
   "file_extension": ".py",
   "mimetype": "text/x-python",
   "name": "python",
   "nbconvert_exporter": "python",
   "pygments_lexer": "ipython2",
   "version": "2.7.10"
  }
 },
 "nbformat": 4,
 "nbformat_minor": 0
}
